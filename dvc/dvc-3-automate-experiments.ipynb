{
 "cells": [
  {
   "cell_type": "markdown",
   "metadata": {},
   "source": [
    "# Install and init DVC\n",
    "\n",
    "Prerequisites: \n",
    "-  DVC and requirements.txt packages installed (if not - check README.md file for instructions)\n",
    "-  A project repository is a Git repo \n",
    "\n"
   ]
  },
  {
   "cell_type": "markdown",
   "metadata": {},
   "source": [
    "## Checkout branch `tutorial`"
   ]
  },
  {
   "cell_type": "code",
   "execution_count": 16,
   "metadata": {
    "ExecuteTime": {
     "end_time": "2020-07-01T07:32:19.401395Z",
     "start_time": "2020-07-01T07:32:19.271265Z"
    }
   },
   "outputs": [
    {
     "name": "stdout",
     "output_type": "stream",
     "text": [
      "Collecting dvc\n",
      "  Obtaining dependency information for dvc from https://files.pythonhosted.org/packages/d9/e8/956703e324eba06337d775c5416a185bc2561902c384846d2e6761b90aed/dvc-3.33.4-py3-none-any.whl.metadata\n",
      "  Downloading dvc-3.33.4-py3-none-any.whl.metadata (17 kB)\n",
      "Collecting colorama>=0.3.9 (from dvc)\n",
      "  Using cached colorama-0.4.6-py2.py3-none-any.whl (25 kB)\n",
      "Collecting configobj>=5.0.6 (from dvc)\n",
      "  Downloading configobj-5.0.8-py2.py3-none-any.whl (36 kB)\n",
      "Collecting distro>=1.3 (from dvc)\n",
      "  Using cached distro-1.8.0-py3-none-any.whl (20 kB)\n",
      "Collecting dpath<3,>=2.1.0 (from dvc)\n",
      "  Obtaining dependency information for dpath<3,>=2.1.0 from https://files.pythonhosted.org/packages/84/c8/10c2d41a0958b76e777c07a521d64c871ab9022520babb3e08fa7eeb0810/dpath-2.1.6-py3-none-any.whl.metadata\n",
      "  Downloading dpath-2.1.6-py3-none-any.whl.metadata (15 kB)\n",
      "Collecting dvc-data<2.25,>=2.24 (from dvc)\n",
      "  Obtaining dependency information for dvc-data<2.25,>=2.24 from https://files.pythonhosted.org/packages/38/22/5742cf2cd61be6e7bbe816b680dc86774e74d2dfaf0eb3201a054be28b57/dvc_data-2.24.0-py3-none-any.whl.metadata\n",
      "  Downloading dvc_data-2.24.0-py3-none-any.whl.metadata (5.0 kB)\n",
      "Collecting dvc-http>=2.29.0 (from dvc)\n",
      "  Obtaining dependency information for dvc-http>=2.29.0 from https://files.pythonhosted.org/packages/89/04/2fe178c037c69cce0c8e9863f90512ca46aa2c763d67bc0e0e0fdac146ae/dvc_http-2.32.0-py3-none-any.whl.metadata\n",
      "  Downloading dvc_http-2.32.0-py3-none-any.whl.metadata (1.3 kB)\n",
      "Collecting dvc-render<2,>=1.0.0 (from dvc)\n",
      "  Obtaining dependency information for dvc-render<2,>=1.0.0 from https://files.pythonhosted.org/packages/66/83/a027958b9511b72bc15e7c4c656ae507f37ead38957c16f2d9c0c405a7c0/dvc_render-1.0.0-py3-none-any.whl.metadata\n",
      "  Downloading dvc_render-1.0.0-py3-none-any.whl.metadata (6.4 kB)\n",
      "Collecting dvc-studio-client<1,>=0.17.1 (from dvc)\n",
      "  Obtaining dependency information for dvc-studio-client<1,>=0.17.1 from https://files.pythonhosted.org/packages/90/fe/bc466b63c5667aaa9c787c54c5e6239bb20713a210beceaf862bf33215ea/dvc_studio_client-0.18.0-py3-none-any.whl.metadata\n",
      "  Downloading dvc_studio_client-0.18.0-py3-none-any.whl.metadata (4.5 kB)\n",
      "Collecting dvc-task<1,>=0.3.0 (from dvc)\n",
      "  Obtaining dependency information for dvc-task<1,>=0.3.0 from https://files.pythonhosted.org/packages/93/8c/3aebe5c887c1277b671aa9d3931a836375ed2443ad37302c50d0ae84c50d/dvc_task-0.3.0-py3-none-any.whl.metadata\n",
      "  Downloading dvc_task-0.3.0-py3-none-any.whl.metadata (10 kB)\n",
      "Collecting flatten-dict<1,>=0.4.1 (from dvc)\n",
      "  Downloading flatten_dict-0.4.2-py2.py3-none-any.whl (9.7 kB)\n",
      "Collecting flufl.lock<8,>=5 (from dvc)\n",
      "  Downloading flufl.lock-7.1.1-py3-none-any.whl (11 kB)\n",
      "Collecting funcy>=1.14 (from dvc)\n",
      "  Downloading funcy-2.0-py2.py3-none-any.whl (30 kB)\n",
      "Collecting grandalf<1,>=0.7 (from dvc)\n",
      "  Downloading grandalf-0.8-py3-none-any.whl (41 kB)\n",
      "\u001b[2K     \u001b[90m━━━━━━━━━━━━━━━━━━━━━━━━━━━━━━━━━━━━━━━━\u001b[0m \u001b[32m41.8/41.8 kB\u001b[0m \u001b[31m3.2 MB/s\u001b[0m eta \u001b[36m0:00:00\u001b[0m\n",
      "\u001b[?25hCollecting gto<2,>=1.4.0 (from dvc)\n",
      "  Obtaining dependency information for gto<2,>=1.4.0 from https://files.pythonhosted.org/packages/8d/e4/0fd9dc427bcf2e009e3d2272d6704a0551597a30e4a5b984b2c2f9784cc0/gto-1.5.0-py3-none-any.whl.metadata\n",
      "  Downloading gto-1.5.0-py3-none-any.whl.metadata (4.3 kB)\n",
      "Collecting hydra-core>=1.1 (from dvc)\n",
      "  Downloading hydra_core-1.3.2-py3-none-any.whl (154 kB)\n",
      "\u001b[2K     \u001b[90m━━━━━━━━━━━━━━━━━━━━━━━━━━━━━━━━━━━━━━━\u001b[0m \u001b[32m154.5/154.5 kB\u001b[0m \u001b[31m3.3 MB/s\u001b[0m eta \u001b[36m0:00:00\u001b[0m00:01\u001b[0m\n",
      "\u001b[?25hCollecting iterative-telemetry>=0.0.7 (from dvc)\n",
      "  Downloading iterative_telemetry-0.0.8-py3-none-any.whl (10 kB)\n",
      "Collecting networkx>=2.5 (from dvc)\n",
      "  Obtaining dependency information for networkx>=2.5 from https://files.pythonhosted.org/packages/d5/f0/8fbc882ca80cf077f1b246c0e3c3465f7f415439bdea6b899f6b19f61f70/networkx-3.2.1-py3-none-any.whl.metadata\n",
      "  Using cached networkx-3.2.1-py3-none-any.whl.metadata (5.2 kB)\n",
      "Requirement already satisfied: packaging>=19 in ./dvc-venv/lib/python3.11/site-packages (from dvc) (23.2)\n",
      "Collecting pathspec>=0.10.3 (from dvc)\n",
      "  Obtaining dependency information for pathspec>=0.10.3 from https://files.pythonhosted.org/packages/cc/20/ff623b09d963f88bfde16306a54e12ee5ea43e9b597108672ff3a408aad6/pathspec-0.12.1-py3-none-any.whl.metadata\n",
      "  Using cached pathspec-0.12.1-py3-none-any.whl.metadata (21 kB)\n",
      "Collecting platformdirs<4,>=3.1.1 (from dvc)\n",
      "  Obtaining dependency information for platformdirs<4,>=3.1.1 from https://files.pythonhosted.org/packages/56/29/3ec311dc18804409ecf0d2b09caa976f3ae6215559306b5b530004e11156/platformdirs-3.11.0-py3-none-any.whl.metadata\n",
      "  Downloading platformdirs-3.11.0-py3-none-any.whl.metadata (11 kB)\n",
      "Requirement already satisfied: psutil>=5.8 in ./dvc-venv/lib/python3.11/site-packages (from dvc) (5.9.6)\n",
      "Collecting pydot>=1.2.4 (from dvc)\n",
      "  Downloading pydot-1.4.2-py2.py3-none-any.whl (21 kB)\n",
      "Collecting pygtrie>=2.3.2 (from dvc)\n",
      "  Downloading pygtrie-2.5.0-py3-none-any.whl (25 kB)\n",
      "Collecting pyparsing>=2.4.7 (from dvc)\n",
      "  Obtaining dependency information for pyparsing>=2.4.7 from https://files.pythonhosted.org/packages/39/92/8486ede85fcc088f1b3dba4ce92dd29d126fd96b0008ea213167940a2475/pyparsing-3.1.1-py3-none-any.whl.metadata\n",
      "  Using cached pyparsing-3.1.1-py3-none-any.whl.metadata (5.1 kB)\n",
      "Requirement already satisfied: requests>=2.22 in ./dvc-venv/lib/python3.11/site-packages (from dvc) (2.31.0)\n",
      "Collecting rich>=12 (from dvc)\n",
      "  Obtaining dependency information for rich>=12 from https://files.pythonhosted.org/packages/be/be/1520178fa01eabe014b16e72a952b9f900631142ccd03dc36cf93e30c1ce/rich-13.7.0-py3-none-any.whl.metadata\n",
      "  Downloading rich-13.7.0-py3-none-any.whl.metadata (18 kB)\n",
      "Collecting ruamel.yaml>=0.17.11 (from dvc)\n",
      "  Obtaining dependency information for ruamel.yaml>=0.17.11 from https://files.pythonhosted.org/packages/57/db/4b74a29f5fd175aea3ff0d95f8230d9bb8a54e38d963c6f96065b9e2eef3/ruamel.yaml-0.18.5-py3-none-any.whl.metadata\n",
      "  Downloading ruamel.yaml-0.18.5-py3-none-any.whl.metadata (23 kB)\n",
      "Collecting scmrepo<2,>=1.5.0 (from dvc)\n",
      "  Obtaining dependency information for scmrepo<2,>=1.5.0 from https://files.pythonhosted.org/packages/b3/3b/2361391ffaa200e858ddac71494ba71b3683d1cb8306f32dd650aeb602b4/scmrepo-1.6.0-py3-none-any.whl.metadata\n",
      "  Downloading scmrepo-1.6.0-py3-none-any.whl.metadata (4.8 kB)\n",
      "Collecting shortuuid>=0.5 (from dvc)\n",
      "  Downloading shortuuid-1.0.11-py3-none-any.whl (10 kB)\n",
      "Collecting shtab<2,>=1.3.4 (from dvc)\n",
      "  Obtaining dependency information for shtab<2,>=1.3.4 from https://files.pythonhosted.org/packages/40/ad/7227da64498eaa7abecee4311008f70869e156014b3270cec36e2e70cd31/shtab-1.6.5-py3-none-any.whl.metadata\n",
      "  Downloading shtab-1.6.5-py3-none-any.whl.metadata (7.3 kB)\n",
      "Collecting tabulate>=0.8.7 (from dvc)\n",
      "  Using cached tabulate-0.9.0-py3-none-any.whl (35 kB)\n",
      "Collecting tomlkit>=0.11.1 (from dvc)\n",
      "  Obtaining dependency information for tomlkit>=0.11.1 from https://files.pythonhosted.org/packages/6e/43/159750d32481f16e34cc60090b53bc0a14314ad0c1f67a9bb64f3f3a0551/tomlkit-0.12.3-py3-none-any.whl.metadata\n",
      "  Using cached tomlkit-0.12.3-py3-none-any.whl.metadata (2.7 kB)\n",
      "Collecting tqdm<5,>=4.63.1 (from dvc)\n",
      "  Obtaining dependency information for tqdm<5,>=4.63.1 from https://files.pythonhosted.org/packages/00/e5/f12a80907d0884e6dff9c16d0c0114d81b8cd07dc3ae54c5e962cc83037e/tqdm-4.66.1-py3-none-any.whl.metadata\n",
      "  Using cached tqdm-4.66.1-py3-none-any.whl.metadata (57 kB)\n",
      "Collecting voluptuous>=0.11.7 (from dvc)\n",
      "  Obtaining dependency information for voluptuous>=0.11.7 from https://files.pythonhosted.org/packages/12/44/2d0c03d9cc9edaed681842a441a9ab3e960b62adb172865692745fc9eff1/voluptuous-0.14.1-py3-none-any.whl.metadata\n",
      "  Downloading voluptuous-0.14.1-py3-none-any.whl.metadata (20 kB)\n",
      "Collecting zc.lockfile>=1.2.1 (from dvc)\n",
      "  Downloading zc.lockfile-3.0.post1-py3-none-any.whl (9.8 kB)\n",
      "Requirement already satisfied: six in ./dvc-venv/lib/python3.11/site-packages (from configobj>=5.0.6->dvc) (1.16.0)\n",
      "Collecting dictdiffer>=0.8.1 (from dvc-data<2.25,>=2.24->dvc)\n",
      "  Downloading dictdiffer-0.9.0-py2.py3-none-any.whl (16 kB)\n",
      "Collecting dvc-objects<3,>=2 (from dvc-data<2.25,>=2.24->dvc)\n",
      "  Obtaining dependency information for dvc-objects<3,>=2 from https://files.pythonhosted.org/packages/64/69/7eb8bb98d78e38bce005d5ae222257370a31597e682fb859e65ea5c25664/dvc_objects-2.0.1-py3-none-any.whl.metadata\n",
      "  Downloading dvc_objects-2.0.1-py3-none-any.whl.metadata (3.9 kB)\n"
     ]
    },
    {
     "name": "stdout",
     "output_type": "stream",
     "text": [
      "Collecting diskcache>=5.2.1 (from dvc-data<2.25,>=2.24->dvc)\n",
      "  Obtaining dependency information for diskcache>=5.2.1 from https://files.pythonhosted.org/packages/3f/27/4570e78fc0bf5ea0ca45eb1de3818a23787af9b390c0b0a0033a1b8236f9/diskcache-5.6.3-py3-none-any.whl.metadata\n",
      "  Downloading diskcache-5.6.3-py3-none-any.whl.metadata (20 kB)\n",
      "Requirement already satisfied: attrs>=21.3.0 in ./dvc-venv/lib/python3.11/site-packages (from dvc-data<2.25,>=2.24->dvc) (23.1.0)\n",
      "Collecting sqltrie<1,>=0.9.0 (from dvc-data<2.25,>=2.24->dvc)\n",
      "  Obtaining dependency information for sqltrie<1,>=0.9.0 from https://files.pythonhosted.org/packages/f6/ac/e1955cb1f188a129a62ac7ba58020a955105f833d82a4f8b687ac19c94a2/sqltrie-0.10.0-py3-none-any.whl.metadata\n",
      "  Downloading sqltrie-0.10.0-py3-none-any.whl.metadata (3.3 kB)\n",
      "Collecting fsspec[http] (from dvc-http>=2.29.0->dvc)\n",
      "  Obtaining dependency information for fsspec[http] from https://files.pythonhosted.org/packages/70/25/fab23259a52ece5670dcb8452e1af34b89e6135ecc17cd4b54b4b479eac6/fsspec-2023.12.2-py3-none-any.whl.metadata\n",
      "  Downloading fsspec-2023.12.2-py3-none-any.whl.metadata (6.8 kB)\n",
      "Collecting aiohttp-retry>=2.5.0 (from dvc-http>=2.29.0->dvc)\n",
      "  Downloading aiohttp_retry-2.8.3-py3-none-any.whl (9.8 kB)\n",
      "Collecting dulwich (from dvc-studio-client<1,>=0.17.1->dvc)\n",
      "  Obtaining dependency information for dulwich from https://files.pythonhosted.org/packages/7a/f7/4bc5b4cce00d90588ad089c8de00d9c4c42cff822daabb3653bfccdf6e8c/dulwich-0.21.7-cp311-cp311-macosx_11_0_arm64.whl.metadata\n",
      "  Downloading dulwich-0.21.7-cp311-cp311-macosx_11_0_arm64.whl.metadata (4.3 kB)\n",
      "Collecting celery<6,>=5.3.0 (from dvc-task<1,>=0.3.0->dvc)\n",
      "  Obtaining dependency information for celery<6,>=5.3.0 from https://files.pythonhosted.org/packages/37/c2/4c8a67a4d98a6fcd55dbdd79b641f945d7f59637c3e885c4abbda3c431f6/celery-5.3.6-py3-none-any.whl.metadata\n",
      "  Downloading celery-5.3.6-py3-none-any.whl.metadata (21 kB)\n",
      "Collecting kombu<6,>=5.3.0 (from dvc-task<1,>=0.3.0->dvc)\n",
      "  Obtaining dependency information for kombu<6,>=5.3.0 from https://files.pythonhosted.org/packages/a8/cc/24160d61e8c44bd76a775017c0859a403db471ddbd701e725fdf2becafa6/kombu-5.3.4-py3-none-any.whl.metadata\n",
      "  Downloading kombu-5.3.4-py3-none-any.whl.metadata (3.1 kB)\n",
      "Collecting atpublic>=2.3 (from flufl.lock<8,>=5->dvc)\n",
      "  Obtaining dependency information for atpublic>=2.3 from https://files.pythonhosted.org/packages/42/d5/f3c7110d3763af646150203b8bfe6932ab05a9b3e228c27d138babeb92ae/atpublic-4.0-py3-none-any.whl.metadata\n",
      "  Downloading atpublic-4.0-py3-none-any.whl.metadata (1.8 kB)\n",
      "Collecting typer>=0.4.1 (from gto<2,>=1.4.0->dvc)\n",
      "  Using cached typer-0.9.0-py3-none-any.whl (45 kB)\n",
      "Collecting pydantic!=2.0.0,<3,>=1.9.0 (from gto<2,>=1.4.0->dvc)\n",
      "  Obtaining dependency information for pydantic!=2.0.0,<3,>=1.9.0 from https://files.pythonhosted.org/packages/0a/2b/64066de1c4cf3d4ed623beeb3bbf3f8d0cc26661f1e7d180ec5eb66b75a5/pydantic-2.5.2-py3-none-any.whl.metadata\n",
      "  Downloading pydantic-2.5.2-py3-none-any.whl.metadata (65 kB)\n",
      "\u001b[2K     \u001b[90m━━━━━━━━━━━━━━━━━━━━━━━━━━━━━━━━━━━━━━━━\u001b[0m \u001b[32m65.2/65.2 kB\u001b[0m \u001b[31m3.2 MB/s\u001b[0m eta \u001b[36m0:00:00\u001b[0m\n",
      "\u001b[?25hCollecting semver>=3.0.0 (from gto<2,>=1.4.0->dvc)\n",
      "  Obtaining dependency information for semver>=3.0.0 from https://files.pythonhosted.org/packages/9a/77/0cc7a8a3bc7e53d07e8f47f147b92b0960e902b8254859f4aee5c4d7866b/semver-3.0.2-py3-none-any.whl.metadata\n",
      "  Downloading semver-3.0.2-py3-none-any.whl.metadata (5.0 kB)\n",
      "Collecting entrypoints (from gto<2,>=1.4.0->dvc)\n",
      "  Using cached entrypoints-0.4-py3-none-any.whl (5.3 kB)\n",
      "Collecting omegaconf<2.4,>=2.2 (from hydra-core>=1.1->dvc)\n",
      "  Downloading omegaconf-2.3.0-py3-none-any.whl (79 kB)\n",
      "\u001b[2K     \u001b[90m━━━━━━━━━━━━━━━━━━━━━━━━━━━━━━━━━━━━━━━━\u001b[0m \u001b[32m79.5/79.5 kB\u001b[0m \u001b[31m3.3 MB/s\u001b[0m eta \u001b[36m0:00:00\u001b[0m\n",
      "\u001b[?25hCollecting antlr4-python3-runtime==4.9.* (from hydra-core>=1.1->dvc)\n",
      "  Downloading antlr4-python3-runtime-4.9.3.tar.gz (117 kB)\n",
      "\u001b[2K     \u001b[90m━━━━━━━━━━━━━━━━━━━━━━━━━━━━━━━━━━━━━━━\u001b[0m \u001b[32m117.0/117.0 kB\u001b[0m \u001b[31m3.2 MB/s\u001b[0m eta \u001b[36m0:00:00\u001b[0m\n",
      "\u001b[?25h  Installing build dependencies ... \u001b[?25ldone\n",
      "\u001b[?25h  Getting requirements to build wheel ... \u001b[?25ldone\n",
      "\u001b[?25h  Preparing metadata (pyproject.toml) ... \u001b[?25ldone\n",
      "\u001b[?25hCollecting appdirs (from iterative-telemetry>=0.0.7->dvc)\n",
      "  Downloading appdirs-1.4.4-py2.py3-none-any.whl (9.6 kB)\n",
      "Collecting filelock (from iterative-telemetry>=0.0.7->dvc)\n",
      "  Obtaining dependency information for filelock from https://files.pythonhosted.org/packages/81/54/84d42a0bee35edba99dee7b59a8d4970eccdd44b99fe728ed912106fc781/filelock-3.13.1-py3-none-any.whl.metadata\n",
      "  Using cached filelock-3.13.1-py3-none-any.whl.metadata (2.8 kB)\n",
      "Requirement already satisfied: charset-normalizer<4,>=2 in ./dvc-venv/lib/python3.11/site-packages (from requests>=2.22->dvc) (3.3.2)\n",
      "Requirement already satisfied: idna<4,>=2.5 in ./dvc-venv/lib/python3.11/site-packages (from requests>=2.22->dvc) (3.6)\n",
      "Requirement already satisfied: urllib3<3,>=1.21.1 in ./dvc-venv/lib/python3.11/site-packages (from requests>=2.22->dvc) (2.1.0)\n",
      "Requirement already satisfied: certifi>=2017.4.17 in ./dvc-venv/lib/python3.11/site-packages (from requests>=2.22->dvc) (2023.11.17)\n",
      "Collecting markdown-it-py>=2.2.0 (from rich>=12->dvc)\n",
      "  Obtaining dependency information for markdown-it-py>=2.2.0 from https://files.pythonhosted.org/packages/42/d7/1ec15b46af6af88f19b8e5ffea08fa375d433c998b8a7639e76935c14f1f/markdown_it_py-3.0.0-py3-none-any.whl.metadata\n",
      "  Downloading markdown_it_py-3.0.0-py3-none-any.whl.metadata (6.9 kB)\n",
      "Requirement already satisfied: pygments<3.0.0,>=2.13.0 in ./dvc-venv/lib/python3.11/site-packages (from rich>=12->dvc) (2.17.2)\n",
      "Collecting ruamel.yaml.clib>=0.2.7 (from ruamel.yaml>=0.17.11->dvc)\n",
      "  Obtaining dependency information for ruamel.yaml.clib>=0.2.7 from https://files.pythonhosted.org/packages/01/b0/4ddef56e9f703d7909febc3a421d709a3482cda25826816ec595b73e3847/ruamel.yaml.clib-0.2.8-cp311-cp311-macosx_13_0_arm64.whl.metadata\n",
      "  Downloading ruamel.yaml.clib-0.2.8-cp311-cp311-macosx_13_0_arm64.whl.metadata (2.2 kB)\n",
      "Collecting gitpython>3 (from scmrepo<2,>=1.5.0->dvc)\n",
      "  Obtaining dependency information for gitpython>3 from https://files.pythonhosted.org/packages/8d/c4/82b858fb6483dfb5e338123c154d19c043305b01726a67d89532b8f8f01b/GitPython-3.1.40-py3-none-any.whl.metadata\n",
      "  Using cached GitPython-3.1.40-py3-none-any.whl.metadata (12 kB)\n",
      "Collecting pygit2>=1.13.3 (from scmrepo<2,>=1.5.0->dvc)\n",
      "  Obtaining dependency information for pygit2>=1.13.3 from https://files.pythonhosted.org/packages/54/a2/bb1050aa3e2cbbfff89e2621d1aabb353f98119bf42ec0118f4ab29faa22/pygit2-1.13.3-cp311-cp311-macosx_10_9_universal2.whl.metadata\n",
      "  Downloading pygit2-1.13.3-cp311-cp311-macosx_10_9_universal2.whl.metadata (3.6 kB)\n",
      "Collecting asyncssh<3,>=2.13.1 (from scmrepo<2,>=1.5.0->dvc)\n",
      "  Obtaining dependency information for asyncssh<3,>=2.13.1 from https://files.pythonhosted.org/packages/9f/42/72736d020c5bf2e2271d119e5907a41d871d2d0dacc118b2cb3d82b4fcf4/asyncssh-2.14.1-py3-none-any.whl.metadata\n",
      "  Downloading asyncssh-2.14.1-py3-none-any.whl.metadata (9.9 kB)\n",
      "Requirement already satisfied: setuptools in ./dvc-venv/lib/python3.11/site-packages (from zc.lockfile>=1.2.1->dvc) (68.1.2)\n",
      "Collecting aiohttp (from aiohttp-retry>=2.5.0->dvc-http>=2.29.0->dvc)\n",
      "  Obtaining dependency information for aiohttp from https://files.pythonhosted.org/packages/54/5d/4ea65eaf9a81821e2a02ba1f77644920dd0a575a2fd05557adb433db3ef6/aiohttp-3.9.1-cp311-cp311-macosx_11_0_arm64.whl.metadata\n",
      "  Downloading aiohttp-3.9.1-cp311-cp311-macosx_11_0_arm64.whl.metadata (7.4 kB)\n",
      "Collecting cryptography>=39.0 (from asyncssh<3,>=2.13.1->scmrepo<2,>=1.5.0->dvc)\n",
      "  Obtaining dependency information for cryptography>=39.0 from https://files.pythonhosted.org/packages/e4/73/5461318abd2fe426855a2f66775c063bbefd377729ece3c3ee048ddf19a5/cryptography-41.0.7-cp37-abi3-macosx_10_12_universal2.whl.metadata\n",
      "  Downloading cryptography-41.0.7-cp37-abi3-macosx_10_12_universal2.whl.metadata (5.2 kB)\n",
      "Collecting typing-extensions>=3.6 (from asyncssh<3,>=2.13.1->scmrepo<2,>=1.5.0->dvc)\n",
      "  Obtaining dependency information for typing-extensions>=3.6 from https://files.pythonhosted.org/packages/b7/f4/6a90020cd2d93349b442bfcb657d0dc91eee65491600b2cb1d388bc98e6b/typing_extensions-4.9.0-py3-none-any.whl.metadata\n",
      "  Using cached typing_extensions-4.9.0-py3-none-any.whl.metadata (3.0 kB)\n"
     ]
    },
    {
     "name": "stdout",
     "output_type": "stream",
     "text": [
      "Collecting billiard<5.0,>=4.2.0 (from celery<6,>=5.3.0->dvc-task<1,>=0.3.0->dvc)\n",
      "  Obtaining dependency information for billiard<5.0,>=4.2.0 from https://files.pythonhosted.org/packages/50/8d/6e9fdeeab04d803abc5a715175f87e88893934d5590595eacff23ca12b07/billiard-4.2.0-py3-none-any.whl.metadata\n",
      "  Downloading billiard-4.2.0-py3-none-any.whl.metadata (4.4 kB)\n",
      "Collecting click-didyoumean>=0.3.0 (from celery<6,>=5.3.0->dvc-task<1,>=0.3.0->dvc)\n",
      "  Downloading click_didyoumean-0.3.0-py3-none-any.whl (2.7 kB)\n",
      "Collecting click-plugins>=1.1.1 (from celery<6,>=5.3.0->dvc-task<1,>=0.3.0->dvc)\n",
      "  Downloading click_plugins-1.1.1-py2.py3-none-any.whl (7.5 kB)\n",
      "Collecting click-repl>=0.2.0 (from celery<6,>=5.3.0->dvc-task<1,>=0.3.0->dvc)\n",
      "  Obtaining dependency information for click-repl>=0.2.0 from https://files.pythonhosted.org/packages/52/40/9d857001228658f0d59e97ebd4c346fe73e138c6de1bce61dc568a57c7f8/click_repl-0.3.0-py3-none-any.whl.metadata\n",
      "  Downloading click_repl-0.3.0-py3-none-any.whl.metadata (3.6 kB)\n",
      "Collecting click<9.0,>=8.1.2 (from celery<6,>=5.3.0->dvc-task<1,>=0.3.0->dvc)\n",
      "  Obtaining dependency information for click<9.0,>=8.1.2 from https://files.pythonhosted.org/packages/00/2e/d53fa4befbf2cfa713304affc7ca780ce4fc1fd8710527771b58311a3229/click-8.1.7-py3-none-any.whl.metadata\n",
      "  Using cached click-8.1.7-py3-none-any.whl.metadata (3.0 kB)\n",
      "Requirement already satisfied: python-dateutil>=2.8.2 in ./dvc-venv/lib/python3.11/site-packages (from celery<6,>=5.3.0->dvc-task<1,>=0.3.0->dvc) (2.8.2)\n",
      "Collecting tzdata>=2022.7 (from celery<6,>=5.3.0->dvc-task<1,>=0.3.0->dvc)\n",
      "  Using cached tzdata-2023.3-py2.py3-none-any.whl (341 kB)\n",
      "Collecting vine<6.0,>=5.1.0 (from celery<6,>=5.3.0->dvc-task<1,>=0.3.0->dvc)\n",
      "  Obtaining dependency information for vine<6.0,>=5.1.0 from https://files.pythonhosted.org/packages/03/ff/7c0c86c43b3cbb927e0ccc0255cb4057ceba4799cd44ae95174ce8e8b5b2/vine-5.1.0-py3-none-any.whl.metadata\n",
      "  Downloading vine-5.1.0-py3-none-any.whl.metadata (2.7 kB)\n",
      "Collecting gitdb<5,>=4.0.1 (from gitpython>3->scmrepo<2,>=1.5.0->dvc)\n",
      "  Obtaining dependency information for gitdb<5,>=4.0.1 from https://files.pythonhosted.org/packages/fd/5b/8f0c4a5bb9fd491c277c21eff7ccae71b47d43c4446c9d0c6cff2fe8c2c4/gitdb-4.0.11-py3-none-any.whl.metadata\n",
      "  Using cached gitdb-4.0.11-py3-none-any.whl.metadata (1.2 kB)\n",
      "Collecting amqp<6.0.0,>=5.1.1 (from kombu<6,>=5.3.0->dvc-task<1,>=0.3.0->dvc)\n",
      "  Obtaining dependency information for amqp<6.0.0,>=5.1.1 from https://files.pythonhosted.org/packages/b3/f0/8e5be5d5e0653d9e1d02b1144efa33ff7d2963dfad07049e02c0fa9b2e8d/amqp-5.2.0-py3-none-any.whl.metadata\n",
      "  Downloading amqp-5.2.0-py3-none-any.whl.metadata (8.9 kB)\n",
      "Collecting mdurl~=0.1 (from markdown-it-py>=2.2.0->rich>=12->dvc)\n",
      "  Using cached mdurl-0.1.2-py3-none-any.whl (10.0 kB)\n",
      "Requirement already satisfied: PyYAML>=5.1.0 in ./dvc-venv/lib/python3.11/site-packages (from omegaconf<2.4,>=2.2->hydra-core>=1.1->dvc) (6.0.1)\n",
      "Collecting annotated-types>=0.4.0 (from pydantic!=2.0.0,<3,>=1.9.0->gto<2,>=1.4.0->dvc)\n",
      "  Obtaining dependency information for annotated-types>=0.4.0 from https://files.pythonhosted.org/packages/28/78/d31230046e58c207284c6b2c4e8d96e6d3cb4e52354721b944d3e1ee4aa5/annotated_types-0.6.0-py3-none-any.whl.metadata\n",
      "  Downloading annotated_types-0.6.0-py3-none-any.whl.metadata (12 kB)\n",
      "Collecting pydantic-core==2.14.5 (from pydantic!=2.0.0,<3,>=1.9.0->gto<2,>=1.4.0->dvc)\n",
      "  Obtaining dependency information for pydantic-core==2.14.5 from https://files.pythonhosted.org/packages/ab/43/77d8f56eb332e84097f18fc294346d214e9f0d22fb9ec67ebed4b8e90e35/pydantic_core-2.14.5-cp311-cp311-macosx_11_0_arm64.whl.metadata\n",
      "  Downloading pydantic_core-2.14.5-cp311-cp311-macosx_11_0_arm64.whl.metadata (6.5 kB)\n",
      "Requirement already satisfied: cffi>=1.16.0 in ./dvc-venv/lib/python3.11/site-packages (from pygit2>=1.13.3->scmrepo<2,>=1.5.0->dvc) (1.16.0)\n",
      "Collecting orjson (from sqltrie<1,>=0.9.0->dvc-data<2.25,>=2.24->dvc)\n",
      "  Obtaining dependency information for orjson from https://files.pythonhosted.org/packages/a9/96/fab12f5c586b1cabd11886d9c67044af68916a5cdaf6f00b25b86a5604c2/orjson-3.9.10-cp311-cp311-macosx_10_15_x86_64.macosx_11_0_arm64.macosx_10_15_universal2.whl.metadata\n",
      "  Downloading orjson-3.9.10-cp311-cp311-macosx_10_15_x86_64.macosx_11_0_arm64.macosx_10_15_universal2.whl.metadata (49 kB)\n",
      "\u001b[2K     \u001b[90m━━━━━━━━━━━━━━━━━━━━━━━━━━━━━━━━━━━━━━━━\u001b[0m \u001b[32m49.3/49.3 kB\u001b[0m \u001b[31m6.0 MB/s\u001b[0m eta \u001b[36m0:00:00\u001b[0m\n",
      "\u001b[?25hCollecting multidict<7.0,>=4.5 (from aiohttp->aiohttp-retry>=2.5.0->dvc-http>=2.29.0->dvc)\n",
      "  Using cached multidict-6.0.4-cp311-cp311-macosx_11_0_arm64.whl (29 kB)\n",
      "Collecting yarl<2.0,>=1.0 (from aiohttp->aiohttp-retry>=2.5.0->dvc-http>=2.29.0->dvc)\n",
      "  Obtaining dependency information for yarl<2.0,>=1.0 from https://files.pythonhosted.org/packages/20/3d/7dabf580dfc0b588e48830486b488858122b10a61f33325e0d7cf1d6180b/yarl-1.9.4-cp311-cp311-macosx_11_0_arm64.whl.metadata\n",
      "  Downloading yarl-1.9.4-cp311-cp311-macosx_11_0_arm64.whl.metadata (31 kB)\n",
      "Collecting frozenlist>=1.1.1 (from aiohttp->aiohttp-retry>=2.5.0->dvc-http>=2.29.0->dvc)\n",
      "  Obtaining dependency information for frozenlist>=1.1.1 from https://files.pythonhosted.org/packages/9d/8b/8ab8143541b2c5fff4189fad7853e61d30e4ec4749ebf91e1d598c4e7c57/frozenlist-1.4.0-cp311-cp311-macosx_11_0_arm64.whl.metadata\n",
      "  Using cached frozenlist-1.4.0-cp311-cp311-macosx_11_0_arm64.whl.metadata (5.2 kB)\n",
      "Collecting aiosignal>=1.1.2 (from aiohttp->aiohttp-retry>=2.5.0->dvc-http>=2.29.0->dvc)\n",
      "  Using cached aiosignal-1.3.1-py3-none-any.whl (7.6 kB)\n",
      "Requirement already satisfied: pycparser in ./dvc-venv/lib/python3.11/site-packages (from cffi>=1.16.0->pygit2>=1.13.3->scmrepo<2,>=1.5.0->dvc) (2.21)\n",
      "Requirement already satisfied: prompt-toolkit>=3.0.36 in ./dvc-venv/lib/python3.11/site-packages (from click-repl>=0.2.0->celery<6,>=5.3.0->dvc-task<1,>=0.3.0->dvc) (3.0.43)\n",
      "Collecting smmap<6,>=3.0.1 (from gitdb<5,>=4.0.1->gitpython>3->scmrepo<2,>=1.5.0->dvc)\n",
      "  Obtaining dependency information for smmap<6,>=3.0.1 from https://files.pythonhosted.org/packages/a7/a5/10f97f73544edcdef54409f1d839f6049a0d79df68adbc1ceb24d1aaca42/smmap-5.0.1-py3-none-any.whl.metadata\n",
      "  Using cached smmap-5.0.1-py3-none-any.whl.metadata (4.3 kB)\n",
      "Requirement already satisfied: wcwidth in ./dvc-venv/lib/python3.11/site-packages (from prompt-toolkit>=3.0.36->click-repl>=0.2.0->celery<6,>=5.3.0->dvc-task<1,>=0.3.0->dvc) (0.2.12)\n",
      "Downloading dvc-3.33.4-py3-none-any.whl (447 kB)\n",
      "\u001b[2K   \u001b[90m━━━━━━━━━━━━━━━━━━━━━━━━━━━━━━━━━━━━━━━━\u001b[0m \u001b[32m447.3/447.3 kB\u001b[0m \u001b[31m3.3 MB/s\u001b[0m eta \u001b[36m0:00:00\u001b[0ma \u001b[36m0:00:01\u001b[0m\n",
      "\u001b[?25hDownloading dpath-2.1.6-py3-none-any.whl (17 kB)\n",
      "Downloading dvc_data-2.24.0-py3-none-any.whl (68 kB)\n",
      "\u001b[2K   \u001b[90m━━━━━━━━━━━━━━━━━━━━━━━━━━━━━━━━━━━━━━━━\u001b[0m \u001b[32m68.2/68.2 kB\u001b[0m \u001b[31m2.8 MB/s\u001b[0m eta \u001b[36m0:00:00\u001b[0m\n",
      "\u001b[?25hDownloading dvc_http-2.32.0-py3-none-any.whl (12 kB)\n",
      "Downloading dvc_render-1.0.0-py3-none-any.whl (21 kB)\n",
      "Downloading dvc_studio_client-0.18.0-py3-none-any.whl (16 kB)\n",
      "Downloading dvc_task-0.3.0-py3-none-any.whl (21 kB)\n",
      "Downloading gto-1.5.0-py3-none-any.whl (46 kB)\n",
      "\u001b[2K   \u001b[90m━━━━━━━━━━━━━━━━━━━━━━━━━━━━━━━━━━━━━━━━\u001b[0m \u001b[32m46.6/46.6 kB\u001b[0m \u001b[31m2.4 MB/s\u001b[0m eta \u001b[36m0:00:00\u001b[0m\n",
      "\u001b[?25hUsing cached networkx-3.2.1-py3-none-any.whl (1.6 MB)\n",
      "Using cached pathspec-0.12.1-py3-none-any.whl (31 kB)\n",
      "Downloading platformdirs-3.11.0-py3-none-any.whl (17 kB)\n",
      "Using cached pyparsing-3.1.1-py3-none-any.whl (103 kB)\n",
      "Downloading rich-13.7.0-py3-none-any.whl (240 kB)\n",
      "\u001b[2K   \u001b[90m━━━━━━━━━━━━━━━━━━━━━━━━━━━━━━━━━━━━━━━━\u001b[0m \u001b[32m240.6/240.6 kB\u001b[0m \u001b[31m3.9 MB/s\u001b[0m eta \u001b[36m0:00:00\u001b[0ma \u001b[36m0:00:01\u001b[0m\n",
      "\u001b[?25hDownloading ruamel.yaml-0.18.5-py3-none-any.whl (116 kB)\n",
      "\u001b[2K   \u001b[90m━━━━━━━━━━━━━━━━━━━━━━━━━━━━━━━━━━━━━━━━\u001b[0m \u001b[32m116.4/116.4 kB\u001b[0m \u001b[31m2.5 MB/s\u001b[0m eta \u001b[36m0:00:00\u001b[0ma \u001b[36m0:00:01\u001b[0m\n",
      "\u001b[?25hDownloading scmrepo-1.6.0-py3-none-any.whl (71 kB)\n",
      "\u001b[2K   \u001b[90m━━━━━━━━━━━━━━━━━━━━━━━━━━━━━━━━━━━━━━━━\u001b[0m \u001b[32m71.1/71.1 kB\u001b[0m \u001b[31m2.9 MB/s\u001b[0m eta \u001b[36m0:00:00\u001b[0m\n",
      "\u001b[?25hDownloading shtab-1.6.5-py3-none-any.whl (13 kB)\n",
      "Using cached tomlkit-0.12.3-py3-none-any.whl (37 kB)\n",
      "Using cached tqdm-4.66.1-py3-none-any.whl (78 kB)\n",
      "Downloading voluptuous-0.14.1-py3-none-any.whl (30 kB)\n",
      "Downloading asyncssh-2.14.1-py3-none-any.whl (352 kB)\n"
     ]
    },
    {
     "name": "stdout",
     "output_type": "stream",
     "text": [
      "\u001b[2K   \u001b[90m━━━━━━━━━━━━━━━━━━━━━━━━━━━━━━━━━━━━━━━━\u001b[0m \u001b[32m352.2/352.2 kB\u001b[0m \u001b[31m3.3 MB/s\u001b[0m eta \u001b[36m0:00:00\u001b[0ma \u001b[36m0:00:01\u001b[0m\n",
      "\u001b[?25hDownloading atpublic-4.0-py3-none-any.whl (4.9 kB)\n",
      "Downloading celery-5.3.6-py3-none-any.whl (422 kB)\n",
      "\u001b[2K   \u001b[90m━━━━━━━━━━━━━━━━━━━━━━━━━━━━━━━━━━━━━━━━\u001b[0m \u001b[32m422.0/422.0 kB\u001b[0m \u001b[31m2.5 MB/s\u001b[0m eta \u001b[36m0:00:00\u001b[0m00:01\u001b[0m00:01\u001b[0m\n",
      "\u001b[?25hDownloading diskcache-5.6.3-py3-none-any.whl (45 kB)\n",
      "\u001b[2K   \u001b[90m━━━━━━━━━━━━━━━━━━━━━━━━━━━━━━━━━━━━━━━━\u001b[0m \u001b[32m45.5/45.5 kB\u001b[0m \u001b[31m2.8 MB/s\u001b[0m eta \u001b[36m0:00:00\u001b[0m\n",
      "\u001b[?25hDownloading dulwich-0.21.7-cp311-cp311-macosx_11_0_arm64.whl (475 kB)\n",
      "\u001b[2K   \u001b[90m━━━━━━━━━━━━━━━━━━━━━━━━━━━━━━━━━━━━━━━━\u001b[0m \u001b[32m475.5/475.5 kB\u001b[0m \u001b[31m3.1 MB/s\u001b[0m eta \u001b[36m0:00:00\u001b[0ma \u001b[36m0:00:01\u001b[0m\n",
      "\u001b[?25hDownloading dvc_objects-2.0.1-py3-none-any.whl (37 kB)\n",
      "Downloading fsspec-2023.12.2-py3-none-any.whl (168 kB)\n",
      "\u001b[2K   \u001b[90m━━━━━━━━━━━━━━━━━━━━━━━━━━━━━━━━━━━━━━━━\u001b[0m \u001b[32m169.0/169.0 kB\u001b[0m \u001b[31m3.2 MB/s\u001b[0m eta \u001b[36m0:00:00\u001b[0ma \u001b[36m0:00:01\u001b[0m\n",
      "\u001b[?25hUsing cached GitPython-3.1.40-py3-none-any.whl (190 kB)\n",
      "Downloading kombu-5.3.4-py3-none-any.whl (199 kB)\n",
      "\u001b[2K   \u001b[90m━━━━━━━━━━━━━━━━━━━━━━━━━━━━━━━━━━━━━━━━\u001b[0m \u001b[32m200.0/200.0 kB\u001b[0m \u001b[31m3.0 MB/s\u001b[0m eta \u001b[36m0:00:00\u001b[0ma \u001b[36m0:00:01\u001b[0m\n",
      "\u001b[?25hUsing cached markdown_it_py-3.0.0-py3-none-any.whl (87 kB)\n",
      "Downloading pydantic-2.5.2-py3-none-any.whl (381 kB)\n",
      "\u001b[2K   \u001b[90m━━━━━━━━━━━━━━━━━━━━━━━━━━━━━━━━━━━━━━━━\u001b[0m \u001b[32m381.9/381.9 kB\u001b[0m \u001b[31m3.0 MB/s\u001b[0m eta \u001b[36m0:00:00\u001b[0m00:01\u001b[0m00:01\u001b[0m\n",
      "\u001b[?25hDownloading pydantic_core-2.14.5-cp311-cp311-macosx_11_0_arm64.whl (1.7 MB)\n",
      "\u001b[2K   \u001b[90m━━━━━━━━━━━━━━━━━━━━━━━━━━━━━━━━━━━━━━━━\u001b[0m \u001b[32m1.7/1.7 MB\u001b[0m \u001b[31m2.4 MB/s\u001b[0m eta \u001b[36m0:00:00\u001b[0ma \u001b[36m0:00:01\u001b[0m\n",
      "\u001b[?25hDownloading pygit2-1.13.3-cp311-cp311-macosx_10_9_universal2.whl (5.8 MB)\n",
      "\u001b[2K   \u001b[90m━━━━━━━━━━━━━━━━━━━━━━━━━━━━━━━━━━━━━━━━\u001b[0m \u001b[32m5.8/5.8 MB\u001b[0m \u001b[31m3.1 MB/s\u001b[0m eta \u001b[36m0:00:00\u001b[0m00:01\u001b[0m00:01\u001b[0m\n",
      "\u001b[?25hDownloading ruamel.yaml.clib-0.2.8-cp311-cp311-macosx_13_0_arm64.whl (134 kB)\n",
      "\u001b[2K   \u001b[90m━━━━━━━━━━━━━━━━━━━━━━━━━━━━━━━━━━━━━━━━\u001b[0m \u001b[32m134.5/134.5 kB\u001b[0m \u001b[31m3.4 MB/s\u001b[0m eta \u001b[36m0:00:00\u001b[0m00:01\u001b[0m\n",
      "\u001b[?25hDownloading semver-3.0.2-py3-none-any.whl (17 kB)\n",
      "Downloading sqltrie-0.10.0-py3-none-any.whl (17 kB)\n",
      "Using cached filelock-3.13.1-py3-none-any.whl (11 kB)\n",
      "Downloading aiohttp-3.9.1-cp311-cp311-macosx_11_0_arm64.whl (386 kB)\n",
      "\u001b[2K   \u001b[90m━━━━━━━━━━━━━━━━━━━━━━━━━━━━━━━━━━━━━━━━\u001b[0m \u001b[32m386.8/386.8 kB\u001b[0m \u001b[31m3.8 MB/s\u001b[0m eta \u001b[36m0:00:00\u001b[0ma \u001b[36m0:00:01\u001b[0m\n",
      "\u001b[?25hDownloading amqp-5.2.0-py3-none-any.whl (50 kB)\n",
      "\u001b[2K   \u001b[90m━━━━━━━━━━━━━━━━━━━━━━━━━━━━━━━━━━━━━━━━\u001b[0m \u001b[32m50.9/50.9 kB\u001b[0m \u001b[31m1.9 MB/s\u001b[0m eta \u001b[36m0:00:00\u001b[0m\n",
      "\u001b[?25hDownloading annotated_types-0.6.0-py3-none-any.whl (12 kB)\n",
      "Downloading billiard-4.2.0-py3-none-any.whl (86 kB)\n",
      "\u001b[2K   \u001b[90m━━━━━━━━━━━━━━━━━━━━━━━━━━━━━━━━━━━━━━━━\u001b[0m \u001b[32m86.7/86.7 kB\u001b[0m \u001b[31m3.7 MB/s\u001b[0m eta \u001b[36m0:00:00\u001b[0m\n",
      "\u001b[?25hUsing cached click-8.1.7-py3-none-any.whl (97 kB)\n",
      "Downloading click_repl-0.3.0-py3-none-any.whl (10 kB)\n",
      "Downloading cryptography-41.0.7-cp37-abi3-macosx_10_12_universal2.whl (5.3 MB)\n",
      "\u001b[2K   \u001b[90m━━━━━━━━━━━━━━━━━━━━━━━━━━━━━━━━━━━━━━━━\u001b[0m \u001b[32m5.3/5.3 MB\u001b[0m \u001b[31m2.8 MB/s\u001b[0m eta \u001b[36m0:00:00\u001b[0m00:01\u001b[0m00:01\u001b[0m\n",
      "\u001b[?25hUsing cached gitdb-4.0.11-py3-none-any.whl (62 kB)\n",
      "Downloading typing_extensions-4.9.0-py3-none-any.whl (32 kB)\n",
      "Downloading vine-5.1.0-py3-none-any.whl (9.6 kB)\n",
      "Downloading orjson-3.9.10-cp311-cp311-macosx_10_15_x86_64.macosx_11_0_arm64.macosx_10_15_universal2.whl (242 kB)\n",
      "\u001b[2K   \u001b[90m━━━━━━━━━━━━━━━━━━━━━━━━━━━━━━━━━━━━━━━━\u001b[0m \u001b[32m242.0/242.0 kB\u001b[0m \u001b[31m2.7 MB/s\u001b[0m eta \u001b[36m0:00:00\u001b[0ma \u001b[36m0:00:01\u001b[0m\n",
      "\u001b[?25hUsing cached frozenlist-1.4.0-cp311-cp311-macosx_11_0_arm64.whl (46 kB)\n",
      "Using cached smmap-5.0.1-py3-none-any.whl (24 kB)\n",
      "Downloading yarl-1.9.4-cp311-cp311-macosx_11_0_arm64.whl (81 kB)\n",
      "\u001b[2K   \u001b[90m━━━━━━━━━━━━━━━━━━━━━━━━━━━━━━━━━━━━━━━━\u001b[0m \u001b[32m81.2/81.2 kB\u001b[0m \u001b[31m2.2 MB/s\u001b[0m eta \u001b[36m0:00:00\u001b[0m\n",
      "\u001b[?25hBuilding wheels for collected packages: antlr4-python3-runtime\n",
      "  Building wheel for antlr4-python3-runtime (pyproject.toml) ... \u001b[?25ldone\n",
      "\u001b[?25h  Created wheel for antlr4-python3-runtime: filename=antlr4_python3_runtime-4.9.3-py3-none-any.whl size=144554 sha256=e858186ae294d723258311e1d668f5f2545bca79c878dcc510ebdb3c64c7b182\n",
      "  Stored in directory: /Users/rodvlasov2003/Library/Caches/pip/wheels/1a/97/32/461f837398029ad76911109f07047fde1d7b661a147c7c56d1\n",
      "Successfully built antlr4-python3-runtime\n",
      "Installing collected packages: pygtrie, funcy, dictdiffer, appdirs, antlr4-python3-runtime, zc.lockfile, voluptuous, vine, tzdata, typing-extensions, tqdm, tomlkit, tabulate, smmap, shtab, shortuuid, semver, ruamel.yaml.clib, pyparsing, platformdirs, pathspec, orjson, omegaconf, networkx, multidict, mdurl, fsspec, frozenlist, flatten-dict, filelock, entrypoints, dvc-render, dulwich, dpath, distro, diskcache, configobj, colorama, click, billiard, atpublic, annotated-types, yarl, typer, sqltrie, ruamel.yaml, pygit2, pydot, pydantic-core, markdown-it-py, iterative-telemetry, hydra-core, grandalf, gitdb, flufl.lock, dvc-studio-client, dvc-objects, cryptography, click-repl, click-plugins, click-didyoumean, amqp, aiosignal, rich, pydantic, kombu, gitpython, dvc-data, asyncssh, aiohttp, celery, aiohttp-retry, dvc-task, dvc-http, scmrepo, gto, dvc\n",
      "  Attempting uninstall: platformdirs\n",
      "    Found existing installation: platformdirs 4.1.0\n",
      "    Uninstalling platformdirs-4.1.0:\n",
      "      Successfully uninstalled platformdirs-4.1.0\n",
      "Successfully installed aiohttp-3.9.1 aiohttp-retry-2.8.3 aiosignal-1.3.1 amqp-5.2.0 annotated-types-0.6.0 antlr4-python3-runtime-4.9.3 appdirs-1.4.4 asyncssh-2.14.1 atpublic-4.0 billiard-4.2.0 celery-5.3.6 click-8.1.7 click-didyoumean-0.3.0 click-plugins-1.1.1 click-repl-0.3.0 colorama-0.4.6 configobj-5.0.8 cryptography-41.0.7 dictdiffer-0.9.0 diskcache-5.6.3 distro-1.8.0 dpath-2.1.6 dulwich-0.21.7 dvc-3.33.4 dvc-data-2.24.0 dvc-http-2.32.0 dvc-objects-2.0.1 dvc-render-1.0.0 dvc-studio-client-0.18.0 dvc-task-0.3.0 entrypoints-0.4 filelock-3.13.1 flatten-dict-0.4.2 flufl.lock-7.1.1 frozenlist-1.4.0 fsspec-2023.12.2 funcy-2.0 gitdb-4.0.11 gitpython-3.1.40 grandalf-0.8 gto-1.5.0 hydra-core-1.3.2 iterative-telemetry-0.0.8 kombu-5.3.4 markdown-it-py-3.0.0 mdurl-0.1.2 multidict-6.0.4 networkx-3.2.1 omegaconf-2.3.0 orjson-3.9.10 pathspec-0.12.1 platformdirs-3.11.0 pydantic-2.5.2 pydantic-core-2.14.5 pydot-1.4.2 pygit2-1.13.3 pygtrie-2.5.0 pyparsing-3.1.1 rich-13.7.0 ruamel.yaml-0.18.5 ruamel.yaml.clib-0.2.8 scmrepo-1.6.0 semver-3.0.2 shortuuid-1.0.11 shtab-1.6.5 smmap-5.0.1 sqltrie-0.10.0 tabulate-0.9.0 tomlkit-0.12.3 tqdm-4.66.1 typer-0.9.0 typing-extensions-4.9.0 tzdata-2023.3 vine-5.1.0 voluptuous-0.14.1 yarl-1.9.4 zc.lockfile-3.0.post1\n",
      "\n",
      "\u001b[1m[\u001b[0m\u001b[34;49mnotice\u001b[0m\u001b[1;39;49m]\u001b[0m\u001b[39;49m A new release of pip is available: \u001b[0m\u001b[31;49m23.2.1\u001b[0m\u001b[39;49m -> \u001b[0m\u001b[32;49m23.3.1\u001b[0m\n",
      "\u001b[1m[\u001b[0m\u001b[34;49mnotice\u001b[0m\u001b[1;39;49m]\u001b[0m\u001b[39;49m To update, run: \u001b[0m\u001b[32;49mpip install --upgrade pip\u001b[0m\n"
     ]
    }
   ],
   "source": [
    "\n",
    "!git checkout -b dvc-tutorial"
   ]
  },
  {
   "cell_type": "markdown",
   "metadata": {
    "ExecuteTime": {
     "end_time": "2019-06-08T11:18:29.199273Z",
     "start_time": "2019-06-08T11:18:29.196865Z"
    }
   },
   "source": [
    "## Initialize DVC\n",
    "\n",
    "References: \n",
    "- https://dvc.org/doc/get-started/initialize "
   ]
  },
  {
   "cell_type": "code",
   "execution_count": 17,
   "metadata": {
    "ExecuteTime": {
     "end_time": "2020-07-01T07:32:22.463407Z",
     "start_time": "2020-07-01T07:32:21.450728Z"
    }
   },
   "outputs": [
    {
     "name": "stdout",
     "output_type": "stream",
     "text": [
      "Initialized DVC repository.\r\n",
      "\r\n",
      "You can now commit the changes to git.\r\n",
      "\r\n",
      "\u001b[31m+---------------------------------------------------------------------+\r\n",
      "\u001b[0m\u001b[31m|\u001b[0m                                                                     \u001b[31m|\u001b[0m\r\n",
      "\u001b[31m|\u001b[0m        DVC has enabled anonymous aggregate usage analytics.         \u001b[31m|\u001b[0m\r\n",
      "\u001b[31m|\u001b[0m     Read the analytics documentation (and how to opt-out) here:     \u001b[31m|\u001b[0m\r\n",
      "\u001b[31m|\u001b[0m             <\u001b[36mhttps://dvc.org/doc/user-guide/analytics\u001b[39m>              \u001b[31m|\u001b[0m\r\n",
      "\u001b[31m|\u001b[0m                                                                     \u001b[31m|\u001b[0m\r\n",
      "\u001b[31m+---------------------------------------------------------------------+\r\n",
      "\u001b[0m\r\n",
      "\u001b[33mWhat's next?\u001b[39m\r\n",
      "\u001b[33m------------\u001b[39m\r\n",
      "- Check out the documentation: <\u001b[36mhttps://dvc.org/doc\u001b[39m>\r\n",
      "- Get help and share ideas: <\u001b[36mhttps://dvc.org/chat\u001b[39m>\r\n",
      "- Star us on GitHub: <\u001b[36mhttps://github.com/iterative/dvc\u001b[39m>\r\n",
      "\u001b[0m"
     ]
    }
   ],
   "source": [
    "!dvc init"
   ]
  },
  {
   "cell_type": "markdown",
   "metadata": {},
   "source": [
    "## Commit changes"
   ]
  },
  {
   "cell_type": "code",
   "execution_count": 18,
   "metadata": {
    "ExecuteTime": {
     "end_time": "2020-07-01T07:32:26.446894Z",
     "start_time": "2020-07-01T07:32:26.392814Z"
    }
   },
   "outputs": [
    {
     "name": "stdout",
     "output_type": "stream",
     "text": [
      "[dvc-tutorial e84dd82] Initialize DVC\r\n",
      " 4 files changed, 517 insertions(+), 19 deletions(-)\r\n",
      " create mode 100644 .dvc/.gitignore\r\n",
      " create mode 100644 .dvc/config\r\n",
      " create mode 100644 .dvcignore\r\n"
     ]
    }
   ],
   "source": [
    "!git add .\n",
    "!git commit -m \"Initialize DVC\""
   ]
  },
  {
   "cell_type": "markdown",
   "metadata": {},
   "source": [
    "# Build automated pipelines"
   ]
  },
  {
   "cell_type": "markdown",
   "metadata": {},
   "source": [
    "## Create `data_load` stage\n"
   ]
  },
  {
   "cell_type": "code",
   "execution_count": 20,
   "metadata": {
    "ExecuteTime": {
     "end_time": "2020-07-03T19:30:35.023136Z",
     "start_time": "2020-07-03T19:30:34.904974Z"
    }
   },
   "outputs": [],
   "source": [
    "# Create `data` directory\n",
    "\n",
    "!mkdir -p data"
   ]
  },
  {
   "cell_type": "code",
   "execution_count": 31,
   "metadata": {
    "ExecuteTime": {
     "end_time": "2020-10-21T09:58:42.844179Z",
     "start_time": "2020-10-21T09:58:42.840016Z"
    }
   },
   "outputs": [
    {
     "name": "stdout",
     "output_type": "stream",
     "text": [
      "Added stage 'data_load' in 'dvc.yaml'                                 core\u001b[39m>\n",
      "\n",
      "To track the changes with git, run:\n",
      "\n",
      "\tgit add dvc.yaml\n",
      "\n",
      "To enable auto staging, run:\n",
      "\n",
      "\tdvc config core.autostage true\n",
      "\u001b[0m"
     ]
    }
   ],
   "source": [
    "# bash\n",
    "# Create data_load pipeline stage\n",
    "\n",
    "!dvc stage add -n data_load \\\n",
    "    -d src/data_load.py \\\n",
    "    -o data/iris.csv \\\n",
    "    -o data/classes.json \\\n",
    "    -p data_load \\\n",
    "    python src/data_load.py --config=params.yaml\n",
    "\n"
   ]
  },
  {
   "cell_type": "code",
   "execution_count": 34,
   "metadata": {
    "ExecuteTime": {
     "end_time": "2020-10-21T13:42:01.176530Z",
     "start_time": "2020-10-21T13:42:01.147399Z"
    },
    "scrolled": true
   },
   "outputs": [
    {
     "name": "stdout",
     "output_type": "stream",
     "text": [
      "8\t./.dvc/tmp\n",
      "16\t./.dvc\n",
      "144\t./.ipynb_checkpoints\n",
      "8\t./.git/objects/51\n",
      "152\t./.git/objects/pack\n",
      "0\t./.git/objects/info\n",
      "8\t./.git/objects/39\n",
      "8\t./.git/objects/52\n",
      "8\t./.git/objects/b8\n",
      "56\t./.git/objects/dd\n",
      "8\t./.git/objects/e6\n",
      "8\t./.git/objects/e8\n",
      "256\t./.git/objects\n",
      "8\t./.git/info\n",
      "16\t./.git/logs/refs/heads\n",
      "8\t./.git/logs/refs/remotes/origin\n",
      "8\t./.git/logs/refs/remotes\n",
      "24\t./.git/logs/refs\n",
      "32\t./.git/logs\n",
      "128\t./.git/hooks\n",
      "16\t./.git/refs/heads\n",
      "0\t./.git/refs/tags\n",
      "8\t./.git/refs/remotes/origin\n",
      "8\t./.git/refs/remotes\n",
      "24\t./.git/refs\n",
      "496\t./.git\n",
      "0\t./data\n",
      "464\t./dvc-venv/bin\n",
      "0\t./dvc-venv/include/python3.11\n",
      "0\t./dvc-venv/include\n",
      "8\t./dvc-venv/etc/jupyter/nbconfig/notebook.d\n",
      "8\t./dvc-venv/etc/jupyter/nbconfig/tree.d\n",
      "16\t./dvc-venv/etc/jupyter/nbconfig\n",
      "32\t./dvc-venv/etc/jupyter/jupyter_server_config.d\n",
      "24\t./dvc-venv/etc/jupyter/jupyter_notebook_config.d\n",
      "72\t./dvc-venv/etc/jupyter\n",
      "72\t./dvc-venv/etc\n",
      "264\t./dvc-venv/lib/python3.11/site-packages/fastjsonschema/__pycache__\n",
      "464\t./dvc-venv/lib/python3.11/site-packages/fastjsonschema\n",
      "128\t./dvc-venv/lib/python3.11/site-packages/overrides/__pycache__\n",
      "224\t./dvc-venv/lib/python3.11/site-packages/overrides\n",
      "8\t./dvc-venv/lib/python3.11/site-packages/orjson/__pycache__\n",
      "1064\t./dvc-venv/lib/python3.11/site-packages/orjson\n",
      "64\t./dvc-venv/lib/python3.11/site-packages/arrow-1.3.0.dist-info\n",
      "56\t./dvc-venv/lib/python3.11/site-packages/multidict-6.0.4.dist-info\n",
      "56\t./dvc-venv/lib/python3.11/site-packages/async_lru-2.0.4.dist-info\n",
      "456\t./dvc-venv/lib/python3.11/site-packages/diskcache/__pycache__\n",
      "816\t./dvc-venv/lib/python3.11/site-packages/diskcache\n",
      "8\t./dvc-venv/lib/python3.11/site-packages/click_didyoumean/__pycache__\n",
      "16\t./dvc-venv/lib/python3.11/site-packages/click_didyoumean\n",
      "128\t./dvc-venv/lib/python3.11/site-packages/dvc_objects/__pycache__\n",
      "304\t./dvc-venv/lib/python3.11/site-packages/dvc_objects/fs/__pycache__\n",
      "504\t./dvc-venv/lib/python3.11/site-packages/dvc_objects/fs\n",
      "728\t./dvc-venv/lib/python3.11/site-packages/dvc_objects\n",
      "72\t./dvc-venv/lib/python3.11/site-packages/aiohttp_retry-2.8.3.dist-info\n",
      "40\t./dvc-venv/lib/python3.11/site-packages/click_didyoumean-0.3.0.dist-info\n",
      "64\t./dvc-venv/lib/python3.11/site-packages/uri_template-1.3.0.dist-info\n",
      "32\t./dvc-venv/lib/python3.11/site-packages/appnope/__pycache__\n",
      "64\t./dvc-venv/lib/python3.11/site-packages/appnope\n",
      "72\t./dvc-venv/lib/python3.11/site-packages/mdurl/__pycache__\n",
      "144\t./dvc-venv/lib/python3.11/site-packages/mdurl\n",
      "440\t./dvc-venv/lib/python3.11/site-packages/packaging/__pycache__\n",
      "800\t./dvc-venv/lib/python3.11/site-packages/packaging\n",
      "64\t./dvc-venv/lib/python3.11/site-packages/aiohttp/.hash\n",
      "2104\t./dvc-venv/lib/python3.11/site-packages/aiohttp/__pycache__\n",
      "5224\t./dvc-venv/lib/python3.11/site-packages/aiohttp\n",
      "24\t./dvc-venv/lib/python3.11/site-packages/jupyter_contrib_nbextensions/config_scripts/__pycache__\n",
      "40\t./dvc-venv/lib/python3.11/site-packages/jupyter_contrib_nbextensions/config_scripts\n",
      "192\t./dvc-venv/lib/python3.11/site-packages/jupyter_contrib_nbextensions/nbconvert_support/__pycache__\n",
      "344\t./dvc-venv/lib/python3.11/site-packages/jupyter_contrib_nbextensions/nbconvert_support\n",
      "96\t./dvc-venv/lib/python3.11/site-packages/jupyter_contrib_nbextensions/__pycache__\n",
      "160\t./dvc-venv/lib/python3.11/site-packages/jupyter_contrib_nbextensions/nbextensions/rubberband\n",
      "72\t./dvc-venv/lib/python3.11/site-packages/jupyter_contrib_nbextensions/nbextensions/scroll_down\n",
      "32\t./dvc-venv/lib/python3.11/site-packages/jupyter_contrib_nbextensions/nbextensions/hinterland\n",
      "848\t./dvc-venv/lib/python3.11/site-packages/jupyter_contrib_nbextensions/nbextensions/css_selector/css\n",
      "856\t./dvc-venv/lib/python3.11/site-packages/jupyter_contrib_nbextensions/nbextensions/css_selector\n",
      "880\t./dvc-venv/lib/python3.11/site-packages/jupyter_contrib_nbextensions/nbextensions/snippets\n",
      "88\t./dvc-venv/lib/python3.11/site-packages/jupyter_contrib_nbextensions/nbextensions/toggle_all_line_numbers\n",
      "128\t./dvc-venv/lib/python3.11/site-packages/jupyter_contrib_nbextensions/nbextensions/notify\n",
      "1808\t./dvc-venv/lib/python3.11/site-packages/jupyter_contrib_nbextensions/nbextensions/runtools\n",
      "472\t./dvc-venv/lib/python3.11/site-packages/jupyter_contrib_nbextensions/nbextensions/tree-filter\n",
      "32\t./dvc-venv/lib/python3.11/site-packages/jupyter_contrib_nbextensions/nbextensions/table_beautifier\n",
      "56\t./dvc-venv/lib/python3.11/site-packages/jupyter_contrib_nbextensions/nbextensions/freeze\n",
      "576\t./dvc-venv/lib/python3.11/site-packages/jupyter_contrib_nbextensions/nbextensions/exercise2\n",
      "40\t./dvc-venv/lib/python3.11/site-packages/jupyter_contrib_nbextensions/nbextensions/execution_dependencies\n",
      "288\t./dvc-venv/lib/python3.11/site-packages/jupyter_contrib_nbextensions/nbextensions/skill\n",
      "40\t./dvc-venv/lib/python3.11/site-packages/jupyter_contrib_nbextensions/nbextensions/splitcell\n",
      "64\t./dvc-venv/lib/python3.11/site-packages/jupyter_contrib_nbextensions/nbextensions/autosavetime\n",
      "128\t./dvc-venv/lib/python3.11/site-packages/jupyter_contrib_nbextensions/nbextensions/select_keymap\n",
      "16\t./dvc-venv/lib/python3.11/site-packages/jupyter_contrib_nbextensions/nbextensions/livemdpreview\n",
      "104\t./dvc-venv/lib/python3.11/site-packages/jupyter_contrib_nbextensions/nbextensions/gist_it\n",
      "32\t./dvc-venv/lib/python3.11/site-packages/jupyter_contrib_nbextensions/nbextensions/cell_filter\n",
      "2320\t./dvc-venv/lib/python3.11/site-packages/jupyter_contrib_nbextensions/nbextensions/scratchpad\n",
      "8224\t./dvc-venv/lib/python3.11/site-packages/jupyter_contrib_nbextensions/nbextensions/toc2\n",
      "10744\t./dvc-venv/lib/python3.11/site-packages/jupyter_contrib_nbextensions/nbextensions/nbTranslate\n",
      "48\t./dvc-venv/lib/python3.11/site-packages/jupyter_contrib_nbextensions/nbextensions/equation-numbering\n",
      "104\t./dvc-venv/lib/python3.11/site-packages/jupyter_contrib_nbextensions/nbextensions/navigation-hotkeys\n",
      "824\t./dvc-venv/lib/python3.11/site-packages/jupyter_contrib_nbextensions/nbextensions/snippets_menu/snippets_submenus_python\n",
      "4056\t./dvc-venv/lib/python3.11/site-packages/jupyter_contrib_nbextensions/nbextensions/snippets_menu\n",
      "72\t./dvc-venv/lib/python3.11/site-packages/jupyter_contrib_nbextensions/nbextensions/printview\n",
      "88\t./dvc-venv/lib/python3.11/site-packages/jupyter_contrib_nbextensions/nbextensions/export_embedded\n",
      "96\t./dvc-venv/lib/python3.11/site-packages/jupyter_contrib_nbextensions/nbextensions/autoscroll\n",
      "72\t./dvc-venv/lib/python3.11/site-packages/jupyter_contrib_nbextensions/nbextensions/hide_input\n",
      "288\t./dvc-venv/lib/python3.11/site-packages/jupyter_contrib_nbextensions/nbextensions/hide_input_all\n",
      "2376\t./dvc-venv/lib/python3.11/site-packages/jupyter_contrib_nbextensions/nbextensions/keyboard_shortcut_editor\n",
      "8\t./dvc-venv/lib/python3.11/site-packages/jupyter_contrib_nbextensions/nbextensions/help_panel/img\n",
      "1656\t./dvc-venv/lib/python3.11/site-packages/jupyter_contrib_nbextensions/nbextensions/help_panel\n",
      "24\t./dvc-venv/lib/python3.11/site-packages/jupyter_contrib_nbextensions/nbextensions/move_selected_cells\n",
      "4216\t./dvc-venv/lib/python3.11/site-packages/jupyter_contrib_nbextensions/nbextensions/zenmode/images\n",
      "4256\t./dvc-venv/lib/python3.11/site-packages/jupyter_contrib_nbextensions/nbextensions/zenmode\n",
      "216\t./dvc-venv/lib/python3.11/site-packages/jupyter_contrib_nbextensions/nbextensions/skip-traceback\n",
      "264\t./dvc-venv/lib/python3.11/site-packages/jupyter_contrib_nbextensions/nbextensions/python-markdown\n",
      "336\t./dvc-venv/lib/python3.11/site-packages/jupyter_contrib_nbextensions/nbextensions/codefolding\n",
      "568\t./dvc-venv/lib/python3.11/site-packages/jupyter_contrib_nbextensions/nbextensions/collapsible_headings\n",
      "592\t./dvc-venv/lib/python3.11/site-packages/jupyter_contrib_nbextensions/nbextensions/exercise\n",
      "16\t./dvc-venv/lib/python3.11/site-packages/jupyter_contrib_nbextensions/nbextensions/codemirror_mode_extensions\n",
      "48\t./dvc-venv/lib/python3.11/site-packages/jupyter_contrib_nbextensions/nbextensions/ruler\n",
      "24\t./dvc-venv/lib/python3.11/site-packages/jupyter_contrib_nbextensions/nbextensions/contrib_nbextensions_help_item\n",
      "96\t./dvc-venv/lib/python3.11/site-packages/jupyter_contrib_nbextensions/nbextensions/datestamper\n",
      "5224\t./dvc-venv/lib/python3.11/site-packages/jupyter_contrib_nbextensions/nbextensions/go_to_current_running_cell\n",
      "176\t./dvc-venv/lib/python3.11/site-packages/jupyter_contrib_nbextensions/nbextensions/init_cell\n",
      "56\t./dvc-venv/lib/python3.11/site-packages/jupyter_contrib_nbextensions/nbextensions/limit_output\n"
     ]
    },
    {
     "name": "stdout",
     "output_type": "stream",
     "text": [
      "24\t./dvc-venv/lib/python3.11/site-packages/jupyter_contrib_nbextensions/nbextensions/qtconsole\n",
      "40\t./dvc-venv/lib/python3.11/site-packages/jupyter_contrib_nbextensions/nbextensions/addbefore\n",
      "2360\t./dvc-venv/lib/python3.11/site-packages/jupyter_contrib_nbextensions/nbextensions/highlighter\n",
      "88\t./dvc-venv/lib/python3.11/site-packages/jupyter_contrib_nbextensions/nbextensions/comment-uncomment\n",
      "24\t./dvc-venv/lib/python3.11/site-packages/jupyter_contrib_nbextensions/nbextensions/code_font_size\n",
      "16\t./dvc-venv/lib/python3.11/site-packages/jupyter_contrib_nbextensions/nbextensions/varInspector/__pycache__\n",
      "1600\t./dvc-venv/lib/python3.11/site-packages/jupyter_contrib_nbextensions/nbextensions/varInspector\n",
      "560\t./dvc-venv/lib/python3.11/site-packages/jupyter_contrib_nbextensions/nbextensions/execute_time\n",
      "56\t./dvc-venv/lib/python3.11/site-packages/jupyter_contrib_nbextensions/nbextensions/spellchecker/typo\n",
      "8\t./dvc-venv/lib/python3.11/site-packages/jupyter_contrib_nbextensions/nbextensions/spellchecker/__pycache__\n",
      "176\t./dvc-venv/lib/python3.11/site-packages/jupyter_contrib_nbextensions/nbextensions/spellchecker\n",
      "1312\t./dvc-venv/lib/python3.11/site-packages/jupyter_contrib_nbextensions/nbextensions/code_prettify\n",
      "40\t./dvc-venv/lib/python3.11/site-packages/jupyter_contrib_nbextensions/nbextensions/load_tex_macros\n",
      "24\t./dvc-venv/lib/python3.11/site-packages/jupyter_contrib_nbextensions/nbextensions/hide_header\n",
      "54160\t./dvc-venv/lib/python3.11/site-packages/jupyter_contrib_nbextensions/nbextensions\n",
      "64\t./dvc-venv/lib/python3.11/site-packages/jupyter_contrib_nbextensions/templates\n",
      "54784\t./dvc-venv/lib/python3.11/site-packages/jupyter_contrib_nbextensions\n",
      "56\t./dvc-venv/lib/python3.11/site-packages/rfc3339_validator-0.1.4.dist-info\n",
      "48\t./dvc-venv/lib/python3.11/site-packages/appnope-0.1.3.dist-info\n",
      "48\t./dvc-venv/lib/python3.11/site-packages/pexpect-4.9.0.dist-info\n",
      "40\t./dvc-venv/lib/python3.11/site-packages/zc/lockfile/__pycache__\n",
      "72\t./dvc-venv/lib/python3.11/site-packages/zc/lockfile\n",
      "72\t./dvc-venv/lib/python3.11/site-packages/zc\n",
      "8\t./dvc-venv/lib/python3.11/site-packages/jsonschema-4.20.0.dist-info/licenses\n",
      "64\t./dvc-venv/lib/python3.11/site-packages/jsonschema-4.20.0.dist-info\n",
      "88\t./dvc-venv/lib/python3.11/site-packages/fqdn-1.5.1.dist-info\n",
      "56\t./dvc-venv/lib/python3.11/site-packages/decorator-5.1.1.dist-info\n",
      "80\t./dvc-venv/lib/python3.11/site-packages/networkx/readwrite/json_graph/tests/__pycache__\n",
      "120\t./dvc-venv/lib/python3.11/site-packages/networkx/readwrite/json_graph/tests\n",
      "80\t./dvc-venv/lib/python3.11/site-packages/networkx/readwrite/json_graph/__pycache__\n",
      "264\t./dvc-venv/lib/python3.11/site-packages/networkx/readwrite/json_graph\n",
      "688\t./dvc-venv/lib/python3.11/site-packages/networkx/readwrite/tests/__pycache__\n",
      "1136\t./dvc-venv/lib/python3.11/site-packages/networkx/readwrite/tests\n",
      "584\t./dvc-venv/lib/python3.11/site-packages/networkx/readwrite/__pycache__\n",
      "2448\t./dvc-venv/lib/python3.11/site-packages/networkx/readwrite\n",
      "48\t./dvc-venv/lib/python3.11/site-packages/networkx/drawing/tests/baseline\n",
      "280\t./dvc-venv/lib/python3.11/site-packages/networkx/drawing/tests/__pycache__\n",
      "488\t./dvc-venv/lib/python3.11/site-packages/networkx/drawing/tests\n",
      "360\t./dvc-venv/lib/python3.11/site-packages/networkx/drawing/__pycache__\n",
      "1160\t./dvc-venv/lib/python3.11/site-packages/networkx/drawing\n",
      "184\t./dvc-venv/lib/python3.11/site-packages/networkx/linalg/tests/__pycache__\n",
      "296\t./dvc-venv/lib/python3.11/site-packages/networkx/linalg/tests\n",
      "200\t./dvc-venv/lib/python3.11/site-packages/networkx/linalg/__pycache__\n",
      "672\t./dvc-venv/lib/python3.11/site-packages/networkx/linalg\n",
      "976\t./dvc-venv/lib/python3.11/site-packages/networkx/classes/tests/__pycache__\n",
      "1464\t./dvc-venv/lib/python3.11/site-packages/networkx/classes/tests\n",
      "816\t./dvc-venv/lib/python3.11/site-packages/networkx/classes/__pycache__\n",
      "2920\t./dvc-venv/lib/python3.11/site-packages/networkx/classes\n",
      "208\t./dvc-venv/lib/python3.11/site-packages/networkx/algorithms/tree/tests/__pycache__\n",
      "344\t./dvc-venv/lib/python3.11/site-packages/networkx/algorithms/tree/tests\n",
      "304\t./dvc-venv/lib/python3.11/site-packages/networkx/algorithms/tree/__pycache__\n",
      "920\t./dvc-venv/lib/python3.11/site-packages/networkx/algorithms/tree\n",
      "584\t./dvc-venv/lib/python3.11/site-packages/networkx/algorithms/isomorphism/tests/__pycache__\n",
      "1008\t./dvc-venv/lib/python3.11/site-packages/networkx/algorithms/isomorphism/tests\n",
      "416\t./dvc-venv/lib/python3.11/site-packages/networkx/algorithms/isomorphism/__pycache__\n",
      "1776\t./dvc-venv/lib/python3.11/site-packages/networkx/algorithms/isomorphism\n",
      "56\t./dvc-venv/lib/python3.11/site-packages/networkx/algorithms/link_analysis/tests/__pycache__\n",
      "80\t./dvc-venv/lib/python3.11/site-packages/networkx/algorithms/link_analysis/tests\n",
      "88\t./dvc-venv/lib/python3.11/site-packages/networkx/algorithms/link_analysis/__pycache__\n",
      "240\t./dvc-venv/lib/python3.11/site-packages/networkx/algorithms/link_analysis\n",
      "192\t./dvc-venv/lib/python3.11/site-packages/networkx/algorithms/operators/tests/__pycache__\n",
      "288\t./dvc-venv/lib/python3.11/site-packages/networkx/algorithms/operators/tests\n",
      "128\t./dvc-venv/lib/python3.11/site-packages/networkx/algorithms/operators/__pycache__\n",
      "520\t./dvc-venv/lib/python3.11/site-packages/networkx/algorithms/operators\n",
      "344\t./dvc-venv/lib/python3.11/site-packages/networkx/algorithms/connectivity/tests/__pycache__\n",
      "552\t./dvc-venv/lib/python3.11/site-packages/networkx/algorithms/connectivity/tests\n",
      "392\t./dvc-venv/lib/python3.11/site-packages/networkx/algorithms/connectivity/__pycache__\n",
      "1296\t./dvc-venv/lib/python3.11/site-packages/networkx/algorithms/connectivity\n",
      "344\t./dvc-venv/lib/python3.11/site-packages/networkx/algorithms/approximation/tests/__pycache__\n",
      "552\t./dvc-venv/lib/python3.11/site-packages/networkx/algorithms/approximation/tests\n",
      "368\t./dvc-venv/lib/python3.11/site-packages/networkx/algorithms/approximation/__pycache__\n",
      "1224\t./dvc-venv/lib/python3.11/site-packages/networkx/algorithms/approximation\n",
      "576\t./dvc-venv/lib/python3.11/site-packages/networkx/algorithms/centrality/tests/__pycache__\n",
      "936\t./dvc-venv/lib/python3.11/site-packages/networkx/algorithms/centrality/tests\n",
      "512\t./dvc-venv/lib/python3.11/site-packages/networkx/algorithms/centrality/__pycache__\n",
      "1856\t./dvc-venv/lib/python3.11/site-packages/networkx/algorithms/centrality\n",
      "1952\t./dvc-venv/lib/python3.11/site-packages/networkx/algorithms/tests/__pycache__\n",
      "3072\t./dvc-venv/lib/python3.11/site-packages/networkx/algorithms/tests\n",
      "1960\t./dvc-venv/lib/python3.11/site-packages/networkx/algorithms/__pycache__\n",
      "336\t./dvc-venv/lib/python3.11/site-packages/networkx/algorithms/bipartite/tests/__pycache__\n",
      "528\t./dvc-venv/lib/python3.11/site-packages/networkx/algorithms/bipartite/tests\n",
      "352\t./dvc-venv/lib/python3.11/site-packages/networkx/algorithms/bipartite/__pycache__\n",
      "1152\t./dvc-venv/lib/python3.11/site-packages/networkx/algorithms/bipartite\n",
      "144\t./dvc-venv/lib/python3.11/site-packages/networkx/algorithms/components/tests/__pycache__\n",
      "208\t./dvc-venv/lib/python3.11/site-packages/networkx/algorithms/components/tests\n",
      "120\t./dvc-venv/lib/python3.11/site-packages/networkx/algorithms/components/__pycache__\n",
      "440\t./dvc-venv/lib/python3.11/site-packages/networkx/algorithms/components\n",
      "128\t./dvc-venv/lib/python3.11/site-packages/networkx/algorithms/traversal/tests/__pycache__\n",
      "208\t./dvc-venv/lib/python3.11/site-packages/networkx/algorithms/traversal/tests\n",
      "128\t./dvc-venv/lib/python3.11/site-packages/networkx/algorithms/traversal/__pycache__\n",
      "456\t./dvc-venv/lib/python3.11/site-packages/networkx/algorithms/traversal\n",
      "56\t./dvc-venv/lib/python3.11/site-packages/networkx/algorithms/minors/tests/__pycache__\n",
      "88\t./dvc-venv/lib/python3.11/site-packages/networkx/algorithms/minors/tests\n",
      "64\t./dvc-venv/lib/python3.11/site-packages/networkx/algorithms/minors/__pycache__\n",
      "208\t./dvc-venv/lib/python3.11/site-packages/networkx/algorithms/minors\n",
      "304\t./dvc-venv/lib/python3.11/site-packages/networkx/algorithms/shortest_paths/tests/__pycache__\n",
      "472\t./dvc-venv/lib/python3.11/site-packages/networkx/algorithms/shortest_paths/tests\n",
      "328\t./dvc-venv/lib/python3.11/site-packages/networkx/algorithms/shortest_paths/__pycache__\n",
      "1096\t./dvc-venv/lib/python3.11/site-packages/networkx/algorithms/shortest_paths\n",
      "136\t./dvc-venv/lib/python3.11/site-packages/networkx/algorithms/assortativity/tests/__pycache__\n"
     ]
    },
    {
     "name": "stdout",
     "output_type": "stream",
     "text": [
      "208\t./dvc-venv/lib/python3.11/site-packages/networkx/algorithms/assortativity/tests\n",
      "112\t./dvc-venv/lib/python3.11/site-packages/networkx/algorithms/assortativity/__pycache__\n",
      "408\t./dvc-venv/lib/python3.11/site-packages/networkx/algorithms/assortativity\n",
      "224\t./dvc-venv/lib/python3.11/site-packages/networkx/algorithms/community/tests/__pycache__\n",
      "344\t./dvc-venv/lib/python3.11/site-packages/networkx/algorithms/community/tests\n",
      "248\t./dvc-venv/lib/python3.11/site-packages/networkx/algorithms/community/__pycache__\n",
      "800\t./dvc-venv/lib/python3.11/site-packages/networkx/algorithms/community\n",
      "72\t./dvc-venv/lib/python3.11/site-packages/networkx/algorithms/coloring/tests/__pycache__\n",
      "120\t./dvc-venv/lib/python3.11/site-packages/networkx/algorithms/coloring/tests\n",
      "104\t./dvc-venv/lib/python3.11/site-packages/networkx/algorithms/coloring/__pycache__\n",
      "304\t./dvc-venv/lib/python3.11/site-packages/networkx/algorithms/coloring\n",
      "224\t./dvc-venv/lib/python3.11/site-packages/networkx/algorithms/flow/tests/__pycache__\n",
      "752\t./dvc-venv/lib/python3.11/site-packages/networkx/algorithms/flow/tests\n",
      "376\t./dvc-venv/lib/python3.11/site-packages/networkx/algorithms/flow/__pycache__\n",
      "1456\t./dvc-venv/lib/python3.11/site-packages/networkx/algorithms/flow\n",
      "20800\t./dvc-venv/lib/python3.11/site-packages/networkx/algorithms\n",
      "360\t./dvc-venv/lib/python3.11/site-packages/networkx/tests/__pycache__\n",
      "552\t./dvc-venv/lib/python3.11/site-packages/networkx/tests\n",
      "208\t./dvc-venv/lib/python3.11/site-packages/networkx/utils/tests/__pycache__\n",
      "320\t./dvc-venv/lib/python3.11/site-packages/networkx/utils/tests\n",
      "344\t./dvc-venv/lib/python3.11/site-packages/networkx/utils/__pycache__\n",
      "968\t./dvc-venv/lib/python3.11/site-packages/networkx/utils\n",
      "248\t./dvc-venv/lib/python3.11/site-packages/networkx/__pycache__\n",
      "712\t./dvc-venv/lib/python3.11/site-packages/networkx/generators/tests/__pycache__\n",
      "1136\t./dvc-venv/lib/python3.11/site-packages/networkx/generators/tests\n",
      "1104\t./dvc-venv/lib/python3.11/site-packages/networkx/generators/__pycache__\n",
      "3184\t./dvc-venv/lib/python3.11/site-packages/networkx/generators\n",
      "33144\t./dvc-venv/lib/python3.11/site-packages/networkx\n",
      "128\t./dvc-venv/lib/python3.11/site-packages/wcwidth/__pycache__\n",
      "1096\t./dvc-venv/lib/python3.11/site-packages/wcwidth\n",
      "8\t./dvc-venv/lib/python3.11/site-packages/validate/__pycache__\n",
      "16\t./dvc-venv/lib/python3.11/site-packages/validate\n",
      "64\t./dvc-venv/lib/python3.11/site-packages/fsspec-2023.12.2.dist-info\n",
      "56\t./dvc-venv/lib/python3.11/site-packages/Jinja2-3.1.2.dist-info\n",
      "232\t./dvc-venv/lib/python3.11/site-packages/websocket/tests/__pycache__\n",
      "24\t./dvc-venv/lib/python3.11/site-packages/websocket/tests/data\n",
      "440\t./dvc-venv/lib/python3.11/site-packages/websocket/tests\n",
      "344\t./dvc-venv/lib/python3.11/site-packages/websocket/__pycache__\n",
      "1064\t./dvc-venv/lib/python3.11/site-packages/websocket\n",
      "72\t./dvc-venv/lib/python3.11/site-packages/dvc_studio_client-0.18.0.dist-info\n",
      "48\t./dvc-venv/lib/python3.11/site-packages/markupsafe/__pycache__\n",
      "336\t./dvc-venv/lib/python3.11/site-packages/markupsafe\n",
      "72\t./dvc-venv/lib/python3.11/site-packages/iterative_telemetry-0.0.8.dist-info\n",
      "64\t./dvc-venv/lib/python3.11/site-packages/smmap-5.0.1.dist-info\n",
      "24\t./dvc-venv/lib/python3.11/site-packages/jupyter_core/utils/__pycache__\n",
      "40\t./dvc-venv/lib/python3.11/site-packages/jupyter_core/utils\n",
      "232\t./dvc-venv/lib/python3.11/site-packages/jupyter_core/__pycache__\n",
      "456\t./dvc-venv/lib/python3.11/site-packages/jupyter_core\n",
      "64\t./dvc-venv/lib/python3.11/site-packages/pandocfilters-1.5.0.dist-info\n",
      "80\t./dvc-venv/lib/python3.11/site-packages/diskcache-5.6.3.dist-info\n",
      "40\t./dvc-venv/lib/python3.11/site-packages/ptyprocess-0.7.0.dist-info\n",
      "64\t./dvc-venv/lib/python3.11/site-packages/aiosignal-1.3.1.dist-info\n",
      "88\t./dvc-venv/lib/python3.11/site-packages/rich-13.7.0.dist-info\n",
      "64\t./dvc-venv/lib/python3.11/site-packages/dictdiffer-0.9.0.dist-info\n",
      "56\t./dvc-venv/lib/python3.11/site-packages/isoduration-20.11.0.dist-info\n",
      "48\t./dvc-venv/lib/python3.11/site-packages/PyYAML-6.0.1.dist-info\n",
      "8\t./dvc-venv/lib/python3.11/site-packages/nbconvert-7.12.0.dist-info/licenses\n",
      "88\t./dvc-venv/lib/python3.11/site-packages/nbconvert-7.12.0.dist-info\n",
      "88\t./dvc-venv/lib/python3.11/site-packages/webencodings/__pycache__\n",
      "176\t./dvc-venv/lib/python3.11/site-packages/webencodings\n",
      "40\t./dvc-venv/lib/python3.11/site-packages/tinycss2-1.2.1.dist-info\n",
      "32\t./dvc-venv/lib/python3.11/site-packages/pygments-2.17.2.dist-info/licenses\n",
      "160\t./dvc-venv/lib/python3.11/site-packages/pygments-2.17.2.dist-info\n",
      "48\t./dvc-venv/lib/python3.11/site-packages/click_repl-0.3.0.dist-info\n",
      "64\t./dvc-venv/lib/python3.11/site-packages/typing_extensions-4.9.0.dist-info\n",
      "128\t./dvc-venv/lib/python3.11/site-packages/defusedxml/__pycache__\n",
      "240\t./dvc-venv/lib/python3.11/site-packages/defusedxml\n",
      "8\t./dvc-venv/lib/python3.11/site-packages/filelock-3.13.1.dist-info/licenses\n",
      "40\t./dvc-venv/lib/python3.11/site-packages/filelock-3.13.1.dist-info\n",
      "48\t./dvc-venv/lib/python3.11/site-packages/ruamel.yaml.clib-0.2.8.dist-info\n",
      "40\t./dvc-venv/lib/python3.11/site-packages/nbformat/v1/__pycache__\n",
      "80\t./dvc-venv/lib/python3.11/site-packages/nbformat/v1\n",
      "16\t./dvc-venv/lib/python3.11/site-packages/nbformat/corpus/tests/__pycache__\n",
      "24\t./dvc-venv/lib/python3.11/site-packages/nbformat/corpus/tests\n",
      "16\t./dvc-venv/lib/python3.11/site-packages/nbformat/corpus/__pycache__\n",
      "48\t./dvc-venv/lib/python3.11/site-packages/nbformat/corpus\n",
      "272\t./dvc-venv/lib/python3.11/site-packages/nbformat/__pycache__\n",
      "88\t./dvc-venv/lib/python3.11/site-packages/nbformat/v2/__pycache__\n",
      "168\t./dvc-venv/lib/python3.11/site-packages/nbformat/v2\n",
      "80\t./dvc-venv/lib/python3.11/site-packages/nbformat/v4/__pycache__\n",
      "376\t./dvc-venv/lib/python3.11/site-packages/nbformat/v4\n",
      "96\t./dvc-venv/lib/python3.11/site-packages/nbformat/v3/__pycache__\n",
      "192\t./dvc-venv/lib/python3.11/site-packages/nbformat/v3\n",
      "1352\t./dvc-venv/lib/python3.11/site-packages/nbformat\n",
      "72\t./dvc-venv/lib/python3.11/site-packages/annotated_types/__pycache__\n",
      "112\t./dvc-venv/lib/python3.11/site-packages/annotated_types\n",
      "104\t./dvc-venv/lib/python3.11/site-packages/mistune/directives/__pycache__\n",
      "184\t./dvc-venv/lib/python3.11/site-packages/mistune/directives\n",
      "88\t./dvc-venv/lib/python3.11/site-packages/mistune/renderers/__pycache__\n",
      "144\t./dvc-venv/lib/python3.11/site-packages/mistune/renderers\n",
      "152\t./dvc-venv/lib/python3.11/site-packages/mistune/plugins/__pycache__\n",
      "272\t./dvc-venv/lib/python3.11/site-packages/mistune/plugins\n",
      "232\t./dvc-venv/lib/python3.11/site-packages/mistune/__pycache__\n",
      "976\t./dvc-venv/lib/python3.11/site-packages/mistune\n",
      "64\t./dvc-venv/lib/python3.11/site-packages/kombu-5.3.4.dist-info\n",
      "56\t./dvc-venv/lib/python3.11/site-packages/webencodings-0.5.1.dist-info\n",
      "48\t./dvc-venv/lib/python3.11/site-packages/attrs/__pycache__\n",
      "104\t./dvc-venv/lib/python3.11/site-packages/attrs\n",
      "8\t./dvc-venv/lib/python3.11/site-packages/colorama-0.4.6.dist-info/licenses\n",
      "72\t./dvc-venv/lib/python3.11/site-packages/colorama-0.4.6.dist-info\n",
      "72\t./dvc-venv/lib/python3.11/site-packages/dpath-2.1.6.dist-info\n",
      "72\t./dvc-venv/lib/python3.11/site-packages/python_dateutil-2.8.2.dist-info\n",
      "104\t./dvc-venv/lib/python3.11/site-packages/bleach/_vendor/__pycache__\n",
      "136\t./dvc-venv/lib/python3.11/site-packages/bleach/_vendor/html5lib/filters/__pycache__\n",
      "256\t./dvc-venv/lib/python3.11/site-packages/bleach/_vendor/html5lib/filters\n",
      "96\t./dvc-venv/lib/python3.11/site-packages/bleach/_vendor/html5lib/treewalkers/__pycache__\n",
      "176\t./dvc-venv/lib/python3.11/site-packages/bleach/_vendor/html5lib/treewalkers\n",
      "184\t./dvc-venv/lib/python3.11/site-packages/bleach/_vendor/html5lib/treebuilders/__pycache__\n",
      "312\t./dvc-venv/lib/python3.11/site-packages/bleach/_vendor/html5lib/treebuilders\n",
      "928\t./dvc-venv/lib/python3.11/site-packages/bleach/_vendor/html5lib/__pycache__\n",
      "24\t./dvc-venv/lib/python3.11/site-packages/bleach/_vendor/html5lib/_trie/__pycache__\n",
      "48\t./dvc-venv/lib/python3.11/site-packages/bleach/_vendor/html5lib/_trie\n",
      "24\t./dvc-venv/lib/python3.11/site-packages/bleach/_vendor/html5lib/treeadapters/__pycache__\n",
      "48\t./dvc-venv/lib/python3.11/site-packages/bleach/_vendor/html5lib/treeadapters\n",
      "2480\t./dvc-venv/lib/python3.11/site-packages/bleach/_vendor/html5lib\n",
      "80\t./dvc-venv/lib/python3.11/site-packages/bleach/_vendor/html5lib-1.1.dist-info\n",
      "2776\t./dvc-venv/lib/python3.11/site-packages/bleach/_vendor\n"
     ]
    },
    {
     "name": "stdout",
     "output_type": "stream",
     "text": [
      "160\t./dvc-venv/lib/python3.11/site-packages/bleach/__pycache__\n",
      "3112\t./dvc-venv/lib/python3.11/site-packages/bleach\n",
      "8\t./dvc-venv/lib/python3.11/site-packages/jupyterlab_server-2.25.2.dist-info/licenses\n",
      "56\t./dvc-venv/lib/python3.11/site-packages/jupyterlab_server-2.25.2.dist-info\n",
      "8\t./dvc-venv/lib/python3.11/site-packages/jupyter_server_terminals-0.5.0.dist-info/licenses\n",
      "48\t./dvc-venv/lib/python3.11/site-packages/jupyter_server_terminals-0.5.0.dist-info\n",
      "80\t./dvc-venv/lib/python3.11/site-packages/pygments/filters/__pycache__\n",
      "160\t./dvc-venv/lib/python3.11/site-packages/pygments/filters\n",
      "7248\t./dvc-venv/lib/python3.11/site-packages/pygments/lexers/__pycache__\n",
      "15608\t./dvc-venv/lib/python3.11/site-packages/pygments/lexers\n",
      "400\t./dvc-venv/lib/python3.11/site-packages/pygments/formatters/__pycache__\n",
      "728\t./dvc-venv/lib/python3.11/site-packages/pygments/formatters\n",
      "416\t./dvc-venv/lib/python3.11/site-packages/pygments/__pycache__\n",
      "448\t./dvc-venv/lib/python3.11/site-packages/pygments/styles/__pycache__\n",
      "888\t./dvc-venv/lib/python3.11/site-packages/pygments/styles\n",
      "18200\t./dvc-venv/lib/python3.11/site-packages/pygments\n",
      "8\t./dvc-venv/lib/python3.11/site-packages/attrs-23.1.0.dist-info/licenses\n",
      "56\t./dvc-venv/lib/python3.11/site-packages/attrs-23.1.0.dist-info\n",
      "104\t./dvc-venv/lib/python3.11/site-packages/pure_eval/__pycache__\n",
      "184\t./dvc-venv/lib/python3.11/site-packages/pure_eval\n",
      "72\t./dvc-venv/lib/python3.11/site-packages/jupyter_lsp-2.2.1.dist-info\n",
      "72\t./dvc-venv/lib/python3.11/site-packages/dvc_render-1.0.0.dist-info\n",
      "256\t./dvc-venv/lib/python3.11/site-packages/asyncssh/crypto/__pycache__\n",
      "456\t./dvc-venv/lib/python3.11/site-packages/asyncssh/crypto\n",
      "4136\t./dvc-venv/lib/python3.11/site-packages/asyncssh/__pycache__\n",
      "7800\t./dvc-venv/lib/python3.11/site-packages/asyncssh\n",
      "576\t./dvc-venv/lib/python3.11/site-packages/pygit2/__pycache__\n",
      "28928\t./dvc-venv/lib/python3.11/site-packages/pygit2/.dylibs\n",
      "240\t./dvc-venv/lib/python3.11/site-packages/pygit2/decl\n",
      "32872\t./dvc-venv/lib/python3.11/site-packages/pygit2\n",
      "360\t./dvc-venv/lib/python3.11/site-packages/funcy/__pycache__\n",
      "600\t./dvc-venv/lib/python3.11/site-packages/funcy\n",
      "40\t./dvc-venv/lib/python3.11/site-packages/entrypoints-0.4.dist-info\n",
      "128\t./dvc-venv/lib/python3.11/site-packages/setuptools-68.1.2.dist-info\n",
      "400\t./dvc-venv/lib/python3.11/site-packages/pycparser/ply/__pycache__\n",
      "856\t./dvc-venv/lib/python3.11/site-packages/pycparser/ply\n",
      "880\t./dvc-venv/lib/python3.11/site-packages/pycparser/__pycache__\n",
      "2544\t./dvc-venv/lib/python3.11/site-packages/pycparser\n",
      "8\t./dvc-venv/lib/python3.11/site-packages/rpds/__pycache__\n",
      "1832\t./dvc-venv/lib/python3.11/site-packages/rpds\n",
      "8\t./dvc-venv/lib/python3.11/site-packages/comm-0.2.0.dist-info/licenses\n",
      "40\t./dvc-venv/lib/python3.11/site-packages/comm-0.2.0.dist-info\n",
      "112\t./dvc-venv/lib/python3.11/site-packages/kombu/asynchronous/__pycache__\n",
      "80\t./dvc-venv/lib/python3.11/site-packages/kombu/asynchronous/http/__pycache__\n",
      "136\t./dvc-venv/lib/python3.11/site-packages/kombu/asynchronous/http\n",
      "48\t./dvc-venv/lib/python3.11/site-packages/kombu/asynchronous/aws/__pycache__\n",
      "72\t./dvc-venv/lib/python3.11/site-packages/kombu/asynchronous/aws/sqs/__pycache__\n",
      "128\t./dvc-venv/lib/python3.11/site-packages/kombu/asynchronous/aws/sqs\n",
      "216\t./dvc-venv/lib/python3.11/site-packages/kombu/asynchronous/aws\n",
      "528\t./dvc-venv/lib/python3.11/site-packages/kombu/asynchronous\n",
      "840\t./dvc-venv/lib/python3.11/site-packages/kombu/transport/__pycache__\n",
      "48\t./dvc-venv/lib/python3.11/site-packages/kombu/transport/sqlalchemy/__pycache__\n",
      "72\t./dvc-venv/lib/python3.11/site-packages/kombu/transport/sqlalchemy\n",
      "136\t./dvc-venv/lib/python3.11/site-packages/kombu/transport/virtual/__pycache__\n",
      "232\t./dvc-venv/lib/python3.11/site-packages/kombu/transport/virtual\n",
      "1760\t./dvc-venv/lib/python3.11/site-packages/kombu/transport\n",
      "256\t./dvc-venv/lib/python3.11/site-packages/kombu/utils/__pycache__\n",
      "432\t./dvc-venv/lib/python3.11/site-packages/kombu/utils\n",
      "640\t./dvc-venv/lib/python3.11/site-packages/kombu/__pycache__\n",
      "3832\t./dvc-venv/lib/python3.11/site-packages/kombu\n",
      "56\t./dvc-venv/lib/python3.11/site-packages/python_json_logger-2.0.7.dist-info\n",
      "8\t./dvc-venv/lib/python3.11/site-packages/nbformat-5.9.2.dist-info/licenses\n",
      "56\t./dvc-venv/lib/python3.11/site-packages/nbformat-5.9.2.dist-info\n",
      "104\t./dvc-venv/lib/python3.11/site-packages/defusedxml-0.7.1.dist-info\n",
      "456\t./dvc-venv/lib/python3.11/site-packages/typer/__pycache__\n",
      "864\t./dvc-venv/lib/python3.11/site-packages/typer\n",
      "64\t./dvc-venv/lib/python3.11/site-packages/typer-0.9.0.dist-info\n",
      "56\t./dvc-venv/lib/python3.11/site-packages/jsonpointer-2.4.dist-info\n",
      "384\t./dvc-venv/lib/python3.11/site-packages/notebook-6.4.12.dist-info\n",
      "104\t./dvc-venv/lib/python3.11/site-packages/argon2/__pycache__\n",
      "200\t./dvc-venv/lib/python3.11/site-packages/argon2\n",
      "80\t./dvc-venv/lib/python3.11/site-packages/gto-1.5.0.dist-info\n",
      "48\t./dvc-venv/lib/python3.11/site-packages/jupyter_nbextensions_configurator/__pycache__\n",
      "88\t./dvc-venv/lib/python3.11/site-packages/jupyter_nbextensions_configurator/static/nbextensions_configurator/config_menu\n",
      "288\t./dvc-venv/lib/python3.11/site-packages/jupyter_nbextensions_configurator/static/nbextensions_configurator/tree_tab\n",
      "40\t./dvc-venv/lib/python3.11/site-packages/jupyter_nbextensions_configurator/static/nbextensions_configurator/render\n",
      "1216\t./dvc-venv/lib/python3.11/site-packages/jupyter_nbextensions_configurator/static/nbextensions_configurator\n",
      "1216\t./dvc-venv/lib/python3.11/site-packages/jupyter_nbextensions_configurator/static\n",
      "16\t./dvc-venv/lib/python3.11/site-packages/jupyter_nbextensions_configurator/templates\n",
      "1320\t./dvc-venv/lib/python3.11/site-packages/jupyter_nbextensions_configurator\n",
      "64\t./dvc-venv/lib/python3.11/site-packages/pyparsing/diagram/__pycache__\n",
      "112\t./dvc-venv/lib/python3.11/site-packages/pyparsing/diagram\n",
      "1000\t./dvc-venv/lib/python3.11/site-packages/pyparsing/__pycache__\n",
      "1872\t./dvc-venv/lib/python3.11/site-packages/pyparsing\n",
      "64\t./dvc-venv/lib/python3.11/site-packages/semver-3.0.2.dist-info\n",
      "88\t./dvc-venv/lib/python3.11/site-packages/debugpy/launcher/__pycache__\n",
      "160\t./dvc-venv/lib/python3.11/site-packages/debugpy/launcher\n",
      "104\t./dvc-venv/lib/python3.11/site-packages/debugpy/server/__pycache__\n",
      "176\t./dvc-venv/lib/python3.11/site-packages/debugpy/server\n",
      "232\t./dvc-venv/lib/python3.11/site-packages/debugpy/adapter/__pycache__\n",
      "432\t./dvc-venv/lib/python3.11/site-packages/debugpy/adapter\n",
      "40\t./dvc-venv/lib/python3.11/site-packages/debugpy/__pycache__\n",
      "304\t./dvc-venv/lib/python3.11/site-packages/debugpy/common/__pycache__\n",
      "536\t./dvc-venv/lib/python3.11/site-packages/debugpy/common\n",
      "40\t./dvc-venv/lib/python3.11/site-packages/debugpy/_vendored/__pycache__\n",
      "32\t./dvc-venv/lib/python3.11/site-packages/debugpy/_vendored/pydevd/stubs/__pycache__\n",
      "56\t./dvc-venv/lib/python3.11/site-packages/debugpy/_vendored/pydevd/stubs\n",
      "240\t./dvc-venv/lib/python3.11/site-packages/debugpy/_vendored/pydevd/_pydev_runfiles/__pycache__\n",
      "432\t./dvc-venv/lib/python3.11/site-packages/debugpy/_vendored/pydevd/_pydev_runfiles\n",
      "2080\t./dvc-venv/lib/python3.11/site-packages/debugpy/_vendored/pydevd/_pydevd_bundle/__pycache__\n",
      "1304\t./dvc-venv/lib/python3.11/site-packages/debugpy/_vendored/pydevd/_pydevd_bundle/_debug_adapter/__pycache__\n",
      "3200\t./dvc-venv/lib/python3.11/site-packages/debugpy/_vendored/pydevd/_pydevd_bundle/_debug_adapter\n",
      "64\t./dvc-venv/lib/python3.11/site-packages/debugpy/_vendored/pydevd/_pydevd_bundle/pydevd_concurrency_analyser/__pycache__\n",
      "112\t./dvc-venv/lib/python3.11/site-packages/debugpy/_vendored/pydevd/_pydevd_bundle/pydevd_concurrency_analyser\n",
      "13632\t./dvc-venv/lib/python3.11/site-packages/debugpy/_vendored/pydevd/_pydevd_bundle\n",
      "32\t./dvc-venv/lib/python3.11/site-packages/debugpy/_vendored/pydevd/_pydev_bundle/fsnotify/__pycache__\n",
      "64\t./dvc-venv/lib/python3.11/site-packages/debugpy/_vendored/pydevd/_pydev_bundle/fsnotify\n",
      "520\t./dvc-venv/lib/python3.11/site-packages/debugpy/_vendored/pydevd/_pydev_bundle/__pycache__\n",
      "1064\t./dvc-venv/lib/python3.11/site-packages/debugpy/_vendored/pydevd/_pydev_bundle\n",
      "120\t./dvc-venv/lib/python3.11/site-packages/debugpy/_vendored/pydevd/pydevd_plugins/__pycache__\n",
      "56\t./dvc-venv/lib/python3.11/site-packages/debugpy/_vendored/pydevd/pydevd_plugins/extensions/types/__pycache__\n",
      "96\t./dvc-venv/lib/python3.11/site-packages/debugpy/_vendored/pydevd/pydevd_plugins/extensions/types\n"
     ]
    },
    {
     "name": "stdout",
     "output_type": "stream",
     "text": [
      "104\t./dvc-venv/lib/python3.11/site-packages/debugpy/_vendored/pydevd/pydevd_plugins/extensions\n",
      "328\t./dvc-venv/lib/python3.11/site-packages/debugpy/_vendored/pydevd/pydevd_plugins\n",
      "72\t./dvc-venv/lib/python3.11/site-packages/debugpy/_vendored/pydevd/tests_mainloop/__pycache__\n",
      "128\t./dvc-venv/lib/python3.11/site-packages/debugpy/_vendored/pydevd/tests_mainloop\n",
      "232\t./dvc-venv/lib/python3.11/site-packages/debugpy/_vendored/pydevd/tests/__pycache__\n",
      "384\t./dvc-venv/lib/python3.11/site-packages/debugpy/_vendored/pydevd/tests\n",
      "688\t./dvc-venv/lib/python3.11/site-packages/debugpy/_vendored/pydevd/__pycache__\n",
      "216\t./dvc-venv/lib/python3.11/site-packages/debugpy/_vendored/pydevd/pydev_ipython/__pycache__\n",
      "424\t./dvc-venv/lib/python3.11/site-packages/debugpy/_vendored/pydevd/pydev_ipython\n",
      "64\t./dvc-venv/lib/python3.11/site-packages/debugpy/_vendored/pydevd/test_pydevd_reload/__pycache__\n",
      "96\t./dvc-venv/lib/python3.11/site-packages/debugpy/_vendored/pydevd/test_pydevd_reload\n",
      "88\t./dvc-venv/lib/python3.11/site-packages/debugpy/_vendored/pydevd/tests_runfiles/__pycache__\n",
      "24\t./dvc-venv/lib/python3.11/site-packages/debugpy/_vendored/pydevd/tests_runfiles/samples/nested_dir/__pycache__\n",
      "16\t./dvc-venv/lib/python3.11/site-packages/debugpy/_vendored/pydevd/tests_runfiles/samples/nested_dir/nested3/__pycache__\n",
      "32\t./dvc-venv/lib/python3.11/site-packages/debugpy/_vendored/pydevd/tests_runfiles/samples/nested_dir/nested3\n",
      "24\t./dvc-venv/lib/python3.11/site-packages/debugpy/_vendored/pydevd/tests_runfiles/samples/nested_dir/nested2/__pycache__\n",
      "48\t./dvc-venv/lib/python3.11/site-packages/debugpy/_vendored/pydevd/tests_runfiles/samples/nested_dir/nested2\n",
      "128\t./dvc-venv/lib/python3.11/site-packages/debugpy/_vendored/pydevd/tests_runfiles/samples/nested_dir\n",
      "48\t./dvc-venv/lib/python3.11/site-packages/debugpy/_vendored/pydevd/tests_runfiles/samples/__pycache__\n",
      "224\t./dvc-venv/lib/python3.11/site-packages/debugpy/_vendored/pydevd/tests_runfiles/samples\n",
      "376\t./dvc-venv/lib/python3.11/site-packages/debugpy/_vendored/pydevd/tests_runfiles\n",
      "104\t./dvc-venv/lib/python3.11/site-packages/debugpy/_vendored/pydevd/pydevd_attach_to_process/__pycache__\n",
      "144\t./dvc-venv/lib/python3.11/site-packages/debugpy/_vendored/pydevd/pydevd_attach_to_process/common\n",
      "2344\t./dvc-venv/lib/python3.11/site-packages/debugpy/_vendored/pydevd/pydevd_attach_to_process/winappdbg/__pycache__\n",
      "1328\t./dvc-venv/lib/python3.11/site-packages/debugpy/_vendored/pydevd/pydevd_attach_to_process/winappdbg/win32/__pycache__\n",
      "2864\t./dvc-venv/lib/python3.11/site-packages/debugpy/_vendored/pydevd/pydevd_attach_to_process/winappdbg/win32\n",
      "7344\t./dvc-venv/lib/python3.11/site-packages/debugpy/_vendored/pydevd/pydevd_attach_to_process/winappdbg\n",
      "136\t./dvc-venv/lib/python3.11/site-packages/debugpy/_vendored/pydevd/pydevd_attach_to_process/windows\n",
      "8\t./dvc-venv/lib/python3.11/site-packages/debugpy/_vendored/pydevd/pydevd_attach_to_process/linux_and_mac/__pycache__\n",
      "56\t./dvc-venv/lib/python3.11/site-packages/debugpy/_vendored/pydevd/pydevd_attach_to_process/linux_and_mac\n",
      "8008\t./dvc-venv/lib/python3.11/site-packages/debugpy/_vendored/pydevd/pydevd_attach_to_process\n",
      "112\t./dvc-venv/lib/python3.11/site-packages/debugpy/_vendored/pydevd/build_tools/__pycache__\n",
      "200\t./dvc-venv/lib/python3.11/site-packages/debugpy/_vendored/pydevd/build_tools\n",
      "16\t./dvc-venv/lib/python3.11/site-packages/debugpy/_vendored/pydevd/tests_python/my_extensions/pydevd_plugins/extensions/__pycache__\n",
      "32\t./dvc-venv/lib/python3.11/site-packages/debugpy/_vendored/pydevd/tests_python/my_extensions/pydevd_plugins/extensions\n",
      "32\t./dvc-venv/lib/python3.11/site-packages/debugpy/_vendored/pydevd/tests_python/my_extensions/pydevd_plugins\n",
      "32\t./dvc-venv/lib/python3.11/site-packages/debugpy/_vendored/pydevd/tests_python/my_extensions\n",
      "8\t./dvc-venv/lib/python3.11/site-packages/debugpy/_vendored/pydevd/tests_python/resources/launch_py2/__pycache__\n",
      "24\t./dvc-venv/lib/python3.11/site-packages/debugpy/_vendored/pydevd/tests_python/resources/launch_py2/foo/__pycache__\n",
      "32\t./dvc-venv/lib/python3.11/site-packages/debugpy/_vendored/pydevd/tests_python/resources/launch_py2/foo\n",
      "40\t./dvc-venv/lib/python3.11/site-packages/debugpy/_vendored/pydevd/tests_python/resources/launch_py2\n",
      "16\t./dvc-venv/lib/python3.11/site-packages/debugpy/_vendored/pydevd/tests_python/resources/launch/foo/__pycache__\n",
      "24\t./dvc-venv/lib/python3.11/site-packages/debugpy/_vendored/pydevd/tests_python/resources/launch/foo\n",
      "24\t./dvc-venv/lib/python3.11/site-packages/debugpy/_vendored/pydevd/tests_python/resources/launch\n",
      "1448\t./dvc-venv/lib/python3.11/site-packages/debugpy/_vendored/pydevd/tests_python/resources/__pycache__\n",
      "56\t./dvc-venv/lib/python3.11/site-packages/debugpy/_vendored/pydevd/tests_python/resources/not_my_code/__pycache__\n",
      "96\t./dvc-venv/lib/python3.11/site-packages/debugpy/_vendored/pydevd/tests_python/resources/not_my_code\n",
      "80\t./dvc-venv/lib/python3.11/site-packages/debugpy/_vendored/pydevd/tests_python/resources/my_code/__pycache__\n",
      "152\t./dvc-venv/lib/python3.11/site-packages/debugpy/_vendored/pydevd/tests_python/resources/my_code\n",
      "8\t./dvc-venv/lib/python3.11/site-packages/debugpy/_vendored/pydevd/tests_python/resources/wrong_bytecode/__pycache__\n",
      "8\t./dvc-venv/lib/python3.11/site-packages/debugpy/_vendored/pydevd/tests_python/resources/wrong_bytecode/helper/__pycache__\n",
      "8\t./dvc-venv/lib/python3.11/site-packages/debugpy/_vendored/pydevd/tests_python/resources/wrong_bytecode/helper/helper/__pycache__\n",
      "8\t./dvc-venv/lib/python3.11/site-packages/debugpy/_vendored/pydevd/tests_python/resources/wrong_bytecode/helper/helper/helper/__pycache__\n",
      "16\t./dvc-venv/lib/python3.11/site-packages/debugpy/_vendored/pydevd/tests_python/resources/wrong_bytecode/helper/helper/helper\n",
      "32\t./dvc-venv/lib/python3.11/site-packages/debugpy/_vendored/pydevd/tests_python/resources/wrong_bytecode/helper/helper\n",
      "48\t./dvc-venv/lib/python3.11/site-packages/debugpy/_vendored/pydevd/tests_python/resources/wrong_bytecode/helper\n",
      "64\t./dvc-venv/lib/python3.11/site-packages/debugpy/_vendored/pydevd/tests_python/resources/wrong_bytecode\n",
      "3248\t./dvc-venv/lib/python3.11/site-packages/debugpy/_vendored/pydevd/tests_python/resources\n",
      "8\t./dvc-venv/lib/python3.11/site-packages/debugpy/_vendored/pydevd/tests_python/flask1/__pycache__\n",
      "16\t./dvc-venv/lib/python3.11/site-packages/debugpy/_vendored/pydevd/tests_python/flask1\n",
      "2520\t./dvc-venv/lib/python3.11/site-packages/debugpy/_vendored/pydevd/tests_python/__pycache__\n",
      "16\t./dvc-venv/lib/python3.11/site-packages/debugpy/_vendored/pydevd/tests_python/resource_path_translation/__pycache__\n",
      "24\t./dvc-venv/lib/python3.11/site-packages/debugpy/_vendored/pydevd/tests_python/resource_path_translation\n",
      "8\t./dvc-venv/lib/python3.11/site-packages/debugpy/_vendored/pydevd/tests_python/my_django_proj_21/__pycache__\n",
      "8\t./dvc-venv/lib/python3.11/site-packages/debugpy/_vendored/pydevd/tests_python/my_django_proj_21/my_app/migrations/__pycache__\n",
      "8\t./dvc-venv/lib/python3.11/site-packages/debugpy/_vendored/pydevd/tests_python/my_django_proj_21/my_app/migrations\n",
      "64\t./dvc-venv/lib/python3.11/site-packages/debugpy/_vendored/pydevd/tests_python/my_django_proj_21/my_app/__pycache__\n",
      "128\t./dvc-venv/lib/python3.11/site-packages/debugpy/_vendored/pydevd/tests_python/my_django_proj_21/my_app\n",
      "32\t./dvc-venv/lib/python3.11/site-packages/debugpy/_vendored/pydevd/tests_python/my_django_proj_21/my_django_proj_21/__pycache__\n",
      "56\t./dvc-venv/lib/python3.11/site-packages/debugpy/_vendored/pydevd/tests_python/my_django_proj_21/my_django_proj_21\n",
      "200\t./dvc-venv/lib/python3.11/site-packages/debugpy/_vendored/pydevd/tests_python/my_django_proj_21\n",
      "8\t./dvc-venv/lib/python3.11/site-packages/debugpy/_vendored/pydevd/tests_python/my_django_proj_17/__pycache__\n",
      "56\t./dvc-venv/lib/python3.11/site-packages/debugpy/_vendored/pydevd/tests_python/my_django_proj_17/my_app/__pycache__\n",
      "104\t./dvc-venv/lib/python3.11/site-packages/debugpy/_vendored/pydevd/tests_python/my_django_proj_17/my_app\n",
      "32\t./dvc-venv/lib/python3.11/site-packages/debugpy/_vendored/pydevd/tests_python/my_django_proj_17/my_django_proj_17/__pycache__\n",
      "56\t./dvc-venv/lib/python3.11/site-packages/debugpy/_vendored/pydevd/tests_python/my_django_proj_17/my_django_proj_17\n",
      "176\t./dvc-venv/lib/python3.11/site-packages/debugpy/_vendored/pydevd/tests_python/my_django_proj_17\n"
     ]
    },
    {
     "name": "stdout",
     "output_type": "stream",
     "text": [
      "7976\t./dvc-venv/lib/python3.11/site-packages/debugpy/_vendored/pydevd/tests_python\n",
      "72\t./dvc-venv/lib/python3.11/site-packages/debugpy/_vendored/pydevd/_pydevd_frame_eval/__pycache__\n",
      "56\t./dvc-venv/lib/python3.11/site-packages/debugpy/_vendored/pydevd/_pydevd_frame_eval/vendored/bytecode-0.13.0.dev0.dist-info\n",
      "16\t./dvc-venv/lib/python3.11/site-packages/debugpy/_vendored/pydevd/_pydevd_frame_eval/vendored/__pycache__\n",
      "496\t./dvc-venv/lib/python3.11/site-packages/debugpy/_vendored/pydevd/_pydevd_frame_eval/vendored/bytecode/tests/__pycache__\n",
      "848\t./dvc-venv/lib/python3.11/site-packages/debugpy/_vendored/pydevd/_pydevd_frame_eval/vendored/bytecode/tests\n",
      "240\t./dvc-venv/lib/python3.11/site-packages/debugpy/_vendored/pydevd/_pydevd_frame_eval/vendored/bytecode/__pycache__\n",
      "1272\t./dvc-venv/lib/python3.11/site-packages/debugpy/_vendored/pydevd/_pydevd_frame_eval/vendored/bytecode\n",
      "1360\t./dvc-venv/lib/python3.11/site-packages/debugpy/_vendored/pydevd/_pydevd_frame_eval/vendored\n",
      "3408\t./dvc-venv/lib/python3.11/site-packages/debugpy/_vendored/pydevd/_pydevd_frame_eval\n",
      "16\t./dvc-venv/lib/python3.11/site-packages/debugpy/_vendored/pydevd/pydev_sitecustomize/__pycache__\n",
      "48\t./dvc-venv/lib/python3.11/site-packages/debugpy/_vendored/pydevd/pydev_sitecustomize\n",
      "37888\t./dvc-venv/lib/python3.11/site-packages/debugpy/_vendored/pydevd\n",
      "37960\t./dvc-venv/lib/python3.11/site-packages/debugpy/_vendored\n",
      "39416\t./dvc-venv/lib/python3.11/site-packages/debugpy\n",
      "136\t./dvc-venv/lib/python3.11/site-packages/celery-5.3.6.dist-info\n",
      "48\t./dvc-venv/lib/python3.11/site-packages/configobj-5.0.8.dist-info\n",
      "80\t./dvc-venv/lib/python3.11/site-packages/prometheus_client-0.19.0.dist-info\n",
      "192\t./dvc-venv/lib/python3.11/site-packages/stack_data/__pycache__\n",
      "344\t./dvc-venv/lib/python3.11/site-packages/stack_data\n",
      "1488\t./dvc-venv/lib/python3.11/site-packages/jinja2/__pycache__\n",
      "2536\t./dvc-venv/lib/python3.11/site-packages/jinja2\n",
      "8\t./dvc-venv/lib/python3.11/site-packages/cryptography/hazmat/backends/__pycache__\n",
      "408\t./dvc-venv/lib/python3.11/site-packages/cryptography/hazmat/backends/openssl/__pycache__\n",
      "712\t./dvc-venv/lib/python3.11/site-packages/cryptography/hazmat/backends/openssl\n",
      "728\t./dvc-venv/lib/python3.11/site-packages/cryptography/hazmat/backends\n",
      "48\t./dvc-venv/lib/python3.11/site-packages/cryptography/hazmat/__pycache__\n",
      "88\t./dvc-venv/lib/python3.11/site-packages/cryptography/hazmat/primitives/kdf/__pycache__\n",
      "160\t./dvc-venv/lib/python3.11/site-packages/cryptography/hazmat/primitives/kdf\n",
      "32\t./dvc-venv/lib/python3.11/site-packages/cryptography/hazmat/primitives/twofactor/__pycache__\n",
      "56\t./dvc-venv/lib/python3.11/site-packages/cryptography/hazmat/primitives/twofactor\n",
      "200\t./dvc-venv/lib/python3.11/site-packages/cryptography/hazmat/primitives/serialization/__pycache__\n",
      "352\t./dvc-venv/lib/python3.11/site-packages/cryptography/hazmat/primitives/serialization\n",
      "144\t./dvc-venv/lib/python3.11/site-packages/cryptography/hazmat/primitives/__pycache__\n",
      "136\t./dvc-venv/lib/python3.11/site-packages/cryptography/hazmat/primitives/ciphers/__pycache__\n",
      "232\t./dvc-venv/lib/python3.11/site-packages/cryptography/hazmat/primitives/ciphers\n",
      "256\t./dvc-venv/lib/python3.11/site-packages/cryptography/hazmat/primitives/asymmetric/__pycache__\n",
      "416\t./dvc-venv/lib/python3.11/site-packages/cryptography/hazmat/primitives/asymmetric\n",
      "1480\t./dvc-venv/lib/python3.11/site-packages/cryptography/hazmat/primitives\n",
      "88\t./dvc-venv/lib/python3.11/site-packages/cryptography/hazmat/bindings/_rust/openssl\n",
      "144\t./dvc-venv/lib/python3.11/site-packages/cryptography/hazmat/bindings/_rust\n",
      "8\t./dvc-venv/lib/python3.11/site-packages/cryptography/hazmat/bindings/__pycache__\n",
      "56\t./dvc-venv/lib/python3.11/site-packages/cryptography/hazmat/bindings/openssl/__pycache__\n",
      "104\t./dvc-venv/lib/python3.11/site-packages/cryptography/hazmat/bindings/openssl\n",
      "31192\t./dvc-venv/lib/python3.11/site-packages/cryptography/hazmat/bindings\n",
      "33488\t./dvc-venv/lib/python3.11/site-packages/cryptography/hazmat\n",
      "64\t./dvc-venv/lib/python3.11/site-packages/cryptography/__pycache__\n",
      "488\t./dvc-venv/lib/python3.11/site-packages/cryptography/x509/__pycache__\n",
      "816\t./dvc-venv/lib/python3.11/site-packages/cryptography/x509\n",
      "34416\t./dvc-venv/lib/python3.11/site-packages/cryptography\n",
      "56\t./dvc-venv/lib/python3.11/site-packages/fastjsonschema-2.19.0.dist-info\n",
      "136\t./dvc-venv/lib/python3.11/site-packages/distro/__pycache__\n",
      "256\t./dvc-venv/lib/python3.11/site-packages/distro\n",
      "112\t./dvc-venv/lib/python3.11/site-packages/cryptography-41.0.7.dist-info\n",
      "576\t./dvc-venv/lib/python3.11/site-packages/arrow/__pycache__\n",
      "1152\t./dvc-venv/lib/python3.11/site-packages/arrow\n",
      "88\t./dvc-venv/lib/python3.11/site-packages/vine/__pycache__\n",
      "144\t./dvc-venv/lib/python3.11/site-packages/vine\n",
      "8\t./dvc-venv/lib/python3.11/site-packages/IPython/core/tests/daft_extension/__pycache__\n",
      "16\t./dvc-venv/lib/python3.11/site-packages/IPython/core/tests/daft_extension\n",
      "1696\t./dvc-venv/lib/python3.11/site-packages/IPython/core/tests/__pycache__\n",
      "2712\t./dvc-venv/lib/python3.11/site-packages/IPython/core/tests\n",
      "624\t./dvc-venv/lib/python3.11/site-packages/IPython/core/magics/__pycache__\n",
      "1160\t./dvc-venv/lib/python3.11/site-packages/IPython/core/magics\n",
      "2416\t./dvc-venv/lib/python3.11/site-packages/IPython/core/__pycache__\n",
      "8\t./dvc-venv/lib/python3.11/site-packages/IPython/core/profile\n",
      "8368\t./dvc-venv/lib/python3.11/site-packages/IPython/core\n",
      "120\t./dvc-venv/lib/python3.11/site-packages/IPython/sphinxext/__pycache__\n",
      "240\t./dvc-venv/lib/python3.11/site-packages/IPython/sphinxext\n",
      "136\t./dvc-venv/lib/python3.11/site-packages/IPython/terminal/pt_inputhooks/__pycache__\n",
      "248\t./dvc-venv/lib/python3.11/site-packages/IPython/terminal/pt_inputhooks\n",
      "128\t./dvc-venv/lib/python3.11/site-packages/IPython/terminal/tests/__pycache__\n",
      "224\t./dvc-venv/lib/python3.11/site-packages/IPython/terminal/tests\n",
      "272\t./dvc-venv/lib/python3.11/site-packages/IPython/terminal/__pycache__\n",
      "136\t./dvc-venv/lib/python3.11/site-packages/IPython/terminal/shortcuts/__pycache__\n",
      "240\t./dvc-venv/lib/python3.11/site-packages/IPython/terminal/shortcuts\n",
      "1184\t./dvc-venv/lib/python3.11/site-packages/IPython/terminal\n",
      "296\t./dvc-venv/lib/python3.11/site-packages/IPython/utils/tests/__pycache__\n",
      "496\t./dvc-venv/lib/python3.11/site-packages/IPython/utils/tests\n",
      "680\t./dvc-venv/lib/python3.11/site-packages/IPython/utils/__pycache__\n",
      "1768\t./dvc-venv/lib/python3.11/site-packages/IPython/utils\n",
      "72\t./dvc-venv/lib/python3.11/site-packages/IPython/__pycache__\n",
      "96\t./dvc-venv/lib/python3.11/site-packages/IPython/extensions/tests/__pycache__\n",
      "152\t./dvc-venv/lib/python3.11/site-packages/IPython/extensions/tests\n",
      "88\t./dvc-venv/lib/python3.11/site-packages/IPython/extensions/__pycache__\n",
      "312\t./dvc-venv/lib/python3.11/site-packages/IPython/extensions\n",
      "48\t./dvc-venv/lib/python3.11/site-packages/IPython/testing/tests/__pycache__\n",
      "88\t./dvc-venv/lib/python3.11/site-packages/IPython/testing/tests\n",
      "176\t./dvc-venv/lib/python3.11/site-packages/IPython/testing/plugin/__pycache__\n",
      "344\t./dvc-venv/lib/python3.11/site-packages/IPython/testing/plugin\n",
      "104\t./dvc-venv/lib/python3.11/site-packages/IPython/testing/__pycache__\n",
      "624\t./dvc-venv/lib/python3.11/site-packages/IPython/testing\n",
      "200\t./dvc-venv/lib/python3.11/site-packages/IPython/lib/tests/__pycache__\n",
      "424\t./dvc-venv/lib/python3.11/site-packages/IPython/lib/tests\n",
      "432\t./dvc-venv/lib/python3.11/site-packages/IPython/lib/__pycache__\n",
      "1184\t./dvc-venv/lib/python3.11/site-packages/IPython/lib\n",
      "16\t./dvc-venv/lib/python3.11/site-packages/IPython/external/tests/__pycache__\n",
      "24\t./dvc-venv/lib/python3.11/site-packages/IPython/external/tests\n",
      "56\t./dvc-venv/lib/python3.11/site-packages/IPython/external/__pycache__\n",
      "120\t./dvc-venv/lib/python3.11/site-packages/IPython/external\n",
      "13936\t./dvc-venv/lib/python3.11/site-packages/IPython\n",
      "368\t./dvc-venv/lib/python3.11/site-packages/soupsieve/__pycache__\n",
      "656\t./dvc-venv/lib/python3.11/site-packages/soupsieve\n",
      "56\t./dvc-venv/lib/python3.11/site-packages/gitdb-4.0.11.dist-info\n",
      "16\t./dvc-venv/lib/python3.11/site-packages/frozenlist/__pycache__\n",
      "304\t./dvc-venv/lib/python3.11/site-packages/frozenlist\n",
      "16\t./dvc-venv/lib/python3.11/site-packages/jupyter_client/asynchronous/__pycache__\n",
      "32\t./dvc-venv/lib/python3.11/site-packages/jupyter_client/asynchronous\n",
      "16\t./dvc-venv/lib/python3.11/site-packages/jupyter_client/blocking/__pycache__\n"
     ]
    },
    {
     "name": "stdout",
     "output_type": "stream",
     "text": [
      "32\t./dvc-venv/lib/python3.11/site-packages/jupyter_client/blocking\n",
      "96\t./dvc-venv/lib/python3.11/site-packages/jupyter_client/provisioning/__pycache__\n",
      "176\t./dvc-venv/lib/python3.11/site-packages/jupyter_client/provisioning\n",
      "816\t./dvc-venv/lib/python3.11/site-packages/jupyter_client/__pycache__\n",
      "64\t./dvc-venv/lib/python3.11/site-packages/jupyter_client/ssh/__pycache__\n",
      "112\t./dvc-venv/lib/python3.11/site-packages/jupyter_client/ssh\n",
      "40\t./dvc-venv/lib/python3.11/site-packages/jupyter_client/ioloop/__pycache__\n",
      "72\t./dvc-venv/lib/python3.11/site-packages/jupyter_client/ioloop\n",
      "1872\t./dvc-venv/lib/python3.11/site-packages/jupyter_client\n",
      "80\t./dvc-venv/lib/python3.11/site-packages/markdown_it_py-3.0.0.dist-info\n",
      "72\t./dvc-venv/lib/python3.11/site-packages/parso-0.8.3.dist-info\n",
      "8\t./dvc-venv/lib/python3.11/site-packages/pydantic-2.5.2.dist-info/licenses\n",
      "184\t./dvc-venv/lib/python3.11/site-packages/pydantic-2.5.2.dist-info\n",
      "32\t./dvc-venv/lib/python3.11/site-packages/isoduration/__pycache__\n",
      "40\t./dvc-venv/lib/python3.11/site-packages/isoduration/parser/__pycache__\n",
      "72\t./dvc-venv/lib/python3.11/site-packages/isoduration/parser\n",
      "24\t./dvc-venv/lib/python3.11/site-packages/isoduration/operations/__pycache__\n",
      "40\t./dvc-venv/lib/python3.11/site-packages/isoduration/operations\n",
      "32\t./dvc-venv/lib/python3.11/site-packages/isoduration/formatter/__pycache__\n",
      "64\t./dvc-venv/lib/python3.11/site-packages/isoduration/formatter\n",
      "232\t./dvc-venv/lib/python3.11/site-packages/isoduration\n",
      "8\t./dvc-venv/lib/python3.11/site-packages/pydevd_plugins/__pycache__\n",
      "24\t./dvc-venv/lib/python3.11/site-packages/pydevd_plugins/extensions/__pycache__\n",
      "48\t./dvc-venv/lib/python3.11/site-packages/pydevd_plugins/extensions\n",
      "64\t./dvc-venv/lib/python3.11/site-packages/pydevd_plugins\n",
      "576\t./dvc-venv/lib/python3.11/site-packages/gto/__pycache__\n",
      "952\t./dvc-venv/lib/python3.11/site-packages/gto\n",
      "48\t./dvc-venv/lib/python3.11/site-packages/six-1.16.0.dist-info\n",
      "112\t./dvc-venv/lib/python3.11/site-packages/shtab/__pycache__\n",
      "208\t./dvc-venv/lib/python3.11/site-packages/shtab\n",
      "208\t./dvc-venv/lib/python3.11/site-packages/fsspec/tests/abstract/__pycache__\n",
      "384\t./dvc-venv/lib/python3.11/site-packages/fsspec/tests/abstract\n",
      "384\t./dvc-venv/lib/python3.11/site-packages/fsspec/tests\n",
      "856\t./dvc-venv/lib/python3.11/site-packages/fsspec/__pycache__\n",
      "888\t./dvc-venv/lib/python3.11/site-packages/fsspec/implementations/__pycache__\n",
      "1472\t./dvc-venv/lib/python3.11/site-packages/fsspec/implementations\n",
      "3352\t./dvc-venv/lib/python3.11/site-packages/fsspec\n",
      "296\t./dvc-venv/lib/python3.11/site-packages/voluptuous/__pycache__\n",
      "496\t./dvc-venv/lib/python3.11/site-packages/voluptuous\n",
      "184\t./dvc-venv/lib/python3.11/site-packages/dvc-3.33.4.dist-info\n",
      "40\t./dvc-venv/lib/python3.11/site-packages/types_python_dateutil-2.8.19.14.dist-info\n",
      "136\t./dvc-venv/lib/python3.11/site-packages/dictdiffer/__pycache__\n",
      "256\t./dvc-venv/lib/python3.11/site-packages/dictdiffer\n",
      "216\t./dvc-venv/lib/python3.11/site-packages/referencing/tests/__pycache__\n",
      "344\t./dvc-venv/lib/python3.11/site-packages/referencing/tests\n",
      "152\t./dvc-venv/lib/python3.11/site-packages/referencing/__pycache__\n",
      "648\t./dvc-venv/lib/python3.11/site-packages/referencing\n",
      "32\t./dvc-venv/lib/python3.11/site-packages/notebook_shim/tests/__pycache__\n",
      "24\t./dvc-venv/lib/python3.11/site-packages/notebook_shim/tests/confs/__pycache__\n",
      "48\t./dvc-venv/lib/python3.11/site-packages/notebook_shim/tests/confs\n",
      "96\t./dvc-venv/lib/python3.11/site-packages/notebook_shim/tests\n",
      "72\t./dvc-venv/lib/python3.11/site-packages/notebook_shim/__pycache__\n",
      "240\t./dvc-venv/lib/python3.11/site-packages/notebook_shim\n",
      "144\t./dvc-venv/lib/python3.11/site-packages/colorama/tests/__pycache__\n",
      "224\t./dvc-venv/lib/python3.11/site-packages/colorama/tests\n",
      "104\t./dvc-venv/lib/python3.11/site-packages/colorama/__pycache__\n",
      "408\t./dvc-venv/lib/python3.11/site-packages/colorama\n",
      "312\t./dvc-venv/lib/python3.11/site-packages/configobj/__pycache__\n",
      "592\t./dvc-venv/lib/python3.11/site-packages/configobj\n",
      "976\t./dvc-venv/lib/python3.11/site-packages/cffi/__pycache__\n",
      "1792\t./dvc-venv/lib/python3.11/site-packages/cffi\n",
      "40\t./dvc-venv/lib/python3.11/site-packages/iterative_telemetry/__pycache__\n",
      "72\t./dvc-venv/lib/python3.11/site-packages/iterative_telemetry\n",
      "104\t./dvc-venv/lib/python3.11/site-packages/asyncssh-2.14.1.dist-info\n",
      "64\t./dvc-venv/lib/python3.11/site-packages/billiard-4.2.0.dist-info\n",
      "56\t./dvc-venv/lib/python3.11/site-packages/flatten_dict-0.4.2.dist-info\n",
      "8\t./dvc-venv/lib/python3.11/site-packages/tzdata/zoneinfo/Indian/__pycache__\n",
      "96\t./dvc-venv/lib/python3.11/site-packages/tzdata/zoneinfo/Indian\n",
      "8\t./dvc-venv/lib/python3.11/site-packages/tzdata/zoneinfo/Atlantic/__pycache__\n",
      "104\t./dvc-venv/lib/python3.11/site-packages/tzdata/zoneinfo/Atlantic\n",
      "8\t./dvc-venv/lib/python3.11/site-packages/tzdata/zoneinfo/US/__pycache__\n",
      "104\t./dvc-venv/lib/python3.11/site-packages/tzdata/zoneinfo/US\n",
      "8\t./dvc-venv/lib/python3.11/site-packages/tzdata/zoneinfo/Brazil/__pycache__\n",
      "40\t./dvc-venv/lib/python3.11/site-packages/tzdata/zoneinfo/Brazil\n",
      "8\t./dvc-venv/lib/python3.11/site-packages/tzdata/zoneinfo/Pacific/__pycache__\n",
      "360\t./dvc-venv/lib/python3.11/site-packages/tzdata/zoneinfo/Pacific\n",
      "8\t./dvc-venv/lib/python3.11/site-packages/tzdata/zoneinfo/Arctic/__pycache__\n",
      "16\t./dvc-venv/lib/python3.11/site-packages/tzdata/zoneinfo/Arctic\n",
      "8\t./dvc-venv/lib/python3.11/site-packages/tzdata/zoneinfo/America/Indiana/__pycache__\n",
      "72\t./dvc-venv/lib/python3.11/site-packages/tzdata/zoneinfo/America/Indiana\n",
      "8\t./dvc-venv/lib/python3.11/site-packages/tzdata/zoneinfo/America/Argentina/__pycache__\n",
      "112\t./dvc-venv/lib/python3.11/site-packages/tzdata/zoneinfo/America/Argentina\n",
      "8\t./dvc-venv/lib/python3.11/site-packages/tzdata/zoneinfo/America/__pycache__\n",
      "8\t./dvc-venv/lib/python3.11/site-packages/tzdata/zoneinfo/America/Kentucky/__pycache__\n",
      "24\t./dvc-venv/lib/python3.11/site-packages/tzdata/zoneinfo/America/Kentucky\n",
      "8\t./dvc-venv/lib/python3.11/site-packages/tzdata/zoneinfo/America/North_Dakota/__pycache__\n",
      "32\t./dvc-venv/lib/python3.11/site-packages/tzdata/zoneinfo/America/North_Dakota\n",
      "1384\t./dvc-venv/lib/python3.11/site-packages/tzdata/zoneinfo/America\n",
      "8\t./dvc-venv/lib/python3.11/site-packages/tzdata/zoneinfo/Australia/__pycache__\n",
      "192\t./dvc-venv/lib/python3.11/site-packages/tzdata/zoneinfo/Australia\n",
      "8\t./dvc-venv/lib/python3.11/site-packages/tzdata/zoneinfo/Etc/__pycache__\n",
      "288\t./dvc-venv/lib/python3.11/site-packages/tzdata/zoneinfo/Etc\n",
      "8\t./dvc-venv/lib/python3.11/site-packages/tzdata/zoneinfo/Asia/__pycache__\n",
      "800\t./dvc-venv/lib/python3.11/site-packages/tzdata/zoneinfo/Asia\n",
      "8\t./dvc-venv/lib/python3.11/site-packages/tzdata/zoneinfo/Antarctica/__pycache__\n",
      "104\t./dvc-venv/lib/python3.11/site-packages/tzdata/zoneinfo/Antarctica\n",
      "8\t./dvc-venv/lib/python3.11/site-packages/tzdata/zoneinfo/__pycache__\n",
      "8\t./dvc-venv/lib/python3.11/site-packages/tzdata/zoneinfo/Europe/__pycache__\n",
      "520\t./dvc-venv/lib/python3.11/site-packages/tzdata/zoneinfo/Europe\n",
      "8\t./dvc-venv/lib/python3.11/site-packages/tzdata/zoneinfo/Mexico/__pycache__\n",
      "32\t./dvc-venv/lib/python3.11/site-packages/tzdata/zoneinfo/Mexico\n",
      "8\t./dvc-venv/lib/python3.11/site-packages/tzdata/zoneinfo/Africa/__pycache__\n",
      "440\t./dvc-venv/lib/python3.11/site-packages/tzdata/zoneinfo/Africa\n",
      "8\t./dvc-venv/lib/python3.11/site-packages/tzdata/zoneinfo/Chile/__pycache__\n",
      "24\t./dvc-venv/lib/python3.11/site-packages/tzdata/zoneinfo/Chile\n",
      "8\t./dvc-venv/lib/python3.11/site-packages/tzdata/zoneinfo/Canada/__pycache__\n",
      "72\t./dvc-venv/lib/python3.11/site-packages/tzdata/zoneinfo/Canada\n",
      "5264\t./dvc-venv/lib/python3.11/site-packages/tzdata/zoneinfo\n",
      "8\t./dvc-venv/lib/python3.11/site-packages/tzdata/__pycache__\n",
      "5304\t./dvc-venv/lib/python3.11/site-packages/tzdata\n",
      "208\t./dvc-venv/lib/python3.11/site-packages/executing/__pycache__\n",
      "376\t./dvc-venv/lib/python3.11/site-packages/executing\n",
      "72\t./dvc-venv/lib/python3.11/site-packages/overrides-7.4.0.dist-info\n",
      "32\t./dvc-venv/lib/python3.11/site-packages/pathspec/patterns/__pycache__\n",
      "72\t./dvc-venv/lib/python3.11/site-packages/pathspec/patterns\n",
      "152\t./dvc-venv/lib/python3.11/site-packages/pathspec/__pycache__\n",
      "360\t./dvc-venv/lib/python3.11/site-packages/pathspec\n",
      "8\t./dvc-venv/lib/python3.11/site-packages/annotated_types-0.6.0.dist-info/licenses\n",
      "64\t./dvc-venv/lib/python3.11/site-packages/annotated_types-0.6.0.dist-info\n",
      "8\t./dvc-venv/lib/python3.11/site-packages/nbclient-0.9.0.dist-info/licenses\n"
     ]
    },
    {
     "name": "stdout",
     "output_type": "stream",
     "text": [
      "56\t./dvc-venv/lib/python3.11/site-packages/nbclient-0.9.0.dist-info\n",
      "168\t./dvc-venv/lib/python3.11/site-packages/markdown_it/rules_block/__pycache__\n",
      "336\t./dvc-venv/lib/python3.11/site-packages/markdown_it/rules_block\n",
      "96\t./dvc-venv/lib/python3.11/site-packages/markdown_it/rules_core/__pycache__\n",
      "184\t./dvc-venv/lib/python3.11/site-packages/markdown_it/rules_core\n",
      "248\t./dvc-venv/lib/python3.11/site-packages/markdown_it/__pycache__\n",
      "24\t./dvc-venv/lib/python3.11/site-packages/markdown_it/cli/__pycache__\n",
      "32\t./dvc-venv/lib/python3.11/site-packages/markdown_it/cli\n",
      "64\t./dvc-venv/lib/python3.11/site-packages/markdown_it/common/__pycache__\n",
      "120\t./dvc-venv/lib/python3.11/site-packages/markdown_it/common\n",
      "152\t./dvc-venv/lib/python3.11/site-packages/markdown_it/rules_inline/__pycache__\n",
      "312\t./dvc-venv/lib/python3.11/site-packages/markdown_it/rules_inline\n",
      "32\t./dvc-venv/lib/python3.11/site-packages/markdown_it/presets/__pycache__\n",
      "64\t./dvc-venv/lib/python3.11/site-packages/markdown_it/presets\n",
      "32\t./dvc-venv/lib/python3.11/site-packages/markdown_it/helpers/__pycache__\n",
      "64\t./dvc-venv/lib/python3.11/site-packages/markdown_it/helpers\n",
      "1568\t./dvc-venv/lib/python3.11/site-packages/markdown_it\n",
      "56\t./dvc-venv/lib/python3.11/site-packages/matplotlib_inline/__pycache__\n",
      "96\t./dvc-venv/lib/python3.11/site-packages/matplotlib_inline\n",
      "48\t./dvc-venv/lib/python3.11/site-packages/webcolors-1.13.dist-info\n",
      "8\t./dvc-venv/lib/python3.11/site-packages/atpublic-4.0.dist-info/licenses\n",
      "40\t./dvc-venv/lib/python3.11/site-packages/atpublic-4.0.dist-info\n",
      "16\t./dvc-venv/lib/python3.11/site-packages/jupyterlab_server/test_data/workspaces\n",
      "8\t./dvc-venv/lib/python3.11/site-packages/jupyterlab_server/test_data/schemas/@jupyterlab/codemirror-extension\n",
      "8\t./dvc-venv/lib/python3.11/site-packages/jupyterlab_server/test_data/schemas/@jupyterlab/apputils-extension\n",
      "8\t./dvc-venv/lib/python3.11/site-packages/jupyterlab_server/test_data/schemas/@jupyterlab/translation-extension\n",
      "8\t./dvc-venv/lib/python3.11/site-packages/jupyterlab_server/test_data/schemas/@jupyterlab/unicode-extension\n",
      "48\t./dvc-venv/lib/python3.11/site-packages/jupyterlab_server/test_data/schemas/@jupyterlab/shortcuts-extension\n",
      "80\t./dvc-venv/lib/python3.11/site-packages/jupyterlab_server/test_data/schemas/@jupyterlab\n",
      "80\t./dvc-venv/lib/python3.11/site-packages/jupyterlab_server/test_data/schemas\n",
      "8\t./dvc-venv/lib/python3.11/site-packages/jupyterlab_server/test_data/app-settings\n",
      "104\t./dvc-venv/lib/python3.11/site-packages/jupyterlab_server/test_data\n",
      "464\t./dvc-venv/lib/python3.11/site-packages/jupyterlab_server/__pycache__\n",
      "24\t./dvc-venv/lib/python3.11/site-packages/jupyterlab_server/templates\n",
      "984\t./dvc-venv/lib/python3.11/site-packages/jupyterlab_server\n",
      "200\t./dvc-venv/lib/python3.11/site-packages/jedi/plugins/__pycache__\n",
      "336\t./dvc-venv/lib/python3.11/site-packages/jedi/plugins\n",
      "136\t./dvc-venv/lib/python3.11/site-packages/jedi/__pycache__\n",
      "24\t./dvc-venv/lib/python3.11/site-packages/jedi/third_party/typeshed/third_party/2and3/boto/kms\n",
      "176\t./dvc-venv/lib/python3.11/site-packages/jedi/third_party/typeshed/third_party/2and3/boto/s3\n",
      "8\t./dvc-venv/lib/python3.11/site-packages/jedi/third_party/typeshed/third_party/2and3/boto/elb\n",
      "8\t./dvc-venv/lib/python3.11/site-packages/jedi/third_party/typeshed/third_party/2and3/boto/ec2\n",
      "328\t./dvc-venv/lib/python3.11/site-packages/jedi/third_party/typeshed/third_party/2and3/boto\n",
      "368\t./dvc-venv/lib/python3.11/site-packages/jedi/third_party/typeshed/third_party/2and3/paramiko\n",
      "8\t./dvc-venv/lib/python3.11/site-packages/jedi/third_party/typeshed/third_party/2and3/datetimerange\n",
      "16\t./dvc-venv/lib/python3.11/site-packages/jedi/third_party/typeshed/third_party/2and3/flask/json\n",
      "160\t./dvc-venv/lib/python3.11/site-packages/jedi/third_party/typeshed/third_party/2and3/flask\n",
      "64\t./dvc-venv/lib/python3.11/site-packages/jedi/third_party/typeshed/third_party/2and3/pymysql/constants\n",
      "136\t./dvc-venv/lib/python3.11/site-packages/jedi/third_party/typeshed/third_party/2and3/pymysql\n",
      "40\t./dvc-venv/lib/python3.11/site-packages/jedi/third_party/typeshed/third_party/2and3/markupsafe\n",
      "88\t./dvc-venv/lib/python3.11/site-packages/jedi/third_party/typeshed/third_party/2and3/chardet\n",
      "8\t./dvc-venv/lib/python3.11/site-packages/jedi/third_party/typeshed/third_party/2and3/characteristic\n",
      "40\t./dvc-venv/lib/python3.11/site-packages/jedi/third_party/typeshed/third_party/2and3/bleach\n",
      "16\t./dvc-venv/lib/python3.11/site-packages/jedi/third_party/typeshed/third_party/2and3/retry\n",
      "96\t./dvc-venv/lib/python3.11/site-packages/jedi/third_party/typeshed/third_party/2and3/redis\n",
      "216\t./dvc-venv/lib/python3.11/site-packages/jedi/third_party/typeshed/third_party/2and3/jinja2\n",
      "32\t./dvc-venv/lib/python3.11/site-packages/jedi/third_party/typeshed/third_party/2and3/cryptography/hazmat/backends\n",
      "56\t./dvc-venv/lib/python3.11/site-packages/jedi/third_party/typeshed/third_party/2and3/cryptography/hazmat/primitives/kdf\n",
      "24\t./dvc-venv/lib/python3.11/site-packages/jedi/third_party/typeshed/third_party/2and3/cryptography/hazmat/primitives/twofactor\n",
      "16\t./dvc-venv/lib/python3.11/site-packages/jedi/third_party/typeshed/third_party/2and3/cryptography/hazmat/primitives/serialization\n",
      "32\t./dvc-venv/lib/python3.11/site-packages/jedi/third_party/typeshed/third_party/2and3/cryptography/hazmat/primitives/ciphers\n",
      "96\t./dvc-venv/lib/python3.11/site-packages/jedi/third_party/typeshed/third_party/2and3/cryptography/hazmat/primitives/asymmetric\n",
      "288\t./dvc-venv/lib/python3.11/site-packages/jedi/third_party/typeshed/third_party/2and3/cryptography/hazmat/primitives\n",
      "8\t./dvc-venv/lib/python3.11/site-packages/jedi/third_party/typeshed/third_party/2and3/cryptography/hazmat/bindings/openssl\n",
      "8\t./dvc-venv/lib/python3.11/site-packages/jedi/third_party/typeshed/third_party/2and3/cryptography/hazmat/bindings\n",
      "336\t./dvc-venv/lib/python3.11/site-packages/jedi/third_party/typeshed/third_party/2and3/cryptography/hazmat\n",
      "64\t./dvc-venv/lib/python3.11/site-packages/jedi/third_party/typeshed/third_party/2and3/cryptography/x509\n",
      "416\t./dvc-venv/lib/python3.11/site-packages/jedi/third_party/typeshed/third_party/2and3/cryptography\n",
      "152\t./dvc-venv/lib/python3.11/site-packages/jedi/third_party/typeshed/third_party/2and3/markdown/extensions\n",
      "248\t./dvc-venv/lib/python3.11/site-packages/jedi/third_party/typeshed/third_party/2and3/markdown\n",
      "0\t./dvc-venv/lib/python3.11/site-packages/jedi/third_party/typeshed/third_party/2and3/google/protobuf/util\n",
      "72\t./dvc-venv/lib/python3.11/site-packages/jedi/third_party/typeshed/third_party/2and3/google/protobuf/internal\n",
      "16\t./dvc-venv/lib/python3.11/site-packages/jedi/third_party/typeshed/third_party/2and3/google/protobuf/compiler\n",
      "376\t./dvc-venv/lib/python3.11/site-packages/jedi/third_party/typeshed/third_party/2and3/google/protobuf\n",
      "376\t./dvc-venv/lib/python3.11/site-packages/jedi/third_party/typeshed/third_party/2and3/google\n",
      "32\t./dvc-venv/lib/python3.11/site-packages/jedi/third_party/typeshed/third_party/2and3/simplejson\n",
      "8\t./dvc-venv/lib/python3.11/site-packages/jedi/third_party/typeshed/third_party/2and3/atomicwrites\n",
      "40\t./dvc-venv/lib/python3.11/site-packages/jedi/third_party/typeshed/third_party/2and3/pynamodb/connection\n",
      "128\t./dvc-venv/lib/python3.11/site-packages/jedi/third_party/typeshed/third_party/2and3/pynamodb\n",
      "24\t./dvc-venv/lib/python3.11/site-packages/jedi/third_party/typeshed/third_party/2and3/emoji\n",
      "48\t./dvc-venv/lib/python3.11/site-packages/jedi/third_party/typeshed/third_party/2and3/werkzeug/middleware\n",
      "96\t./dvc-venv/lib/python3.11/site-packages/jedi/third_party/typeshed/third_party/2and3/werkzeug/contrib\n",
      "32\t./dvc-venv/lib/python3.11/site-packages/jedi/third_party/typeshed/third_party/2and3/werkzeug/debug\n",
      "432\t./dvc-venv/lib/python3.11/site-packages/jedi/third_party/typeshed/third_party/2and3/werkzeug\n",
      "136\t./dvc-venv/lib/python3.11/site-packages/jedi/third_party/typeshed/third_party/2and3/click\n",
      "24\t./dvc-venv/lib/python3.11/site-packages/jedi/third_party/typeshed/third_party/2and3/slugify\n",
      "8\t./dvc-venv/lib/python3.11/site-packages/jedi/third_party/typeshed/third_party/2and3/pytz\n",
      "72\t./dvc-venv/lib/python3.11/site-packages/jedi/third_party/typeshed/third_party/2and3/cachetools\n",
      "16\t./dvc-venv/lib/python3.11/site-packages/jedi/third_party/typeshed/third_party/2and3/backports\n",
      "64\t./dvc-venv/lib/python3.11/site-packages/jedi/third_party/typeshed/third_party/2and3/requests/packages/urllib3/util\n"
     ]
    },
    {
     "name": "stdout",
     "output_type": "stream",
     "text": [
      "0\t./dvc-venv/lib/python3.11/site-packages/jedi/third_party/typeshed/third_party/2and3/requests/packages/urllib3/contrib\n",
      "16\t./dvc-venv/lib/python3.11/site-packages/jedi/third_party/typeshed/third_party/2and3/requests/packages/urllib3/packages/ssl_match_hostname\n",
      "16\t./dvc-venv/lib/python3.11/site-packages/jedi/third_party/typeshed/third_party/2and3/requests/packages/urllib3/packages\n",
      "160\t./dvc-venv/lib/python3.11/site-packages/jedi/third_party/typeshed/third_party/2and3/requests/packages/urllib3\n",
      "168\t./dvc-venv/lib/python3.11/site-packages/jedi/third_party/typeshed/third_party/2and3/requests/packages\n",
      "288\t./dvc-venv/lib/python3.11/site-packages/jedi/third_party/typeshed/third_party/2and3/requests\n",
      "40\t./dvc-venv/lib/python3.11/site-packages/jedi/third_party/typeshed/third_party/2and3/pyVmomi/vim\n",
      "24\t./dvc-venv/lib/python3.11/site-packages/jedi/third_party/typeshed/third_party/2and3/pyVmomi/vmodl\n",
      "64\t./dvc-venv/lib/python3.11/site-packages/jedi/third_party/typeshed/third_party/2and3/pyVmomi\n",
      "56\t./dvc-venv/lib/python3.11/site-packages/jedi/third_party/typeshed/third_party/2and3/attr\n",
      "144\t./dvc-venv/lib/python3.11/site-packages/jedi/third_party/typeshed/third_party/2and3/yaml\n",
      "40\t./dvc-venv/lib/python3.11/site-packages/jedi/third_party/typeshed/third_party/2and3/geoip2\n",
      "16\t./dvc-venv/lib/python3.11/site-packages/jedi/third_party/typeshed/third_party/2and3/nmap\n",
      "56\t./dvc-venv/lib/python3.11/site-packages/jedi/third_party/typeshed/third_party/2and3/maxminddb\n",
      "8\t./dvc-venv/lib/python3.11/site-packages/jedi/third_party/typeshed/third_party/2and3/tzlocal\n",
      "24\t./dvc-venv/lib/python3.11/site-packages/jedi/third_party/typeshed/third_party/2and3/dateutil/tz\n",
      "72\t./dvc-venv/lib/python3.11/site-packages/jedi/third_party/typeshed/third_party/2and3/dateutil\n",
      "24\t./dvc-venv/lib/python3.11/site-packages/jedi/third_party/typeshed/third_party/2and3/deprecated\n",
      "4432\t./dvc-venv/lib/python3.11/site-packages/jedi/third_party/typeshed/third_party/2and3\n",
      "16\t./dvc-venv/lib/python3.11/site-packages/jedi/third_party/typeshed/third_party/3/jwt/contrib/algorithms\n",
      "16\t./dvc-venv/lib/python3.11/site-packages/jedi/third_party/typeshed/third_party/3/jwt/contrib\n",
      "40\t./dvc-venv/lib/python3.11/site-packages/jedi/third_party/typeshed/third_party/3/jwt\n",
      "24\t./dvc-venv/lib/python3.11/site-packages/jedi/third_party/typeshed/third_party/3/aiofiles/threadpool\n",
      "48\t./dvc-venv/lib/python3.11/site-packages/jedi/third_party/typeshed/third_party/3/aiofiles\n",
      "32\t./dvc-venv/lib/python3.11/site-packages/jedi/third_party/typeshed/third_party/3/docutils/parsers/rst\n",
      "40\t./dvc-venv/lib/python3.11/site-packages/jedi/third_party/typeshed/third_party/3/docutils/parsers\n",
      "64\t./dvc-venv/lib/python3.11/site-packages/jedi/third_party/typeshed/third_party/3/docutils\n",
      "120\t./dvc-venv/lib/python3.11/site-packages/jedi/third_party/typeshed/third_party/3/waitress\n",
      "8\t./dvc-venv/lib/python3.11/site-packages/jedi/third_party/typeshed/third_party/3/filelock\n",
      "16\t./dvc-venv/lib/python3.11/site-packages/jedi/third_party/typeshed/third_party/3/freezegun\n",
      "32\t./dvc-venv/lib/python3.11/site-packages/jedi/third_party/typeshed/third_party/3/pyrfc3339\n",
      "32\t./dvc-venv/lib/python3.11/site-packages/jedi/third_party/typeshed/third_party/3/pkg_resources\n",
      "48\t./dvc-venv/lib/python3.11/site-packages/jedi/third_party/typeshed/third_party/3/six/moves/urllib\n",
      "320\t./dvc-venv/lib/python3.11/site-packages/jedi/third_party/typeshed/third_party/3/six/moves\n",
      "336\t./dvc-venv/lib/python3.11/site-packages/jedi/third_party/typeshed/third_party/3/six\n",
      "40\t./dvc-venv/lib/python3.11/site-packages/jedi/third_party/typeshed/third_party/3/typed_ast\n",
      "768\t./dvc-venv/lib/python3.11/site-packages/jedi/third_party/typeshed/third_party/3\n",
      "120\t./dvc-venv/lib/python3.11/site-packages/jedi/third_party/typeshed/third_party/2/tornado\n",
      "32\t./dvc-venv/lib/python3.11/site-packages/jedi/third_party/typeshed/third_party/2/concurrent/futures\n",
      "32\t./dvc-venv/lib/python3.11/site-packages/jedi/third_party/typeshed/third_party/2/concurrent\n",
      "16\t./dvc-venv/lib/python3.11/site-packages/jedi/third_party/typeshed/third_party/2/scribe\n",
      "48\t./dvc-venv/lib/python3.11/site-packages/jedi/third_party/typeshed/third_party/2/six/moves/urllib\n",
      "264\t./dvc-venv/lib/python3.11/site-packages/jedi/third_party/typeshed/third_party/2/six/moves\n",
      "280\t./dvc-venv/lib/python3.11/site-packages/jedi/third_party/typeshed/third_party/2/six\n",
      "16\t./dvc-venv/lib/python3.11/site-packages/jedi/third_party/typeshed/third_party/2/OpenSSL\n",
      "8\t./dvc-venv/lib/python3.11/site-packages/jedi/third_party/typeshed/third_party/2/kazoo/recipe\n",
      "24\t./dvc-venv/lib/python3.11/site-packages/jedi/third_party/typeshed/third_party/2/kazoo\n",
      "24\t./dvc-venv/lib/python3.11/site-packages/jedi/third_party/typeshed/third_party/2/routes\n",
      "24\t./dvc-venv/lib/python3.11/site-packages/jedi/third_party/typeshed/third_party/2/fb303\n",
      "584\t./dvc-venv/lib/python3.11/site-packages/jedi/third_party/typeshed/third_party/2\n",
      "5784\t./dvc-venv/lib/python3.11/site-packages/jedi/third_party/typeshed/third_party\n",
      "24\t./dvc-venv/lib/python3.11/site-packages/jedi/third_party/typeshed/stdlib/3.7\n",
      "8\t./dvc-venv/lib/python3.11/site-packages/jedi/third_party/typeshed/stdlib/3.9/zoneinfo\n",
      "16\t./dvc-venv/lib/python3.11/site-packages/jedi/third_party/typeshed/stdlib/3.9\n",
      "48\t./dvc-venv/lib/python3.11/site-packages/jedi/third_party/typeshed/stdlib/2and3/ctypes\n",
      "32\t./dvc-venv/lib/python3.11/site-packages/jedi/third_party/typeshed/stdlib/2and3/curses\n",
      "32\t./dvc-venv/lib/python3.11/site-packages/jedi/third_party/typeshed/stdlib/2and3/_typeshed\n",
      "40\t./dvc-venv/lib/python3.11/site-packages/jedi/third_party/typeshed/stdlib/2and3/msilib\n",
      "24\t./dvc-venv/lib/python3.11/site-packages/jedi/third_party/typeshed/stdlib/2and3/xml/parsers/expat\n",
      "32\t./dvc-venv/lib/python3.11/site-packages/jedi/third_party/typeshed/stdlib/2and3/xml/parsers\n",
      "32\t./dvc-venv/lib/python3.11/site-packages/jedi/third_party/typeshed/stdlib/2and3/xml/sax\n",
      "64\t./dvc-venv/lib/python3.11/site-packages/jedi/third_party/typeshed/stdlib/2and3/xml/dom\n",
      "56\t./dvc-venv/lib/python3.11/site-packages/jedi/third_party/typeshed/stdlib/2and3/xml/etree\n",
      "192\t./dvc-venv/lib/python3.11/site-packages/jedi/third_party/typeshed/stdlib/2and3/xml\n",
      "48\t./dvc-venv/lib/python3.11/site-packages/jedi/third_party/typeshed/stdlib/2and3/wsgiref\n",
      "32\t./dvc-venv/lib/python3.11/site-packages/jedi/third_party/typeshed/stdlib/2and3/sqlite3\n",
      "8\t./dvc-venv/lib/python3.11/site-packages/jedi/third_party/typeshed/stdlib/2and3/ensurepip\n",
      "56\t./dvc-venv/lib/python3.11/site-packages/jedi/third_party/typeshed/stdlib/2and3/lib2to3/pgen2\n",
      "72\t./dvc-venv/lib/python3.11/site-packages/jedi/third_party/typeshed/stdlib/2and3/lib2to3\n",
      "8\t./dvc-venv/lib/python3.11/site-packages/jedi/third_party/typeshed/stdlib/2and3/pydoc_data\n",
      "88\t./dvc-venv/lib/python3.11/site-packages/jedi/third_party/typeshed/stdlib/2and3/logging\n",
      "24\t./dvc-venv/lib/python3.11/site-packages/jedi/third_party/typeshed/stdlib/2and3/pyexpat\n",
      "2176\t./dvc-venv/lib/python3.11/site-packages/jedi/third_party/typeshed/stdlib/2and3\n",
      "16\t./dvc-venv/lib/python3.11/site-packages/jedi/third_party/typeshed/stdlib/3/encodings\n",
      "48\t./dvc-venv/lib/python3.11/site-packages/jedi/third_party/typeshed/stdlib/3/distutils/command\n",
      "248\t./dvc-venv/lib/python3.11/site-packages/jedi/third_party/typeshed/stdlib/3/distutils\n",
      "136\t./dvc-venv/lib/python3.11/site-packages/jedi/third_party/typeshed/stdlib/3/unittest\n",
      "16\t./dvc-venv/lib/python3.11/site-packages/jedi/third_party/typeshed/stdlib/3/multiprocessing/dummy\n",
      "120\t./dvc-venv/lib/python3.11/site-packages/jedi/third_party/typeshed/stdlib/3/multiprocessing\n",
      "72\t./dvc-venv/lib/python3.11/site-packages/jedi/third_party/typeshed/stdlib/3/urllib\n",
      "24\t./dvc-venv/lib/python3.11/site-packages/jedi/third_party/typeshed/stdlib/3/html\n",
      "360\t./dvc-venv/lib/python3.11/site-packages/jedi/third_party/typeshed/stdlib/3/tkinter\n",
      "32\t./dvc-venv/lib/python3.11/site-packages/jedi/third_party/typeshed/stdlib/3/json\n",
      "56\t./dvc-venv/lib/python3.11/site-packages/jedi/third_party/typeshed/stdlib/3/http\n",
      "40\t./dvc-venv/lib/python3.11/site-packages/jedi/third_party/typeshed/stdlib/3/concurrent/futures\n",
      "40\t./dvc-venv/lib/python3.11/site-packages/jedi/third_party/typeshed/stdlib/3/concurrent\n",
      "80\t./dvc-venv/lib/python3.11/site-packages/jedi/third_party/typeshed/stdlib/3/os\n",
      "8\t./dvc-venv/lib/python3.11/site-packages/jedi/third_party/typeshed/stdlib/3/venv\n"
     ]
    },
    {
     "name": "stdout",
     "output_type": "stream",
     "text": [
      "32\t./dvc-venv/lib/python3.11/site-packages/jedi/third_party/typeshed/stdlib/3/dbm\n",
      "48\t./dvc-venv/lib/python3.11/site-packages/jedi/third_party/typeshed/stdlib/3/importlib\n",
      "40\t./dvc-venv/lib/python3.11/site-packages/jedi/third_party/typeshed/stdlib/3/xmlrpc\n",
      "40\t./dvc-venv/lib/python3.11/site-packages/jedi/third_party/typeshed/stdlib/3/collections\n",
      "328\t./dvc-venv/lib/python3.11/site-packages/jedi/third_party/typeshed/stdlib/3/asyncio\n",
      "64\t./dvc-venv/lib/python3.11/site-packages/jedi/third_party/typeshed/stdlib/3/email/mime\n",
      "184\t./dvc-venv/lib/python3.11/site-packages/jedi/third_party/typeshed/stdlib/3/email\n",
      "2992\t./dvc-venv/lib/python3.11/site-packages/jedi/third_party/typeshed/stdlib/3\n",
      "16\t./dvc-venv/lib/python3.11/site-packages/jedi/third_party/typeshed/stdlib/2/encodings\n",
      "48\t./dvc-venv/lib/python3.11/site-packages/jedi/third_party/typeshed/stdlib/2/distutils/command\n",
      "256\t./dvc-venv/lib/python3.11/site-packages/jedi/third_party/typeshed/stdlib/2/distutils\n",
      "16\t./dvc-venv/lib/python3.11/site-packages/jedi/third_party/typeshed/stdlib/2/multiprocessing/dummy\n",
      "48\t./dvc-venv/lib/python3.11/site-packages/jedi/third_party/typeshed/stdlib/2/multiprocessing\n",
      "40\t./dvc-venv/lib/python3.11/site-packages/jedi/third_party/typeshed/stdlib/2/os\n",
      "64\t./dvc-venv/lib/python3.11/site-packages/jedi/third_party/typeshed/stdlib/2/email/mime\n",
      "176\t./dvc-venv/lib/python3.11/site-packages/jedi/third_party/typeshed/stdlib/2/email\n",
      "1792\t./dvc-venv/lib/python3.11/site-packages/jedi/third_party/typeshed/stdlib/2\n",
      "7000\t./dvc-venv/lib/python3.11/site-packages/jedi/third_party/typeshed/stdlib\n",
      "12816\t./dvc-venv/lib/python3.11/site-packages/jedi/third_party/typeshed\n",
      "40\t./dvc-venv/lib/python3.11/site-packages/jedi/third_party/django-stubs/django-stubs/templatetags\n",
      "64\t./dvc-venv/lib/python3.11/site-packages/jedi/third_party/django-stubs/django-stubs/middleware\n",
      "120\t./dvc-venv/lib/python3.11/site-packages/jedi/third_party/django-stubs/django-stubs/forms\n",
      "48\t./dvc-venv/lib/python3.11/site-packages/jedi/third_party/django-stubs/django-stubs/core/cache/backends\n",
      "64\t./dvc-venv/lib/python3.11/site-packages/jedi/third_party/django-stubs/django-stubs/core/cache\n",
      "48\t./dvc-venv/lib/python3.11/site-packages/jedi/third_party/django-stubs/django-stubs/core/mail/backends\n",
      "72\t./dvc-venv/lib/python3.11/site-packages/jedi/third_party/django-stubs/django-stubs/core/mail\n",
      "24\t./dvc-venv/lib/python3.11/site-packages/jedi/third_party/django-stubs/django-stubs/core/checks/security\n",
      "96\t./dvc-venv/lib/python3.11/site-packages/jedi/third_party/django-stubs/django-stubs/core/checks\n",
      "40\t./dvc-venv/lib/python3.11/site-packages/jedi/third_party/django-stubs/django-stubs/core/management/commands\n",
      "88\t./dvc-venv/lib/python3.11/site-packages/jedi/third_party/django-stubs/django-stubs/core/management\n",
      "32\t./dvc-venv/lib/python3.11/site-packages/jedi/third_party/django-stubs/django-stubs/core/serializers\n",
      "80\t./dvc-venv/lib/python3.11/site-packages/jedi/third_party/django-stubs/django-stubs/core/files\n",
      "24\t./dvc-venv/lib/python3.11/site-packages/jedi/third_party/django-stubs/django-stubs/core/handlers\n",
      "8\t./dvc-venv/lib/python3.11/site-packages/jedi/third_party/django-stubs/django-stubs/core/servers\n",
      "512\t./dvc-venv/lib/python3.11/site-packages/jedi/third_party/django-stubs/django-stubs/core\n",
      "104\t./dvc-venv/lib/python3.11/site-packages/jedi/third_party/django-stubs/django-stubs/test\n",
      "16\t./dvc-venv/lib/python3.11/site-packages/jedi/third_party/django-stubs/django-stubs/dispatch\n",
      "40\t./dvc-venv/lib/python3.11/site-packages/jedi/third_party/django-stubs/django-stubs/template/backends\n",
      "40\t./dvc-venv/lib/python3.11/site-packages/jedi/third_party/django-stubs/django-stubs/template/loaders\n",
      "208\t./dvc-venv/lib/python3.11/site-packages/jedi/third_party/django-stubs/django-stubs/template\n",
      "40\t./dvc-venv/lib/python3.11/site-packages/jedi/third_party/django-stubs/django-stubs/utils/translation\n",
      "368\t./dvc-venv/lib/python3.11/site-packages/jedi/third_party/django-stubs/django-stubs/utils\n",
      "8\t./dvc-venv/lib/python3.11/site-packages/jedi/third_party/django-stubs/django-stubs/contrib/syndication\n",
      "40\t./dvc-venv/lib/python3.11/site-packages/jedi/third_party/django-stubs/django-stubs/contrib/messages/storage\n",
      "96\t./dvc-venv/lib/python3.11/site-packages/jedi/third_party/django-stubs/django-stubs/contrib/messages\n",
      "16\t./dvc-venv/lib/python3.11/site-packages/jedi/third_party/django-stubs/django-stubs/contrib/auth/management/commands\n",
      "24\t./dvc-venv/lib/python3.11/site-packages/jedi/third_party/django-stubs/django-stubs/contrib/auth/management\n",
      "8\t./dvc-venv/lib/python3.11/site-packages/jedi/third_party/django-stubs/django-stubs/contrib/auth/handlers\n",
      "192\t./dvc-venv/lib/python3.11/site-packages/jedi/third_party/django-stubs/django-stubs/contrib/auth\n",
      "48\t./dvc-venv/lib/python3.11/site-packages/jedi/third_party/django-stubs/django-stubs/contrib/admin/templatetags\n",
      "24\t./dvc-venv/lib/python3.11/site-packages/jedi/third_party/django-stubs/django-stubs/contrib/admin/views\n",
      "216\t./dvc-venv/lib/python3.11/site-packages/jedi/third_party/django-stubs/django-stubs/contrib/admin\n",
      "8\t./dvc-venv/lib/python3.11/site-packages/jedi/third_party/django-stubs/django-stubs/contrib/staticfiles/templatetags\n",
      "24\t./dvc-venv/lib/python3.11/site-packages/jedi/third_party/django-stubs/django-stubs/contrib/staticfiles/management/commands\n",
      "24\t./dvc-venv/lib/python3.11/site-packages/jedi/third_party/django-stubs/django-stubs/contrib/staticfiles/management\n",
      "104\t./dvc-venv/lib/python3.11/site-packages/jedi/third_party/django-stubs/django-stubs/contrib/staticfiles\n",
      "8\t./dvc-venv/lib/python3.11/site-packages/jedi/third_party/django-stubs/django-stubs/contrib/flatpages/templatetags\n",
      "56\t./dvc-venv/lib/python3.11/site-packages/jedi/third_party/django-stubs/django-stubs/contrib/flatpages\n",
      "56\t./dvc-venv/lib/python3.11/site-packages/jedi/third_party/django-stubs/django-stubs/contrib/sites\n",
      "32\t./dvc-venv/lib/python3.11/site-packages/jedi/third_party/django-stubs/django-stubs/contrib/postgres/aggregates\n",
      "56\t./dvc-venv/lib/python3.11/site-packages/jedi/third_party/django-stubs/django-stubs/contrib/postgres/fields\n",
      "152\t./dvc-venv/lib/python3.11/site-packages/jedi/third_party/django-stubs/django-stubs/contrib/postgres\n",
      "16\t./dvc-venv/lib/python3.11/site-packages/jedi/third_party/django-stubs/django-stubs/contrib/redirects\n",
      "48\t./dvc-venv/lib/python3.11/site-packages/jedi/third_party/django-stubs/django-stubs/contrib/sessions/backends\n",
      "8\t./dvc-venv/lib/python3.11/site-packages/jedi/third_party/django-stubs/django-stubs/contrib/sessions/management/commands\n",
      "8\t./dvc-venv/lib/python3.11/site-packages/jedi/third_party/django-stubs/django-stubs/contrib/sessions/management\n",
      "96\t./dvc-venv/lib/python3.11/site-packages/jedi/third_party/django-stubs/django-stubs/contrib/sessions\n",
      "8\t./dvc-venv/lib/python3.11/site-packages/jedi/third_party/django-stubs/django-stubs/contrib/sitemaps/management/commands\n",
      "8\t./dvc-venv/lib/python3.11/site-packages/jedi/third_party/django-stubs/django-stubs/contrib/sitemaps/management\n",
      "24\t./dvc-venv/lib/python3.11/site-packages/jedi/third_party/django-stubs/django-stubs/contrib/sitemaps\n",
      "8\t./dvc-venv/lib/python3.11/site-packages/jedi/third_party/django-stubs/django-stubs/contrib/humanize/templatetags\n",
      "8\t./dvc-venv/lib/python3.11/site-packages/jedi/third_party/django-stubs/django-stubs/contrib/humanize\n",
      "8\t./dvc-venv/lib/python3.11/site-packages/jedi/third_party/django-stubs/django-stubs/contrib/contenttypes/management/commands\n",
      "16\t./dvc-venv/lib/python3.11/site-packages/jedi/third_party/django-stubs/django-stubs/contrib/contenttypes/management\n",
      "80\t./dvc-venv/lib/python3.11/site-packages/jedi/third_party/django-stubs/django-stubs/contrib/contenttypes\n",
      "16\t./dvc-venv/lib/python3.11/site-packages/jedi/third_party/django-stubs/django-stubs/contrib/gis/db/models\n",
      "16\t./dvc-venv/lib/python3.11/site-packages/jedi/third_party/django-stubs/django-stubs/contrib/gis/db\n",
      "16\t./dvc-venv/lib/python3.11/site-packages/jedi/third_party/django-stubs/django-stubs/contrib/gis\n",
      "32\t./dvc-venv/lib/python3.11/site-packages/jedi/third_party/django-stubs/django-stubs/contrib/admindocs\n",
      "1152\t./dvc-venv/lib/python3.11/site-packages/jedi/third_party/django-stubs/django-stubs/contrib\n",
      "48\t./dvc-venv/lib/python3.11/site-packages/jedi/third_party/django-stubs/django-stubs/http\n",
      "56\t./dvc-venv/lib/python3.11/site-packages/jedi/third_party/django-stubs/django-stubs/urls\n"
     ]
    },
    {
     "name": "stdout",
     "output_type": "stream",
     "text": [
      "48\t./dvc-venv/lib/python3.11/site-packages/jedi/third_party/django-stubs/django-stubs/db/migrations/operations\n",
      "168\t./dvc-venv/lib/python3.11/site-packages/jedi/third_party/django-stubs/django-stubs/db/migrations\n",
      "32\t./dvc-venv/lib/python3.11/site-packages/jedi/third_party/django-stubs/django-stubs/db/backends/postgresql\n",
      "8\t./dvc-venv/lib/python3.11/site-packages/jedi/third_party/django-stubs/django-stubs/db/backends/dummy\n",
      "48\t./dvc-venv/lib/python3.11/site-packages/jedi/third_party/django-stubs/django-stubs/db/backends/sqlite3\n",
      "8\t./dvc-venv/lib/python3.11/site-packages/jedi/third_party/django-stubs/django-stubs/db/backends/mysql\n",
      "88\t./dvc-venv/lib/python3.11/site-packages/jedi/third_party/django-stubs/django-stubs/db/backends/base\n",
      "208\t./dvc-venv/lib/python3.11/site-packages/jedi/third_party/django-stubs/django-stubs/db/backends\n",
      "56\t./dvc-venv/lib/python3.11/site-packages/jedi/third_party/django-stubs/django-stubs/db/models/functions\n",
      "104\t./dvc-venv/lib/python3.11/site-packages/jedi/third_party/django-stubs/django-stubs/db/models/fields\n",
      "80\t./dvc-venv/lib/python3.11/site-packages/jedi/third_party/django-stubs/django-stubs/db/models/sql\n",
      "408\t./dvc-venv/lib/python3.11/site-packages/jedi/third_party/django-stubs/django-stubs/db/models\n",
      "808\t./dvc-venv/lib/python3.11/site-packages/jedi/third_party/django-stubs/django-stubs/db\n",
      "56\t./dvc-venv/lib/python3.11/site-packages/jedi/third_party/django-stubs/django-stubs/views/decorators\n",
      "48\t./dvc-venv/lib/python3.11/site-packages/jedi/third_party/django-stubs/django-stubs/views/generic\n",
      "152\t./dvc-venv/lib/python3.11/site-packages/jedi/third_party/django-stubs/django-stubs/views\n",
      "8\t./dvc-venv/lib/python3.11/site-packages/jedi/third_party/django-stubs/django-stubs/conf/locale\n",
      "24\t./dvc-venv/lib/python3.11/site-packages/jedi/third_party/django-stubs/django-stubs/conf/urls\n",
      "80\t./dvc-venv/lib/python3.11/site-packages/jedi/third_party/django-stubs/django-stubs/conf\n",
      "24\t./dvc-venv/lib/python3.11/site-packages/jedi/third_party/django-stubs/django-stubs/apps\n",
      "3768\t./dvc-venv/lib/python3.11/site-packages/jedi/third_party/django-stubs/django-stubs\n",
      "3776\t./dvc-venv/lib/python3.11/site-packages/jedi/third_party/django-stubs\n",
      "16592\t./dvc-venv/lib/python3.11/site-packages/jedi/third_party\n",
      "464\t./dvc-venv/lib/python3.11/site-packages/jedi/api/__pycache__\n",
      "72\t./dvc-venv/lib/python3.11/site-packages/jedi/api/refactoring/__pycache__\n",
      "128\t./dvc-venv/lib/python3.11/site-packages/jedi/api/refactoring\n",
      "968\t./dvc-venv/lib/python3.11/site-packages/jedi/api\n",
      "280\t./dvc-venv/lib/python3.11/site-packages/jedi/inference/gradual/__pycache__\n",
      "472\t./dvc-venv/lib/python3.11/site-packages/jedi/inference/gradual\n",
      "368\t./dvc-venv/lib/python3.11/site-packages/jedi/inference/value/__pycache__\n",
      "592\t./dvc-venv/lib/python3.11/site-packages/jedi/inference/value\n",
      "200\t./dvc-venv/lib/python3.11/site-packages/jedi/inference/compiled/__pycache__\n",
      "80\t./dvc-venv/lib/python3.11/site-packages/jedi/inference/compiled/subprocess/__pycache__\n",
      "144\t./dvc-venv/lib/python3.11/site-packages/jedi/inference/compiled/subprocess\n",
      "472\t./dvc-venv/lib/python3.11/site-packages/jedi/inference/compiled\n",
      "824\t./dvc-venv/lib/python3.11/site-packages/jedi/inference/__pycache__\n",
      "2960\t./dvc-venv/lib/python3.11/site-packages/jedi/inference\n",
      "21096\t./dvc-venv/lib/python3.11/site-packages/jedi\n",
      "40\t./dvc-venv/lib/python3.11/site-packages/send2trash/win/__pycache__\n",
      "80\t./dvc-venv/lib/python3.11/site-packages/send2trash/win\n",
      "72\t./dvc-venv/lib/python3.11/site-packages/send2trash/__pycache__\n",
      "24\t./dvc-venv/lib/python3.11/site-packages/send2trash/mac/__pycache__\n",
      "48\t./dvc-venv/lib/python3.11/site-packages/send2trash/mac\n",
      "264\t./dvc-venv/lib/python3.11/site-packages/send2trash\n",
      "8\t./dvc-venv/lib/python3.11/site-packages/tests/resources/__pycache__\n",
      "32\t./dvc-venv/lib/python3.11/site-packages/tests/resources\n",
      "32\t./dvc-venv/lib/python3.11/site-packages/tests\n",
      "64\t./dvc-venv/lib/python3.11/site-packages/ipython_genutils/tests/__pycache__\n",
      "96\t./dvc-venv/lib/python3.11/site-packages/ipython_genutils/tests\n",
      "152\t./dvc-venv/lib/python3.11/site-packages/ipython_genutils/__pycache__\n",
      "40\t./dvc-venv/lib/python3.11/site-packages/ipython_genutils/testing/__pycache__\n",
      "64\t./dvc-venv/lib/python3.11/site-packages/ipython_genutils/testing\n",
      "440\t./dvc-venv/lib/python3.11/site-packages/ipython_genutils\n",
      "16\t./dvc-venv/lib/python3.11/site-packages/dateutil-stubs/zoneinfo\n",
      "16\t./dvc-venv/lib/python3.11/site-packages/dateutil-stubs/parser\n",
      "32\t./dvc-venv/lib/python3.11/site-packages/dateutil-stubs/tz\n",
      "112\t./dvc-venv/lib/python3.11/site-packages/dateutil-stubs\n",
      "24\t./dvc-venv/lib/python3.11/site-packages/fqdn/__pycache__\n",
      "48\t./dvc-venv/lib/python3.11/site-packages/fqdn\n",
      "488\t./dvc-venv/lib/python3.11/site-packages/idna/__pycache__\n",
      "1056\t./dvc-venv/lib/python3.11/site-packages/idna\n",
      "24\t./dvc-venv/lib/python3.11/site-packages/_argon2_cffi_bindings/__pycache__\n",
      "448\t./dvc-venv/lib/python3.11/site-packages/_argon2_cffi_bindings\n",
      "752\t./dvc-venv/lib/python3.11/site-packages/bs4/tests/__pycache__\n",
      "232\t./dvc-venv/lib/python3.11/site-packages/bs4/tests/fuzz\n",
      "1480\t./dvc-venv/lib/python3.11/site-packages/bs4/tests\n",
      "424\t./dvc-venv/lib/python3.11/site-packages/bs4/__pycache__\n",
      "176\t./dvc-venv/lib/python3.11/site-packages/bs4/builder/__pycache__\n",
      "328\t./dvc-venv/lib/python3.11/site-packages/bs4/builder\n",
      "2632\t./dvc-venv/lib/python3.11/site-packages/bs4\n",
      "64\t./dvc-venv/lib/python3.11/site-packages/dvc_http-2.32.0.dist-info\n",
      "984\t./dvc-venv/lib/python3.11/site-packages/click/__pycache__\n",
      "1704\t./dvc-venv/lib/python3.11/site-packages/click\n",
      "56\t./dvc-venv/lib/python3.11/site-packages/mistune-3.0.2.dist-info\n",
      "464\t./dvc-venv/lib/python3.11/site-packages/amqp/__pycache__\n",
      "872\t./dvc-venv/lib/python3.11/site-packages/amqp\n",
      "40\t./dvc-venv/lib/python3.11/site-packages/comm/__pycache__\n",
      "72\t./dvc-venv/lib/python3.11/site-packages/comm\n",
      "176\t./dvc-venv/lib/python3.11/site-packages/tzdata-2023.3.dist-info\n",
      "72\t./dvc-venv/lib/python3.11/site-packages/sqltrie-0.10.0.dist-info\n",
      "232\t./dvc-venv/lib/python3.11/site-packages/Babel-2.14.0.dist-info\n",
      "88\t./dvc-venv/lib/python3.11/site-packages/lxml-4.9.3.dist-info\n",
      "72\t./dvc-venv/lib/python3.11/site-packages/packaging-23.2.dist-info\n",
      "64\t./dvc-venv/lib/python3.11/site-packages/appdirs-1.4.4.dist-info\n",
      "8\t./dvc-venv/lib/python3.11/site-packages/pydantic_core-2.14.5.dist-info/license_files\n",
      "48\t./dvc-venv/lib/python3.11/site-packages/pydantic_core-2.14.5.dist-info\n",
      "88\t./dvc-venv/lib/python3.11/site-packages/filelock/__pycache__\n",
      "168\t./dvc-venv/lib/python3.11/site-packages/filelock\n",
      "1016\t./dvc-venv/lib/python3.11/site-packages/__pycache__\n",
      "96\t./dvc-venv/lib/python3.11/site-packages/psutil-5.9.6.dist-info\n",
      "88\t./dvc-venv/lib/python3.11/site-packages/docs/tutorial\n",
      "88\t./dvc-venv/lib/python3.11/site-packages/docs\n",
      "56\t./dvc-venv/lib/python3.11/site-packages/pydot-1.4.2.dist-info\n",
      "56\t./dvc-venv/lib/python3.11/site-packages/jupyter_highlight_selected_word-0.2.0.dist-info\n",
      "104\t./dvc-venv/lib/python3.11/site-packages/grandalf-0.8.dist-info\n",
      "80\t./dvc-venv/lib/python3.11/site-packages/stack_data-0.6.3.dist-info\n",
      "8\t./dvc-venv/lib/python3.11/site-packages/argon2_cffi-23.1.0.dist-info/licenses\n",
      "48\t./dvc-venv/lib/python3.11/site-packages/argon2_cffi-23.1.0.dist-info\n",
      "136\t./dvc-venv/lib/python3.11/site-packages/jupyter_events/__pycache__\n",
      "24\t./dvc-venv/lib/python3.11/site-packages/jupyter_events/schemas\n",
      "272\t./dvc-venv/lib/python3.11/site-packages/jupyter_events\n",
      "208\t./dvc-venv/lib/python3.11/site-packages/nbclient/__pycache__\n",
      "392\t./dvc-venv/lib/python3.11/site-packages/nbclient\n",
      "80\t./dvc-venv/lib/python3.11/site-packages/distro-1.8.0.dist-info\n",
      "72\t./dvc-venv/lib/python3.11/site-packages/asttokens-2.4.1.dist-info\n",
      "88\t./dvc-venv/lib/python3.11/site-packages/dvc/ui/__pycache__\n",
      "136\t./dvc-venv/lib/python3.11/site-packages/dvc/ui\n",
      "80\t./dvc-venv/lib/python3.11/site-packages/dvc/database/__pycache__\n",
      "136\t./dvc-venv/lib/python3.11/site-packages/dvc/database\n",
      "64\t./dvc-venv/lib/python3.11/site-packages/dvc/__pyinstaller/__pycache__\n",
      "128\t./dvc-venv/lib/python3.11/site-packages/dvc/__pyinstaller\n",
      "56\t./dvc-venv/lib/python3.11/site-packages/dvc/render/converter/__pycache__\n",
      "96\t./dvc-venv/lib/python3.11/site-packages/dvc/render/converter\n",
      "32\t./dvc-venv/lib/python3.11/site-packages/dvc/render/__pycache__\n",
      "160\t./dvc-venv/lib/python3.11/site-packages/dvc/render\n",
      "120\t./dvc-venv/lib/python3.11/site-packages/dvc/dependency/__pycache__\n"
     ]
    },
    {
     "name": "stdout",
     "output_type": "stream",
     "text": [
      "192\t./dvc-venv/lib/python3.11/site-packages/dvc/dependency\n",
      "80\t./dvc-venv/lib/python3.11/site-packages/dvc/utils/serialize/__pycache__\n",
      "136\t./dvc-venv/lib/python3.11/site-packages/dvc/utils/serialize\n",
      "224\t./dvc-venv/lib/python3.11/site-packages/dvc/utils/__pycache__\n",
      "528\t./dvc-venv/lib/python3.11/site-packages/dvc/utils\n",
      "896\t./dvc-venv/lib/python3.11/site-packages/dvc/__pycache__\n",
      "64\t./dvc-venv/lib/python3.11/site-packages/dvc/cli/__pycache__\n",
      "120\t./dvc-venv/lib/python3.11/site-packages/dvc/cli\n",
      "272\t./dvc-venv/lib/python3.11/site-packages/dvc/testing/__pycache__\n",
      "64\t./dvc-venv/lib/python3.11/site-packages/dvc/testing/benchmarks/__pycache__\n",
      "8\t./dvc-venv/lib/python3.11/site-packages/dvc/testing/benchmarks/cli/__pycache__\n",
      "16\t./dvc-venv/lib/python3.11/site-packages/dvc/testing/benchmarks/cli/stories/__pycache__\n",
      "16\t./dvc-venv/lib/python3.11/site-packages/dvc/testing/benchmarks/cli/stories/use_cases/__pycache__\n",
      "24\t./dvc-venv/lib/python3.11/site-packages/dvc/testing/benchmarks/cli/stories/use_cases\n",
      "48\t./dvc-venv/lib/python3.11/site-packages/dvc/testing/benchmarks/cli/stories\n",
      "152\t./dvc-venv/lib/python3.11/site-packages/dvc/testing/benchmarks/cli/commands/__pycache__\n",
      "296\t./dvc-venv/lib/python3.11/site-packages/dvc/testing/benchmarks/cli/commands\n",
      "352\t./dvc-venv/lib/python3.11/site-packages/dvc/testing/benchmarks/cli\n",
      "8\t./dvc-venv/lib/python3.11/site-packages/dvc/testing/benchmarks/api/__pycache__\n",
      "8\t./dvc-venv/lib/python3.11/site-packages/dvc/testing/benchmarks/api\n",
      "456\t./dvc-venv/lib/python3.11/site-packages/dvc/testing/benchmarks\n",
      "912\t./dvc-venv/lib/python3.11/site-packages/dvc/testing\n",
      "104\t./dvc-venv/lib/python3.11/site-packages/dvc/api/__pycache__\n",
      "192\t./dvc-venv/lib/python3.11/site-packages/dvc/api\n",
      "272\t./dvc-venv/lib/python3.11/site-packages/dvc/stage/__pycache__\n",
      "456\t./dvc-venv/lib/python3.11/site-packages/dvc/stage\n",
      "184\t./dvc-venv/lib/python3.11/site-packages/dvc/commands/experiments/__pycache__\n",
      "328\t./dvc-venv/lib/python3.11/site-packages/dvc/commands/experiments\n",
      "640\t./dvc-venv/lib/python3.11/site-packages/dvc/commands/__pycache__\n",
      "64\t./dvc-venv/lib/python3.11/site-packages/dvc/commands/queue/__pycache__\n",
      "120\t./dvc-venv/lib/python3.11/site-packages/dvc/commands/queue\n",
      "24\t./dvc-venv/lib/python3.11/site-packages/dvc/commands/ls/__pycache__\n",
      "40\t./dvc-venv/lib/python3.11/site-packages/dvc/commands/ls\n",
      "1616\t./dvc-venv/lib/python3.11/site-packages/dvc/commands\n",
      "160\t./dvc-venv/lib/python3.11/site-packages/dvc/parsing/__pycache__\n",
      "256\t./dvc-venv/lib/python3.11/site-packages/dvc/parsing\n",
      "104\t./dvc-venv/lib/python3.11/site-packages/dvc/fs/__pycache__\n",
      "184\t./dvc-venv/lib/python3.11/site-packages/dvc/fs\n",
      "40\t./dvc-venv/lib/python3.11/site-packages/dvc/repo/metrics/__pycache__\n",
      "72\t./dvc-venv/lib/python3.11/site-packages/dvc/repo/metrics\n",
      "408\t./dvc-venv/lib/python3.11/site-packages/dvc/repo/experiments/__pycache__\n",
      "264\t./dvc-venv/lib/python3.11/site-packages/dvc/repo/experiments/queue/__pycache__\n",
      "448\t./dvc-venv/lib/python3.11/site-packages/dvc/repo/experiments/queue\n",
      "112\t./dvc-venv/lib/python3.11/site-packages/dvc/repo/experiments/executor/__pycache__\n",
      "184\t./dvc-venv/lib/python3.11/site-packages/dvc/repo/experiments/executor\n",
      "1336\t./dvc-venv/lib/python3.11/site-packages/dvc/repo/experiments\n",
      "760\t./dvc-venv/lib/python3.11/site-packages/dvc/repo/__pycache__\n",
      "40\t./dvc-venv/lib/python3.11/site-packages/dvc/repo/params/__pycache__\n",
      "72\t./dvc-venv/lib/python3.11/site-packages/dvc/repo/params\n",
      "64\t./dvc-venv/lib/python3.11/site-packages/dvc/repo/plots/__pycache__\n",
      "112\t./dvc-venv/lib/python3.11/site-packages/dvc/repo/plots\n",
      "2920\t./dvc-venv/lib/python3.11/site-packages/dvc/repo\n",
      "9432\t./dvc-venv/lib/python3.11/site-packages/dvc\n",
      "144\t./dvc-venv/lib/python3.11/site-packages/dulwich-0.21.7.dist-info\n",
      "128\t./dvc-venv/lib/python3.11/site-packages/yarl-1.9.4.dist-info\n",
      "96\t./dvc-venv/lib/python3.11/site-packages/dvc_studio_client/__pycache__\n",
      "176\t./dvc-venv/lib/python3.11/site-packages/dvc_studio_client\n",
      "112\t./dvc-venv/lib/python3.11/site-packages/pathspec-0.12.1.dist-info\n",
      "24\t./dvc-venv/lib/python3.11/site-packages/jupyterlab_pygments/__pycache__\n",
      "64\t./dvc-venv/lib/python3.11/site-packages/jupyterlab_pygments\n",
      "48\t./dvc-venv/lib/python3.11/site-packages/pycparser-2.21.dist-info\n",
      "104\t./dvc-venv/lib/python3.11/site-packages/webcolors/__pycache__\n",
      "200\t./dvc-venv/lib/python3.11/site-packages/webcolors\n",
      "328\t./dvc-venv/lib/python3.11/site-packages/charset_normalizer/__pycache__\n",
      "32\t./dvc-venv/lib/python3.11/site-packages/charset_normalizer/cli/__pycache__\n",
      "64\t./dvc-venv/lib/python3.11/site-packages/charset_normalizer/cli\n",
      "1232\t./dvc-venv/lib/python3.11/site-packages/charset_normalizer\n",
      "296\t./dvc-venv/lib/python3.11/site-packages/dvc_data/hashfile/__pycache__\n",
      "96\t./dvc-venv/lib/python3.11/site-packages/dvc_data/hashfile/db/__pycache__\n",
      "152\t./dvc-venv/lib/python3.11/site-packages/dvc_data/hashfile/db\n",
      "656\t./dvc-venv/lib/python3.11/site-packages/dvc_data/hashfile\n",
      "128\t./dvc-venv/lib/python3.11/site-packages/dvc_data/__pycache__\n",
      "272\t./dvc-venv/lib/python3.11/site-packages/dvc_data/index/__pycache__\n",
      "464\t./dvc-venv/lib/python3.11/site-packages/dvc_data/index\n",
      "1328\t./dvc-venv/lib/python3.11/site-packages/dvc_data\n",
      "88\t./dvc-venv/lib/python3.11/site-packages/voluptuous-0.14.1.dist-info\n",
      "72\t./dvc-venv/lib/python3.11/site-packages/frozenlist-1.4.0.dist-info\n",
      "120\t./dvc-venv/lib/python3.11/site-packages/antlr4/tree/__pycache__\n",
      "232\t./dvc-venv/lib/python3.11/site-packages/antlr4/tree\n",
      "48\t./dvc-venv/lib/python3.11/site-packages/antlr4/xpath/__pycache__\n",
      "88\t./dvc-venv/lib/python3.11/site-packages/antlr4/xpath\n",
      "48\t./dvc-venv/lib/python3.11/site-packages/antlr4/dfa/__pycache__\n",
      "96\t./dvc-venv/lib/python3.11/site-packages/antlr4/dfa\n",
      "408\t./dvc-venv/lib/python3.11/site-packages/antlr4/__pycache__\n",
      "464\t./dvc-venv/lib/python3.11/site-packages/antlr4/atn/__pycache__\n",
      "968\t./dvc-venv/lib/python3.11/site-packages/antlr4/atn\n",
      "88\t./dvc-venv/lib/python3.11/site-packages/antlr4/error/__pycache__\n",
      "200\t./dvc-venv/lib/python3.11/site-packages/antlr4/error\n",
      "2344\t./dvc-venv/lib/python3.11/site-packages/antlr4\n",
      "512\t./dvc-venv/lib/python3.11/site-packages/requests/__pycache__\n",
      "944\t./dvc-venv/lib/python3.11/site-packages/requests\n",
      "8\t./dvc-venv/lib/python3.11/site-packages/referencing-0.32.0.dist-info/licenses\n",
      "40\t./dvc-venv/lib/python3.11/site-packages/referencing-0.32.0.dist-info\n",
      "64\t./dvc-venv/lib/python3.11/site-packages/json5-0.9.14.dist-info\n",
      "536\t./dvc-venv/lib/python3.11/site-packages/jedi-0.19.1.dist-info\n",
      "56\t./dvc-venv/lib/python3.11/site-packages/pure_eval-0.2.2.dist-info\n",
      "104\t./dvc-venv/lib/python3.11/site-packages/multidict/__pycache__\n",
      "376\t./dvc-venv/lib/python3.11/site-packages/multidict\n",
      "128\t./dvc-venv/lib/python3.11/site-packages/anyio/abc/__pycache__\n",
      "224\t./dvc-venv/lib/python3.11/site-packages/anyio/abc\n",
      "400\t./dvc-venv/lib/python3.11/site-packages/anyio/_backends/__pycache__\n",
      "632\t./dvc-venv/lib/python3.11/site-packages/anyio/_backends\n",
      "320\t./dvc-venv/lib/python3.11/site-packages/anyio/_core/__pycache__\n",
      "536\t./dvc-venv/lib/python3.11/site-packages/anyio/_core\n",
      "160\t./dvc-venv/lib/python3.11/site-packages/anyio/streams/__pycache__\n",
      "280\t./dvc-venv/lib/python3.11/site-packages/anyio/streams\n",
      "144\t./dvc-venv/lib/python3.11/site-packages/anyio/__pycache__\n",
      "1928\t./dvc-venv/lib/python3.11/site-packages/anyio\n",
      "192\t./dvc-venv/lib/python3.11/site-packages/pip/_internal/network/__pycache__\n",
      "344\t./dvc-venv/lib/python3.11/site-packages/pip/_internal/network\n",
      "464\t./dvc-venv/lib/python3.11/site-packages/pip/_internal/utils/__pycache__\n",
      "816\t./dvc-venv/lib/python3.11/site-packages/pip/_internal/utils\n",
      "208\t./dvc-venv/lib/python3.11/site-packages/pip/_internal/models/__pycache__\n",
      "360\t./dvc-venv/lib/python3.11/site-packages/pip/_internal/models\n",
      "272\t./dvc-venv/lib/python3.11/site-packages/pip/_internal/__pycache__\n",
      "280\t./dvc-venv/lib/python3.11/site-packages/pip/_internal/cli/__pycache__\n",
      "520\t./dvc-venv/lib/python3.11/site-packages/pip/_internal/cli\n",
      "96\t./dvc-venv/lib/python3.11/site-packages/pip/_internal/operations/install/__pycache__\n",
      "168\t./dvc-venv/lib/python3.11/site-packages/pip/_internal/operations/install\n",
      "112\t./dvc-venv/lib/python3.11/site-packages/pip/_internal/operations/__pycache__\n",
      "80\t./dvc-venv/lib/python3.11/site-packages/pip/_internal/operations/build/__pycache__\n",
      "144\t./dvc-venv/lib/python3.11/site-packages/pip/_internal/operations/build\n"
     ]
    },
    {
     "name": "stdout",
     "output_type": "stream",
     "text": [
      "528\t./dvc-venv/lib/python3.11/site-packages/pip/_internal/operations\n",
      "288\t./dvc-venv/lib/python3.11/site-packages/pip/_internal/req/__pycache__\n",
      "520\t./dvc-venv/lib/python3.11/site-packages/pip/_internal/req\n",
      "56\t./dvc-venv/lib/python3.11/site-packages/pip/_internal/resolution/legacy/__pycache__\n",
      "104\t./dvc-venv/lib/python3.11/site-packages/pip/_internal/resolution/legacy\n",
      "16\t./dvc-venv/lib/python3.11/site-packages/pip/_internal/resolution/__pycache__\n",
      "272\t./dvc-venv/lib/python3.11/site-packages/pip/_internal/resolution/resolvelib/__pycache__\n",
      "472\t./dvc-venv/lib/python3.11/site-packages/pip/_internal/resolution/resolvelib\n",
      "600\t./dvc-venv/lib/python3.11/site-packages/pip/_internal/resolution\n",
      "192\t./dvc-venv/lib/python3.11/site-packages/pip/_internal/vcs/__pycache__\n",
      "336\t./dvc-venv/lib/python3.11/site-packages/pip/_internal/vcs\n",
      "88\t./dvc-venv/lib/python3.11/site-packages/pip/_internal/locations/__pycache__\n",
      "160\t./dvc-venv/lib/python3.11/site-packages/pip/_internal/locations\n",
      "176\t./dvc-venv/lib/python3.11/site-packages/pip/_internal/index/__pycache__\n",
      "320\t./dvc-venv/lib/python3.11/site-packages/pip/_internal/index\n",
      "392\t./dvc-venv/lib/python3.11/site-packages/pip/_internal/commands/__pycache__\n",
      "688\t./dvc-venv/lib/python3.11/site-packages/pip/_internal/commands\n",
      "144\t./dvc-venv/lib/python3.11/site-packages/pip/_internal/metadata/__pycache__\n",
      "80\t./dvc-venv/lib/python3.11/site-packages/pip/_internal/metadata/importlib/__pycache__\n",
      "128\t./dvc-venv/lib/python3.11/site-packages/pip/_internal/metadata/importlib\n",
      "376\t./dvc-venv/lib/python3.11/site-packages/pip/_internal/metadata\n",
      "56\t./dvc-venv/lib/python3.11/site-packages/pip/_internal/distributions/__pycache__\n",
      "104\t./dvc-venv/lib/python3.11/site-packages/pip/_internal/distributions\n",
      "6144\t./dvc-venv/lib/python3.11/site-packages/pip/_internal\n",
      "312\t./dvc-venv/lib/python3.11/site-packages/pip/_vendor/packaging/__pycache__\n",
      "560\t./dvc-venv/lib/python3.11/site-packages/pip/_vendor/packaging\n",
      "136\t./dvc-venv/lib/python3.11/site-packages/pip/_vendor/msgpack/__pycache__\n",
      "240\t./dvc-venv/lib/python3.11/site-packages/pip/_vendor/msgpack\n",
      "2128\t./dvc-venv/lib/python3.11/site-packages/pip/_vendor/chardet/__pycache__\n",
      "24\t./dvc-venv/lib/python3.11/site-packages/pip/_vendor/chardet/cli/__pycache__\n",
      "32\t./dvc-venv/lib/python3.11/site-packages/pip/_vendor/chardet/cli\n",
      "32\t./dvc-venv/lib/python3.11/site-packages/pip/_vendor/chardet/metadata/__pycache__\n",
      "64\t./dvc-venv/lib/python3.11/site-packages/pip/_vendor/chardet/metadata\n",
      "4544\t./dvc-venv/lib/python3.11/site-packages/pip/_vendor/chardet\n",
      "88\t./dvc-venv/lib/python3.11/site-packages/pip/_vendor/webencodings/__pycache__\n",
      "176\t./dvc-venv/lib/python3.11/site-packages/pip/_vendor/webencodings\n",
      "80\t./dvc-venv/lib/python3.11/site-packages/pip/_vendor/pygments/filters/__pycache__\n",
      "160\t./dvc-venv/lib/python3.11/site-packages/pip/_vendor/pygments/filters\n",
      "256\t./dvc-venv/lib/python3.11/site-packages/pip/_vendor/pygments/lexers/__pycache__\n",
      "536\t./dvc-venv/lib/python3.11/site-packages/pip/_vendor/pygments/lexers\n",
      "392\t./dvc-venv/lib/python3.11/site-packages/pip/_vendor/pygments/formatters/__pycache__\n",
      "720\t./dvc-venv/lib/python3.11/site-packages/pip/_vendor/pygments/formatters\n",
      "416\t./dvc-venv/lib/python3.11/site-packages/pip/_vendor/pygments/__pycache__\n",
      "16\t./dvc-venv/lib/python3.11/site-packages/pip/_vendor/pygments/styles/__pycache__\n",
      "24\t./dvc-venv/lib/python3.11/site-packages/pip/_vendor/pygments/styles\n",
      "2256\t./dvc-venv/lib/python3.11/site-packages/pip/_vendor/pygments\n",
      "1080\t./dvc-venv/lib/python3.11/site-packages/pip/_vendor/distlib/__pycache__\n",
      "3384\t./dvc-venv/lib/python3.11/site-packages/pip/_vendor/distlib\n",
      "64\t./dvc-venv/lib/python3.11/site-packages/pip/_vendor/pyparsing/diagram/__pycache__\n",
      "112\t./dvc-venv/lib/python3.11/site-packages/pip/_vendor/pyparsing/diagram\n",
      "1000\t./dvc-venv/lib/python3.11/site-packages/pip/_vendor/pyparsing/__pycache__\n",
      "1864\t./dvc-venv/lib/python3.11/site-packages/pip/_vendor/pyparsing\n",
      "136\t./dvc-venv/lib/python3.11/site-packages/pip/_vendor/distro/__pycache__\n",
      "256\t./dvc-venv/lib/python3.11/site-packages/pip/_vendor/distro\n",
      "144\t./dvc-venv/lib/python3.11/site-packages/pip/_vendor/colorama/tests/__pycache__\n",
      "224\t./dvc-venv/lib/python3.11/site-packages/pip/_vendor/colorama/tests\n",
      "104\t./dvc-venv/lib/python3.11/site-packages/pip/_vendor/colorama/__pycache__\n",
      "408\t./dvc-venv/lib/python3.11/site-packages/pip/_vendor/colorama\n",
      "152\t./dvc-venv/lib/python3.11/site-packages/pip/_vendor/cachecontrol/__pycache__\n",
      "40\t./dvc-venv/lib/python3.11/site-packages/pip/_vendor/cachecontrol/caches/__pycache__\n",
      "72\t./dvc-venv/lib/python3.11/site-packages/pip/_vendor/cachecontrol/caches\n",
      "360\t./dvc-venv/lib/python3.11/site-packages/pip/_vendor/cachecontrol\n",
      "488\t./dvc-venv/lib/python3.11/site-packages/pip/_vendor/idna/__pycache__\n",
      "1056\t./dvc-venv/lib/python3.11/site-packages/pip/_vendor/idna\n",
      "208\t./dvc-venv/lib/python3.11/site-packages/pip/_vendor/tenacity/__pycache__\n",
      "360\t./dvc-venv/lib/python3.11/site-packages/pip/_vendor/tenacity\n",
      "376\t./dvc-venv/lib/python3.11/site-packages/pip/_vendor/__pycache__\n",
      "512\t./dvc-venv/lib/python3.11/site-packages/pip/_vendor/requests/__pycache__\n",
      "944\t./dvc-venv/lib/python3.11/site-packages/pip/_vendor/requests\n",
      "96\t./dvc-venv/lib/python3.11/site-packages/pip/_vendor/tomli/__pycache__\n",
      "168\t./dvc-venv/lib/python3.11/site-packages/pip/_vendor/tomli\n",
      "24\t./dvc-venv/lib/python3.11/site-packages/pip/_vendor/certifi/__pycache__\n",
      "608\t./dvc-venv/lib/python3.11/site-packages/pip/_vendor/certifi\n",
      "56\t./dvc-venv/lib/python3.11/site-packages/pip/_vendor/pyproject_hooks/__pycache__\n",
      "48\t./dvc-venv/lib/python3.11/site-packages/pip/_vendor/pyproject_hooks/_in_process/__pycache__\n",
      "80\t./dvc-venv/lib/python3.11/site-packages/pip/_vendor/pyproject_hooks/_in_process\n",
      "176\t./dvc-venv/lib/python3.11/site-packages/pip/_vendor/pyproject_hooks\n",
      "2672\t./dvc-venv/lib/python3.11/site-packages/pip/_vendor/rich/__pycache__\n",
      "4760\t./dvc-venv/lib/python3.11/site-packages/pip/_vendor/rich\n",
      "272\t./dvc-venv/lib/python3.11/site-packages/pip/_vendor/urllib3/util/__pycache__\n",
      "520\t./dvc-venv/lib/python3.11/site-packages/pip/_vendor/urllib3/util\n",
      "392\t./dvc-venv/lib/python3.11/site-packages/pip/_vendor/urllib3/__pycache__\n",
      "208\t./dvc-venv/lib/python3.11/site-packages/pip/_vendor/urllib3/contrib/__pycache__\n",
      "80\t./dvc-venv/lib/python3.11/site-packages/pip/_vendor/urllib3/contrib/_securetransport/__pycache__\n",
      "152\t./dvc-venv/lib/python3.11/site-packages/pip/_vendor/urllib3/contrib/_securetransport\n",
      "536\t./dvc-venv/lib/python3.11/site-packages/pip/_vendor/urllib3/contrib\n",
      "104\t./dvc-venv/lib/python3.11/site-packages/pip/_vendor/urllib3/packages/__pycache__\n",
      "32\t./dvc-venv/lib/python3.11/site-packages/pip/_vendor/urllib3/packages/backports/__pycache__\n",
      "56\t./dvc-venv/lib/python3.11/site-packages/pip/_vendor/urllib3/packages/backports\n",
      "232\t./dvc-venv/lib/python3.11/site-packages/pip/_vendor/urllib3/packages\n",
      "2016\t./dvc-venv/lib/python3.11/site-packages/pip/_vendor/urllib3\n",
      "320\t./dvc-venv/lib/python3.11/site-packages/pip/_vendor/pkg_resources/__pycache__\n",
      "536\t./dvc-venv/lib/python3.11/site-packages/pip/_vendor/pkg_resources\n",
      "16\t./dvc-venv/lib/python3.11/site-packages/pip/_vendor/resolvelib/compat/__pycache__\n",
      "24\t./dvc-venv/lib/python3.11/site-packages/pip/_vendor/resolvelib/compat\n",
      "120\t./dvc-venv/lib/python3.11/site-packages/pip/_vendor/resolvelib/__pycache__\n",
      "240\t./dvc-venv/lib/python3.11/site-packages/pip/_vendor/resolvelib\n",
      "184\t./dvc-venv/lib/python3.11/site-packages/pip/_vendor/platformdirs/__pycache__\n",
      "328\t./dvc-venv/lib/python3.11/site-packages/pip/_vendor/platformdirs\n",
      "25936\t./dvc-venv/lib/python3.11/site-packages/pip/_vendor\n",
      "24\t./dvc-venv/lib/python3.11/site-packages/pip/__pycache__\n",
      "32136\t./dvc-venv/lib/python3.11/site-packages/pip\n",
      "8\t./dvc-venv/lib/python3.11/site-packages/soupsieve-2.5.dist-info/licenses\n",
      "48\t./dvc-venv/lib/python3.11/site-packages/soupsieve-2.5.dist-info\n",
      "104\t./dvc-venv/lib/python3.11/site-packages/prompt_toolkit-3.0.43.dist-info\n",
      "80\t./dvc-venv/lib/python3.11/site-packages/aiohttp_retry/__pycache__\n",
      "144\t./dvc-venv/lib/python3.11/site-packages/aiohttp_retry\n",
      "72\t./dvc-venv/lib/python3.11/site-packages/requests-2.31.0.dist-info\n",
      "456\t./dvc-venv/lib/python3.11/site-packages/babel/messages/__pycache__\n",
      "816\t./dvc-venv/lib/python3.11/site-packages/babel/messages\n",
      "72192\t./dvc-venv/lib/python3.11/site-packages/babel/locale-data\n"
     ]
    },
    {
     "name": "stdout",
     "output_type": "stream",
     "text": [
      "48\t./dvc-venv/lib/python3.11/site-packages/babel/localtime/__pycache__\n",
      "88\t./dvc-venv/lib/python3.11/site-packages/babel/localtime\n",
      "680\t./dvc-venv/lib/python3.11/site-packages/babel/__pycache__\n",
      "75264\t./dvc-venv/lib/python3.11/site-packages/babel\n",
      "2632\t./dvc-venv/lib/python3.11/site-packages/tornado/test/__pycache__\n",
      "8\t./dvc-venv/lib/python3.11/site-packages/tornado/test/csv_translations\n",
      "8\t./dvc-venv/lib/python3.11/site-packages/tornado/test/static/dir\n",
      "40\t./dvc-venv/lib/python3.11/site-packages/tornado/test/static\n",
      "8\t./dvc-venv/lib/python3.11/site-packages/tornado/test/templates\n",
      "16\t./dvc-venv/lib/python3.11/site-packages/tornado/test/gettext_translations/fr_FR/LC_MESSAGES\n",
      "16\t./dvc-venv/lib/python3.11/site-packages/tornado/test/gettext_translations/fr_FR\n",
      "16\t./dvc-venv/lib/python3.11/site-packages/tornado/test/gettext_translations\n",
      "4168\t./dvc-venv/lib/python3.11/site-packages/tornado/test\n",
      "112\t./dvc-venv/lib/python3.11/site-packages/tornado/platform/__pycache__\n",
      "192\t./dvc-venv/lib/python3.11/site-packages/tornado/platform\n",
      "2264\t./dvc-venv/lib/python3.11/site-packages/tornado/__pycache__\n",
      "8728\t./dvc-venv/lib/python3.11/site-packages/tornado\n",
      "8\t./dvc-venv/lib/python3.11/site-packages/terminado-0.18.0.dist-info/licenses\n",
      "48\t./dvc-venv/lib/python3.11/site-packages/terminado-0.18.0.dist-info\n",
      "56\t./dvc-venv/lib/python3.11/site-packages/cffi-1.16.0.dist-info\n",
      "192\t./dvc-venv/lib/python3.11/site-packages/dvc_render/__pycache__\n",
      "352\t./dvc-venv/lib/python3.11/site-packages/dvc_render\n",
      "88\t./dvc-venv/lib/python3.11/site-packages/smmap/test/__pycache__\n",
      "152\t./dvc-venv/lib/python3.11/site-packages/smmap/test\n",
      "104\t./dvc-venv/lib/python3.11/site-packages/smmap/__pycache__\n",
      "344\t./dvc-venv/lib/python3.11/site-packages/smmap\n",
      "104\t./dvc-venv/lib/python3.11/site-packages/scmrepo/__pycache__\n",
      "152\t./dvc-venv/lib/python3.11/site-packages/scmrepo/git/backend/pygit2/__pycache__\n",
      "240\t./dvc-venv/lib/python3.11/site-packages/scmrepo/git/backend/pygit2\n",
      "136\t./dvc-venv/lib/python3.11/site-packages/scmrepo/git/backend/__pycache__\n",
      "160\t./dvc-venv/lib/python3.11/site-packages/scmrepo/git/backend/dulwich/__pycache__\n",
      "264\t./dvc-venv/lib/python3.11/site-packages/scmrepo/git/backend/dulwich\n",
      "728\t./dvc-venv/lib/python3.11/site-packages/scmrepo/git/backend\n",
      "168\t./dvc-venv/lib/python3.11/site-packages/scmrepo/git/__pycache__\n",
      "120\t./dvc-venv/lib/python3.11/site-packages/scmrepo/git/lfs/__pycache__\n",
      "208\t./dvc-venv/lib/python3.11/site-packages/scmrepo/git/lfs\n",
      "1224\t./dvc-venv/lib/python3.11/site-packages/scmrepo/git\n",
      "1392\t./dvc-venv/lib/python3.11/site-packages/scmrepo\n",
      "48\t./dvc-venv/lib/python3.11/site-packages/matplotlib_inline-0.1.6.dist-info\n",
      "160\t./dvc-venv/lib/python3.11/site-packages/grandalf/utils/__pycache__\n",
      "248\t./dvc-venv/lib/python3.11/site-packages/grandalf/utils\n",
      "240\t./dvc-venv/lib/python3.11/site-packages/grandalf/__pycache__\n",
      "648\t./dvc-venv/lib/python3.11/site-packages/grandalf\n",
      "8\t./dvc-venv/lib/python3.11/site-packages/notebook_shim-0.2.3.dist-info/licenses\n",
      "40\t./dvc-venv/lib/python3.11/site-packages/notebook_shim-0.2.3.dist-info\n",
      "152\t./dvc-venv/lib/python3.11/site-packages/semver/__pycache__\n",
      "272\t./dvc-venv/lib/python3.11/site-packages/semver\n",
      "24\t./dvc-venv/lib/python3.11/site-packages/certifi/__pycache__\n",
      "624\t./dvc-venv/lib/python3.11/site-packages/certifi\n",
      "88\t./dvc-venv/lib/python3.11/site-packages/prompt_toolkit/filters/__pycache__\n",
      "152\t./dvc-venv/lib/python3.11/site-packages/prompt_toolkit/filters\n",
      "56\t./dvc-venv/lib/python3.11/site-packages/prompt_toolkit/lexers/__pycache__\n",
      "96\t./dvc-venv/lib/python3.11/site-packages/prompt_toolkit/lexers\n",
      "232\t./dvc-venv/lib/python3.11/site-packages/prompt_toolkit/input/__pycache__\n",
      "432\t./dvc-venv/lib/python3.11/site-packages/prompt_toolkit/input\n",
      "664\t./dvc-venv/lib/python3.11/site-packages/prompt_toolkit/layout/__pycache__\n",
      "1232\t./dvc-venv/lib/python3.11/site-packages/prompt_toolkit/layout\n",
      "240\t./dvc-venv/lib/python3.11/site-packages/prompt_toolkit/output/__pycache__\n",
      "416\t./dvc-venv/lib/python3.11/site-packages/prompt_toolkit/output\n",
      "136\t./dvc-venv/lib/python3.11/site-packages/prompt_toolkit/completion/__pycache__\n",
      "224\t./dvc-venv/lib/python3.11/site-packages/prompt_toolkit/completion\n",
      "624\t./dvc-venv/lib/python3.11/site-packages/prompt_toolkit/__pycache__\n",
      "16\t./dvc-venv/lib/python3.11/site-packages/prompt_toolkit/contrib/completers/__pycache__\n",
      "32\t./dvc-venv/lib/python3.11/site-packages/prompt_toolkit/contrib/completers\n",
      "144\t./dvc-venv/lib/python3.11/site-packages/prompt_toolkit/contrib/regular_languages/__pycache__\n",
      "240\t./dvc-venv/lib/python3.11/site-packages/prompt_toolkit/contrib/regular_languages\n",
      "8\t./dvc-venv/lib/python3.11/site-packages/prompt_toolkit/contrib/__pycache__\n",
      "32\t./dvc-venv/lib/python3.11/site-packages/prompt_toolkit/contrib/ssh/__pycache__\n",
      "56\t./dvc-venv/lib/python3.11/site-packages/prompt_toolkit/contrib/ssh\n",
      "88\t./dvc-venv/lib/python3.11/site-packages/prompt_toolkit/contrib/telnet/__pycache__\n",
      "152\t./dvc-venv/lib/python3.11/site-packages/prompt_toolkit/contrib/telnet\n",
      "488\t./dvc-venv/lib/python3.11/site-packages/prompt_toolkit/contrib\n",
      "256\t./dvc-venv/lib/python3.11/site-packages/prompt_toolkit/key_binding/__pycache__\n",
      "512\t./dvc-venv/lib/python3.11/site-packages/prompt_toolkit/key_binding/bindings/__pycache__\n",
      "880\t./dvc-venv/lib/python3.11/site-packages/prompt_toolkit/key_binding/bindings\n",
      "1328\t./dvc-venv/lib/python3.11/site-packages/prompt_toolkit/key_binding\n",
      "144\t./dvc-venv/lib/python3.11/site-packages/prompt_toolkit/styles/__pycache__\n",
      "280\t./dvc-venv/lib/python3.11/site-packages/prompt_toolkit/styles\n",
      "96\t./dvc-venv/lib/python3.11/site-packages/prompt_toolkit/shortcuts/progress_bar/__pycache__\n",
      "160\t./dvc-venv/lib/python3.11/site-packages/prompt_toolkit/shortcuts/progress_bar\n",
      "184\t./dvc-venv/lib/python3.11/site-packages/prompt_toolkit/shortcuts/__pycache__\n",
      "512\t./dvc-venv/lib/python3.11/site-packages/prompt_toolkit/shortcuts\n",
      "88\t./dvc-venv/lib/python3.11/site-packages/prompt_toolkit/formatted_text/__pycache__\n",
      "168\t./dvc-venv/lib/python3.11/site-packages/prompt_toolkit/formatted_text\n",
      "64\t./dvc-venv/lib/python3.11/site-packages/prompt_toolkit/eventloop/__pycache__\n",
      "112\t./dvc-venv/lib/python3.11/site-packages/prompt_toolkit/eventloop\n",
      "192\t./dvc-venv/lib/python3.11/site-packages/prompt_toolkit/application/__pycache__\n",
      "360\t./dvc-venv/lib/python3.11/site-packages/prompt_toolkit/application\n",
      "192\t./dvc-venv/lib/python3.11/site-packages/prompt_toolkit/widgets/__pycache__\n",
      "328\t./dvc-venv/lib/python3.11/site-packages/prompt_toolkit/widgets\n",
      "40\t./dvc-venv/lib/python3.11/site-packages/prompt_toolkit/clipboard/__pycache__\n",
      "72\t./dvc-venv/lib/python3.11/site-packages/prompt_toolkit/clipboard\n",
      "7344\t./dvc-venv/lib/python3.11/site-packages/prompt_toolkit\n",
      "40\t./dvc-venv/lib/python3.11/site-packages/mdurl-0.1.2.dist-info\n",
      "56\t./dvc-venv/lib/python3.11/site-packages/shortuuid-1.0.11.dist-info\n",
      "32\t./dvc-venv/lib/python3.11/site-packages/public/__pycache__\n",
      "64\t./dvc-venv/lib/python3.11/site-packages/public\n",
      "56\t./dvc-venv/lib/python3.11/site-packages/ipython_genutils-0.2.0.dist-info\n",
      "8\t./dvc-venv/lib/python3.11/site-packages/jupyter_client-8.6.0.dist-info/licenses\n",
      "72\t./dvc-venv/lib/python3.11/site-packages/jupyter_client-8.6.0.dist-info\n",
      "8\t./dvc-venv/lib/python3.11/site-packages/jupyterlab_pygments-0.3.0.dist-info/licenses\n",
      "48\t./dvc-venv/lib/python3.11/site-packages/jupyterlab_pygments-0.3.0.dist-info\n",
      "80\t./dvc-venv/lib/python3.11/site-packages/scmrepo-1.6.0.dist-info\n",
      "8\t./dvc-venv/lib/python3.11/site-packages/urllib3-2.1.0.dist-info/licenses\n",
      "56\t./dvc-venv/lib/python3.11/site-packages/urllib3-2.1.0.dist-info\n",
      "232\t./dvc-venv/lib/python3.11/site-packages/pip-23.2.1.dist-info\n",
      "24\t./dvc-venv/lib/python3.11/site-packages/sniffio/_tests/__pycache__\n",
      "32\t./dvc-venv/lib/python3.11/site-packages/sniffio/_tests\n",
      "24\t./dvc-venv/lib/python3.11/site-packages/sniffio/__pycache__\n",
      "80\t./dvc-venv/lib/python3.11/site-packages/sniffio\n",
      "424\t./dvc-venv/lib/python3.11/site-packages/attr/__pycache__\n",
      "912\t./dvc-venv/lib/python3.11/site-packages/attr\n",
      "520\t./dvc-venv/lib/python3.11/site-packages/pexpect/__pycache__\n",
      "960\t./dvc-venv/lib/python3.11/site-packages/pexpect\n",
      "72\t./dvc-venv/lib/python3.11/site-packages/pygtrie-2.5.0.dist-info\n",
      "24\t./dvc-venv/lib/python3.11/site-packages/sqltrie/__pyinstaller/__pycache__\n",
      "48\t./dvc-venv/lib/python3.11/site-packages/sqltrie/__pyinstaller\n"
     ]
    },
    {
     "name": "stdout",
     "output_type": "stream",
     "text": [
      "48\t./dvc-venv/lib/python3.11/site-packages/sqltrie/sqlite/__pycache__\n",
      "104\t./dvc-venv/lib/python3.11/site-packages/sqltrie/sqlite\n",
      "72\t./dvc-venv/lib/python3.11/site-packages/sqltrie/__pycache__\n",
      "256\t./dvc-venv/lib/python3.11/site-packages/sqltrie\n",
      "640\t./dvc-venv/lib/python3.11/site-packages/jsonschema/tests/__pycache__\n",
      "1016\t./dvc-venv/lib/python3.11/site-packages/jsonschema/tests\n",
      "416\t./dvc-venv/lib/python3.11/site-packages/jsonschema/__pycache__\n",
      "56\t./dvc-venv/lib/python3.11/site-packages/jsonschema/benchmarks/__pycache__\n",
      "232\t./dvc-venv/lib/python3.11/site-packages/jsonschema/benchmarks/issue232\n",
      "344\t./dvc-venv/lib/python3.11/site-packages/jsonschema/benchmarks\n",
      "2104\t./dvc-venv/lib/python3.11/site-packages/jsonschema\n",
      "80\t./dvc-venv/lib/python3.11/site-packages/dvc_task-0.3.0.dist-info\n",
      "48\t./dvc-venv/lib/python3.11/site-packages/nest_asyncio-1.5.8.dist-info\n",
      "144\t./dvc-venv/lib/python3.11/site-packages/ipython-8.18.1.dist-info\n",
      "120\t./dvc-venv/lib/python3.11/site-packages/bleach-6.1.0.dist-info\n",
      "72\t./dvc-venv/lib/python3.11/site-packages/anyio-4.1.0.dist-info\n",
      "64\t./dvc-venv/lib/python3.11/site-packages/dvc_objects-2.0.1.dist-info\n",
      "120\t./dvc-venv/lib/python3.11/site-packages/charset_normalizer-3.3.2.dist-info\n",
      "488\t./dvc-venv/lib/python3.11/site-packages/tqdm/__pycache__\n",
      "128\t./dvc-venv/lib/python3.11/site-packages/tqdm/contrib/__pycache__\n",
      "208\t./dvc-venv/lib/python3.11/site-packages/tqdm/contrib\n",
      "1096\t./dvc-venv/lib/python3.11/site-packages/tqdm\n",
      "128\t./dvc-venv/lib/python3.11/site-packages/pyzmq-25.1.2.dist-info\n",
      "64\t./dvc-venv/lib/python3.11/site-packages/jupyter_contrib_core-0.4.2.dist-info\n",
      "16\t./dvc-venv/lib/python3.11/site-packages/beautifulsoup4-4.12.2.dist-info/licenses\n",
      "56\t./dvc-venv/lib/python3.11/site-packages/beautifulsoup4-4.12.2.dist-info\n",
      "96\t./dvc-venv/lib/python3.11/site-packages/ruamel.yaml-0.18.5.dist-info\n",
      "48\t./dvc-venv/lib/python3.11/site-packages/antlr4_python3_runtime-4.9.3.dist-info\n",
      "80\t./dvc-venv/lib/python3.11/site-packages/websocket_client-1.7.0.dist-info\n",
      "40\t./dvc-venv/lib/python3.11/site-packages/flatten_dict/tests/__pycache__\n",
      "64\t./dvc-venv/lib/python3.11/site-packages/flatten_dict/tests\n",
      "56\t./dvc-venv/lib/python3.11/site-packages/flatten_dict/__pycache__\n",
      "176\t./dvc-venv/lib/python3.11/site-packages/flatten_dict\n",
      "8\t./dvc-venv/lib/python3.11/site-packages/ipykernel-6.27.1.dist-info/licenses\n",
      "56\t./dvc-venv/lib/python3.11/site-packages/ipykernel-6.27.1.dist-info\n",
      "8\t./dvc-venv/lib/python3.11/site-packages/_yaml/__pycache__\n",
      "16\t./dvc-venv/lib/python3.11/site-packages/_yaml\n",
      "96\t./dvc-venv/lib/python3.11/site-packages/ptyprocess/__pycache__\n",
      "184\t./dvc-venv/lib/python3.11/site-packages/ptyprocess\n",
      "64\t./dvc-venv/lib/python3.11/site-packages/amqp-5.2.0.dist-info\n",
      "96\t./dvc-venv/lib/python3.11/site-packages/jupyter_server_terminals/__pycache__\n",
      "176\t./dvc-venv/lib/python3.11/site-packages/jupyter_server_terminals\n",
      "272\t./dvc-venv/lib/python3.11/site-packages/json5/__pycache__\n",
      "424\t./dvc-venv/lib/python3.11/site-packages/json5\n",
      "24\t./dvc-venv/lib/python3.11/site-packages/jupyter_contrib_core/notebook_compat/__pycache__\n",
      "80\t./dvc-venv/lib/python3.11/site-packages/jupyter_contrib_core/notebook_compat/_compat/__pycache__\n",
      "144\t./dvc-venv/lib/python3.11/site-packages/jupyter_contrib_core/notebook_compat/_compat\n",
      "192\t./dvc-venv/lib/python3.11/site-packages/jupyter_contrib_core/notebook_compat\n",
      "16\t./dvc-venv/lib/python3.11/site-packages/jupyter_contrib_core/__pycache__\n",
      "40\t./dvc-venv/lib/python3.11/site-packages/jupyter_contrib_core/testing_utils/__pycache__\n",
      "64\t./dvc-venv/lib/python3.11/site-packages/jupyter_contrib_core/testing_utils\n",
      "288\t./dvc-venv/lib/python3.11/site-packages/jupyter_contrib_core\n",
      "232\t./dvc-venv/lib/python3.11/site-packages/tinycss2/__pycache__\n",
      "416\t./dvc-venv/lib/python3.11/site-packages/tinycss2\n",
      "8\t./dvc-venv/lib/python3.11/site-packages/jupyterlab-4.0.9.dist-info/licenses\n",
      "256\t./dvc-venv/lib/python3.11/site-packages/jupyterlab-4.0.9.dist-info\n",
      "32\t./dvc-venv/lib/python3.11/site-packages/orjson-3.9.10.dist-info/license_files\n",
      "160\t./dvc-venv/lib/python3.11/site-packages/orjson-3.9.10.dist-info\n",
      "2760\t./dvc-venv/lib/python3.11/site-packages/rich/__pycache__\n",
      "4904\t./dvc-venv/lib/python3.11/site-packages/rich\n",
      "152\t./dvc-venv/lib/python3.11/site-packages/jupyter_contrib_nbextensions-0.7.0.dist-info\n",
      "8\t./dvc-venv/lib/python3.11/site-packages/jupyter_lsp/specs/config/__pycache__\n",
      "184\t./dvc-venv/lib/python3.11/site-packages/jupyter_lsp/specs/config\n",
      "160\t./dvc-venv/lib/python3.11/site-packages/jupyter_lsp/specs/__pycache__\n",
      "504\t./dvc-venv/lib/python3.11/site-packages/jupyter_lsp/specs\n",
      "152\t./dvc-venv/lib/python3.11/site-packages/jupyter_lsp/tests/__pycache__\n",
      "248\t./dvc-venv/lib/python3.11/site-packages/jupyter_lsp/tests\n",
      "16\t./dvc-venv/lib/python3.11/site-packages/jupyter_lsp/etc\n",
      "216\t./dvc-venv/lib/python3.11/site-packages/jupyter_lsp/__pycache__\n",
      "8\t./dvc-venv/lib/python3.11/site-packages/jupyter_lsp/schema/__pycache__\n",
      "40\t./dvc-venv/lib/python3.11/site-packages/jupyter_lsp/schema\n",
      "1184\t./dvc-venv/lib/python3.11/site-packages/jupyter_lsp\n",
      "232\t./dvc-venv/lib/python3.11/site-packages/tabulate/__pycache__\n",
      "432\t./dvc-venv/lib/python3.11/site-packages/tabulate\n",
      "72\t./dvc-venv/lib/python3.11/site-packages/aiohttp-3.9.1.dist-info\n",
      "8\t./dvc-venv/lib/python3.11/site-packages/jupyter_highlight_selected_word/__pycache__\n",
      "64\t./dvc-venv/lib/python3.11/site-packages/jupyter_highlight_selected_word/static/highlight_selected_word\n",
      "64\t./dvc-venv/lib/python3.11/site-packages/jupyter_highlight_selected_word/static\n",
      "80\t./dvc-venv/lib/python3.11/site-packages/jupyter_highlight_selected_word\n",
      "616\t./dvc-venv/lib/python3.11/site-packages/yaml/__pycache__\n",
      "1824\t./dvc-venv/lib/python3.11/site-packages/yaml\n",
      "80\t./dvc-venv/lib/python3.11/site-packages/prometheus_client/openmetrics/__pycache__\n",
      "136\t./dvc-venv/lib/python3.11/site-packages/prometheus_client/openmetrics\n",
      "24\t./dvc-venv/lib/python3.11/site-packages/prometheus_client/bridge/__pycache__\n",
      "32\t./dvc-venv/lib/python3.11/site-packages/prometheus_client/bridge\n",
      "16\t./dvc-venv/lib/python3.11/site-packages/prometheus_client/twisted/__pycache__\n",
      "32\t./dvc-venv/lib/python3.11/site-packages/prometheus_client/twisted\n",
      "464\t./dvc-venv/lib/python3.11/site-packages/prometheus_client/__pycache__\n",
      "992\t./dvc-venv/lib/python3.11/site-packages/prometheus_client\n",
      "72\t./dvc-venv/lib/python3.11/site-packages/click_plugins-1.1.1.dist-info\n",
      "48\t./dvc-venv/lib/python3.11/site-packages/pyparsing-3.1.1.dist-info\n",
      "40\t./dvc-venv/lib/python3.11/site-packages/tomlkit-0.12.3.dist-info\n",
      "192\t./dvc-venv/lib/python3.11/site-packages/jupyter_server/extension/__pycache__\n",
      "336\t./dvc-venv/lib/python3.11/site-packages/jupyter_server/extension\n",
      "168\t./dvc-venv/lib/python3.11/site-packages/jupyter_server/auth/__pycache__\n",
      "312\t./dvc-venv/lib/python3.11/site-packages/jupyter_server/auth\n",
      "8\t./dvc-venv/lib/python3.11/site-packages/jupyter_server/event_schemas/contents_service\n",
      "8\t./dvc-venv/lib/python3.11/site-packages/jupyter_server/event_schemas/kernel_actions\n",
      "8\t./dvc-venv/lib/python3.11/site-packages/jupyter_server/event_schemas/gateway_client\n",
      "24\t./dvc-venv/lib/python3.11/site-packages/jupyter_server/event_schemas\n",
      "32\t./dvc-venv/lib/python3.11/site-packages/jupyter_server/terminal/__pycache__\n",
      "64\t./dvc-venv/lib/python3.11/site-packages/jupyter_server/terminal\n",
      "424\t./dvc-venv/lib/python3.11/site-packages/jupyter_server/__pycache__\n",
      "112\t./dvc-venv/lib/python3.11/site-packages/jupyter_server/static/favicons\n",
      "1504\t./dvc-venv/lib/python3.11/site-packages/jupyter_server/static/style\n",
      "16\t./dvc-venv/lib/python3.11/site-packages/jupyter_server/static/logo\n",
      "1696\t./dvc-venv/lib/python3.11/site-packages/jupyter_server/static\n",
      "16\t./dvc-venv/lib/python3.11/site-packages/jupyter_server/view/__pycache__\n",
      "32\t./dvc-venv/lib/python3.11/site-packages/jupyter_server/view\n",
      "24\t./dvc-venv/lib/python3.11/site-packages/jupyter_server/files/__pycache__\n",
      "32\t./dvc-venv/lib/python3.11/site-packages/jupyter_server/files\n",
      "72\t./dvc-venv/lib/python3.11/site-packages/jupyter_server/templates\n",
      "32\t./dvc-venv/lib/python3.11/site-packages/jupyter_server/nbconvert/__pycache__\n",
      "48\t./dvc-venv/lib/python3.11/site-packages/jupyter_server/nbconvert\n",
      "24\t./dvc-venv/lib/python3.11/site-packages/jupyter_server/prometheus/__pycache__\n",
      "40\t./dvc-venv/lib/python3.11/site-packages/jupyter_server/prometheus\n",
      "16\t./dvc-venv/lib/python3.11/site-packages/jupyter_server/i18n/__pycache__\n"
     ]
    },
    {
     "name": "stdout",
     "output_type": "stream",
     "text": [
      "72\t./dvc-venv/lib/python3.11/site-packages/jupyter_server/i18n/zh_CN/LC_MESSAGES\n",
      "72\t./dvc-venv/lib/python3.11/site-packages/jupyter_server/i18n/zh_CN\n",
      "192\t./dvc-venv/lib/python3.11/site-packages/jupyter_server/i18n\n",
      "24\t./dvc-venv/lib/python3.11/site-packages/jupyter_server/kernelspecs/__pycache__\n",
      "32\t./dvc-venv/lib/python3.11/site-packages/jupyter_server/kernelspecs\n",
      "160\t./dvc-venv/lib/python3.11/site-packages/jupyter_server/base/__pycache__\n",
      "280\t./dvc-venv/lib/python3.11/site-packages/jupyter_server/base\n",
      "128\t./dvc-venv/lib/python3.11/site-packages/jupyter_server/services/kernels/connection/__pycache__\n",
      "224\t./dvc-venv/lib/python3.11/site-packages/jupyter_server/services/kernels/connection\n",
      "128\t./dvc-venv/lib/python3.11/site-packages/jupyter_server/services/kernels/__pycache__\n",
      "448\t./dvc-venv/lib/python3.11/site-packages/jupyter_server/services/kernels\n",
      "408\t./dvc-venv/lib/python3.11/site-packages/jupyter_server/services/contents/__pycache__\n",
      "712\t./dvc-venv/lib/python3.11/site-packages/jupyter_server/services/contents\n",
      "32\t./dvc-venv/lib/python3.11/site-packages/jupyter_server/services/config/__pycache__\n",
      "56\t./dvc-venv/lib/python3.11/site-packages/jupyter_server/services/config\n",
      "16\t./dvc-venv/lib/python3.11/site-packages/jupyter_server/services/security/__pycache__\n",
      "32\t./dvc-venv/lib/python3.11/site-packages/jupyter_server/services/security\n",
      "16\t./dvc-venv/lib/python3.11/site-packages/jupyter_server/services/__pycache__\n",
      "88\t./dvc-venv/lib/python3.11/site-packages/jupyter_server/services/sessions/__pycache__\n",
      "144\t./dvc-venv/lib/python3.11/site-packages/jupyter_server/services/sessions\n",
      "24\t./dvc-venv/lib/python3.11/site-packages/jupyter_server/services/api/__pycache__\n",
      "96\t./dvc-venv/lib/python3.11/site-packages/jupyter_server/services/api\n",
      "16\t./dvc-venv/lib/python3.11/site-packages/jupyter_server/services/nbconvert/__pycache__\n",
      "24\t./dvc-venv/lib/python3.11/site-packages/jupyter_server/services/nbconvert\n",
      "24\t./dvc-venv/lib/python3.11/site-packages/jupyter_server/services/events/__pycache__\n",
      "32\t./dvc-venv/lib/python3.11/site-packages/jupyter_server/services/events\n",
      "24\t./dvc-venv/lib/python3.11/site-packages/jupyter_server/services/kernelspecs/__pycache__\n",
      "32\t./dvc-venv/lib/python3.11/site-packages/jupyter_server/services/kernelspecs\n",
      "1600\t./dvc-venv/lib/python3.11/site-packages/jupyter_server/services\n",
      "256\t./dvc-venv/lib/python3.11/site-packages/jupyter_server/gateway/__pycache__\n",
      "432\t./dvc-venv/lib/python3.11/site-packages/jupyter_server/gateway\n",
      "5976\t./dvc-venv/lib/python3.11/site-packages/jupyter_server\n",
      "40\t./dvc-venv/lib/python3.11/site-packages/pythonjsonlogger/__pycache__\n",
      "72\t./dvc-venv/lib/python3.11/site-packages/pythonjsonlogger\n",
      "280\t./dvc-venv/lib/python3.11/site-packages/urllib3/util/__pycache__\n",
      "536\t./dvc-venv/lib/python3.11/site-packages/urllib3/util\n",
      "520\t./dvc-venv/lib/python3.11/site-packages/urllib3/__pycache__\n",
      "88\t./dvc-venv/lib/python3.11/site-packages/urllib3/contrib/__pycache__\n",
      "144\t./dvc-venv/lib/python3.11/site-packages/urllib3/contrib\n",
      "1648\t./dvc-venv/lib/python3.11/site-packages/urllib3\n",
      "192\t./dvc-venv/lib/python3.11/site-packages/nbconvert/filters/__pycache__\n",
      "352\t./dvc-venv/lib/python3.11/site-packages/nbconvert/filters\n",
      "200\t./dvc-venv/lib/python3.11/site-packages/nbconvert/preprocessors/__pycache__\n",
      "368\t./dvc-venv/lib/python3.11/site-packages/nbconvert/preprocessors\n",
      "56\t./dvc-venv/lib/python3.11/site-packages/nbconvert/writers/__pycache__\n",
      "104\t./dvc-venv/lib/python3.11/site-packages/nbconvert/writers\n",
      "344\t./dvc-venv/lib/python3.11/site-packages/nbconvert/exporters/__pycache__\n",
      "624\t./dvc-venv/lib/python3.11/site-packages/nbconvert/exporters\n",
      "8\t./dvc-venv/lib/python3.11/site-packages/nbconvert/resources/__pycache__\n",
      "8\t./dvc-venv/lib/python3.11/site-packages/nbconvert/resources\n",
      "32\t./dvc-venv/lib/python3.11/site-packages/nbconvert/postprocessors/__pycache__\n",
      "64\t./dvc-venv/lib/python3.11/site-packages/nbconvert/postprocessors\n",
      "96\t./dvc-venv/lib/python3.11/site-packages/nbconvert/utils/__pycache__\n",
      "176\t./dvc-venv/lib/python3.11/site-packages/nbconvert/utils\n",
      "96\t./dvc-venv/lib/python3.11/site-packages/nbconvert/__pycache__\n",
      "16\t./dvc-venv/lib/python3.11/site-packages/nbconvert/templates/skeleton\n",
      "24\t./dvc-venv/lib/python3.11/site-packages/nbconvert/templates\n",
      "1896\t./dvc-venv/lib/python3.11/site-packages/nbconvert\n",
      "56\t./dvc-venv/lib/python3.11/site-packages/funcy-2.0.dist-info\n",
      "632\t./dvc-venv/lib/python3.11/site-packages/celery/app/__pycache__\n",
      "1160\t./dvc-venv/lib/python3.11/site-packages/celery/app\n",
      "376\t./dvc-venv/lib/python3.11/site-packages/celery/bin/__pycache__\n",
      "632\t./dvc-venv/lib/python3.11/site-packages/celery/bin\n",
      "64\t./dvc-venv/lib/python3.11/site-packages/celery/security/__pycache__\n",
      "112\t./dvc-venv/lib/python3.11/site-packages/celery/security\n",
      "64\t./dvc-venv/lib/python3.11/site-packages/celery/backends/database/__pycache__\n",
      "96\t./dvc-venv/lib/python3.11/site-packages/celery/backends/database\n",
      "568\t./dvc-venv/lib/python3.11/site-packages/celery/backends/__pycache__\n",
      "1080\t./dvc-venv/lib/python3.11/site-packages/celery/backends\n",
      "40\t./dvc-venv/lib/python3.11/site-packages/celery/utils/dispatch/__pycache__\n",
      "80\t./dvc-venv/lib/python3.11/site-packages/celery/utils/dispatch\n",
      "544\t./dvc-venv/lib/python3.11/site-packages/celery/utils/__pycache__\n",
      "8\t./dvc-venv/lib/python3.11/site-packages/celery/utils/static/__pycache__\n",
      "24\t./dvc-venv/lib/python3.11/site-packages/celery/utils/static\n",
      "1024\t./dvc-venv/lib/python3.11/site-packages/celery/utils\n",
      "784\t./dvc-venv/lib/python3.11/site-packages/celery/__pycache__\n",
      "128\t./dvc-venv/lib/python3.11/site-packages/celery/contrib/__pycache__\n",
      "104\t./dvc-venv/lib/python3.11/site-packages/celery/contrib/testing/__pycache__\n",
      "176\t./dvc-venv/lib/python3.11/site-packages/celery/contrib/testing\n",
      "392\t./dvc-venv/lib/python3.11/site-packages/celery/contrib\n",
      "240\t./dvc-venv/lib/python3.11/site-packages/celery/concurrency/__pycache__\n",
      "424\t./dvc-venv/lib/python3.11/site-packages/celery/concurrency\n",
      "40\t./dvc-venv/lib/python3.11/site-packages/celery/fixups/__pycache__\n",
      "64\t./dvc-venv/lib/python3.11/site-packages/celery/fixups\n",
      "344\t./dvc-venv/lib/python3.11/site-packages/celery/worker/__pycache__\n",
      "176\t./dvc-venv/lib/python3.11/site-packages/celery/worker/consumer/__pycache__\n",
      "320\t./dvc-venv/lib/python3.11/site-packages/celery/worker/consumer\n",
      "904\t./dvc-venv/lib/python3.11/site-packages/celery/worker\n",
      "240\t./dvc-venv/lib/python3.11/site-packages/celery/events/__pycache__\n",
      "408\t./dvc-venv/lib/python3.11/site-packages/celery/events\n",
      "144\t./dvc-venv/lib/python3.11/site-packages/celery/apps/__pycache__\n",
      "224\t./dvc-venv/lib/python3.11/site-packages/celery/apps\n",
      "56\t./dvc-venv/lib/python3.11/site-packages/celery/loaders/__pycache__\n",
      "104\t./dvc-venv/lib/python3.11/site-packages/celery/loaders\n",
      "7888\t./dvc-venv/lib/python3.11/site-packages/celery\n",
      "56\t./dvc-venv/lib/python3.11/site-packages/rfc3986_validator-0.1.1.dist-info\n",
      "80\t./dvc-venv/lib/python3.11/site-packages/shortuuid/__pycache__\n",
      "136\t./dvc-venv/lib/python3.11/site-packages/shortuuid\n",
      "8\t./dvc-venv/lib/python3.11/site-packages/jupyter_core-5.5.0.dist-info/licenses\n",
      "48\t./dvc-venv/lib/python3.11/site-packages/jupyter_core-5.5.0.dist-info\n",
      "16\t./dvc-venv/lib/python3.11/site-packages/click_plugins/__pycache__\n",
      "32\t./dvc-venv/lib/python3.11/site-packages/click_plugins\n",
      "120\t./dvc-venv/lib/python3.11/site-packages/uri_template/__pycache__\n",
      "208\t./dvc-venv/lib/python3.11/site-packages/uri_template\n",
      "248\t./dvc-venv/lib/python3.11/site-packages/networkx-3.2.1.dist-info\n",
      "176\t./dvc-venv/lib/python3.11/site-packages/asttokens/__pycache__\n",
      "336\t./dvc-venv/lib/python3.11/site-packages/asttokens\n",
      "32\t./dvc-venv/lib/python3.11/site-packages/jupyterlab/staging/templates\n",
      "5200\t./dvc-venv/lib/python3.11/site-packages/jupyterlab/staging\n",
      "256\t./dvc-venv/lib/python3.11/site-packages/jupyterlab/tests/__pycache__\n",
      "8\t./dvc-venv/lib/python3.11/site-packages/jupyterlab/tests/mock_packages/test_no_hyphens/test_no_hyphens/__pycache__\n",
      "16\t./dvc-venv/lib/python3.11/site-packages/jupyterlab/tests/mock_packages/test_no_hyphens/test_no_hyphens\n",
      "8\t./dvc-venv/lib/python3.11/site-packages/jupyterlab/tests/mock_packages/test_no_hyphens/__pycache__\n",
      "64\t./dvc-venv/lib/python3.11/site-packages/jupyterlab/tests/mock_packages/test_no_hyphens\n",
      "16\t./dvc-venv/lib/python3.11/site-packages/jupyterlab/tests/mock_packages/extension/__pycache__\n"
     ]
    },
    {
     "name": "stdout",
     "output_type": "stream",
     "text": [
      "48\t./dvc-venv/lib/python3.11/site-packages/jupyterlab/tests/mock_packages/extension\n",
      "16\t./dvc-venv/lib/python3.11/site-packages/jupyterlab/tests/mock_packages/interop/token\n",
      "16\t./dvc-venv/lib/python3.11/site-packages/jupyterlab/tests/mock_packages/interop/provider/__pycache__\n",
      "48\t./dvc-venv/lib/python3.11/site-packages/jupyterlab/tests/mock_packages/interop/provider\n",
      "16\t./dvc-venv/lib/python3.11/site-packages/jupyterlab/tests/mock_packages/interop/consumer/__pycache__\n",
      "48\t./dvc-venv/lib/python3.11/site-packages/jupyterlab/tests/mock_packages/interop/consumer\n",
      "112\t./dvc-venv/lib/python3.11/site-packages/jupyterlab/tests/mock_packages/interop\n",
      "8\t./dvc-venv/lib/python3.11/site-packages/jupyterlab/tests/mock_packages/test-hyphens-underscore/test_hyphens_underscore/__pycache__\n",
      "16\t./dvc-venv/lib/python3.11/site-packages/jupyterlab/tests/mock_packages/test-hyphens-underscore/test_hyphens_underscore\n",
      "8\t./dvc-venv/lib/python3.11/site-packages/jupyterlab/tests/mock_packages/test-hyphens-underscore/__pycache__\n",
      "64\t./dvc-venv/lib/python3.11/site-packages/jupyterlab/tests/mock_packages/test-hyphens-underscore\n",
      "8\t./dvc-venv/lib/python3.11/site-packages/jupyterlab/tests/mock_packages/test-hyphens/__pycache__\n",
      "8\t./dvc-venv/lib/python3.11/site-packages/jupyterlab/tests/mock_packages/test-hyphens/test_hyphens/__pycache__\n",
      "16\t./dvc-venv/lib/python3.11/site-packages/jupyterlab/tests/mock_packages/test-hyphens/test_hyphens\n",
      "64\t./dvc-venv/lib/python3.11/site-packages/jupyterlab/tests/mock_packages/test-hyphens\n",
      "16\t./dvc-venv/lib/python3.11/site-packages/jupyterlab/tests/mock_packages/incompat\n",
      "16\t./dvc-venv/lib/python3.11/site-packages/jupyterlab/tests/mock_packages/mimeextension\n",
      "16\t./dvc-venv/lib/python3.11/site-packages/jupyterlab/tests/mock_packages/package\n",
      "408\t./dvc-venv/lib/python3.11/site-packages/jupyterlab/tests/mock_packages\n",
      "856\t./dvc-venv/lib/python3.11/site-packages/jupyterlab/tests\n",
      "8\t./dvc-venv/lib/python3.11/site-packages/jupyterlab/galata/__pycache__\n",
      "120\t./dvc-venv/lib/python3.11/site-packages/jupyterlab/galata/@jupyterlab/galata-extension/static\n",
      "176\t./dvc-venv/lib/python3.11/site-packages/jupyterlab/galata/@jupyterlab/galata-extension\n",
      "176\t./dvc-venv/lib/python3.11/site-packages/jupyterlab/galata/@jupyterlab\n",
      "192\t./dvc-venv/lib/python3.11/site-packages/jupyterlab/galata\n",
      "672\t./dvc-venv/lib/python3.11/site-packages/jupyterlab/__pycache__\n",
      "32\t./dvc-venv/lib/python3.11/site-packages/jupyterlab/schemas/@jupyterlab/fileeditor-extension\n",
      "32\t./dvc-venv/lib/python3.11/site-packages/jupyterlab/schemas/@jupyterlab/tooltip-extension\n",
      "16\t./dvc-venv/lib/python3.11/site-packages/jupyterlab/schemas/@jupyterlab/codemirror-extension\n",
      "16\t./dvc-venv/lib/python3.11/site-packages/jupyterlab/schemas/@jupyterlab/extensionmanager-extension\n",
      "64\t./dvc-venv/lib/python3.11/site-packages/jupyterlab/schemas/@jupyterlab/apputils-extension\n",
      "16\t./dvc-venv/lib/python3.11/site-packages/jupyterlab/schemas/@jupyterlab/toc-extension\n",
      "56\t./dvc-venv/lib/python3.11/site-packages/jupyterlab/schemas/@jupyterlab/filebrowser-extension\n",
      "16\t./dvc-venv/lib/python3.11/site-packages/jupyterlab/schemas/@jupyterlab/metadataform-extension\n",
      "16\t./dvc-venv/lib/python3.11/site-packages/jupyterlab/schemas/@jupyterlab/terminal-extension\n",
      "16\t./dvc-venv/lib/python3.11/site-packages/jupyterlab/schemas/@jupyterlab/statusbar-extension\n",
      "88\t./dvc-venv/lib/python3.11/site-packages/jupyterlab/schemas/@jupyterlab/notebook-extension\n",
      "16\t./dvc-venv/lib/python3.11/site-packages/jupyterlab/schemas/@jupyterlab/mathjax-extension\n",
      "24\t./dvc-venv/lib/python3.11/site-packages/jupyterlab/schemas/@jupyterlab/docmanager-extension\n",
      "16\t./dvc-venv/lib/python3.11/site-packages/jupyterlab/schemas/@jupyterlab/translation-extension\n",
      "16\t./dvc-venv/lib/python3.11/site-packages/jupyterlab/schemas/@jupyterlab/documentsearch-extension\n",
      "32\t./dvc-venv/lib/python3.11/site-packages/jupyterlab/schemas/@jupyterlab/help-extension\n",
      "16\t./dvc-venv/lib/python3.11/site-packages/jupyterlab/schemas/@jupyterlab/cell-toolbar-extension\n",
      "16\t./dvc-venv/lib/python3.11/site-packages/jupyterlab/schemas/@jupyterlab/celltags-extension\n",
      "32\t./dvc-venv/lib/python3.11/site-packages/jupyterlab/schemas/@jupyterlab/console-extension\n",
      "32\t./dvc-venv/lib/python3.11/site-packages/jupyterlab/schemas/@jupyterlab/inspector-extension\n",
      "16\t./dvc-venv/lib/python3.11/site-packages/jupyterlab/schemas/@jupyterlab/hub-extension\n",
      "16\t./dvc-venv/lib/python3.11/site-packages/jupyterlab/schemas/@jupyterlab/running-extension\n",
      "16\t./dvc-venv/lib/python3.11/site-packages/jupyterlab/schemas/@jupyterlab/markdownviewer-extension\n",
      "16\t./dvc-venv/lib/python3.11/site-packages/jupyterlab/schemas/@jupyterlab/lsp-extension\n",
      "56\t./dvc-venv/lib/python3.11/site-packages/jupyterlab/schemas/@jupyterlab/application-extension\n",
      "16\t./dvc-venv/lib/python3.11/site-packages/jupyterlab/schemas/@jupyterlab/htmlviewer-extension\n",
      "16\t./dvc-venv/lib/python3.11/site-packages/jupyterlab/schemas/@jupyterlab/logconsole-extension\n",
      "24\t./dvc-venv/lib/python3.11/site-packages/jupyterlab/schemas/@jupyterlab/csvviewer-extension\n",
      "16\t./dvc-venv/lib/python3.11/site-packages/jupyterlab/schemas/@jupyterlab/completer-extension\n",
      "24\t./dvc-venv/lib/python3.11/site-packages/jupyterlab/schemas/@jupyterlab/settingeditor-extension\n",
      "32\t./dvc-venv/lib/python3.11/site-packages/jupyterlab/schemas/@jupyterlab/mainmenu-extension\n",
      "16\t./dvc-venv/lib/python3.11/site-packages/jupyterlab/schemas/@jupyterlab/launcher-extension\n",
      "16\t./dvc-venv/lib/python3.11/site-packages/jupyterlab/schemas/@jupyterlab/shortcuts-extension\n",
      "16\t./dvc-venv/lib/python3.11/site-packages/jupyterlab/schemas/@jupyterlab/imageviewer-extension\n",
      "16\t./dvc-venv/lib/python3.11/site-packages/jupyterlab/schemas/@jupyterlab/debugger-extension\n",
      "880\t./dvc-venv/lib/python3.11/site-packages/jupyterlab/schemas/@jupyterlab\n",
      "880\t./dvc-venv/lib/python3.11/site-packages/jupyterlab/schemas\n",
      "144\t./dvc-venv/lib/python3.11/site-packages/jupyterlab/extensions/__pycache__\n",
      "248\t./dvc-venv/lib/python3.11/site-packages/jupyterlab/extensions\n",
      "23152\t./dvc-venv/lib/python3.11/site-packages/jupyterlab/static\n",
      "40\t./dvc-venv/lib/python3.11/site-packages/jupyterlab/themes/@jupyterlab/theme-dark-extension\n",
      "40\t./dvc-venv/lib/python3.11/site-packages/jupyterlab/themes/@jupyterlab/theme-light-extension\n",
      "80\t./dvc-venv/lib/python3.11/site-packages/jupyterlab/themes/@jupyterlab\n",
      "80\t./dvc-venv/lib/python3.11/site-packages/jupyterlab/themes\n",
      "88\t./dvc-venv/lib/python3.11/site-packages/jupyterlab/handlers/__pycache__\n",
      "160\t./dvc-venv/lib/python3.11/site-packages/jupyterlab/handlers\n",
      "31984\t./dvc-venv/lib/python3.11/site-packages/jupyterlab\n",
      "88\t./dvc-venv/lib/python3.11/site-packages/click_repl/__pycache__\n",
      "160\t./dvc-venv/lib/python3.11/site-packages/click_repl\n",
      "8\t./dvc-venv/lib/python3.11/site-packages/platformdirs-3.11.0.dist-info/licenses\n",
      "56\t./dvc-venv/lib/python3.11/site-packages/platformdirs-3.11.0.dist-info\n",
      "56\t./dvc-venv/lib/python3.11/site-packages/argon2_cffi_bindings-21.2.0.dist-info\n",
      "56\t./dvc-venv/lib/python3.11/site-packages/Send2Trash-1.8.2.dist-info\n",
      "8\t./dvc-venv/lib/python3.11/site-packages/jsonschema_specifications/tests/__pycache__\n",
      "16\t./dvc-venv/lib/python3.11/site-packages/jsonschema_specifications/tests\n",
      "16\t./dvc-venv/lib/python3.11/site-packages/jsonschema_specifications/__pycache__\n",
      "16\t./dvc-venv/lib/python3.11/site-packages/jsonschema_specifications/schemas/draft6\n",
      "16\t./dvc-venv/lib/python3.11/site-packages/jsonschema_specifications/schemas/draft7\n",
      "40\t./dvc-venv/lib/python3.11/site-packages/jsonschema_specifications/schemas/draft201909/vocabularies\n",
      "48\t./dvc-venv/lib/python3.11/site-packages/jsonschema_specifications/schemas/draft201909\n",
      "72\t./dvc-venv/lib/python3.11/site-packages/jsonschema_specifications/schemas/draft202012/vocabularies\n",
      "80\t./dvc-venv/lib/python3.11/site-packages/jsonschema_specifications/schemas/draft202012\n",
      "16\t./dvc-venv/lib/python3.11/site-packages/jsonschema_specifications/schemas/draft4\n",
      "8\t./dvc-venv/lib/python3.11/site-packages/jsonschema_specifications/schemas/draft3\n",
      "184\t./dvc-venv/lib/python3.11/site-packages/jsonschema_specifications/schemas\n",
      "232\t./dvc-venv/lib/python3.11/site-packages/jsonschema_specifications\n",
      "392\t./dvc-venv/lib/python3.11/site-packages/setuptools/_vendor/packaging/__pycache__\n",
      "728\t./dvc-venv/lib/python3.11/site-packages/setuptools/_vendor/packaging\n"
     ]
    },
    {
     "name": "stdout",
     "output_type": "stream",
     "text": [
      "80\t./dvc-venv/lib/python3.11/site-packages/setuptools/_vendor/jaraco/__pycache__\n",
      "56\t./dvc-venv/lib/python3.11/site-packages/setuptools/_vendor/jaraco/text/__pycache__\n",
      "88\t./dvc-venv/lib/python3.11/site-packages/setuptools/_vendor/jaraco/text\n",
      "216\t./dvc-venv/lib/python3.11/site-packages/setuptools/_vendor/jaraco\n",
      "184\t./dvc-venv/lib/python3.11/site-packages/setuptools/_vendor/importlib_metadata/__pycache__\n",
      "304\t./dvc-venv/lib/python3.11/site-packages/setuptools/_vendor/importlib_metadata\n",
      "304\t./dvc-venv/lib/python3.11/site-packages/setuptools/_vendor/__pycache__\n",
      "352\t./dvc-venv/lib/python3.11/site-packages/setuptools/_vendor/more_itertools/__pycache__\n",
      "624\t./dvc-venv/lib/python3.11/site-packages/setuptools/_vendor/more_itertools\n",
      "160\t./dvc-venv/lib/python3.11/site-packages/setuptools/_vendor/importlib_resources/__pycache__\n",
      "256\t./dvc-venv/lib/python3.11/site-packages/setuptools/_vendor/importlib_resources\n",
      "96\t./dvc-venv/lib/python3.11/site-packages/setuptools/_vendor/tomli/__pycache__\n",
      "168\t./dvc-venv/lib/python3.11/site-packages/setuptools/_vendor/tomli\n",
      "2832\t./dvc-venv/lib/python3.11/site-packages/setuptools/_vendor\n",
      "240\t./dvc-venv/lib/python3.11/site-packages/setuptools/config/__pycache__\n",
      "480\t./dvc-venv/lib/python3.11/site-packages/setuptools/config/_validate_pyproject/__pycache__\n",
      "1096\t./dvc-venv/lib/python3.11/site-packages/setuptools/config/_validate_pyproject\n",
      "1512\t./dvc-venv/lib/python3.11/site-packages/setuptools/config\n",
      "896\t./dvc-venv/lib/python3.11/site-packages/setuptools/__pycache__\n",
      "872\t./dvc-venv/lib/python3.11/site-packages/setuptools/command/__pycache__\n",
      "1520\t./dvc-venv/lib/python3.11/site-packages/setuptools/command\n",
      "16\t./dvc-venv/lib/python3.11/site-packages/setuptools/extern/__pycache__\n",
      "24\t./dvc-venv/lib/python3.11/site-packages/setuptools/extern\n",
      "1040\t./dvc-venv/lib/python3.11/site-packages/setuptools/_distutils/__pycache__\n",
      "544\t./dvc-venv/lib/python3.11/site-packages/setuptools/_distutils/command/__pycache__\n",
      "1056\t./dvc-venv/lib/python3.11/site-packages/setuptools/_distutils/command\n",
      "3032\t./dvc-venv/lib/python3.11/site-packages/setuptools/_distutils\n",
      "10728\t./dvc-venv/lib/python3.11/site-packages/setuptools\n",
      "392\t./dvc-venv/lib/python3.11/site-packages/pkg_resources/_vendor/packaging/__pycache__\n",
      "728\t./dvc-venv/lib/python3.11/site-packages/pkg_resources/_vendor/packaging\n",
      "80\t./dvc-venv/lib/python3.11/site-packages/pkg_resources/_vendor/jaraco/__pycache__\n",
      "56\t./dvc-venv/lib/python3.11/site-packages/pkg_resources/_vendor/jaraco/text/__pycache__\n",
      "88\t./dvc-venv/lib/python3.11/site-packages/pkg_resources/_vendor/jaraco/text\n",
      "216\t./dvc-venv/lib/python3.11/site-packages/pkg_resources/_vendor/jaraco\n",
      "232\t./dvc-venv/lib/python3.11/site-packages/pkg_resources/_vendor/__pycache__\n",
      "416\t./dvc-venv/lib/python3.11/site-packages/pkg_resources/_vendor/more_itertools/__pycache__\n",
      "744\t./dvc-venv/lib/python3.11/site-packages/pkg_resources/_vendor/more_itertools\n",
      "160\t./dvc-venv/lib/python3.11/site-packages/pkg_resources/_vendor/importlib_resources/__pycache__\n",
      "256\t./dvc-venv/lib/python3.11/site-packages/pkg_resources/_vendor/importlib_resources\n",
      "144\t./dvc-venv/lib/python3.11/site-packages/pkg_resources/_vendor/platformdirs/__pycache__\n",
      "256\t./dvc-venv/lib/python3.11/site-packages/pkg_resources/_vendor/platformdirs\n",
      "2616\t./dvc-venv/lib/python3.11/site-packages/pkg_resources/_vendor\n",
      "320\t./dvc-venv/lib/python3.11/site-packages/pkg_resources/__pycache__\n",
      "16\t./dvc-venv/lib/python3.11/site-packages/pkg_resources/extern/__pycache__\n",
      "24\t./dvc-venv/lib/python3.11/site-packages/pkg_resources/extern\n",
      "3176\t./dvc-venv/lib/python3.11/site-packages/pkg_resources\n",
      "32\t./dvc-venv/lib/python3.11/site-packages/notebook/tree/tests/__pycache__\n",
      "48\t./dvc-venv/lib/python3.11/site-packages/notebook/tree/tests\n",
      "24\t./dvc-venv/lib/python3.11/site-packages/notebook/tree/__pycache__\n",
      "80\t./dvc-venv/lib/python3.11/site-packages/notebook/tree\n",
      "24\t./dvc-venv/lib/python3.11/site-packages/notebook/auth/tests/__pycache__\n",
      "40\t./dvc-venv/lib/python3.11/site-packages/notebook/auth/tests\n",
      "72\t./dvc-venv/lib/python3.11/site-packages/notebook/auth/__pycache__\n",
      "176\t./dvc-venv/lib/python3.11/site-packages/notebook/auth\n",
      "384\t./dvc-venv/lib/python3.11/site-packages/notebook/tests/selenium/__pycache__\n",
      "680\t./dvc-venv/lib/python3.11/site-packages/notebook/tests/selenium\n",
      "8\t./dvc-venv/lib/python3.11/site-packages/notebook/tests/mockextension\n",
      "368\t./dvc-venv/lib/python3.11/site-packages/notebook/tests/__pycache__\n",
      "176\t./dvc-venv/lib/python3.11/site-packages/notebook/tests/notebook\n",
      "40\t./dvc-venv/lib/python3.11/site-packages/notebook/tests/base\n",
      "56\t./dvc-venv/lib/python3.11/site-packages/notebook/tests/services\n",
      "1616\t./dvc-venv/lib/python3.11/site-packages/notebook/tests\n",
      "40\t./dvc-venv/lib/python3.11/site-packages/notebook/terminal/tests/__pycache__\n",
      "56\t./dvc-venv/lib/python3.11/site-packages/notebook/terminal/tests\n",
      "56\t./dvc-venv/lib/python3.11/site-packages/notebook/terminal/__pycache__\n",
      "152\t./dvc-venv/lib/python3.11/site-packages/notebook/terminal\n",
      "624\t./dvc-venv/lib/python3.11/site-packages/notebook/__pycache__\n",
      "16\t./dvc-venv/lib/python3.11/site-packages/notebook/edit/__pycache__\n",
      "24\t./dvc-venv/lib/python3.11/site-packages/notebook/edit\n",
      "5664\t./dvc-venv/lib/python3.11/site-packages/notebook/static/tree/js\n",
      "5664\t./dvc-venv/lib/python3.11/site-packages/notebook/static/tree\n",
      "8\t./dvc-venv/lib/python3.11/site-packages/notebook/static/auth/css\n",
      "440\t./dvc-venv/lib/python3.11/site-packages/notebook/static/auth/js\n",
      "448\t./dvc-venv/lib/python3.11/site-packages/notebook/static/auth\n",
      "16\t./dvc-venv/lib/python3.11/site-packages/notebook/static/bidi\n",
      "8\t./dvc-venv/lib/python3.11/site-packages/notebook/static/terminal/css\n",
      "5520\t./dvc-venv/lib/python3.11/site-packages/notebook/static/terminal/js\n",
      "5528\t./dvc-venv/lib/python3.11/site-packages/notebook/static/terminal\n",
      "952\t./dvc-venv/lib/python3.11/site-packages/notebook/static/style\n",
      "6424\t./dvc-venv/lib/python3.11/site-packages/notebook/static/edit/js\n",
      "6424\t./dvc-venv/lib/python3.11/site-packages/notebook/static/edit\n",
      "32\t./dvc-venv/lib/python3.11/site-packages/notebook/static/components/codemirror/mode/scheme\n",
      "16\t./dvc-venv/lib/python3.11/site-packages/notebook/static/components/codemirror/mode/modelica\n",
      "32\t./dvc-venv/lib/python3.11/site-packages/notebook/static/components/codemirror/mode/idl\n",
      "16\t./dvc-venv/lib/python3.11/site-packages/notebook/static/components/codemirror/mode/pascal\n",
      "16\t./dvc-venv/lib/python3.11/site-packages/notebook/static/components/codemirror/mode/nsis\n",
      "16\t./dvc-venv/lib/python3.11/site-packages/notebook/static/components/codemirror/mode/haml\n",
      "8\t./dvc-venv/lib/python3.11/site-packages/notebook/static/components/codemirror/mode/toml\n",
      "16\t./dvc-venv/lib/python3.11/site-packages/notebook/static/components/codemirror/mode/pig\n",
      "24\t./dvc-venv/lib/python3.11/site-packages/notebook/static/components/codemirror/mode/gas\n",
      "16\t./dvc-venv/lib/python3.11/site-packages/notebook/static/components/codemirror/mode/go\n",
      "16\t./dvc-venv/lib/python3.11/site-packages/notebook/static/components/codemirror/mode/apl\n",
      "32\t./dvc-venv/lib/python3.11/site-packages/notebook/static/components/codemirror/mode/textile\n",
      "16\t./dvc-venv/lib/python3.11/site-packages/notebook/static/components/codemirror/mode/turtle\n",
      "16\t./dvc-venv/lib/python3.11/site-packages/notebook/static/components/codemirror/mode/sparql\n",
      "8\t./dvc-venv/lib/python3.11/site-packages/notebook/static/components/codemirror/mode/troff\n",
      "8\t./dvc-venv/lib/python3.11/site-packages/notebook/static/components/codemirror/mode/cmake\n",
      "8\t./dvc-venv/lib/python3.11/site-packages/notebook/static/components/codemirror/mode/htmlembedded\n",
      "32\t./dvc-venv/lib/python3.11/site-packages/notebook/static/components/codemirror/mode/xquery\n",
      "32\t./dvc-venv/lib/python3.11/site-packages/notebook/static/components/codemirror/mode/python\n",
      "80\t./dvc-venv/lib/python3.11/site-packages/notebook/static/components/codemirror/mode/css\n",
      "32\t./dvc-venv/lib/python3.11/site-packages/notebook/static/components/codemirror/mode/clojure\n",
      "8\t./dvc-venv/lib/python3.11/site-packages/notebook/static/components/codemirror/mode/spreadsheet\n",
      "16\t./dvc-venv/lib/python3.11/site-packages/notebook/static/components/codemirror/mode/asn.1\n",
      "8\t./dvc-venv/lib/python3.11/site-packages/notebook/static/components/codemirror/mode/z80\n",
      "16\t./dvc-venv/lib/python3.11/site-packages/notebook/static/components/codemirror/mode/jinja2\n"
     ]
    },
    {
     "name": "stdout",
     "output_type": "stream",
     "text": [
      "32\t./dvc-venv/lib/python3.11/site-packages/notebook/static/components/codemirror/mode/gherkin\n",
      "16\t./dvc-venv/lib/python3.11/site-packages/notebook/static/components/codemirror/mode/asterisk\n",
      "16\t./dvc-venv/lib/python3.11/site-packages/notebook/static/components/codemirror/mode/dockerfile\n",
      "16\t./dvc-venv/lib/python3.11/site-packages/notebook/static/components/codemirror/mode/dart\n",
      "16\t./dvc-venv/lib/python3.11/site-packages/notebook/static/components/codemirror/mode/shell\n",
      "16\t./dvc-venv/lib/python3.11/site-packages/notebook/static/components/codemirror/mode/yacas\n",
      "64\t./dvc-venv/lib/python3.11/site-packages/notebook/static/components/codemirror/mode/markdown\n",
      "40\t./dvc-venv/lib/python3.11/site-packages/notebook/static/components/codemirror/mode/haxe\n",
      "48\t./dvc-venv/lib/python3.11/site-packages/notebook/static/components/codemirror/mode/soy\n",
      "112\t./dvc-venv/lib/python3.11/site-packages/notebook/static/components/codemirror/mode/perl\n",
      "16\t./dvc-venv/lib/python3.11/site-packages/notebook/static/components/codemirror/mode/smalltalk\n",
      "24\t./dvc-venv/lib/python3.11/site-packages/notebook/static/components/codemirror/mode/dylan\n",
      "88\t./dvc-venv/lib/python3.11/site-packages/notebook/static/components/codemirror/mode/stylus\n",
      "8\t./dvc-venv/lib/python3.11/site-packages/notebook/static/components/codemirror/mode/vue\n",
      "8\t./dvc-venv/lib/python3.11/site-packages/notebook/static/components/codemirror/mode/rust\n",
      "40\t./dvc-venv/lib/python3.11/site-packages/notebook/static/components/codemirror/mode/rst\n",
      "32\t./dvc-venv/lib/python3.11/site-packages/notebook/static/components/codemirror/mode/tiddlywiki\n",
      "32\t./dvc-venv/lib/python3.11/site-packages/notebook/static/components/codemirror/mode/pug\n",
      "40\t./dvc-venv/lib/python3.11/site-packages/notebook/static/components/codemirror/mode/erlang\n",
      "16\t./dvc-venv/lib/python3.11/site-packages/notebook/static/components/codemirror/mode/r\n",
      "16\t./dvc-venv/lib/python3.11/site-packages/notebook/static/components/codemirror/mode/mathematica\n",
      "8\t./dvc-venv/lib/python3.11/site-packages/notebook/static/components/codemirror/mode/yaml-frontmatter\n",
      "8\t./dvc-venv/lib/python3.11/site-packages/notebook/static/components/codemirror/mode/diff\n",
      "16\t./dvc-venv/lib/python3.11/site-packages/notebook/static/components/codemirror/mode/elm\n",
      "32\t./dvc-venv/lib/python3.11/site-packages/notebook/static/components/codemirror/mode/crystal\n",
      "16\t./dvc-venv/lib/python3.11/site-packages/notebook/static/components/codemirror/mode/cypher\n",
      "16\t./dvc-venv/lib/python3.11/site-packages/notebook/static/components/codemirror/mode/htmlmixed\n",
      "16\t./dvc-venv/lib/python3.11/site-packages/notebook/static/components/codemirror/mode/ebnf\n",
      "16\t./dvc-venv/lib/python3.11/site-packages/notebook/static/components/codemirror/mode/webidl\n",
      "16\t./dvc-venv/lib/python3.11/site-packages/notebook/static/components/codemirror/mode/smarty\n",
      "16\t./dvc-venv/lib/python3.11/site-packages/notebook/static/components/codemirror/mode/stex\n",
      "16\t./dvc-venv/lib/python3.11/site-packages/notebook/static/components/codemirror/mode/haskell\n",
      "8\t./dvc-venv/lib/python3.11/site-packages/notebook/static/components/codemirror/mode/factor\n",
      "40\t./dvc-venv/lib/python3.11/site-packages/notebook/static/components/codemirror/mode/php\n",
      "8\t./dvc-venv/lib/python3.11/site-packages/notebook/static/components/codemirror/mode/pegjs\n",
      "16\t./dvc-venv/lib/python3.11/site-packages/notebook/static/components/codemirror/mode/lua\n",
      "16\t./dvc-venv/lib/python3.11/site-packages/notebook/static/components/codemirror/mode/velocity\n",
      "32\t./dvc-venv/lib/python3.11/site-packages/notebook/static/components/codemirror/mode/xml\n",
      "8\t./dvc-venv/lib/python3.11/site-packages/notebook/static/components/codemirror/mode/solr\n",
      "8\t./dvc-venv/lib/python3.11/site-packages/notebook/static/components/codemirror/mode/mbox\n",
      "24\t./dvc-venv/lib/python3.11/site-packages/notebook/static/components/codemirror/mode/mllike\n",
      "24\t./dvc-venv/lib/python3.11/site-packages/notebook/static/components/codemirror/mode/vb\n",
      "32\t./dvc-venv/lib/python3.11/site-packages/notebook/static/components/codemirror/mode/powershell\n",
      "8\t./dvc-venv/lib/python3.11/site-packages/notebook/static/components/codemirror/mode/tornado\n",
      "16\t./dvc-venv/lib/python3.11/site-packages/notebook/static/components/codemirror/mode/vhdl\n",
      "32\t./dvc-venv/lib/python3.11/site-packages/notebook/static/components/codemirror/mode/tiki\n",
      "80\t./dvc-venv/lib/python3.11/site-packages/notebook/static/components/codemirror/mode/clike\n",
      "16\t./dvc-venv/lib/python3.11/site-packages/notebook/static/components/codemirror/mode/tcl\n",
      "8\t./dvc-venv/lib/python3.11/site-packages/notebook/static/components/codemirror/mode/brainfuck\n",
      "24\t./dvc-venv/lib/python3.11/site-packages/notebook/static/components/codemirror/mode/ttcn\n",
      "16\t./dvc-venv/lib/python3.11/site-packages/notebook/static/components/codemirror/mode/dtd\n",
      "16\t./dvc-venv/lib/python3.11/site-packages/notebook/static/components/codemirror/mode/octave\n",
      "8\t./dvc-venv/lib/python3.11/site-packages/notebook/static/components/codemirror/mode/properties\n",
      "56\t./dvc-venv/lib/python3.11/site-packages/notebook/static/components/codemirror/mode/verilog\n",
      "8\t./dvc-venv/lib/python3.11/site-packages/notebook/static/components/codemirror/mode/handlebars\n",
      "24\t./dvc-venv/lib/python3.11/site-packages/notebook/static/components/codemirror/mode/nginx\n",
      "8\t./dvc-venv/lib/python3.11/site-packages/notebook/static/components/codemirror/mode/http\n",
      "8\t./dvc-venv/lib/python3.11/site-packages/notebook/static/components/codemirror/mode/asciiarmor\n",
      "16\t./dvc-venv/lib/python3.11/site-packages/notebook/static/components/codemirror/mode/swift\n",
      "32\t./dvc-venv/lib/python3.11/site-packages/notebook/static/components/codemirror/mode/sas\n",
      "16\t./dvc-venv/lib/python3.11/site-packages/notebook/static/components/codemirror/mode/sieve\n",
      "16\t./dvc-venv/lib/python3.11/site-packages/notebook/static/components/codemirror/mode/livescript\n",
      "16\t./dvc-venv/lib/python3.11/site-packages/notebook/static/components/codemirror/mode/commonlisp\n",
      "16\t./dvc-venv/lib/python3.11/site-packages/notebook/static/components/codemirror/mode/fcl\n",
      "8\t./dvc-venv/lib/python3.11/site-packages/notebook/static/components/codemirror/mode/yaml\n",
      "24\t./dvc-venv/lib/python3.11/site-packages/notebook/static/components/codemirror/mode/fortran\n",
      "32\t./dvc-venv/lib/python3.11/site-packages/notebook/static/components/codemirror/mode/julia\n",
      "16\t./dvc-venv/lib/python3.11/site-packages/notebook/static/components/codemirror/mode/oz\n",
      "16\t./dvc-venv/lib/python3.11/site-packages/notebook/static/components/codemirror/mode/groovy\n",
      "24\t./dvc-venv/lib/python3.11/site-packages/notebook/static/components/codemirror/mode/coffeescript\n",
      "8\t./dvc-venv/lib/python3.11/site-packages/notebook/static/components/codemirror/mode/wast\n",
      "40\t./dvc-venv/lib/python3.11/site-packages/notebook/static/components/codemirror/mode/slim\n",
      "80\t./dvc-venv/lib/python3.11/site-packages/notebook/static/components/codemirror/mode/javascript\n",
      "16\t./dvc-venv/lib/python3.11/site-packages/notebook/static/components/codemirror/mode/mscgen\n",
      "16\t./dvc-venv/lib/python3.11/site-packages/notebook/static/components/codemirror/mode/twig\n",
      "8\t./dvc-venv/lib/python3.11/site-packages/notebook/static/components/codemirror/mode/eiffel\n",
      "24\t./dvc-venv/lib/python3.11/site-packages/notebook/static/components/codemirror/mode/cobol\n",
      "24\t./dvc-venv/lib/python3.11/site-packages/notebook/static/components/codemirror/mode/sass\n",
      "8\t./dvc-venv/lib/python3.11/site-packages/notebook/static/components/codemirror/mode/rpm\n",
      "16\t./dvc-venv/lib/python3.11/site-packages/notebook/static/components/codemirror/mode/mumps\n",
      "32\t./dvc-venv/lib/python3.11/site-packages/notebook/static/components/codemirror/mode/vbscript\n",
      "16\t./dvc-venv/lib/python3.11/site-packages/notebook/static/components/codemirror/mode/ttcn-cfg\n",
      "16\t./dvc-venv/lib/python3.11/site-packages/notebook/static/components/codemirror/mode/forth\n",
      "16\t./dvc-venv/lib/python3.11/site-packages/notebook/static/components/codemirror/mode/puppet\n",
      "24\t./dvc-venv/lib/python3.11/site-packages/notebook/static/components/codemirror/mode/django\n",
      "16\t./dvc-venv/lib/python3.11/site-packages/notebook/static/components/codemirror/mode/d\n",
      "16\t./dvc-venv/lib/python3.11/site-packages/notebook/static/components/codemirror/mode/q\n",
      "16\t./dvc-venv/lib/python3.11/site-packages/notebook/static/components/codemirror/mode/jsx\n",
      "8\t./dvc-venv/lib/python3.11/site-packages/notebook/static/components/codemirror/mode/protobuf\n"
     ]
    },
    {
     "name": "stdout",
     "output_type": "stream",
     "text": [
      "16\t./dvc-venv/lib/python3.11/site-packages/notebook/static/components/codemirror/mode/gfm\n",
      "24\t./dvc-venv/lib/python3.11/site-packages/notebook/static/components/codemirror/mode/ecl\n",
      "24\t./dvc-venv/lib/python3.11/site-packages/notebook/static/components/codemirror/mode/ruby\n",
      "24\t./dvc-venv/lib/python3.11/site-packages/notebook/static/components/codemirror/mode/mirc\n",
      "8\t./dvc-venv/lib/python3.11/site-packages/notebook/static/components/codemirror/mode/haskell-literate\n",
      "16\t./dvc-venv/lib/python3.11/site-packages/notebook/static/components/codemirror/mode/ntriples\n",
      "96\t./dvc-venv/lib/python3.11/site-packages/notebook/static/components/codemirror/mode/sql\n",
      "2808\t./dvc-venv/lib/python3.11/site-packages/notebook/static/components/codemirror/mode\n",
      "568\t./dvc-venv/lib/python3.11/site-packages/notebook/static/components/codemirror/theme\n",
      "512\t./dvc-venv/lib/python3.11/site-packages/notebook/static/components/codemirror/keymap\n",
      "800\t./dvc-venv/lib/python3.11/site-packages/notebook/static/components/codemirror/lib\n",
      "144\t./dvc-venv/lib/python3.11/site-packages/notebook/static/components/codemirror/addon/hint\n",
      "80\t./dvc-venv/lib/python3.11/site-packages/notebook/static/components/codemirror/addon/lint\n",
      "48\t./dvc-venv/lib/python3.11/site-packages/notebook/static/components/codemirror/addon/scroll\n",
      "56\t./dvc-venv/lib/python3.11/site-packages/notebook/static/components/codemirror/addon/mode\n",
      "88\t./dvc-venv/lib/python3.11/site-packages/notebook/static/components/codemirror/addon/merge\n",
      "40\t./dvc-venv/lib/python3.11/site-packages/notebook/static/components/codemirror/addon/comment\n",
      "88\t./dvc-venv/lib/python3.11/site-packages/notebook/static/components/codemirror/addon/search\n",
      "24\t./dvc-venv/lib/python3.11/site-packages/notebook/static/components/codemirror/addon/dialog\n",
      "80\t./dvc-venv/lib/python3.11/site-packages/notebook/static/components/codemirror/addon/edit\n",
      "16\t./dvc-venv/lib/python3.11/site-packages/notebook/static/components/codemirror/addon/wrap\n",
      "88\t./dvc-venv/lib/python3.11/site-packages/notebook/static/components/codemirror/addon/fold\n",
      "56\t./dvc-venv/lib/python3.11/site-packages/notebook/static/components/codemirror/addon/display\n",
      "24\t./dvc-venv/lib/python3.11/site-packages/notebook/static/components/codemirror/addon/selection\n",
      "72\t./dvc-venv/lib/python3.11/site-packages/notebook/static/components/codemirror/addon/tern\n",
      "64\t./dvc-venv/lib/python3.11/site-packages/notebook/static/components/codemirror/addon/runmode\n",
      "968\t./dvc-venv/lib/python3.11/site-packages/notebook/static/components/codemirror/addon\n",
      "72\t./dvc-venv/lib/python3.11/site-packages/notebook/static/components/codemirror/src/measurement\n",
      "88\t./dvc-venv/lib/python3.11/site-packages/notebook/static/components/codemirror/src/util\n",
      "136\t./dvc-venv/lib/python3.11/site-packages/notebook/static/components/codemirror/src/input\n",
      "216\t./dvc-venv/lib/python3.11/site-packages/notebook/static/components/codemirror/src/edit\n",
      "112\t./dvc-venv/lib/python3.11/site-packages/notebook/static/components/codemirror/src/line\n",
      "184\t./dvc-venv/lib/python3.11/site-packages/notebook/static/components/codemirror/src/model\n",
      "32\t./dvc-venv/lib/python3.11/site-packages/notebook/static/components/codemirror/src/addon/runmode\n",
      "32\t./dvc-venv/lib/python3.11/site-packages/notebook/static/components/codemirror/src/addon\n",
      "200\t./dvc-venv/lib/python3.11/site-packages/notebook/static/components/codemirror/src/display\n",
      "1056\t./dvc-venv/lib/python3.11/site-packages/notebook/static/components/codemirror/src\n",
      "6720\t./dvc-venv/lib/python3.11/site-packages/notebook/static/components/codemirror\n",
      "80\t./dvc-venv/lib/python3.11/site-packages/notebook/static/components/bootstrap/dist/js\n",
      "80\t./dvc-venv/lib/python3.11/site-packages/notebook/static/components/bootstrap/dist\n",
      "80\t./dvc-venv/lib/python3.11/site-packages/notebook/static/components/bootstrap\n",
      "2784\t./dvc-venv/lib/python3.11/site-packages/notebook/static/components/moment/min\n",
      "3040\t./dvc-venv/lib/python3.11/site-packages/notebook/static/components/moment\n",
      "512\t./dvc-venv/lib/python3.11/site-packages/notebook/static/components/xterm.js\n",
      "136\t./dvc-venv/lib/python3.11/site-packages/notebook/static/components/text-encoding/lib\n",
      "136\t./dvc-venv/lib/python3.11/site-packages/notebook/static/components/text-encoding\n",
      "88\t./dvc-venv/lib/python3.11/site-packages/notebook/static/components/marked/lib\n",
      "88\t./dvc-venv/lib/python3.11/site-packages/notebook/static/components/marked\n",
      "176\t./dvc-venv/lib/python3.11/site-packages/notebook/static/components/jquery\n",
      "176\t./dvc-venv/lib/python3.11/site-packages/notebook/static/components/requirejs\n",
      "1504\t./dvc-venv/lib/python3.11/site-packages/notebook/static/components/sanitizer\n",
      "40\t./dvc-venv/lib/python3.11/site-packages/notebook/static/components/underscore\n",
      "728\t./dvc-venv/lib/python3.11/site-packages/notebook/static/components/MathJax/config\n",
      "8\t./dvc-venv/lib/python3.11/site-packages/notebook/static/components/MathJax/extensions/HTML-CSS\n",
      "56\t./dvc-venv/lib/python3.11/site-packages/notebook/static/components/MathJax/extensions/TeX/mhchem3\n",
      "320\t./dvc-venv/lib/python3.11/site-packages/notebook/static/components/MathJax/extensions/TeX\n",
      "120\t./dvc-venv/lib/python3.11/site-packages/notebook/static/components/MathJax/extensions/MathML\n",
      "5472\t./dvc-venv/lib/python3.11/site-packages/notebook/static/components/MathJax/extensions/a11y/mathmaps\n",
      "7408\t./dvc-venv/lib/python3.11/site-packages/notebook/static/components/MathJax/extensions/a11y\n",
      "8144\t./dvc-venv/lib/python3.11/site-packages/notebook/static/components/MathJax/extensions\n",
      "112\t./dvc-venv/lib/python3.11/site-packages/notebook/static/components/MathJax/jax/input/TeX\n",
      "112\t./dvc-venv/lib/python3.11/site-packages/notebook/static/components/MathJax/jax/input\n",
      "160\t./dvc-venv/lib/python3.11/site-packages/notebook/static/components/MathJax/jax/element/mml/optable\n",
      "240\t./dvc-venv/lib/python3.11/site-packages/notebook/static/components/MathJax/jax/element/mml\n",
      "240\t./dvc-venv/lib/python3.11/site-packages/notebook/static/components/MathJax/jax/element\n",
      "104\t./dvc-venv/lib/python3.11/site-packages/notebook/static/components/MathJax/jax/output/SVG/autoload\n",
      "48\t./dvc-venv/lib/python3.11/site-packages/notebook/static/components/MathJax/jax/output/SVG/fonts/STIX-Web/Monospace/Regular\n",
      "48\t./dvc-venv/lib/python3.11/site-packages/notebook/static/components/MathJax/jax/output/SVG/fonts/STIX-Web/Monospace\n",
      "24\t./dvc-venv/lib/python3.11/site-packages/notebook/static/components/MathJax/jax/output/SVG/fonts/STIX-Web/Size4/Regular\n",
      "24\t./dvc-venv/lib/python3.11/site-packages/notebook/static/components/MathJax/jax/output/SVG/fonts/STIX-Web/Size4\n",
      "144\t./dvc-venv/lib/python3.11/site-packages/notebook/static/components/MathJax/jax/output/SVG/fonts/STIX-Web/Misc/Italic\n",
      "144\t./dvc-venv/lib/python3.11/site-packages/notebook/static/components/MathJax/jax/output/SVG/fonts/STIX-Web/Misc/Bold\n",
      "144\t./dvc-venv/lib/python3.11/site-packages/notebook/static/components/MathJax/jax/output/SVG/fonts/STIX-Web/Misc/BoldItalic\n",
      "208\t./dvc-venv/lib/python3.11/site-packages/notebook/static/components/MathJax/jax/output/SVG/fonts/STIX-Web/Misc/Regular\n",
      "640\t./dvc-venv/lib/python3.11/site-packages/notebook/static/components/MathJax/jax/output/SVG/fonts/STIX-Web/Misc\n",
      "24\t./dvc-venv/lib/python3.11/site-packages/notebook/static/components/MathJax/jax/output/SVG/fonts/STIX-Web/Size3/Regular\n",
      "24\t./dvc-venv/lib/python3.11/site-packages/notebook/static/components/MathJax/jax/output/SVG/fonts/STIX-Web/Size3\n",
      "152\t./dvc-venv/lib/python3.11/site-packages/notebook/static/components/MathJax/jax/output/SVG/fonts/STIX-Web/Alphabets/Italic\n",
      "128\t./dvc-venv/lib/python3.11/site-packages/notebook/static/components/MathJax/jax/output/SVG/fonts/STIX-Web/Alphabets/Bold\n",
      "152\t./dvc-venv/lib/python3.11/site-packages/notebook/static/components/MathJax/jax/output/SVG/fonts/STIX-Web/Alphabets/BoldItalic\n",
      "136\t./dvc-venv/lib/python3.11/site-packages/notebook/static/components/MathJax/jax/output/SVG/fonts/STIX-Web/Alphabets/Regular\n",
      "568\t./dvc-venv/lib/python3.11/site-packages/notebook/static/components/MathJax/jax/output/SVG/fonts/STIX-Web/Alphabets\n",
      "24\t./dvc-venv/lib/python3.11/site-packages/notebook/static/components/MathJax/jax/output/SVG/fonts/STIX-Web/Size2/Regular\n",
      "24\t./dvc-venv/lib/python3.11/site-packages/notebook/static/components/MathJax/jax/output/SVG/fonts/STIX-Web/Size2\n",
      "32\t./dvc-venv/lib/python3.11/site-packages/notebook/static/components/MathJax/jax/output/SVG/fonts/STIX-Web/Size5/Regular\n"
     ]
    },
    {
     "name": "stdout",
     "output_type": "stream",
     "text": [
      "32\t./dvc-venv/lib/python3.11/site-packages/notebook/static/components/MathJax/jax/output/SVG/fonts/STIX-Web/Size5\n",
      "32\t./dvc-venv/lib/python3.11/site-packages/notebook/static/components/MathJax/jax/output/SVG/fonts/STIX-Web/Variants/Italic\n",
      "56\t./dvc-venv/lib/python3.11/site-packages/notebook/static/components/MathJax/jax/output/SVG/fonts/STIX-Web/Variants/Bold\n",
      "32\t./dvc-venv/lib/python3.11/site-packages/notebook/static/components/MathJax/jax/output/SVG/fonts/STIX-Web/Variants/BoldItalic\n",
      "88\t./dvc-venv/lib/python3.11/site-packages/notebook/static/components/MathJax/jax/output/SVG/fonts/STIX-Web/Variants/Regular\n",
      "208\t./dvc-venv/lib/python3.11/site-packages/notebook/static/components/MathJax/jax/output/SVG/fonts/STIX-Web/Variants\n",
      "56\t./dvc-venv/lib/python3.11/site-packages/notebook/static/components/MathJax/jax/output/SVG/fonts/STIX-Web/SansSerif/Italic\n",
      "56\t./dvc-venv/lib/python3.11/site-packages/notebook/static/components/MathJax/jax/output/SVG/fonts/STIX-Web/SansSerif/Bold\n",
      "56\t./dvc-venv/lib/python3.11/site-packages/notebook/static/components/MathJax/jax/output/SVG/fonts/STIX-Web/SansSerif/BoldItalic\n",
      "56\t./dvc-venv/lib/python3.11/site-packages/notebook/static/components/MathJax/jax/output/SVG/fonts/STIX-Web/SansSerif/Regular\n",
      "224\t./dvc-venv/lib/python3.11/site-packages/notebook/static/components/MathJax/jax/output/SVG/fonts/STIX-Web/SansSerif\n",
      "96\t./dvc-venv/lib/python3.11/site-packages/notebook/static/components/MathJax/jax/output/SVG/fonts/STIX-Web/Operators/Bold\n",
      "208\t./dvc-venv/lib/python3.11/site-packages/notebook/static/components/MathJax/jax/output/SVG/fonts/STIX-Web/Operators/Regular\n",
      "304\t./dvc-venv/lib/python3.11/site-packages/notebook/static/components/MathJax/jax/output/SVG/fonts/STIX-Web/Operators\n",
      "32\t./dvc-venv/lib/python3.11/site-packages/notebook/static/components/MathJax/jax/output/SVG/fonts/STIX-Web/Marks/Italic\n",
      "64\t./dvc-venv/lib/python3.11/site-packages/notebook/static/components/MathJax/jax/output/SVG/fonts/STIX-Web/Marks/Bold\n",
      "24\t./dvc-venv/lib/python3.11/site-packages/notebook/static/components/MathJax/jax/output/SVG/fonts/STIX-Web/Marks/BoldItalic\n",
      "72\t./dvc-venv/lib/python3.11/site-packages/notebook/static/components/MathJax/jax/output/SVG/fonts/STIX-Web/Marks/Regular\n",
      "192\t./dvc-venv/lib/python3.11/site-packages/notebook/static/components/MathJax/jax/output/SVG/fonts/STIX-Web/Marks\n",
      "224\t./dvc-venv/lib/python3.11/site-packages/notebook/static/components/MathJax/jax/output/SVG/fonts/STIX-Web/Latin/Italic\n",
      "192\t./dvc-venv/lib/python3.11/site-packages/notebook/static/components/MathJax/jax/output/SVG/fonts/STIX-Web/Latin/Bold\n",
      "216\t./dvc-venv/lib/python3.11/site-packages/notebook/static/components/MathJax/jax/output/SVG/fonts/STIX-Web/Latin/BoldItalic\n",
      "200\t./dvc-venv/lib/python3.11/site-packages/notebook/static/components/MathJax/jax/output/SVG/fonts/STIX-Web/Latin/Regular\n",
      "832\t./dvc-venv/lib/python3.11/site-packages/notebook/static/components/MathJax/jax/output/SVG/fonts/STIX-Web/Latin\n",
      "8\t./dvc-venv/lib/python3.11/site-packages/notebook/static/components/MathJax/jax/output/SVG/fonts/STIX-Web/Shapes/Bold\n",
      "8\t./dvc-venv/lib/python3.11/site-packages/notebook/static/components/MathJax/jax/output/SVG/fonts/STIX-Web/Shapes/BoldItalic\n",
      "184\t./dvc-venv/lib/python3.11/site-packages/notebook/static/components/MathJax/jax/output/SVG/fonts/STIX-Web/Shapes/Regular\n",
      "200\t./dvc-venv/lib/python3.11/site-packages/notebook/static/components/MathJax/jax/output/SVG/fonts/STIX-Web/Shapes\n",
      "64\t./dvc-venv/lib/python3.11/site-packages/notebook/static/components/MathJax/jax/output/SVG/fonts/STIX-Web/Script/Italic\n",
      "80\t./dvc-venv/lib/python3.11/site-packages/notebook/static/components/MathJax/jax/output/SVG/fonts/STIX-Web/Script/BoldItalic\n",
      "64\t./dvc-venv/lib/python3.11/site-packages/notebook/static/components/MathJax/jax/output/SVG/fonts/STIX-Web/Script/Regular\n",
      "208\t./dvc-venv/lib/python3.11/site-packages/notebook/static/components/MathJax/jax/output/SVG/fonts/STIX-Web/Script\n",
      "64\t./dvc-venv/lib/python3.11/site-packages/notebook/static/components/MathJax/jax/output/SVG/fonts/STIX-Web/Size1/Regular\n",
      "64\t./dvc-venv/lib/python3.11/site-packages/notebook/static/components/MathJax/jax/output/SVG/fonts/STIX-Web/Size1\n",
      "16\t./dvc-venv/lib/python3.11/site-packages/notebook/static/components/MathJax/jax/output/SVG/fonts/STIX-Web/Symbols/Bold\n",
      "96\t./dvc-venv/lib/python3.11/site-packages/notebook/static/components/MathJax/jax/output/SVG/fonts/STIX-Web/Symbols/Regular\n",
      "112\t./dvc-venv/lib/python3.11/site-packages/notebook/static/components/MathJax/jax/output/SVG/fonts/STIX-Web/Symbols\n",
      "16\t./dvc-venv/lib/python3.11/site-packages/notebook/static/components/MathJax/jax/output/SVG/fonts/STIX-Web/DoubleStruck/Italic\n",
      "32\t./dvc-venv/lib/python3.11/site-packages/notebook/static/components/MathJax/jax/output/SVG/fonts/STIX-Web/DoubleStruck/Bold\n",
      "16\t./dvc-venv/lib/python3.11/site-packages/notebook/static/components/MathJax/jax/output/SVG/fonts/STIX-Web/DoubleStruck/BoldItalic\n",
      "40\t./dvc-venv/lib/python3.11/site-packages/notebook/static/components/MathJax/jax/output/SVG/fonts/STIX-Web/DoubleStruck/Regular\n",
      "104\t./dvc-venv/lib/python3.11/site-packages/notebook/static/components/MathJax/jax/output/SVG/fonts/STIX-Web/DoubleStruck\n",
      "80\t./dvc-venv/lib/python3.11/site-packages/notebook/static/components/MathJax/jax/output/SVG/fonts/STIX-Web/Normal/Italic\n",
      "88\t./dvc-venv/lib/python3.11/site-packages/notebook/static/components/MathJax/jax/output/SVG/fonts/STIX-Web/Normal/Bold\n",
      "80\t./dvc-venv/lib/python3.11/site-packages/notebook/static/components/MathJax/jax/output/SVG/fonts/STIX-Web/Normal/BoldItalic\n",
      "248\t./dvc-venv/lib/python3.11/site-packages/notebook/static/components/MathJax/jax/output/SVG/fonts/STIX-Web/Normal\n",
      "24\t./dvc-venv/lib/python3.11/site-packages/notebook/static/components/MathJax/jax/output/SVG/fonts/STIX-Web/Arrows/Bold\n",
      "144\t./dvc-venv/lib/python3.11/site-packages/notebook/static/components/MathJax/jax/output/SVG/fonts/STIX-Web/Arrows/Regular\n",
      "168\t./dvc-venv/lib/python3.11/site-packages/notebook/static/components/MathJax/jax/output/SVG/fonts/STIX-Web/Arrows\n",
      "56\t./dvc-venv/lib/python3.11/site-packages/notebook/static/components/MathJax/jax/output/SVG/fonts/STIX-Web/Fraktur/Bold\n",
      "56\t./dvc-venv/lib/python3.11/site-packages/notebook/static/components/MathJax/jax/output/SVG/fonts/STIX-Web/Fraktur/Regular\n",
      "112\t./dvc-venv/lib/python3.11/site-packages/notebook/static/components/MathJax/jax/output/SVG/fonts/STIX-Web/Fraktur\n",
      "128\t./dvc-venv/lib/python3.11/site-packages/notebook/static/components/MathJax/jax/output/SVG/fonts/STIX-Web/Main/Italic\n",
      "232\t./dvc-venv/lib/python3.11/site-packages/notebook/static/components/MathJax/jax/output/SVG/fonts/STIX-Web/Main/Bold\n",
      "128\t./dvc-venv/lib/python3.11/site-packages/notebook/static/components/MathJax/jax/output/SVG/fonts/STIX-Web/Main/BoldItalic\n",
      "264\t./dvc-venv/lib/python3.11/site-packages/notebook/static/components/MathJax/jax/output/SVG/fonts/STIX-Web/Main/Regular\n",
      "752\t./dvc-venv/lib/python3.11/site-packages/notebook/static/components/MathJax/jax/output/SVG/fonts/STIX-Web/Main\n",
      "5144\t./dvc-venv/lib/python3.11/site-packages/notebook/static/components/MathJax/jax/output/SVG/fonts/STIX-Web\n",
      "5144\t./dvc-venv/lib/python3.11/site-packages/notebook/static/components/MathJax/jax/output/SVG/fonts\n",
      "5368\t./dvc-venv/lib/python3.11/site-packages/notebook/static/components/MathJax/jax/output/SVG\n",
      "64\t./dvc-venv/lib/python3.11/site-packages/notebook/static/components/MathJax/jax/output/NativeMML\n",
      "136\t./dvc-venv/lib/python3.11/site-packages/notebook/static/components/MathJax/jax/output/HTML-CSS/autoload\n",
      "8\t./dvc-venv/lib/python3.11/site-packages/notebook/static/components/MathJax/jax/output/HTML-CSS/fonts/STIX-Web/Monospace/Regular\n",
      "8\t./dvc-venv/lib/python3.11/site-packages/notebook/static/components/MathJax/jax/output/HTML-CSS/fonts/STIX-Web/Monospace\n",
      "8\t./dvc-venv/lib/python3.11/site-packages/notebook/static/components/MathJax/jax/output/HTML-CSS/fonts/STIX-Web/Size4/Regular\n",
      "8\t./dvc-venv/lib/python3.11/site-packages/notebook/static/components/MathJax/jax/output/HTML-CSS/fonts/STIX-Web/Size4\n",
      "16\t./dvc-venv/lib/python3.11/site-packages/notebook/static/components/MathJax/jax/output/HTML-CSS/fonts/STIX-Web/Misc/Italic\n",
      "16\t./dvc-venv/lib/python3.11/site-packages/notebook/static/components/MathJax/jax/output/HTML-CSS/fonts/STIX-Web/Misc/Bold\n"
     ]
    },
    {
     "name": "stdout",
     "output_type": "stream",
     "text": [
      "16\t./dvc-venv/lib/python3.11/site-packages/notebook/static/components/MathJax/jax/output/HTML-CSS/fonts/STIX-Web/Misc/BoldItalic\n",
      "16\t./dvc-venv/lib/python3.11/site-packages/notebook/static/components/MathJax/jax/output/HTML-CSS/fonts/STIX-Web/Misc/Regular\n",
      "64\t./dvc-venv/lib/python3.11/site-packages/notebook/static/components/MathJax/jax/output/HTML-CSS/fonts/STIX-Web/Misc\n",
      "8\t./dvc-venv/lib/python3.11/site-packages/notebook/static/components/MathJax/jax/output/HTML-CSS/fonts/STIX-Web/Size3/Regular\n",
      "8\t./dvc-venv/lib/python3.11/site-packages/notebook/static/components/MathJax/jax/output/HTML-CSS/fonts/STIX-Web/Size3\n",
      "16\t./dvc-venv/lib/python3.11/site-packages/notebook/static/components/MathJax/jax/output/HTML-CSS/fonts/STIX-Web/Alphabets/Italic\n",
      "16\t./dvc-venv/lib/python3.11/site-packages/notebook/static/components/MathJax/jax/output/HTML-CSS/fonts/STIX-Web/Alphabets/Bold\n",
      "16\t./dvc-venv/lib/python3.11/site-packages/notebook/static/components/MathJax/jax/output/HTML-CSS/fonts/STIX-Web/Alphabets/BoldItalic\n",
      "16\t./dvc-venv/lib/python3.11/site-packages/notebook/static/components/MathJax/jax/output/HTML-CSS/fonts/STIX-Web/Alphabets/Regular\n",
      "64\t./dvc-venv/lib/python3.11/site-packages/notebook/static/components/MathJax/jax/output/HTML-CSS/fonts/STIX-Web/Alphabets\n",
      "8\t./dvc-venv/lib/python3.11/site-packages/notebook/static/components/MathJax/jax/output/HTML-CSS/fonts/STIX-Web/Size2/Regular\n",
      "8\t./dvc-venv/lib/python3.11/site-packages/notebook/static/components/MathJax/jax/output/HTML-CSS/fonts/STIX-Web/Size2\n",
      "8\t./dvc-venv/lib/python3.11/site-packages/notebook/static/components/MathJax/jax/output/HTML-CSS/fonts/STIX-Web/Size5/Regular\n",
      "8\t./dvc-venv/lib/python3.11/site-packages/notebook/static/components/MathJax/jax/output/HTML-CSS/fonts/STIX-Web/Size5\n",
      "8\t./dvc-venv/lib/python3.11/site-packages/notebook/static/components/MathJax/jax/output/HTML-CSS/fonts/STIX-Web/Variants/Italic\n",
      "8\t./dvc-venv/lib/python3.11/site-packages/notebook/static/components/MathJax/jax/output/HTML-CSS/fonts/STIX-Web/Variants/Bold\n",
      "8\t./dvc-venv/lib/python3.11/site-packages/notebook/static/components/MathJax/jax/output/HTML-CSS/fonts/STIX-Web/Variants/BoldItalic\n",
      "16\t./dvc-venv/lib/python3.11/site-packages/notebook/static/components/MathJax/jax/output/HTML-CSS/fonts/STIX-Web/Variants/Regular\n",
      "40\t./dvc-venv/lib/python3.11/site-packages/notebook/static/components/MathJax/jax/output/HTML-CSS/fonts/STIX-Web/Variants\n",
      "16\t./dvc-venv/lib/python3.11/site-packages/notebook/static/components/MathJax/jax/output/HTML-CSS/fonts/STIX-Web/SansSerif/Italic\n",
      "16\t./dvc-venv/lib/python3.11/site-packages/notebook/static/components/MathJax/jax/output/HTML-CSS/fonts/STIX-Web/SansSerif/Bold\n",
      "16\t./dvc-venv/lib/python3.11/site-packages/notebook/static/components/MathJax/jax/output/HTML-CSS/fonts/STIX-Web/SansSerif/BoldItalic\n",
      "16\t./dvc-venv/lib/python3.11/site-packages/notebook/static/components/MathJax/jax/output/HTML-CSS/fonts/STIX-Web/SansSerif/Regular\n",
      "64\t./dvc-venv/lib/python3.11/site-packages/notebook/static/components/MathJax/jax/output/HTML-CSS/fonts/STIX-Web/SansSerif\n",
      "16\t./dvc-venv/lib/python3.11/site-packages/notebook/static/components/MathJax/jax/output/HTML-CSS/fonts/STIX-Web/Operators/Bold\n",
      "24\t./dvc-venv/lib/python3.11/site-packages/notebook/static/components/MathJax/jax/output/HTML-CSS/fonts/STIX-Web/Operators/Regular\n",
      "40\t./dvc-venv/lib/python3.11/site-packages/notebook/static/components/MathJax/jax/output/HTML-CSS/fonts/STIX-Web/Operators\n",
      "8\t./dvc-venv/lib/python3.11/site-packages/notebook/static/components/MathJax/jax/output/HTML-CSS/fonts/STIX-Web/Marks/Italic\n",
      "16\t./dvc-venv/lib/python3.11/site-packages/notebook/static/components/MathJax/jax/output/HTML-CSS/fonts/STIX-Web/Marks/Bold\n",
      "8\t./dvc-venv/lib/python3.11/site-packages/notebook/static/components/MathJax/jax/output/HTML-CSS/fonts/STIX-Web/Marks/BoldItalic\n",
      "16\t./dvc-venv/lib/python3.11/site-packages/notebook/static/components/MathJax/jax/output/HTML-CSS/fonts/STIX-Web/Marks/Regular\n",
      "48\t./dvc-venv/lib/python3.11/site-packages/notebook/static/components/MathJax/jax/output/HTML-CSS/fonts/STIX-Web/Marks\n",
      "16\t./dvc-venv/lib/python3.11/site-packages/notebook/static/components/MathJax/jax/output/HTML-CSS/fonts/STIX-Web/Latin/Italic\n",
      "16\t./dvc-venv/lib/python3.11/site-packages/notebook/static/components/MathJax/jax/output/HTML-CSS/fonts/STIX-Web/Latin/Bold\n",
      "16\t./dvc-venv/lib/python3.11/site-packages/notebook/static/components/MathJax/jax/output/HTML-CSS/fonts/STIX-Web/Latin/BoldItalic\n",
      "16\t./dvc-venv/lib/python3.11/site-packages/notebook/static/components/MathJax/jax/output/HTML-CSS/fonts/STIX-Web/Latin/Regular\n",
      "64\t./dvc-venv/lib/python3.11/site-packages/notebook/static/components/MathJax/jax/output/HTML-CSS/fonts/STIX-Web/Latin\n",
      "8\t./dvc-venv/lib/python3.11/site-packages/notebook/static/components/MathJax/jax/output/HTML-CSS/fonts/STIX-Web/Shapes/Bold\n",
      "8\t./dvc-venv/lib/python3.11/site-packages/notebook/static/components/MathJax/jax/output/HTML-CSS/fonts/STIX-Web/Shapes/BoldItalic\n",
      "24\t./dvc-venv/lib/python3.11/site-packages/notebook/static/components/MathJax/jax/output/HTML-CSS/fonts/STIX-Web/Shapes/Regular\n",
      "40\t./dvc-venv/lib/python3.11/site-packages/notebook/static/components/MathJax/jax/output/HTML-CSS/fonts/STIX-Web/Shapes\n",
      "8\t./dvc-venv/lib/python3.11/site-packages/notebook/static/components/MathJax/jax/output/HTML-CSS/fonts/STIX-Web/Script/Italic\n",
      "8\t./dvc-venv/lib/python3.11/site-packages/notebook/static/components/MathJax/jax/output/HTML-CSS/fonts/STIX-Web/Script/BoldItalic\n",
      "8\t./dvc-venv/lib/python3.11/site-packages/notebook/static/components/MathJax/jax/output/HTML-CSS/fonts/STIX-Web/Script/Regular\n",
      "24\t./dvc-venv/lib/python3.11/site-packages/notebook/static/components/MathJax/jax/output/HTML-CSS/fonts/STIX-Web/Script\n",
      "8\t./dvc-venv/lib/python3.11/site-packages/notebook/static/components/MathJax/jax/output/HTML-CSS/fonts/STIX-Web/Size1/Regular\n",
      "8\t./dvc-venv/lib/python3.11/site-packages/notebook/static/components/MathJax/jax/output/HTML-CSS/fonts/STIX-Web/Size1\n",
      "8\t./dvc-venv/lib/python3.11/site-packages/notebook/static/components/MathJax/jax/output/HTML-CSS/fonts/STIX-Web/Symbols/Bold\n",
      "16\t./dvc-venv/lib/python3.11/site-packages/notebook/static/components/MathJax/jax/output/HTML-CSS/fonts/STIX-Web/Symbols/Regular\n",
      "24\t./dvc-venv/lib/python3.11/site-packages/notebook/static/components/MathJax/jax/output/HTML-CSS/fonts/STIX-Web/Symbols\n",
      "8\t./dvc-venv/lib/python3.11/site-packages/notebook/static/components/MathJax/jax/output/HTML-CSS/fonts/STIX-Web/DoubleStruck/Italic\n",
      "8\t./dvc-venv/lib/python3.11/site-packages/notebook/static/components/MathJax/jax/output/HTML-CSS/fonts/STIX-Web/DoubleStruck/Bold\n",
      "8\t./dvc-venv/lib/python3.11/site-packages/notebook/static/components/MathJax/jax/output/HTML-CSS/fonts/STIX-Web/DoubleStruck/BoldItalic\n",
      "8\t./dvc-venv/lib/python3.11/site-packages/notebook/static/components/MathJax/jax/output/HTML-CSS/fonts/STIX-Web/DoubleStruck/Regular\n",
      "32\t./dvc-venv/lib/python3.11/site-packages/notebook/static/components/MathJax/jax/output/HTML-CSS/fonts/STIX-Web/DoubleStruck\n",
      "16\t./dvc-venv/lib/python3.11/site-packages/notebook/static/components/MathJax/jax/output/HTML-CSS/fonts/STIX-Web/Normal/Italic\n",
      "16\t./dvc-venv/lib/python3.11/site-packages/notebook/static/components/MathJax/jax/output/HTML-CSS/fonts/STIX-Web/Normal/Bold\n",
      "16\t./dvc-venv/lib/python3.11/site-packages/notebook/static/components/MathJax/jax/output/HTML-CSS/fonts/STIX-Web/Normal/BoldItalic\n",
      "48\t./dvc-venv/lib/python3.11/site-packages/notebook/static/components/MathJax/jax/output/HTML-CSS/fonts/STIX-Web/Normal\n",
      "8\t./dvc-venv/lib/python3.11/site-packages/notebook/static/components/MathJax/jax/output/HTML-CSS/fonts/STIX-Web/Arrows/Bold\n",
      "16\t./dvc-venv/lib/python3.11/site-packages/notebook/static/components/MathJax/jax/output/HTML-CSS/fonts/STIX-Web/Arrows/Regular\n",
      "24\t./dvc-venv/lib/python3.11/site-packages/notebook/static/components/MathJax/jax/output/HTML-CSS/fonts/STIX-Web/Arrows\n",
      "8\t./dvc-venv/lib/python3.11/site-packages/notebook/static/components/MathJax/jax/output/HTML-CSS/fonts/STIX-Web/Fraktur/Bold\n",
      "8\t./dvc-venv/lib/python3.11/site-packages/notebook/static/components/MathJax/jax/output/HTML-CSS/fonts/STIX-Web/Fraktur/Regular\n",
      "16\t./dvc-venv/lib/python3.11/site-packages/notebook/static/components/MathJax/jax/output/HTML-CSS/fonts/STIX-Web/Fraktur\n"
     ]
    },
    {
     "name": "stdout",
     "output_type": "stream",
     "text": [
      "16\t./dvc-venv/lib/python3.11/site-packages/notebook/static/components/MathJax/jax/output/HTML-CSS/fonts/STIX-Web/Main/Italic\n",
      "32\t./dvc-venv/lib/python3.11/site-packages/notebook/static/components/MathJax/jax/output/HTML-CSS/fonts/STIX-Web/Main/Bold\n",
      "16\t./dvc-venv/lib/python3.11/site-packages/notebook/static/components/MathJax/jax/output/HTML-CSS/fonts/STIX-Web/Main/BoldItalic\n",
      "32\t./dvc-venv/lib/python3.11/site-packages/notebook/static/components/MathJax/jax/output/HTML-CSS/fonts/STIX-Web/Main/Regular\n",
      "96\t./dvc-venv/lib/python3.11/site-packages/notebook/static/components/MathJax/jax/output/HTML-CSS/fonts/STIX-Web/Main\n",
      "800\t./dvc-venv/lib/python3.11/site-packages/notebook/static/components/MathJax/jax/output/HTML-CSS/fonts/STIX-Web\n",
      "800\t./dvc-venv/lib/python3.11/site-packages/notebook/static/components/MathJax/jax/output/HTML-CSS/fonts\n",
      "1128\t./dvc-venv/lib/python3.11/site-packages/notebook/static/components/MathJax/jax/output/HTML-CSS\n",
      "64\t./dvc-venv/lib/python3.11/site-packages/notebook/static/components/MathJax/jax/output/PreviewHTML\n",
      "16\t./dvc-venv/lib/python3.11/site-packages/notebook/static/components/MathJax/jax/output/PlainSource\n",
      "120\t./dvc-venv/lib/python3.11/site-packages/notebook/static/components/MathJax/jax/output/CommonHTML/autoload\n",
      "248\t./dvc-venv/lib/python3.11/site-packages/notebook/static/components/MathJax/jax/output/CommonHTML\n",
      "6888\t./dvc-venv/lib/python3.11/site-packages/notebook/static/components/MathJax/jax/output\n",
      "7240\t./dvc-venv/lib/python3.11/site-packages/notebook/static/components/MathJax/jax\n",
      "1928\t./dvc-venv/lib/python3.11/site-packages/notebook/static/components/MathJax/fonts/HTML-CSS/STIX-Web/woff\n",
      "1928\t./dvc-venv/lib/python3.11/site-packages/notebook/static/components/MathJax/fonts/HTML-CSS/STIX-Web\n",
      "1928\t./dvc-venv/lib/python3.11/site-packages/notebook/static/components/MathJax/fonts/HTML-CSS\n",
      "1928\t./dvc-venv/lib/python3.11/site-packages/notebook/static/components/MathJax/fonts\n",
      "72\t./dvc-venv/lib/python3.11/site-packages/notebook/static/components/MathJax/localization/sl\n",
      "72\t./dvc-venv/lib/python3.11/site-packages/notebook/static/components/MathJax/localization/sk\n",
      "72\t./dvc-venv/lib/python3.11/site-packages/notebook/static/components/MathJax/localization/zh-hans\n",
      "72\t./dvc-venv/lib/python3.11/site-packages/notebook/static/components/MathJax/localization/zh-hant\n",
      "72\t./dvc-venv/lib/python3.11/site-packages/notebook/static/components/MathJax/localization/pl\n",
      "72\t./dvc-venv/lib/python3.11/site-packages/notebook/static/components/MathJax/localization/vi\n",
      "72\t./dvc-venv/lib/python3.11/site-packages/notebook/static/components/MathJax/localization/sv\n",
      "120\t./dvc-venv/lib/python3.11/site-packages/notebook/static/components/MathJax/localization/he\n",
      "56\t./dvc-venv/lib/python3.11/site-packages/notebook/static/components/MathJax/localization/diq\n",
      "72\t./dvc-venv/lib/python3.11/site-packages/notebook/static/components/MathJax/localization/da\n",
      "96\t./dvc-venv/lib/python3.11/site-packages/notebook/static/components/MathJax/localization/ja\n",
      "72\t./dvc-venv/lib/python3.11/site-packages/notebook/static/components/MathJax/localization/sco\n",
      "56\t./dvc-venv/lib/python3.11/site-packages/notebook/static/components/MathJax/localization/oc\n",
      "56\t./dvc-venv/lib/python3.11/site-packages/notebook/static/components/MathJax/localization/lb\n",
      "72\t./dvc-venv/lib/python3.11/site-packages/notebook/static/components/MathJax/localization/it\n",
      "72\t./dvc-venv/lib/python3.11/site-packages/notebook/static/components/MathJax/localization/ca\n",
      "72\t./dvc-venv/lib/python3.11/site-packages/notebook/static/components/MathJax/localization/cs\n",
      "72\t./dvc-venv/lib/python3.11/site-packages/notebook/static/components/MathJax/localization/scn\n",
      "56\t./dvc-venv/lib/python3.11/site-packages/notebook/static/components/MathJax/localization/ia\n",
      "128\t./dvc-venv/lib/python3.11/site-packages/notebook/static/components/MathJax/localization/ru\n",
      "104\t./dvc-venv/lib/python3.11/site-packages/notebook/static/components/MathJax/localization/qqq\n",
      "56\t./dvc-venv/lib/python3.11/site-packages/notebook/static/components/MathJax/localization/cdo\n",
      "72\t./dvc-venv/lib/python3.11/site-packages/notebook/static/components/MathJax/localization/pt\n",
      "136\t./dvc-venv/lib/python3.11/site-packages/notebook/static/components/MathJax/localization/uk\n",
      "136\t./dvc-venv/lib/python3.11/site-packages/notebook/static/components/MathJax/localization/mk\n",
      "128\t./dvc-venv/lib/python3.11/site-packages/notebook/static/components/MathJax/localization/kn\n",
      "104\t./dvc-venv/lib/python3.11/site-packages/notebook/static/components/MathJax/localization/ar\n",
      "56\t./dvc-venv/lib/python3.11/site-packages/notebook/static/components/MathJax/localization/gl\n",
      "72\t./dvc-venv/lib/python3.11/site-packages/notebook/static/components/MathJax/localization/pt-br\n",
      "72\t./dvc-venv/lib/python3.11/site-packages/notebook/static/components/MathJax/localization/nl\n",
      "64\t./dvc-venv/lib/python3.11/site-packages/notebook/static/components/MathJax/localization/bg\n",
      "72\t./dvc-venv/lib/python3.11/site-packages/notebook/static/components/MathJax/localization/ast\n",
      "80\t./dvc-venv/lib/python3.11/site-packages/notebook/static/components/MathJax/localization/bcc\n",
      "72\t./dvc-venv/lib/python3.11/site-packages/notebook/static/components/MathJax/localization/de\n",
      "64\t./dvc-venv/lib/python3.11/site-packages/notebook/static/components/MathJax/localization/br\n",
      "72\t./dvc-venv/lib/python3.11/site-packages/notebook/static/components/MathJax/localization/ko\n",
      "56\t./dvc-venv/lib/python3.11/site-packages/notebook/static/components/MathJax/localization/fi\n",
      "56\t./dvc-venv/lib/python3.11/site-packages/notebook/static/components/MathJax/localization/eo\n",
      "72\t./dvc-venv/lib/python3.11/site-packages/notebook/static/components/MathJax/localization/fr\n",
      "72\t./dvc-venv/lib/python3.11/site-packages/notebook/static/components/MathJax/localization/es\n",
      "128\t./dvc-venv/lib/python3.11/site-packages/notebook/static/components/MathJax/localization/lki\n",
      "72\t./dvc-venv/lib/python3.11/site-packages/notebook/static/components/MathJax/localization/en\n",
      "128\t./dvc-venv/lib/python3.11/site-packages/notebook/static/components/MathJax/localization/fa\n",
      "72\t./dvc-venv/lib/python3.11/site-packages/notebook/static/components/MathJax/localization/lt\n",
      "56\t./dvc-venv/lib/python3.11/site-packages/notebook/static/components/MathJax/localization/cy\n",
      "56\t./dvc-venv/lib/python3.11/site-packages/notebook/static/components/MathJax/localization/ce\n",
      "136\t./dvc-venv/lib/python3.11/site-packages/notebook/static/components/MathJax/localization/th\n",
      "56\t./dvc-venv/lib/python3.11/site-packages/notebook/static/components/MathJax/localization/tr\n",
      "3824\t./dvc-venv/lib/python3.11/site-packages/notebook/static/components/MathJax/localization\n",
      "21992\t./dvc-venv/lib/python3.11/site-packages/notebook/static/components/MathJax\n",
      "40\t./dvc-venv/lib/python3.11/site-packages/notebook/static/components/requirejs-text\n",
      "120\t./dvc-venv/lib/python3.11/site-packages/notebook/static/components/jquery-typeahead/dist\n",
      "120\t./dvc-venv/lib/python3.11/site-packages/notebook/static/components/jquery-typeahead\n",
      "80\t./dvc-venv/lib/python3.11/site-packages/notebook/static/components/jed\n",
      "8\t./dvc-venv/lib/python3.11/site-packages/notebook/static/components/requirejs-plugins/src\n",
      "8\t./dvc-venv/lib/python3.11/site-packages/notebook/static/components/requirejs-plugins\n",
      "8\t./dvc-venv/lib/python3.11/site-packages/notebook/static/components/xterm.js-css\n",
      "8\t./dvc-venv/lib/python3.11/site-packages/notebook/static/components/bootstrap-tour/build/css\n",
      "32\t./dvc-venv/lib/python3.11/site-packages/notebook/static/components/bootstrap-tour/build/js\n",
      "40\t./dvc-venv/lib/python3.11/site-packages/notebook/static/components/bootstrap-tour/build\n",
      "40\t./dvc-venv/lib/python3.11/site-packages/notebook/static/components/bootstrap-tour\n",
      "8\t./dvc-venv/lib/python3.11/site-packages/notebook/static/components/xterm.js-fit\n",
      "56\t./dvc-venv/lib/python3.11/site-packages/notebook/static/components/es6-promise\n",
      "224\t./dvc-venv/lib/python3.11/site-packages/notebook/static/components/react\n",
      "144\t./dvc-venv/lib/python3.11/site-packages/notebook/static/components/google-caja\n",
      "48\t./dvc-venv/lib/python3.11/site-packages/notebook/static/components/backbone\n",
      "144\t./dvc-venv/lib/python3.11/site-packages/notebook/static/components/font-awesome/css\n",
      "2136\t./dvc-venv/lib/python3.11/site-packages/notebook/static/components/font-awesome/fonts\n",
      "2280\t./dvc-venv/lib/python3.11/site-packages/notebook/static/components/font-awesome\n"
     ]
    },
    {
     "name": "stdout",
     "output_type": "stream",
     "text": [
      "16\t./dvc-venv/lib/python3.11/site-packages/notebook/static/components/create-react-class\n",
      "128\t./dvc-venv/lib/python3.11/site-packages/notebook/static/components/jquery-ui/themes/smoothness/images\n",
      "192\t./dvc-venv/lib/python3.11/site-packages/notebook/static/components/jquery-ui/themes/smoothness\n",
      "192\t./dvc-venv/lib/python3.11/site-packages/notebook/static/components/jquery-ui/themes\n",
      "688\t./dvc-venv/lib/python3.11/site-packages/notebook/static/components/jquery-ui\n",
      "38224\t./dvc-venv/lib/python3.11/site-packages/notebook/static/components\n",
      "8\t./dvc-venv/lib/python3.11/site-packages/notebook/static/notebook/css\n",
      "72\t./dvc-venv/lib/python3.11/site-packages/notebook/static/notebook/js/celltoolbarpresets\n",
      "13760\t./dvc-venv/lib/python3.11/site-packages/notebook/static/notebook/js\n",
      "13768\t./dvc-venv/lib/python3.11/site-packages/notebook/static/notebook\n",
      "16\t./dvc-venv/lib/python3.11/site-packages/notebook/static/custom\n",
      "128\t./dvc-venv/lib/python3.11/site-packages/notebook/static/base/images\n",
      "280\t./dvc-venv/lib/python3.11/site-packages/notebook/static/base/js\n",
      "408\t./dvc-venv/lib/python3.11/site-packages/notebook/static/base\n",
      "120\t./dvc-venv/lib/python3.11/site-packages/notebook/static/services/kernels\n",
      "24\t./dvc-venv/lib/python3.11/site-packages/notebook/static/services/sessions\n",
      "184\t./dvc-venv/lib/python3.11/site-packages/notebook/static/services\n",
      "71712\t./dvc-venv/lib/python3.11/site-packages/notebook/static\n",
      "16\t./dvc-venv/lib/python3.11/site-packages/notebook/view/__pycache__\n",
      "24\t./dvc-venv/lib/python3.11/site-packages/notebook/view\n",
      "24\t./dvc-venv/lib/python3.11/site-packages/notebook/files/__pycache__\n",
      "32\t./dvc-venv/lib/python3.11/site-packages/notebook/files\n",
      "184\t./dvc-venv/lib/python3.11/site-packages/notebook/templates\n",
      "32\t./dvc-venv/lib/python3.11/site-packages/notebook/nbconvert/tests/__pycache__\n",
      "48\t./dvc-venv/lib/python3.11/site-packages/notebook/nbconvert/tests\n",
      "32\t./dvc-venv/lib/python3.11/site-packages/notebook/nbconvert/__pycache__\n",
      "96\t./dvc-venv/lib/python3.11/site-packages/notebook/nbconvert\n",
      "24\t./dvc-venv/lib/python3.11/site-packages/notebook/prometheus/__pycache__\n",
      "48\t./dvc-venv/lib/python3.11/site-packages/notebook/prometheus\n",
      "24\t./dvc-venv/lib/python3.11/site-packages/notebook/notebook/__pycache__\n",
      "40\t./dvc-venv/lib/python3.11/site-packages/notebook/notebook\n",
      "16\t./dvc-venv/lib/python3.11/site-packages/notebook/i18n/__pycache__\n",
      "416\t./dvc-venv/lib/python3.11/site-packages/notebook/i18n/ja_JP/LC_MESSAGES\n",
      "416\t./dvc-venv/lib/python3.11/site-packages/notebook/i18n/ja_JP\n",
      "352\t./dvc-venv/lib/python3.11/site-packages/notebook/i18n/zh_CN/LC_MESSAGES\n",
      "352\t./dvc-venv/lib/python3.11/site-packages/notebook/i18n/zh_CN\n",
      "368\t./dvc-venv/lib/python3.11/site-packages/notebook/i18n/nl/LC_MESSAGES\n",
      "368\t./dvc-venv/lib/python3.11/site-packages/notebook/i18n/nl\n",
      "464\t./dvc-venv/lib/python3.11/site-packages/notebook/i18n/ru_RU/LC_MESSAGES\n",
      "464\t./dvc-venv/lib/python3.11/site-packages/notebook/i18n/ru_RU\n",
      "360\t./dvc-venv/lib/python3.11/site-packages/notebook/i18n/fr_FR/LC_MESSAGES\n",
      "360\t./dvc-venv/lib/python3.11/site-packages/notebook/i18n/fr_FR\n",
      "1984\t./dvc-venv/lib/python3.11/site-packages/notebook/i18n\n",
      "16\t./dvc-venv/lib/python3.11/site-packages/notebook/kernelspecs/__pycache__\n",
      "24\t./dvc-venv/lib/python3.11/site-packages/notebook/kernelspecs\n",
      "8\t./dvc-venv/lib/python3.11/site-packages/notebook/bundler/tests/resources/another_subdir\n",
      "0\t./dvc-venv/lib/python3.11/site-packages/notebook/bundler/tests/resources/subdir/subsubdir\n",
      "8\t./dvc-venv/lib/python3.11/site-packages/notebook/bundler/tests/resources/subdir\n",
      "24\t./dvc-venv/lib/python3.11/site-packages/notebook/bundler/tests/resources\n",
      "64\t./dvc-venv/lib/python3.11/site-packages/notebook/bundler/tests/__pycache__\n",
      "120\t./dvc-venv/lib/python3.11/site-packages/notebook/bundler/tests\n",
      "96\t./dvc-venv/lib/python3.11/site-packages/notebook/bundler/__pycache__\n",
      "288\t./dvc-venv/lib/python3.11/site-packages/notebook/bundler\n",
      "144\t./dvc-venv/lib/python3.11/site-packages/notebook/base/__pycache__\n",
      "240\t./dvc-venv/lib/python3.11/site-packages/notebook/base\n",
      "48\t./dvc-venv/lib/python3.11/site-packages/notebook/services/kernels/tests/__pycache__\n",
      "72\t./dvc-venv/lib/python3.11/site-packages/notebook/services/kernels/tests\n",
      "144\t./dvc-venv/lib/python3.11/site-packages/notebook/services/kernels/__pycache__\n",
      "320\t./dvc-venv/lib/python3.11/site-packages/notebook/services/kernels\n",
      "288\t./dvc-venv/lib/python3.11/site-packages/notebook/services/contents/tests/__pycache__\n",
      "432\t./dvc-venv/lib/python3.11/site-packages/notebook/services/contents/tests\n",
      "256\t./dvc-venv/lib/python3.11/site-packages/notebook/services/contents/__pycache__\n",
      "864\t./dvc-venv/lib/python3.11/site-packages/notebook/services/contents\n",
      "24\t./dvc-venv/lib/python3.11/site-packages/notebook/services/config/tests/__pycache__\n",
      "32\t./dvc-venv/lib/python3.11/site-packages/notebook/services/config/tests\n",
      "24\t./dvc-venv/lib/python3.11/site-packages/notebook/services/config/__pycache__\n",
      "80\t./dvc-venv/lib/python3.11/site-packages/notebook/services/config\n",
      "16\t./dvc-venv/lib/python3.11/site-packages/notebook/services/security/__pycache__\n",
      "32\t./dvc-venv/lib/python3.11/site-packages/notebook/services/security\n",
      "16\t./dvc-venv/lib/python3.11/site-packages/notebook/services/__pycache__\n",
      "80\t./dvc-venv/lib/python3.11/site-packages/notebook/services/sessions/tests/__pycache__\n",
      "128\t./dvc-venv/lib/python3.11/site-packages/notebook/services/sessions/tests\n",
      "64\t./dvc-venv/lib/python3.11/site-packages/notebook/services/sessions/__pycache__\n",
      "232\t./dvc-venv/lib/python3.11/site-packages/notebook/services/sessions\n",
      "16\t./dvc-venv/lib/python3.11/site-packages/notebook/services/api/tests/__pycache__\n",
      "24\t./dvc-venv/lib/python3.11/site-packages/notebook/services/api/tests\n",
      "16\t./dvc-venv/lib/python3.11/site-packages/notebook/services/api/__pycache__\n",
      "96\t./dvc-venv/lib/python3.11/site-packages/notebook/services/api\n",
      "16\t./dvc-venv/lib/python3.11/site-packages/notebook/services/nbconvert/tests/__pycache__\n",
      "24\t./dvc-venv/lib/python3.11/site-packages/notebook/services/nbconvert/tests\n",
      "16\t./dvc-venv/lib/python3.11/site-packages/notebook/services/nbconvert/__pycache__\n",
      "48\t./dvc-venv/lib/python3.11/site-packages/notebook/services/nbconvert\n",
      "32\t./dvc-venv/lib/python3.11/site-packages/notebook/services/kernelspecs/tests/__pycache__\n",
      "48\t./dvc-venv/lib/python3.11/site-packages/notebook/services/kernelspecs/tests\n",
      "24\t./dvc-venv/lib/python3.11/site-packages/notebook/services/kernelspecs/__pycache__\n",
      "80\t./dvc-venv/lib/python3.11/site-packages/notebook/services/kernelspecs\n",
      "1776\t./dvc-venv/lib/python3.11/site-packages/notebook/services\n",
      "128\t./dvc-venv/lib/python3.11/site-packages/notebook/gateway/__pycache__\n",
      "216\t./dvc-venv/lib/python3.11/site-packages/notebook/gateway\n",
      "79816\t./dvc-venv/lib/python3.11/site-packages/notebook\n",
      "48\t./dvc-venv/lib/python3.11/site-packages/certifi-2023.11.17.dist-info\n",
      "32\t./dvc-venv/lib/python3.11/site-packages/_distutils_hack/__pycache__\n",
      "56\t./dvc-venv/lib/python3.11/site-packages/_distutils_hack\n",
      "80\t./dvc-venv/lib/python3.11/site-packages/sniffio-1.3.0.dist-info\n",
      "88\t./dvc-venv/lib/python3.11/site-packages/dvc_data-2.24.0.dist-info\n",
      "8\t./dvc-venv/lib/python3.11/site-packages/jupyter_events-0.9.0.dist-info/licenses\n",
      "56\t./dvc-venv/lib/python3.11/site-packages/jupyter_events-0.9.0.dist-info\n",
      "8\t./dvc-venv/lib/python3.11/site-packages/terminado/_static\n",
      "104\t./dvc-venv/lib/python3.11/site-packages/terminado/__pycache__\n",
      "192\t./dvc-venv/lib/python3.11/site-packages/terminado\n",
      "40\t./dvc-venv/lib/python3.11/site-packages/async_lru/__pycache__\n",
      "64\t./dvc-venv/lib/python3.11/site-packages/async_lru\n",
      "80\t./dvc-venv/lib/python3.11/site-packages/wcwidth-0.2.12.dist-info\n",
      "520\t./dvc-venv/lib/python3.11/site-packages/parso/python/__pycache__\n",
      "1040\t./dvc-venv/lib/python3.11/site-packages/parso/python\n",
      "200\t./dvc-venv/lib/python3.11/site-packages/parso/__pycache__\n",
      "72\t./dvc-venv/lib/python3.11/site-packages/parso/pgen2/__pycache__\n",
      "128\t./dvc-venv/lib/python3.11/site-packages/parso/pgen2\n",
      "1520\t./dvc-venv/lib/python3.11/site-packages/parso\n",
      "1376\t./dvc-venv/lib/python3.11/site-packages/pydantic/v1/__pycache__\n",
      "2384\t./dvc-venv/lib/python3.11/site-packages/pydantic/v1\n",
      "992\t./dvc-venv/lib/python3.11/site-packages/pydantic/_internal/__pycache__\n",
      "1840\t./dvc-venv/lib/python3.11/site-packages/pydantic/_internal\n",
      "48\t./dvc-venv/lib/python3.11/site-packages/pydantic/plugin/__pycache__\n"
     ]
    },
    {
     "name": "stdout",
     "output_type": "stream",
     "text": [
      "88\t./dvc-venv/lib/python3.11/site-packages/pydantic/plugin\n",
      "1280\t./dvc-venv/lib/python3.11/site-packages/pydantic/__pycache__\n",
      "144\t./dvc-venv/lib/python3.11/site-packages/pydantic/deprecated/__pycache__\n",
      "248\t./dvc-venv/lib/python3.11/site-packages/pydantic/deprecated\n",
      "7080\t./dvc-venv/lib/python3.11/site-packages/pydantic\n",
      "64\t./dvc-venv/lib/python3.11/site-packages/shtab-1.6.5.dist-info\n",
      "64\t./dvc-venv/lib/python3.11/site-packages/jupyter_nbextensions_configurator-0.6.3.dist-info\n",
      "64\t./dvc-venv/lib/python3.11/site-packages/zc.lockfile-3.0.post1.dist-info\n",
      "8\t./dvc-venv/lib/python3.11/site-packages/jupyter_server-2.12.1.dist-info/licenses\n",
      "96\t./dvc-venv/lib/python3.11/site-packages/jupyter_server-2.12.1.dist-info\n",
      "24\t./dvc-venv/lib/python3.11/site-packages/billiard/dummy/__pycache__\n",
      "48\t./dvc-venv/lib/python3.11/site-packages/billiard/dummy\n",
      "1016\t./dvc-venv/lib/python3.11/site-packages/billiard/__pycache__\n",
      "1728\t./dvc-venv/lib/python3.11/site-packages/billiard\n",
      "8\t./dvc-venv/lib/python3.11/site-packages/rpds_py-0.13.2.dist-info/license_files\n",
      "40\t./dvc-venv/lib/python3.11/site-packages/rpds_py-0.13.2.dist-info\n",
      "64\t./dvc-venv/lib/python3.11/site-packages/flufl/lock/__pycache__\n",
      "128\t./dvc-venv/lib/python3.11/site-packages/flufl/lock\n",
      "128\t./dvc-venv/lib/python3.11/site-packages/flufl\n",
      "1776\t./dvc-venv/lib/python3.11/site-packages/psutil/tests/__pycache__\n",
      "2776\t./dvc-venv/lib/python3.11/site-packages/psutil/tests\n",
      "904\t./dvc-venv/lib/python3.11/site-packages/psutil/__pycache__\n",
      "4704\t./dvc-venv/lib/python3.11/site-packages/psutil\n",
      "296\t./dvc-venv/lib/python3.11/site-packages/debugpy-1.8.0.dist-info\n",
      "344\t./dvc-venv/lib/python3.11/site-packages/traitlets/config/tests/__pycache__\n",
      "520\t./dvc-venv/lib/python3.11/site-packages/traitlets/config/tests\n",
      "336\t./dvc-venv/lib/python3.11/site-packages/traitlets/config/__pycache__\n",
      "1120\t./dvc-venv/lib/python3.11/site-packages/traitlets/config\n",
      "464\t./dvc-venv/lib/python3.11/site-packages/traitlets/tests/__pycache__\n",
      "680\t./dvc-venv/lib/python3.11/site-packages/traitlets/tests\n",
      "48\t./dvc-venv/lib/python3.11/site-packages/traitlets/utils/tests/__pycache__\n",
      "80\t./dvc-venv/lib/python3.11/site-packages/traitlets/utils/tests\n",
      "80\t./dvc-venv/lib/python3.11/site-packages/traitlets/utils/__pycache__\n",
      "240\t./dvc-venv/lib/python3.11/site-packages/traitlets/utils\n",
      "352\t./dvc-venv/lib/python3.11/site-packages/traitlets/__pycache__\n",
      "2664\t./dvc-venv/lib/python3.11/site-packages/traitlets\n",
      "176\t./dvc-venv/lib/python3.11/site-packages/tqdm-4.66.1.dist-info\n",
      "8\t./dvc-venv/lib/python3.11/site-packages/omegaconf/grammar/__pycache__\n",
      "296\t./dvc-venv/lib/python3.11/site-packages/omegaconf/grammar/gen/__pycache__\n",
      "496\t./dvc-venv/lib/python3.11/site-packages/omegaconf/grammar/gen\n",
      "504\t./dvc-venv/lib/python3.11/site-packages/omegaconf/grammar\n",
      "704\t./dvc-venv/lib/python3.11/site-packages/omegaconf/__pycache__\n",
      "24\t./dvc-venv/lib/python3.11/site-packages/omegaconf/resolvers/oc/__pycache__\n",
      "40\t./dvc-venv/lib/python3.11/site-packages/omegaconf/resolvers/oc\n",
      "8\t./dvc-venv/lib/python3.11/site-packages/omegaconf/resolvers/__pycache__\n",
      "56\t./dvc-venv/lib/python3.11/site-packages/omegaconf/resolvers\n",
      "1776\t./dvc-venv/lib/python3.11/site-packages/omegaconf\n",
      "96\t./dvc-venv/lib/python3.11/site-packages/hydra_core-1.3.2.dist-info\n",
      "96\t./dvc-venv/lib/python3.11/site-packages/pygit2-1.13.3.dist-info\n",
      "88\t./dvc-venv/lib/python3.11/site-packages/GitPython-3.1.40.dist-info\n",
      "304\t./dvc-venv/lib/python3.11/site-packages/lxml/isoschematron/resources/xsl/iso-schematron-xslt1\n",
      "328\t./dvc-venv/lib/python3.11/site-packages/lxml/isoschematron/resources/xsl\n",
      "40\t./dvc-venv/lib/python3.11/site-packages/lxml/isoschematron/resources/rng\n",
      "368\t./dvc-venv/lib/python3.11/site-packages/lxml/isoschematron/resources\n",
      "32\t./dvc-venv/lib/python3.11/site-packages/lxml/isoschematron/__pycache__\n",
      "432\t./dvc-venv/lib/python3.11/site-packages/lxml/isoschematron\n",
      "8\t./dvc-venv/lib/python3.11/site-packages/lxml/includes/libxml/__pycache__\n",
      "1040\t./dvc-venv/lib/python3.11/site-packages/lxml/includes/libxml\n",
      "8\t./dvc-venv/lib/python3.11/site-packages/lxml/includes/libxslt/__pycache__\n",
      "320\t./dvc-venv/lib/python3.11/site-packages/lxml/includes/libxslt\n",
      "8\t./dvc-venv/lib/python3.11/site-packages/lxml/includes/libexslt/__pycache__\n",
      "32\t./dvc-venv/lib/python3.11/site-packages/lxml/includes/libexslt\n",
      "8\t./dvc-venv/lib/python3.11/site-packages/lxml/includes/extlibs/__pycache__\n",
      "264\t./dvc-venv/lib/python3.11/site-packages/lxml/includes/extlibs\n",
      "8\t./dvc-venv/lib/python3.11/site-packages/lxml/includes/__pycache__\n",
      "2024\t./dvc-venv/lib/python3.11/site-packages/lxml/includes\n",
      "496\t./dvc-venv/lib/python3.11/site-packages/lxml/html/__pycache__\n",
      "3832\t./dvc-venv/lib/python3.11/site-packages/lxml/html\n",
      "184\t./dvc-venv/lib/python3.11/site-packages/lxml/__pycache__\n",
      "41712\t./dvc-venv/lib/python3.11/site-packages/lxml\n",
      "104\t./dvc-venv/lib/python3.11/site-packages/dpath/__pycache__\n",
      "200\t./dvc-venv/lib/python3.11/site-packages/dpath\n",
      "144\t./dvc-venv/lib/python3.11/site-packages/yarl/__pycache__\n",
      "624\t./dvc-venv/lib/python3.11/site-packages/yarl\n",
      "64\t./dvc-venv/lib/python3.11/site-packages/zmq/green/__pycache__\n",
      "24\t./dvc-venv/lib/python3.11/site-packages/zmq/green/eventloop/__pycache__\n",
      "48\t./dvc-venv/lib/python3.11/site-packages/zmq/green/eventloop\n",
      "160\t./dvc-venv/lib/python3.11/site-packages/zmq/green\n",
      "208\t./dvc-venv/lib/python3.11/site-packages/zmq/sugar/__pycache__\n",
      "384\t./dvc-venv/lib/python3.11/site-packages/zmq/sugar\n",
      "96\t./dvc-venv/lib/python3.11/site-packages/zmq/auth/__pycache__\n",
      "176\t./dvc-venv/lib/python3.11/site-packages/zmq/auth\n",
      "896\t./dvc-venv/lib/python3.11/site-packages/zmq/tests/__pycache__\n",
      "1440\t./dvc-venv/lib/python3.11/site-packages/zmq/tests\n",
      "96\t./dvc-venv/lib/python3.11/site-packages/zmq/utils/__pycache__\n",
      "240\t./dvc-venv/lib/python3.11/site-packages/zmq/utils\n",
      "112\t./dvc-venv/lib/python3.11/site-packages/zmq/backend/cffi/__pycache__\n",
      "208\t./dvc-venv/lib/python3.11/site-packages/zmq/backend/cffi\n",
      "8\t./dvc-venv/lib/python3.11/site-packages/zmq/backend/cython/__pycache__\n",
      "4912\t./dvc-venv/lib/python3.11/site-packages/zmq/backend/cython\n",
      "16\t./dvc-venv/lib/python3.11/site-packages/zmq/backend/__pycache__\n",
      "5160\t./dvc-venv/lib/python3.11/site-packages/zmq/backend\n",
      "216\t./dvc-venv/lib/python3.11/site-packages/zmq/__pycache__\n",
      "9088\t./dvc-venv/lib/python3.11/site-packages/zmq/.dylibs\n",
      "56\t./dvc-venv/lib/python3.11/site-packages/zmq/ssh/__pycache__\n",
      "104\t./dvc-venv/lib/python3.11/site-packages/zmq/ssh\n",
      "120\t./dvc-venv/lib/python3.11/site-packages/zmq/eventloop/__pycache__\n",
      "208\t./dvc-venv/lib/python3.11/site-packages/zmq/eventloop\n",
      "48\t./dvc-venv/lib/python3.11/site-packages/zmq/log/__pycache__\n",
      "72\t./dvc-venv/lib/python3.11/site-packages/zmq/log\n",
      "88\t./dvc-venv/lib/python3.11/site-packages/zmq/devices/__pycache__\n",
      "696\t./dvc-venv/lib/python3.11/site-packages/zmq/devices\n",
      "18128\t./dvc-venv/lib/python3.11/site-packages/zmq\n",
      "48\t./dvc-venv/lib/python3.11/site-packages/MarkupSafe-2.1.3.dist-info\n",
      "120\t./dvc-venv/lib/python3.11/site-packages/gitdb/test/__pycache__\n",
      "208\t./dvc-venv/lib/python3.11/site-packages/gitdb/test\n",
      "16\t./dvc-venv/lib/python3.11/site-packages/gitdb/utils/__pycache__\n",
      "24\t./dvc-venv/lib/python3.11/site-packages/gitdb/utils\n",
      "304\t./dvc-venv/lib/python3.11/site-packages/gitdb/__pycache__\n",
      "128\t./dvc-venv/lib/python3.11/site-packages/gitdb/db/__pycache__\n",
      "216\t./dvc-venv/lib/python3.11/site-packages/gitdb/db\n",
      "1016\t./dvc-venv/lib/python3.11/site-packages/gitdb\n",
      "56\t./dvc-venv/lib/python3.11/site-packages/idna-3.6.dist-info\n",
      "88\t./dvc-venv/lib/python3.11/site-packages/dvc_task/proc/__pycache__\n",
      "144\t./dvc-venv/lib/python3.11/site-packages/dvc_task/proc\n",
      "40\t./dvc-venv/lib/python3.11/site-packages/dvc_task/app/__pycache__\n",
      "72\t./dvc-venv/lib/python3.11/site-packages/dvc_task/app\n",
      "32\t./dvc-venv/lib/python3.11/site-packages/dvc_task/__pycache__\n",
      "24\t./dvc-venv/lib/python3.11/site-packages/dvc_task/worker/__pycache__\n",
      "48\t./dvc-venv/lib/python3.11/site-packages/dvc_task/worker\n",
      "320\t./dvc-venv/lib/python3.11/site-packages/dvc_task\n",
      "8\t./dvc-venv/lib/python3.11/site-packages/flufl.lock-7.1.1.dist-info/license_files\n",
      "40\t./dvc-venv/lib/python3.11/site-packages/flufl.lock-7.1.1.dist-info\n",
      "56\t./dvc-venv/lib/python3.11/site-packages/omegaconf-2.3.0.dist-info\n",
      "288\t./dvc-venv/lib/python3.11/site-packages/pydantic_core/__pycache__\n",
      "8328\t./dvc-venv/lib/python3.11/site-packages/pydantic_core\n",
      "176\t./dvc-venv/lib/python3.11/site-packages/git/objects/submodule/__pycache__\n"
     ]
    },
    {
     "name": "stdout",
     "output_type": "stream",
     "text": [
      "352\t./dvc-venv/lib/python3.11/site-packages/git/objects/submodule\n",
      "248\t./dvc-venv/lib/python3.11/site-packages/git/objects/__pycache__\n",
      "808\t./dvc-venv/lib/python3.11/site-packages/git/objects\n",
      "560\t./dvc-venv/lib/python3.11/site-packages/git/__pycache__\n",
      "200\t./dvc-venv/lib/python3.11/site-packages/git/refs/__pycache__\n",
      "360\t./dvc-venv/lib/python3.11/site-packages/git/refs\n",
      "224\t./dvc-venv/lib/python3.11/site-packages/git/index/__pycache__\n",
      "416\t./dvc-venv/lib/python3.11/site-packages/git/index\n",
      "168\t./dvc-venv/lib/python3.11/site-packages/git/repo/__pycache__\n",
      "320\t./dvc-venv/lib/python3.11/site-packages/git/repo\n",
      "2920\t./dvc-venv/lib/python3.11/site-packages/git\n",
      "40\t./dvc-venv/lib/python3.11/site-packages/ipykernel/resources\n",
      "120\t./dvc-venv/lib/python3.11/site-packages/ipykernel/inprocess/__pycache__\n",
      "208\t./dvc-venv/lib/python3.11/site-packages/ipykernel/inprocess\n",
      "32\t./dvc-venv/lib/python3.11/site-packages/ipykernel/comm/__pycache__\n",
      "56\t./dvc-venv/lib/python3.11/site-packages/ipykernel/comm\n",
      "816\t./dvc-venv/lib/python3.11/site-packages/ipykernel/__pycache__\n",
      "24\t./dvc-venv/lib/python3.11/site-packages/ipykernel/gui/__pycache__\n",
      "48\t./dvc-venv/lib/python3.11/site-packages/ipykernel/gui\n",
      "24\t./dvc-venv/lib/python3.11/site-packages/ipykernel/pylab/__pycache__\n",
      "40\t./dvc-venv/lib/python3.11/site-packages/ipykernel/pylab\n",
      "1856\t./dvc-venv/lib/python3.11/site-packages/ipykernel\n",
      "8\t./dvc-venv/lib/python3.11/site-packages/aiosignal/__pycache__\n",
      "24\t./dvc-venv/lib/python3.11/site-packages/aiosignal\n",
      "536\t./dvc-venv/lib/python3.11/site-packages/tomlkit/__pycache__\n",
      "888\t./dvc-venv/lib/python3.11/site-packages/tomlkit\n",
      "40\t./dvc-venv/lib/python3.11/site-packages/dateutil/zoneinfo/__pycache__\n",
      "408\t./dvc-venv/lib/python3.11/site-packages/dateutil/zoneinfo\n",
      "256\t./dvc-venv/lib/python3.11/site-packages/dateutil/__pycache__\n",
      "192\t./dvc-venv/lib/python3.11/site-packages/dateutil/parser/__pycache__\n",
      "352\t./dvc-venv/lib/python3.11/site-packages/dateutil/parser\n",
      "240\t./dvc-venv/lib/python3.11/site-packages/dateutil/tz/__pycache__\n",
      "448\t./dvc-venv/lib/python3.11/site-packages/dateutil/tz\n",
      "1704\t./dvc-venv/lib/python3.11/site-packages/dateutil\n",
      "72\t./dvc-venv/lib/python3.11/site-packages/hydra/_internal/grammar/__pycache__\n",
      "120\t./dvc-venv/lib/python3.11/site-packages/hydra/_internal/grammar\n",
      "136\t./dvc-venv/lib/python3.11/site-packages/hydra/_internal/core_plugins/__pycache__\n",
      "216\t./dvc-venv/lib/python3.11/site-packages/hydra/_internal/core_plugins\n",
      "376\t./dvc-venv/lib/python3.11/site-packages/hydra/_internal/__pycache__\n",
      "48\t./dvc-venv/lib/python3.11/site-packages/hydra/_internal/instantiate/__pycache__\n",
      "88\t./dvc-venv/lib/python3.11/site-packages/hydra/_internal/instantiate\n",
      "1072\t./dvc-venv/lib/python3.11/site-packages/hydra/_internal\n",
      "56\t./dvc-venv/lib/python3.11/site-packages/hydra/experimental/__pycache__\n",
      "104\t./dvc-venv/lib/python3.11/site-packages/hydra/experimental\n",
      "8\t./dvc-venv/lib/python3.11/site-packages/hydra/grammar/__pycache__\n",
      "248\t./dvc-venv/lib/python3.11/site-packages/hydra/grammar/gen/__pycache__\n",
      "488\t./dvc-venv/lib/python3.11/site-packages/hydra/grammar/gen\n",
      "528\t./dvc-venv/lib/python3.11/site-packages/hydra/grammar\n",
      "128\t./dvc-venv/lib/python3.11/site-packages/hydra/core/override_parser/__pycache__\n",
      "216\t./dvc-venv/lib/python3.11/site-packages/hydra/core/override_parser\n",
      "208\t./dvc-venv/lib/python3.11/site-packages/hydra/core/__pycache__\n",
      "584\t./dvc-venv/lib/python3.11/site-packages/hydra/core\n",
      "168\t./dvc-venv/lib/python3.11/site-packages/hydra/test_utils/__pycache__\n",
      "16\t./dvc-venv/lib/python3.11/site-packages/hydra/test_utils/configs/missing_init_py\n",
      "16\t./dvc-venv/lib/python3.11/site-packages/hydra/test_utils/configs/completion_test/group\n",
      "8\t./dvc-venv/lib/python3.11/site-packages/hydra/test_utils/configs/completion_test/test_hydra/launcher\n",
      "8\t./dvc-venv/lib/python3.11/site-packages/hydra/test_utils/configs/completion_test/test_hydra\n",
      "8\t./dvc-venv/lib/python3.11/site-packages/hydra/test_utils/configs/completion_test/hydra/launcher\n",
      "8\t./dvc-venv/lib/python3.11/site-packages/hydra/test_utils/configs/completion_test/hydra\n",
      "56\t./dvc-venv/lib/python3.11/site-packages/hydra/test_utils/configs/completion_test\n",
      "8\t./dvc-venv/lib/python3.11/site-packages/hydra/test_utils/configs/top_level_list\n",
      "0\t./dvc-venv/lib/python3.11/site-packages/hydra/test_utils/configs/completion_test_additional_package/group\n",
      "0\t./dvc-venv/lib/python3.11/site-packages/hydra/test_utils/configs/completion_test_additional_package/additional_group\n",
      "8\t./dvc-venv/lib/python3.11/site-packages/hydra/test_utils/configs/completion_test_additional_package/__pycache__\n",
      "16\t./dvc-venv/lib/python3.11/site-packages/hydra/test_utils/configs/completion_test_additional_package\n",
      "8\t./dvc-venv/lib/python3.11/site-packages/hydra/test_utils/configs/__pycache__\n",
      "24\t./dvc-venv/lib/python3.11/site-packages/hydra/test_utils/configs/group1\n",
      "32\t./dvc-venv/lib/python3.11/site-packages/hydra/test_utils/configs/db\n",
      "8\t./dvc-venv/lib/python3.11/site-packages/hydra/test_utils/configs/package_tests/__pycache__\n",
      "16\t./dvc-venv/lib/python3.11/site-packages/hydra/test_utils/configs/package_tests/group1\n",
      "16\t./dvc-venv/lib/python3.11/site-packages/hydra/test_utils/configs/package_tests/group2\n",
      "64\t./dvc-venv/lib/python3.11/site-packages/hydra/test_utils/configs/package_tests\n",
      "16\t./dvc-venv/lib/python3.11/site-packages/hydra/test_utils/configs/group2\n",
      "0\t./dvc-venv/lib/python3.11/site-packages/hydra/test_utils/configs/completion_test_additional_file/group\n",
      "0\t./dvc-venv/lib/python3.11/site-packages/hydra/test_utils/configs/completion_test_additional_file/additional_group\n",
      "0\t./dvc-venv/lib/python3.11/site-packages/hydra/test_utils/configs/completion_test_additional_file\n",
      "384\t./dvc-venv/lib/python3.11/site-packages/hydra/test_utils/configs\n",
      "688\t./dvc-venv/lib/python3.11/site-packages/hydra/test_utils\n",
      "96\t./dvc-venv/lib/python3.11/site-packages/hydra/plugins/__pycache__\n",
      "176\t./dvc-venv/lib/python3.11/site-packages/hydra/plugins\n",
      "112\t./dvc-venv/lib/python3.11/site-packages/hydra/__pycache__\n",
      "8\t./dvc-venv/lib/python3.11/site-packages/hydra/extra/__pycache__\n",
      "16\t./dvc-venv/lib/python3.11/site-packages/hydra/extra\n",
      "16\t./dvc-venv/lib/python3.11/site-packages/hydra/conf/__pycache__\n",
      "32\t./dvc-venv/lib/python3.11/site-packages/hydra/conf/hydra/job_logging\n",
      "8\t./dvc-venv/lib/python3.11/site-packages/hydra/conf/hydra/hydra_help\n",
      "8\t./dvc-venv/lib/python3.11/site-packages/hydra/conf/hydra/output\n",
      "0\t./dvc-venv/lib/python3.11/site-packages/hydra/conf/hydra/env\n",
      "32\t./dvc-venv/lib/python3.11/site-packages/hydra/conf/hydra/hydra_logging\n",
      "8\t./dvc-venv/lib/python3.11/site-packages/hydra/conf/hydra/help\n",
      "88\t./dvc-venv/lib/python3.11/site-packages/hydra/conf/hydra\n",
      "120\t./dvc-venv/lib/python3.11/site-packages/hydra/conf\n",
      "3472\t./dvc-venv/lib/python3.11/site-packages/hydra\n",
      "8\t./dvc-venv/lib/python3.11/site-packages/jsonschema_specifications-2023.11.2.dist-info/licenses\n",
      "40\t./dvc-venv/lib/python3.11/site-packages/jsonschema_specifications-2023.11.2.dist-info\n",
      "64\t./dvc-venv/lib/python3.11/site-packages/executing-2.0.1.dist-info\n",
      "1424\t./dvc-venv/lib/python3.11/site-packages/ruamel/yaml/__pycache__\n",
      "2576\t./dvc-venv/lib/python3.11/site-packages/ruamel/yaml\n",
      "2576\t./dvc-venv/lib/python3.11/site-packages/ruamel\n",
      "48\t./dvc-venv/lib/python3.11/site-packages/vine-5.1.0.dist-info\n",
      "192\t./dvc-venv/lib/python3.11/site-packages/platformdirs/__pycache__\n",
      "352\t./dvc-venv/lib/python3.11/site-packages/platformdirs\n",
      "48\t./dvc-venv/lib/python3.11/site-packages/click-8.1.7.dist-info\n",
      "120\t./dvc-venv/lib/python3.11/site-packages/tabulate-0.9.0.dist-info\n",
      "80\t./dvc-venv/lib/python3.11/site-packages/tornado-6.4.dist-info\n",
      "8\t./dvc-venv/lib/python3.11/site-packages/traitlets-5.9.0.dist-info/licenses\n",
      "64\t./dvc-venv/lib/python3.11/site-packages/traitlets-5.9.0.dist-info\n",
      "312\t./dvc-venv/lib/python3.11/site-packages/dulwich/tests/compat/__pycache__\n",
      "512\t./dvc-venv/lib/python3.11/site-packages/dulwich/tests/compat\n",
      "2656\t./dvc-venv/lib/python3.11/site-packages/dulwich/tests/__pycache__\n",
      "4760\t./dvc-venv/lib/python3.11/site-packages/dulwich/tests\n",
      "2328\t./dvc-venv/lib/python3.11/site-packages/dulwich/__pycache__\n",
      "352\t./dvc-venv/lib/python3.11/site-packages/dulwich/contrib/__pycache__\n",
      "608\t./dvc-venv/lib/python3.11/site-packages/dulwich/contrib\n",
      "24\t./dvc-venv/lib/python3.11/site-packages/dulwich/cloud/__pycache__\n",
      "32\t./dvc-venv/lib/python3.11/site-packages/dulwich/cloud\n"
     ]
    },
    {
     "name": "stdout",
     "output_type": "stream",
     "text": [
      "9800\t./dvc-venv/lib/python3.11/site-packages/dulwich\n",
      "72\t./dvc-venv/lib/python3.11/site-packages/dvc_http/tests/__pycache__\n",
      "120\t./dvc-venv/lib/python3.11/site-packages/dvc_http/tests\n",
      "40\t./dvc-venv/lib/python3.11/site-packages/dvc_http/__pycache__\n",
      "200\t./dvc-venv/lib/python3.11/site-packages/dvc_http\n",
      "758544\t./dvc-venv/lib/python3.11/site-packages\n",
      "758544\t./dvc-venv/lib/python3.11\n",
      "758544\t./dvc-venv/lib\n",
      "8\t./dvc-venv/share/man/man1\n",
      "8\t./dvc-venv/share/man\n",
      "48\t./dvc-venv/share/icons/hicolor/scalable/apps\n",
      "48\t./dvc-venv/share/icons/hicolor/scalable\n",
      "48\t./dvc-venv/share/icons/hicolor\n",
      "48\t./dvc-venv/share/icons\n",
      "16\t./dvc-venv/share/applications\n",
      "0\t./dvc-venv/share/jupyter/labextensions/@jupyter-notebook\n",
      "56\t./dvc-venv/share/jupyter/labextensions/jupyterlab_pygments/static\n",
      "80\t./dvc-venv/share/jupyter/labextensions/jupyterlab_pygments\n",
      "80\t./dvc-venv/share/jupyter/labextensions\n",
      "48\t./dvc-venv/share/jupyter/kernels/python3\n",
      "48\t./dvc-venv/share/jupyter/kernels\n",
      "0\t./dvc-venv/share/jupyter/lab/schemas/@jupyter-notebook\n",
      "32\t./dvc-venv/share/jupyter/lab/schemas/@jupyterlab/fileeditor-extension\n",
      "32\t./dvc-venv/share/jupyter/lab/schemas/@jupyterlab/tooltip-extension\n",
      "16\t./dvc-venv/share/jupyter/lab/schemas/@jupyterlab/codemirror-extension\n",
      "16\t./dvc-venv/share/jupyter/lab/schemas/@jupyterlab/extensionmanager-extension\n",
      "64\t./dvc-venv/share/jupyter/lab/schemas/@jupyterlab/apputils-extension\n",
      "16\t./dvc-venv/share/jupyter/lab/schemas/@jupyterlab/toc-extension\n",
      "56\t./dvc-venv/share/jupyter/lab/schemas/@jupyterlab/filebrowser-extension\n",
      "16\t./dvc-venv/share/jupyter/lab/schemas/@jupyterlab/metadataform-extension\n",
      "16\t./dvc-venv/share/jupyter/lab/schemas/@jupyterlab/terminal-extension\n",
      "16\t./dvc-venv/share/jupyter/lab/schemas/@jupyterlab/statusbar-extension\n",
      "88\t./dvc-venv/share/jupyter/lab/schemas/@jupyterlab/notebook-extension\n",
      "16\t./dvc-venv/share/jupyter/lab/schemas/@jupyterlab/mathjax-extension\n",
      "24\t./dvc-venv/share/jupyter/lab/schemas/@jupyterlab/docmanager-extension\n",
      "16\t./dvc-venv/share/jupyter/lab/schemas/@jupyterlab/translation-extension\n",
      "16\t./dvc-venv/share/jupyter/lab/schemas/@jupyterlab/documentsearch-extension\n",
      "32\t./dvc-venv/share/jupyter/lab/schemas/@jupyterlab/help-extension\n",
      "16\t./dvc-venv/share/jupyter/lab/schemas/@jupyterlab/cell-toolbar-extension\n",
      "16\t./dvc-venv/share/jupyter/lab/schemas/@jupyterlab/celltags-extension\n",
      "32\t./dvc-venv/share/jupyter/lab/schemas/@jupyterlab/console-extension\n",
      "32\t./dvc-venv/share/jupyter/lab/schemas/@jupyterlab/inspector-extension\n",
      "16\t./dvc-venv/share/jupyter/lab/schemas/@jupyterlab/hub-extension\n",
      "16\t./dvc-venv/share/jupyter/lab/schemas/@jupyterlab/running-extension\n",
      "16\t./dvc-venv/share/jupyter/lab/schemas/@jupyterlab/markdownviewer-extension\n",
      "16\t./dvc-venv/share/jupyter/lab/schemas/@jupyterlab/lsp-extension\n",
      "56\t./dvc-venv/share/jupyter/lab/schemas/@jupyterlab/application-extension\n",
      "16\t./dvc-venv/share/jupyter/lab/schemas/@jupyterlab/htmlviewer-extension\n",
      "16\t./dvc-venv/share/jupyter/lab/schemas/@jupyterlab/logconsole-extension\n",
      "24\t./dvc-venv/share/jupyter/lab/schemas/@jupyterlab/csvviewer-extension\n",
      "16\t./dvc-venv/share/jupyter/lab/schemas/@jupyterlab/completer-extension\n",
      "24\t./dvc-venv/share/jupyter/lab/schemas/@jupyterlab/settingeditor-extension\n",
      "32\t./dvc-venv/share/jupyter/lab/schemas/@jupyterlab/mainmenu-extension\n",
      "16\t./dvc-venv/share/jupyter/lab/schemas/@jupyterlab/launcher-extension\n",
      "16\t./dvc-venv/share/jupyter/lab/schemas/@jupyterlab/shortcuts-extension\n",
      "16\t./dvc-venv/share/jupyter/lab/schemas/@jupyterlab/imageviewer-extension\n",
      "16\t./dvc-venv/share/jupyter/lab/schemas/@jupyterlab/debugger-extension\n",
      "880\t./dvc-venv/share/jupyter/lab/schemas/@jupyterlab\n",
      "880\t./dvc-venv/share/jupyter/lab/schemas\n",
      "23152\t./dvc-venv/share/jupyter/lab/static\n",
      "40\t./dvc-venv/share/jupyter/lab/themes/@jupyterlab/theme-dark-extension\n",
      "40\t./dvc-venv/share/jupyter/lab/themes/@jupyterlab/theme-light-extension\n",
      "80\t./dvc-venv/share/jupyter/lab/themes/@jupyterlab\n",
      "80\t./dvc-venv/share/jupyter/lab/themes\n",
      "24112\t./dvc-venv/share/jupyter/lab\n",
      "16\t./dvc-venv/share/jupyter/nbconvert/templates/compatibility\n",
      "16\t./dvc-venv/share/jupyter/nbconvert/templates/webpdf\n",
      "16\t./dvc-venv/share/jupyter/nbconvert/templates/python\n",
      "520\t./dvc-venv/share/jupyter/nbconvert/templates/classic/static\n",
      "560\t./dvc-venv/share/jupyter/nbconvert/templates/classic\n",
      "16\t./dvc-venv/share/jupyter/nbconvert/templates/markdown\n",
      "136\t./dvc-venv/share/jupyter/nbconvert/templates/latex\n",
      "8\t./dvc-venv/share/jupyter/nbconvert/templates/reveal/static\n",
      "48\t./dvc-venv/share/jupyter/nbconvert/templates/reveal\n",
      "16\t./dvc-venv/share/jupyter/nbconvert/templates/rst\n",
      "544\t./dvc-venv/share/jupyter/nbconvert/templates/lab/static\n",
      "600\t./dvc-venv/share/jupyter/nbconvert/templates/lab\n",
      "16\t./dvc-venv/share/jupyter/nbconvert/templates/basic\n",
      "16\t./dvc-venv/share/jupyter/nbconvert/templates/script\n",
      "16\t./dvc-venv/share/jupyter/nbconvert/templates/asciidoc\n",
      "56\t./dvc-venv/share/jupyter/nbconvert/templates/base\n",
      "1528\t./dvc-venv/share/jupyter/nbconvert/templates\n",
      "1528\t./dvc-venv/share/jupyter/nbconvert\n",
      "25768\t./dvc-venv/share/jupyter\n",
      "25840\t./dvc-venv/share\n",
      "784928\t./dvc-venv\n",
      "40\t./src\n",
      "785920\t.\n"
     ]
    }
   ],
   "source": [
    "%%bash\n",
    "\n",
    "# du -sh data/*\n",
    "du"
   ]
  },
  {
   "cell_type": "code",
   "execution_count": 40,
   "metadata": {
    "ExecuteTime": {
     "end_time": "2020-10-21T10:03:42.595865Z",
     "start_time": "2020-10-21T10:03:42.471874Z"
    }
   },
   "outputs": [
    {
     "name": "stdout",
     "output_type": "stream",
     "text": [
      "\u001b[01;34m.\u001b[0m\r\n",
      "├── \u001b[00mLICENSE\u001b[0m\r\n",
      "├── \u001b[00mREADME.md\u001b[0m\r\n",
      "├── \u001b[01;34mdata\u001b[0m\r\n",
      "├── \u001b[00mdvc-3-automate-experiments.ipynb\u001b[0m\r\n",
      "├── \u001b[00mdvc.yaml\u001b[0m\r\n",
      "├── \u001b[00mparams.yaml\u001b[0m\r\n",
      "├── \u001b[00mrequirements.txt\u001b[0m\r\n",
      "└── \u001b[01;34msrc\u001b[0m\r\n",
      "    ├── \u001b[00m__init__.py\u001b[0m\r\n",
      "    ├── \u001b[00mdata_load.py\u001b[0m\r\n",
      "    ├── \u001b[00mevaluate.py\u001b[0m\r\n",
      "    ├── \u001b[00mfeaturization.py\u001b[0m\r\n",
      "    ├── \u001b[00msplit_dataset.py\u001b[0m\r\n",
      "    └── \u001b[00mtrain.py\u001b[0m\r\n",
      "\r\n",
      "3 directories, 12 files\r\n"
     ]
    }
   ],
   "source": [
    "# Note: we use `tree -I ...` pattern to not list those files that match the wild-card pattern.\n",
    "!tree -I dvc-venv"
   ]
  },
  {
   "cell_type": "markdown",
   "metadata": {},
   "source": [
    "## dvc.yaml"
   ]
  },
  {
   "cell_type": "code",
   "execution_count": 8,
   "metadata": {
    "ExecuteTime": {
     "end_time": "2020-07-03T19:30:37.727096Z",
     "start_time": "2020-07-03T19:30:37.609182Z"
    }
   },
   "outputs": [
    {
     "name": "stdout",
     "output_type": "stream",
     "text": [
      "stages:\r\n",
      "  data_load:\r\n",
      "    cmd: python src/data_load.py --config=params.yaml\r\n",
      "    deps:\r\n",
      "    - src/data_load.py\r\n",
      "    params:\r\n",
      "    - data_load\r\n",
      "    outs:\r\n",
      "    - data/classes.json\r\n",
      "    - data/iris.csv\r\n"
     ]
    }
   ],
   "source": [
    "!cat dvc.yaml"
   ]
  },
  {
   "cell_type": "markdown",
   "metadata": {},
   "source": [
    "## params.yaml"
   ]
  },
  {
   "cell_type": "code",
   "execution_count": 41,
   "metadata": {
    "ExecuteTime": {
     "end_time": "2020-07-03T19:30:37.877998Z",
     "start_time": "2020-07-03T19:30:37.755666Z"
    },
    "scrolled": true
   },
   "outputs": [
    {
     "name": "stdout",
     "output_type": "stream",
     "text": [
      "\r\n",
      "data_load:\r\n",
      "  raw_data_path: data/iris.csv\r\n",
      "  classes_names_path: data/classes.json\r\n",
      "\r\n",
      "featurize:\r\n",
      "  features_path: data/iris_featurized.csv\r\n",
      "  target_column: target\r\n",
      "\r\n",
      "\r\n",
      "data_split:\r\n",
      "  test_size: 0.2\r\n",
      "  train_path: data/train.csv\r\n",
      "  test_path: data/test.csv\r\n",
      "\r\n",
      "\r\n",
      "train:\r\n",
      "  model_path: data/model.joblib\r\n",
      "\r\n",
      "\r\n",
      "evaluate:\r\n",
      "  metrics_file: data/metrics.json\r\n",
      "  confusion_matrix: data/cm.csv\r\n"
     ]
    }
   ],
   "source": [
    "!cat params.yaml"
   ]
  },
  {
   "cell_type": "markdown",
   "metadata": {},
   "source": [
    "## Reproduce a pipeline"
   ]
  },
  {
   "cell_type": "code",
   "execution_count": 47,
   "metadata": {
    "ExecuteTime": {
     "end_time": "2020-07-03T19:30:39.781553Z",
     "start_time": "2020-07-03T19:30:37.923002Z"
    }
   },
   "outputs": [
    {
     "name": "stdout",
     "output_type": "stream",
     "text": [
      "Running stage 'data_load':                                                      \n",
      "> python src/data_load.py --config=params.yaml\n",
      "Generating lock file 'dvc.lock'                                                 \n",
      "Updating lock file 'dvc.lock'\n",
      "\n",
      "To track the changes with git, run:\n",
      "\n",
      "\tgit add dvc.lock\n",
      "\n",
      "To enable auto staging, run:\n",
      "\n",
      "\tdvc config core.autostage true\n",
      "Use `dvc push` to send your updates to remote storage.\n",
      "\u001b[0m"
     ]
    }
   ],
   "source": [
    "!dvc repro\n"
   ]
  },
  {
   "cell_type": "markdown",
   "metadata": {},
   "source": [
    "## Change params.yaml and reproduce \n",
    "\n",
    "Add a new line into `data_load` section:\n",
    "    `dummy_param: dummy_value`"
   ]
  },
  {
   "cell_type": "code",
   "execution_count": 48,
   "metadata": {
    "ExecuteTime": {
     "end_time": "2020-07-03T19:30:41.698409Z",
     "start_time": "2020-07-03T19:30:39.807607Z"
    }
   },
   "outputs": [
    {
     "name": "stdout",
     "output_type": "stream",
     "text": [
      "Stage 'data_load' didn't change, skipping                                       \n",
      "Data and pipelines are up to date.\n",
      "\u001b[0m"
     ]
    }
   ],
   "source": [
    "!dvc repro"
   ]
  },
  {
   "cell_type": "markdown",
   "metadata": {},
   "source": [
    "# Build end-to-end Machine Learning pipeline\n",
    "Stages \n",
    "- extract features \n",
    "- split dataset \n",
    "- train \n",
    "- evaluate \n"
   ]
  },
  {
   "cell_type": "markdown",
   "metadata": {},
   "source": [
    "## Add feature extraction stage"
   ]
  },
  {
   "cell_type": "code",
   "execution_count": 49,
   "metadata": {
    "ExecuteTime": {
     "end_time": "2020-07-03T19:30:45.387596Z",
     "start_time": "2020-07-03T19:30:43.388868Z"
    }
   },
   "outputs": [
    {
     "name": "stdout",
     "output_type": "stream",
     "text": [
      "Added stage 'feature_extraction' in 'dvc.yaml'\n",
      "\n",
      "To track the changes with git, run:\n",
      "\n",
      "\tgit add dvc.yaml\n",
      "\n",
      "To enable auto staging, run:\n",
      "\n",
      "\tdvc config core.autostage true\n"
     ]
    }
   ],
   "source": [
    "%%bash\n",
    "\n",
    "dvc stage add -n feature_extraction \\\n",
    "    -d src/featurization.py \\\n",
    "    -d data/iris.csv \\\n",
    "    -o data/iris_featurized.csv \\\n",
    "    -p data_load,featurize \\\n",
    "    python src/featurization.py \\\n",
    "        --config=params.yaml"
   ]
  },
  {
   "cell_type": "code",
   "execution_count": 54,
   "metadata": {},
   "outputs": [
    {
     "name": "stdout",
     "output_type": "stream",
     "text": [
      "Stage 'data_load' didn't change, skipping                                       \n",
      "Running stage 'feature_extraction':                                             \n",
      "> python src/featurization.py --config=params.yaml\n",
      "Updating lock file 'dvc.lock'                                                   \n",
      "\n",
      "To track the changes with git, run:\n",
      "\n",
      "\tgit add dvc.lock\n",
      "\n",
      "To enable auto staging, run:\n",
      "\n",
      "\tdvc config core.autostage true\n",
      "Use `dvc push` to send your updates to remote storage.\n",
      "\u001b[0m"
     ]
    }
   ],
   "source": [
    "!dvc repro"
   ]
  },
  {
   "cell_type": "code",
   "execution_count": 51,
   "metadata": {
    "ExecuteTime": {
     "end_time": "2020-10-21T14:22:48.664322Z",
     "start_time": "2020-10-21T14:22:48.539481Z"
    }
   },
   "outputs": [
    {
     "name": "stdout",
     "output_type": "stream",
     "text": [
      "LICENSE                          dvc.lock\r\n",
      "README.md                        dvc.yaml\r\n",
      "\u001b[34mdata\u001b[m\u001b[m                             params.yaml\r\n",
      "dvc-3-automate-experiments.ipynb requirements.txt\r\n",
      "\u001b[34mdvc-venv\u001b[m\u001b[m                         \u001b[34msrc\u001b[m\u001b[m\r\n"
     ]
    }
   ],
   "source": [
    "!ls "
   ]
  },
  {
   "cell_type": "code",
   "execution_count": 55,
   "metadata": {
    "ExecuteTime": {
     "end_time": "2020-10-21T14:22:55.648732Z",
     "start_time": "2020-10-21T14:22:55.526727Z"
    }
   },
   "outputs": [
    {
     "name": "stdout",
     "output_type": "stream",
     "text": [
      "stages:\r\n",
      "  data_load:\r\n",
      "    cmd: python src/data_load.py --config=params.yaml\r\n",
      "    deps:\r\n",
      "    - src/data_load.py\r\n",
      "    params:\r\n",
      "    - data_load\r\n",
      "    outs:\r\n",
      "    - data/classes.json\r\n",
      "    - data/iris.csv\r\n",
      "  feature_extraction:\r\n",
      "    cmd: python src/featurization.py --config=params.yaml\r\n",
      "    deps:\r\n",
      "    - data/iris.csv\r\n",
      "    - src/featurization.py\r\n",
      "    params:\r\n",
      "    - data_load\r\n",
      "    - featurize\r\n",
      "    outs:\r\n",
      "    - data/iris_featurized.csv\r\n"
     ]
    }
   ],
   "source": [
    "!cat dvc.yaml"
   ]
  },
  {
   "cell_type": "code",
   "execution_count": 56,
   "metadata": {
    "ExecuteTime": {
     "end_time": "2020-10-21T14:22:58.124155Z",
     "start_time": "2020-10-21T14:22:57.646371Z"
    }
   },
   "outputs": [
    {
     "data": {
      "text/html": [
       "<div>\n",
       "<style scoped>\n",
       "    .dataframe tbody tr th:only-of-type {\n",
       "        vertical-align: middle;\n",
       "    }\n",
       "\n",
       "    .dataframe tbody tr th {\n",
       "        vertical-align: top;\n",
       "    }\n",
       "\n",
       "    .dataframe thead th {\n",
       "        text-align: right;\n",
       "    }\n",
       "</style>\n",
       "<table border=\"1\" class=\"dataframe\">\n",
       "  <thead>\n",
       "    <tr style=\"text-align: right;\">\n",
       "      <th></th>\n",
       "      <th>sepal_length</th>\n",
       "      <th>sepal_width</th>\n",
       "      <th>petal_length</th>\n",
       "      <th>petal_width</th>\n",
       "      <th>target</th>\n",
       "    </tr>\n",
       "  </thead>\n",
       "  <tbody>\n",
       "    <tr>\n",
       "      <th>0</th>\n",
       "      <td>5.1</td>\n",
       "      <td>3.5</td>\n",
       "      <td>1.4</td>\n",
       "      <td>0.2</td>\n",
       "      <td>0</td>\n",
       "    </tr>\n",
       "    <tr>\n",
       "      <th>1</th>\n",
       "      <td>4.9</td>\n",
       "      <td>3.0</td>\n",
       "      <td>1.4</td>\n",
       "      <td>0.2</td>\n",
       "      <td>0</td>\n",
       "    </tr>\n",
       "    <tr>\n",
       "      <th>2</th>\n",
       "      <td>4.7</td>\n",
       "      <td>3.2</td>\n",
       "      <td>1.3</td>\n",
       "      <td>0.2</td>\n",
       "      <td>0</td>\n",
       "    </tr>\n",
       "    <tr>\n",
       "      <th>3</th>\n",
       "      <td>4.6</td>\n",
       "      <td>3.1</td>\n",
       "      <td>1.5</td>\n",
       "      <td>0.2</td>\n",
       "      <td>0</td>\n",
       "    </tr>\n",
       "    <tr>\n",
       "      <th>4</th>\n",
       "      <td>5.0</td>\n",
       "      <td>3.6</td>\n",
       "      <td>1.4</td>\n",
       "      <td>0.2</td>\n",
       "      <td>0</td>\n",
       "    </tr>\n",
       "  </tbody>\n",
       "</table>\n",
       "</div>"
      ],
      "text/plain": [
       "   sepal_length  sepal_width  petal_length  petal_width  target\n",
       "0           5.1          3.5           1.4          0.2       0\n",
       "1           4.9          3.0           1.4          0.2       0\n",
       "2           4.7          3.2           1.3          0.2       0\n",
       "3           4.6          3.1           1.5          0.2       0\n",
       "4           5.0          3.6           1.4          0.2       0"
      ]
     },
     "execution_count": 56,
     "metadata": {},
     "output_type": "execute_result"
    }
   ],
   "source": [
    "import pandas as pd\n",
    "\n",
    "features = pd.read_csv('data/iris_featurized.csv')\n",
    "features.head()"
   ]
  },
  {
   "cell_type": "markdown",
   "metadata": {},
   "source": [
    "## Commit changes "
   ]
  },
  {
   "cell_type": "code",
   "execution_count": 58,
   "metadata": {
    "ExecuteTime": {
     "end_time": "2020-10-21T12:58:37.280454Z",
     "start_time": "2020-10-21T12:58:37.272728Z"
    }
   },
   "outputs": [
    {
     "name": "stdout",
     "output_type": "stream",
     "text": [
      " \u001b[31mM\u001b[m dvc-3-automate-experiments.ipynb\r\n",
      "\u001b[31m??\u001b[m dvc.lock\r\n",
      "\u001b[31m??\u001b[m dvc.yaml\r\n"
     ]
    }
   ],
   "source": [
    "# Check Git status\n",
    "\n",
    "!git status -s"
   ]
  },
  {
   "cell_type": "code",
   "execution_count": 60,
   "metadata": {
    "ExecuteTime": {
     "end_time": "2020-07-03T19:30:45.961182Z",
     "start_time": "2020-07-03T19:30:45.916816Z"
    }
   },
   "outputs": [
    {
     "name": "stdout",
     "output_type": "stream",
     "text": [
      "On branch dvc-tutorial\r\n",
      "nothing to commit, working tree clean\r\n"
     ]
    }
   ],
   "source": [
    "# Commit changes \n",
    "\n",
    "!git add .\n",
    "!git commit -m \"Add stage features_extraction\""
   ]
  },
  {
   "cell_type": "markdown",
   "metadata": {},
   "source": [
    "## Add split train/test stage"
   ]
  },
  {
   "cell_type": "code",
   "execution_count": 61,
   "metadata": {
    "ExecuteTime": {
     "end_time": "2020-07-03T19:30:48.044867Z",
     "start_time": "2020-07-03T19:30:45.984594Z"
    }
   },
   "outputs": [
    {
     "name": "stdout",
     "output_type": "stream",
     "text": [
      "Added stage 'split_dataset' in 'dvc.yaml'                             core\u001b[39m>\n",
      "\n",
      "To track the changes with git, run:\n",
      "\n",
      "\tgit add dvc.yaml\n",
      "\n",
      "To enable auto staging, run:\n",
      "\n",
      "\tdvc config core.autostage true\n",
      "\u001b[0m"
     ]
    }
   ],
   "source": [
    "!dvc stage add -n split_dataset \\\n",
    "    -d src/split_dataset.py \\\n",
    "    -d data/iris_featurized.csv \\\n",
    "    -o data/train.csv \\\n",
    "    -o data/test.csv \\\n",
    "    -p featurize,data_split \\\n",
    "        python src/split_dataset.py \\\n",
    "            --config=params.yaml"
   ]
  },
  {
   "cell_type": "code",
   "execution_count": 64,
   "metadata": {
    "ExecuteTime": {
     "end_time": "2020-07-03T19:30:48.250249Z",
     "start_time": "2020-07-03T19:30:48.209429Z"
    }
   },
   "outputs": [
    {
     "name": "stdout",
     "output_type": "stream",
     "text": [
      "On branch dvc-tutorial\r\n",
      "nothing to commit, working tree clean\r\n"
     ]
    }
   ],
   "source": [
    "# Commit changes\n",
    "\n",
    "!git add .\n",
    "!git commit -m \"Add stage split_dataset\"\n"
   ]
  },
  {
   "cell_type": "code",
   "execution_count": 65,
   "metadata": {
    "ExecuteTime": {
     "end_time": "2020-10-21T14:23:25.865051Z",
     "start_time": "2020-10-21T14:23:25.749060Z"
    },
    "scrolled": true
   },
   "outputs": [
    {
     "name": "stdout",
     "output_type": "stream",
     "text": [
      "stages:\r\n",
      "  data_load:\r\n",
      "    cmd: python src/data_load.py --config=params.yaml\r\n",
      "    deps:\r\n",
      "    - src/data_load.py\r\n",
      "    params:\r\n",
      "    - data_load\r\n",
      "    outs:\r\n",
      "    - data/classes.json\r\n",
      "    - data/iris.csv\r\n",
      "  feature_extraction:\r\n",
      "    cmd: python src/featurization.py --config=params.yaml\r\n",
      "    deps:\r\n",
      "    - data/iris.csv\r\n",
      "    - src/featurization.py\r\n",
      "    params:\r\n",
      "    - data_load\r\n",
      "    - featurize\r\n",
      "    outs:\r\n",
      "    - data/iris_featurized.csv\r\n",
      "  split_dataset:\r\n",
      "    cmd: python src/split_dataset.py --config=params.yaml\r\n",
      "    deps:\r\n",
      "    - data/iris_featurized.csv\r\n",
      "    - src/split_dataset.py\r\n",
      "    params:\r\n",
      "    - data_split\r\n",
      "    - featurize\r\n",
      "    outs:\r\n",
      "    - data/test.csv\r\n",
      "    - data/train.csv\r\n"
     ]
    }
   ],
   "source": [
    "!cat dvc.yaml"
   ]
  },
  {
   "cell_type": "markdown",
   "metadata": {},
   "source": [
    "## Add train stage"
   ]
  },
  {
   "cell_type": "code",
   "execution_count": 67,
   "metadata": {
    "ExecuteTime": {
     "end_time": "2020-07-03T19:30:50.298161Z",
     "start_time": "2020-07-03T19:30:48.275068Z"
    }
   },
   "outputs": [
    {
     "name": "stdout",
     "output_type": "stream",
     "text": [
      "Added stage 'train' in 'dvc.yaml'\n",
      "\n",
      "To track the changes with git, run:\n",
      "\n",
      "\tgit add dvc.yaml\n",
      "\n",
      "To enable auto staging, run:\n",
      "\n",
      "\tdvc config core.autostage true\n"
     ]
    }
   ],
   "source": [
    "%%bash\n",
    "\n",
    "dvc stage add -n train \\\n",
    "    -d src/train.py \\\n",
    "    -d data/train.csv \\\n",
    "    -o data/model.joblib \\\n",
    "    -p data_split,train \\\n",
    "        python src/train.py \\\n",
    "            --config=params.yaml\n"
   ]
  },
  {
   "cell_type": "code",
   "execution_count": 72,
   "metadata": {
    "ExecuteTime": {
     "end_time": "2020-07-03T19:30:50.512656Z",
     "start_time": "2020-07-03T19:30:50.468759Z"
    }
   },
   "outputs": [
    {
     "name": "stdout",
     "output_type": "stream",
     "text": [
      "On branch dvc-tutorial\r\n",
      "nothing to commit, working tree clean\r\n"
     ]
    }
   ],
   "source": [
    "# Commit changes\n",
    "\n",
    "!git add .\n",
    "!git commit -m \"Add stage train\"\n"
   ]
  },
  {
   "cell_type": "code",
   "execution_count": 73,
   "metadata": {
    "ExecuteTime": {
     "end_time": "2020-10-21T14:23:55.190584Z",
     "start_time": "2020-10-21T14:23:55.074531Z"
    },
    "scrolled": true
   },
   "outputs": [
    {
     "name": "stdout",
     "output_type": "stream",
     "text": [
      "stages:\r\n",
      "  data_load:\r\n",
      "    cmd: python src/data_load.py --config=params.yaml\r\n",
      "    deps:\r\n",
      "    - src/data_load.py\r\n",
      "    params:\r\n",
      "    - data_load\r\n",
      "    outs:\r\n",
      "    - data/classes.json\r\n",
      "    - data/iris.csv\r\n",
      "  feature_extraction:\r\n",
      "    cmd: python src/featurization.py --config=params.yaml\r\n",
      "    deps:\r\n",
      "    - data/iris.csv\r\n",
      "    - src/featurization.py\r\n",
      "    params:\r\n",
      "    - data_load\r\n",
      "    - featurize\r\n",
      "    outs:\r\n",
      "    - data/iris_featurized.csv\r\n",
      "  split_dataset:\r\n",
      "    cmd: python src/split_dataset.py --config=params.yaml\r\n",
      "    deps:\r\n",
      "    - data/iris_featurized.csv\r\n",
      "    - src/split_dataset.py\r\n",
      "    params:\r\n",
      "    - data_split\r\n",
      "    - featurize\r\n",
      "    outs:\r\n",
      "    - data/test.csv\r\n",
      "    - data/train.csv\r\n",
      "  train:\r\n",
      "    cmd: python src/train.py --config=params.yaml\r\n",
      "    deps:\r\n",
      "    - data/train.csv\r\n",
      "    - src/train.py\r\n",
      "    params:\r\n",
      "    - data_split\r\n",
      "    - train\r\n",
      "    outs:\r\n",
      "    - data/model.joblib\r\n"
     ]
    }
   ],
   "source": [
    "!cat dvc.yaml"
   ]
  },
  {
   "cell_type": "markdown",
   "metadata": {},
   "source": [
    "## Add evaluate stage"
   ]
  },
  {
   "cell_type": "code",
   "execution_count": 74,
   "metadata": {
    "ExecuteTime": {
     "end_time": "2020-10-21T13:03:19.945663Z",
     "start_time": "2020-10-21T13:03:19.941005Z"
    }
   },
   "outputs": [
    {
     "name": "stdout",
     "output_type": "stream",
     "text": [
      "Added stage 'evaluate' in 'dvc.yaml'\n",
      "\n",
      "To track the changes with git, run:\n",
      "\n",
      "\tgit add dvc.yaml\n",
      "\n",
      "To enable auto staging, run:\n",
      "\n",
      "\tdvc config core.autostage true\n"
     ]
    }
   ],
   "source": [
    "%%bash\n",
    "\n",
    "dvc stage add -n evaluate \\\n",
    "    -d src/evaluate.py \\\n",
    "    -d data/test.csv \\\n",
    "    -d data/model.joblib \\\n",
    "    -d data/classes.json \\\n",
    "    -m data/metrics.json \\\n",
    "    --plots data/cm.csv \\\n",
    "    -p data_load,data_split,train,evaluate \\\n",
    "        python src/evaluate.py \\\n",
    "            --config=params.yaml"
   ]
  },
  {
   "cell_type": "code",
   "execution_count": 77,
   "metadata": {
    "ExecuteTime": {
     "end_time": "2020-07-03T19:30:52.971253Z",
     "start_time": "2020-07-03T19:30:52.919420Z"
    }
   },
   "outputs": [
    {
     "name": "stdout",
     "output_type": "stream",
     "text": [
      "On branch dvc-tutorial\r\n",
      "nothing to commit, working tree clean\r\n"
     ]
    }
   ],
   "source": [
    "# Commit changes\n",
    "\n",
    "!git add .\n",
    "!git commit -m \"Add stage evaluate\""
   ]
  },
  {
   "cell_type": "code",
   "execution_count": 78,
   "metadata": {
    "ExecuteTime": {
     "end_time": "2020-10-21T14:24:17.094698Z",
     "start_time": "2020-10-21T14:24:16.977100Z"
    },
    "scrolled": true
   },
   "outputs": [
    {
     "name": "stdout",
     "output_type": "stream",
     "text": [
      "stages:\r\n",
      "  data_load:\r\n",
      "    cmd: python src/data_load.py --config=params.yaml\r\n",
      "    deps:\r\n",
      "    - src/data_load.py\r\n",
      "    params:\r\n",
      "    - data_load\r\n",
      "    outs:\r\n",
      "    - data/classes.json\r\n",
      "    - data/iris.csv\r\n",
      "  feature_extraction:\r\n",
      "    cmd: python src/featurization.py --config=params.yaml\r\n",
      "    deps:\r\n",
      "    - data/iris.csv\r\n",
      "    - src/featurization.py\r\n",
      "    params:\r\n",
      "    - data_load\r\n",
      "    - featurize\r\n",
      "    outs:\r\n",
      "    - data/iris_featurized.csv\r\n",
      "  split_dataset:\r\n",
      "    cmd: python src/split_dataset.py --config=params.yaml\r\n",
      "    deps:\r\n",
      "    - data/iris_featurized.csv\r\n",
      "    - src/split_dataset.py\r\n",
      "    params:\r\n",
      "    - data_split\r\n",
      "    - featurize\r\n",
      "    outs:\r\n",
      "    - data/test.csv\r\n",
      "    - data/train.csv\r\n",
      "  train:\r\n",
      "    cmd: python src/train.py --config=params.yaml\r\n",
      "    deps:\r\n",
      "    - data/train.csv\r\n",
      "    - src/train.py\r\n",
      "    params:\r\n",
      "    - data_split\r\n",
      "    - train\r\n",
      "    outs:\r\n",
      "    - data/model.joblib\r\n",
      "  evaluate:\r\n",
      "    cmd: python src/evaluate.py --config=params.yaml\r\n",
      "    deps:\r\n",
      "    - data/classes.json\r\n",
      "    - data/model.joblib\r\n",
      "    - data/test.csv\r",
      "\r\n",
      "    - src/evaluate.py\r\n",
      "    params:\r\n",
      "    - data_load\r\n",
      "    - data_split\r\n",
      "    - evaluate\r\n",
      "    - train\r\n",
      "    metrics:\r\n",
      "    - data/metrics.json\r\n",
      "    plots:\r\n",
      "    - data/cm.csv\r\n"
     ]
    }
   ],
   "source": [
    "!cat dvc.yaml"
   ]
  },
  {
   "cell_type": "markdown",
   "metadata": {},
   "source": [
    "# Experimenting with reproducible pipelines"
   ]
  },
  {
   "cell_type": "markdown",
   "metadata": {},
   "source": [
    "## How reproduce experiments?"
   ]
  },
  {
   "cell_type": "markdown",
   "metadata": {},
   "source": [
    "> The most exciting part of DVC is reproducibility.\n",
    ">> Reproducibility is the time you are getting benefits out of DVC instead of spending time defining the ML pipelines.\n",
    "\n",
    "> DVC tracks all the dependencies, which helps you iterate on ML models faster without thinking what was affected by your last change.\n",
    ">> In order to track all the dependencies, DVC finds and reads ALL the DVC-files in a repository and builds a dependency graph (DAG) based on these files.\n",
    "\n",
    "> This is one of the differences between DVC reproducibility and traditional Makefile-like build automation tools (Make, Maven, Ant, Rakefile etc). It was designed in such a way to localize specification of DAG nodes.\n",
    "If you run repro on any created DVC-file from our repository, nothing happens because nothing was changed in the defined pipeline.\n",
    "\n",
    "(c) dvc.org https://dvc.org/doc/tutorial/reproducibility"
   ]
  },
  {
   "cell_type": "code",
   "execution_count": 80,
   "metadata": {
    "ExecuteTime": {
     "end_time": "2020-07-03T19:31:02.889684Z",
     "start_time": "2020-07-03T19:31:00.936546Z"
    }
   },
   "outputs": [
    {
     "name": "stdout",
     "output_type": "stream",
     "text": [
      "Stage 'data_load' didn't change, skipping                                       \n",
      "Stage 'feature_extraction' didn't change, skipping                              \n",
      "Stage 'split_dataset' didn't change, skipping                                   \n",
      "Stage 'train' didn't change, skipping                                           \n",
      "Stage 'evaluate' didn't change, skipping                                        \n",
      "Data and pipelines are up to date.\n",
      "\u001b[0m"
     ]
    }
   ],
   "source": [
    "# Nothing to reproduce\n",
    "\n",
    "!dvc repro"
   ]
  },
  {
   "cell_type": "markdown",
   "metadata": {},
   "source": [
    "## Experiment 1: Add features\n",
    "\n"
   ]
  },
  {
   "cell_type": "markdown",
   "metadata": {},
   "source": [
    "### Create new experiment branch\n",
    "\n",
    "Before editing the code/featurization.py file, please create and checkout a new branch __ratio_features__"
   ]
  },
  {
   "cell_type": "code",
   "execution_count": 81,
   "metadata": {
    "ExecuteTime": {
     "end_time": "2020-07-03T19:31:05.089755Z",
     "start_time": "2020-07-03T19:31:04.832150Z"
    }
   },
   "outputs": [
    {
     "name": "stdout",
     "output_type": "stream",
     "text": [
      "Switched to a new branch 'exp1-ratio-features'\n",
      "  dvc-tutorial\u001b[m\n",
      "* \u001b[32mexp1-ratio-features\u001b[m\n",
      "  master\u001b[m\n"
     ]
    }
   ],
   "source": [
    "# Create new branch\n",
    "\n",
    "!git checkout -b exp1-ratio-features\n",
    "!git branch\n"
   ]
  },
  {
   "cell_type": "markdown",
   "metadata": {},
   "source": [
    "### Update featurization.py"
   ]
  },
  {
   "cell_type": "markdown",
   "metadata": {},
   "source": [
    "in file __featurization.py__  in function`get_features()` after line \n",
    "\n",
    "```python\n",
    "    features = dataset.copy()\n",
    "```\n",
    "\n",
    "add lines:\n",
    "\n",
    "```python\n",
    "    features['sepal_length_to_sepal_width'] = features['sepal_length'] / features['sepal_width']\n",
    "    features['petal_length_to_petal_width'] = features['petal_length'] / features['petal_width']\n",
    "```"
   ]
  },
  {
   "cell_type": "markdown",
   "metadata": {},
   "source": [
    "### Reproduce pipeline "
   ]
  },
  {
   "cell_type": "code",
   "execution_count": 82,
   "metadata": {
    "ExecuteTime": {
     "end_time": "2020-10-21T14:26:16.419175Z",
     "start_time": "2020-10-21T14:26:13.569917Z"
    },
    "scrolled": false
   },
   "outputs": [
    {
     "name": "stdout",
     "output_type": "stream",
     "text": [
      "Stage 'data_load' didn't change, skipping                                       \n",
      "Running stage 'feature_extraction':                                             \n",
      "> python src/featurization.py --config=params.yaml\n",
      "Updating lock file 'dvc.lock'                                                   \n",
      "\n",
      "Running stage 'split_dataset':                                                  \n",
      "> python src/split_dataset.py --config=params.yaml\n",
      "Updating lock file 'dvc.lock'                                                   \n",
      "\n",
      "Running stage 'train':                                                          \n",
      "> python src/train.py --config=params.yaml\n",
      "Updating lock file 'dvc.lock'                                                   \n",
      "\n",
      "Running stage 'evaluate':                                                       \n",
      "> python src/evaluate.py --config=params.yaml\n",
      "Updating lock file 'dvc.lock'                                                   \n",
      "\n",
      "To track the changes with git, run:\n",
      "\n",
      "\tgit add dvc.lock\n",
      "\n",
      "To enable auto staging, run:\n",
      "\n",
      "\tdvc config core.autostage true\n",
      "Use `dvc push` to send your updates to remote storage.\n",
      "\u001b[0m"
     ]
    }
   ],
   "source": [
    "!dvc repro"
   ]
  },
  {
   "cell_type": "code",
   "execution_count": 83,
   "metadata": {
    "ExecuteTime": {
     "end_time": "2020-10-21T14:26:17.593890Z",
     "start_time": "2020-10-21T14:26:17.580883Z"
    }
   },
   "outputs": [
    {
     "data": {
      "text/html": [
       "<div>\n",
       "<style scoped>\n",
       "    .dataframe tbody tr th:only-of-type {\n",
       "        vertical-align: middle;\n",
       "    }\n",
       "\n",
       "    .dataframe tbody tr th {\n",
       "        vertical-align: top;\n",
       "    }\n",
       "\n",
       "    .dataframe thead th {\n",
       "        text-align: right;\n",
       "    }\n",
       "</style>\n",
       "<table border=\"1\" class=\"dataframe\">\n",
       "  <thead>\n",
       "    <tr style=\"text-align: right;\">\n",
       "      <th></th>\n",
       "      <th>sepal_length</th>\n",
       "      <th>sepal_width</th>\n",
       "      <th>petal_length</th>\n",
       "      <th>petal_width</th>\n",
       "      <th>target</th>\n",
       "      <th>sepal_length_to_sepal_width</th>\n",
       "      <th>petal_length_to_petal_width</th>\n",
       "    </tr>\n",
       "  </thead>\n",
       "  <tbody>\n",
       "    <tr>\n",
       "      <th>0</th>\n",
       "      <td>5.1</td>\n",
       "      <td>3.5</td>\n",
       "      <td>1.4</td>\n",
       "      <td>0.2</td>\n",
       "      <td>0</td>\n",
       "      <td>1.457143</td>\n",
       "      <td>7.0</td>\n",
       "    </tr>\n",
       "    <tr>\n",
       "      <th>1</th>\n",
       "      <td>4.9</td>\n",
       "      <td>3.0</td>\n",
       "      <td>1.4</td>\n",
       "      <td>0.2</td>\n",
       "      <td>0</td>\n",
       "      <td>1.633333</td>\n",
       "      <td>7.0</td>\n",
       "    </tr>\n",
       "    <tr>\n",
       "      <th>2</th>\n",
       "      <td>4.7</td>\n",
       "      <td>3.2</td>\n",
       "      <td>1.3</td>\n",
       "      <td>0.2</td>\n",
       "      <td>0</td>\n",
       "      <td>1.468750</td>\n",
       "      <td>6.5</td>\n",
       "    </tr>\n",
       "    <tr>\n",
       "      <th>3</th>\n",
       "      <td>4.6</td>\n",
       "      <td>3.1</td>\n",
       "      <td>1.5</td>\n",
       "      <td>0.2</td>\n",
       "      <td>0</td>\n",
       "      <td>1.483871</td>\n",
       "      <td>7.5</td>\n",
       "    </tr>\n",
       "    <tr>\n",
       "      <th>4</th>\n",
       "      <td>5.0</td>\n",
       "      <td>3.6</td>\n",
       "      <td>1.4</td>\n",
       "      <td>0.2</td>\n",
       "      <td>0</td>\n",
       "      <td>1.388889</td>\n",
       "      <td>7.0</td>\n",
       "    </tr>\n",
       "  </tbody>\n",
       "</table>\n",
       "</div>"
      ],
      "text/plain": [
       "   sepal_length  sepal_width  petal_length  petal_width  target  \\\n",
       "0           5.1          3.5           1.4          0.2       0   \n",
       "1           4.9          3.0           1.4          0.2       0   \n",
       "2           4.7          3.2           1.3          0.2       0   \n",
       "3           4.6          3.1           1.5          0.2       0   \n",
       "4           5.0          3.6           1.4          0.2       0   \n",
       "\n",
       "   sepal_length_to_sepal_width  petal_length_to_petal_width  \n",
       "0                     1.457143                          7.0  \n",
       "1                     1.633333                          7.0  \n",
       "2                     1.468750                          6.5  \n",
       "3                     1.483871                          7.5  \n",
       "4                     1.388889                          7.0  "
      ]
     },
     "execution_count": 83,
     "metadata": {},
     "output_type": "execute_result"
    }
   ],
   "source": [
    "# Check features used in this pipeline\n",
    "\n",
    "import pandas as pd\n",
    "\n",
    "features = pd.read_csv('data/iris_featurized.csv')\n",
    "features.head()"
   ]
  },
  {
   "cell_type": "code",
   "execution_count": 84,
   "metadata": {
    "ExecuteTime": {
     "end_time": "2020-10-21T14:26:20.852572Z",
     "start_time": "2020-10-21T14:26:20.724853Z"
    }
   },
   "outputs": [
    {
     "name": "stdout",
     "output_type": "stream",
     "text": [
      "On branch exp1-ratio-features\r\n",
      "Changes not staged for commit:\r\n",
      "  (use \"git add <file>...\" to update what will be committed)\r\n",
      "  (use \"git restore <file>...\" to discard changes in working directory)\r\n",
      "\t\u001b[31mmodified:   dvc-3-automate-experiments.ipynb\u001b[m\r\n",
      "\t\u001b[31mmodified:   dvc.lock\u001b[m\r\n",
      "\t\u001b[31mmodified:   src/featurization.py\u001b[m\r\n",
      "\r\n",
      "no changes added to commit (use \"git add\" and/or \"git commit -a\")\r\n"
     ]
    }
   ],
   "source": [
    "!git status"
   ]
  },
  {
   "cell_type": "code",
   "execution_count": 85,
   "metadata": {
    "ExecuteTime": {
     "end_time": "2020-10-21T14:26:28.905617Z",
     "start_time": "2020-10-21T14:26:26.333849Z"
    }
   },
   "outputs": [
    {
     "name": "stdout",
     "output_type": "stream",
     "text": [
      "DVC failed to load some metrics for following revisions: 'HEAD'.      core\u001b[39m>\n",
      "Path               Metric    HEAD    workspace    Change\n",
      "data/metrics.json  f1_score  -       0.15385      -\n",
      "\u001b[0m"
     ]
    }
   ],
   "source": [
    "# Get difference with metric from previous pipeline\n",
    "!dvc metrics diff --all"
   ]
  },
  {
   "cell_type": "markdown",
   "metadata": {},
   "source": [
    "### Commit the experiment changes"
   ]
  },
  {
   "cell_type": "code",
   "execution_count": 86,
   "metadata": {
    "ExecuteTime": {
     "end_time": "2020-07-03T19:31:39.838836Z",
     "start_time": "2020-07-03T19:31:39.445353Z"
    }
   },
   "outputs": [
    {
     "name": "stdout",
     "output_type": "stream",
     "text": [
      "[exp1-ratio-features 2efe523] Experiment with new features\n",
      " 3 files changed, 192 insertions(+), 73 deletions(-)\n"
     ]
    }
   ],
   "source": [
    "%%bash\n",
    "# Commit changes\n",
    "\n",
    "git add .\n",
    "git commit -m \"Experiment with new features\"\n",
    "git tag -a \"exp1_ratio_features\" -m \"Experiment with new features\"\n"
   ]
  },
  {
   "cell_type": "markdown",
   "metadata": {},
   "source": [
    "## Experiment 2: Tune Logistic Regression"
   ]
  },
  {
   "cell_type": "markdown",
   "metadata": {},
   "source": [
    "### Create a new experiment branch"
   ]
  },
  {
   "cell_type": "code",
   "execution_count": 87,
   "metadata": {
    "ExecuteTime": {
     "end_time": "2020-07-03T19:32:43.387938Z",
     "start_time": "2020-07-03T19:32:43.131917Z"
    }
   },
   "outputs": [
    {
     "name": "stderr",
     "output_type": "stream",
     "text": [
      "Switched to a new branch 'exp2-tuning-logreg'\n"
     ]
    },
    {
     "name": "stdout",
     "output_type": "stream",
     "text": [
      "  dvc-tutorial\n",
      "  exp1-ratio-features\n",
      "* exp2-tuning-logreg\n",
      "  master\n"
     ]
    }
   ],
   "source": [
    "%%bash\n",
    "# Create new branch for experiment\n",
    "\n",
    "git checkout -b exp2-tuning-logreg\n",
    "git branch\n"
   ]
  },
  {
   "cell_type": "code",
   "execution_count": 88,
   "metadata": {
    "ExecuteTime": {
     "end_time": "2020-07-03T19:32:52.254763Z",
     "start_time": "2020-07-03T19:32:50.225661Z"
    }
   },
   "outputs": [
    {
     "name": "stdout",
     "output_type": "stream",
     "text": [
      "Stage 'data_load' didn't change, skipping                                       \n",
      "Stage 'feature_extraction' didn't change, skipping                              \n",
      "Stage 'split_dataset' didn't change, skipping                                   \n",
      "Stage 'train' didn't change, skipping                                           \n",
      "Stage 'evaluate' didn't change, skipping                                        \n",
      "Data and pipelines are up to date.\n",
      "\u001b[0m"
     ]
    }
   ],
   "source": [
    "# Nothing to reproduce since code was checked out by `git checkout`\n",
    "# and data files were checked out by `dvc checkout`\n",
    "!dvc repro"
   ]
  },
  {
   "cell_type": "markdown",
   "metadata": {},
   "source": [
    "### Tuning parameters\n",
    "\n",
    "in file __train.py__ :\n",
    "\n",
    "replace LogisticRegression params with:\n",
    "\n",
    "```python\n",
    "    clf = LogisticRegression(C=0.01, solver='lbfgs', multi_class='multinomial', max_iter=100)\n",
    "```\n",
    "__Note__: here we changed logistic regresssion hyperparameters: C  to 0.1\n",
    "\n",
    "\n",
    "https://dvc.org/doc/tutorials/get-started/experiments#tuning-parameters"
   ]
  },
  {
   "cell_type": "markdown",
   "metadata": {},
   "source": [
    "### Reproduce pipelines"
   ]
  },
  {
   "cell_type": "code",
   "execution_count": 89,
   "metadata": {
    "ExecuteTime": {
     "end_time": "2020-10-21T14:27:55.449989Z",
     "start_time": "2020-10-21T14:27:50.294369Z"
    },
    "scrolled": false
   },
   "outputs": [
    {
     "name": "stdout",
     "output_type": "stream",
     "text": [
      "Stage 'data_load' didn't change, skipping                                       \n",
      "Stage 'feature_extraction' didn't change, skipping                              \n",
      "Stage 'split_dataset' didn't change, skipping                                   \n",
      "Running stage 'train':                                                          \n",
      "> python src/train.py --config=params.yaml\n",
      "Updating lock file 'dvc.lock'                                                   \n",
      "\n",
      "Running stage 'evaluate':                                                       \n",
      "> python src/evaluate.py --config=params.yaml\n",
      "Updating lock file 'dvc.lock'                                                   \n",
      "\n",
      "To track the changes with git, run:\n",
      "\n",
      "\tgit add dvc.lock\n",
      "\n",
      "To enable auto staging, run:\n",
      "\n",
      "\tdvc config core.autostage true\n",
      "Use `dvc push` to send your updates to remote storage.\n",
      "\u001b[0m"
     ]
    }
   ],
   "source": [
    "# Re-run pipeline \n",
    "\n",
    "!dvc repro"
   ]
  },
  {
   "cell_type": "code",
   "execution_count": 90,
   "metadata": {
    "ExecuteTime": {
     "end_time": "2020-10-22T14:03:21.593735Z",
     "start_time": "2020-10-22T14:03:21.473130Z"
    }
   },
   "outputs": [
    {
     "name": "stdout",
     "output_type": "stream",
     "text": [
      "{\"f1_score\": 0.9305555555555555}"
     ]
    }
   ],
   "source": [
    "# Get difference with metric from previous pipeline\n",
    "\n",
    "!cat data/metrics.json"
   ]
  },
  {
   "cell_type": "code",
   "execution_count": 91,
   "metadata": {
    "ExecuteTime": {
     "end_time": "2020-10-22T14:03:48.640425Z",
     "start_time": "2020-10-22T14:03:47.009948Z"
    }
   },
   "outputs": [
    {
     "name": "stdout",
     "output_type": "stream",
     "text": [
      "Path               f1_score                                           core\u001b[39m>\n",
      "data/metrics.json  0.93056\n",
      "\u001b[0m"
     ]
    }
   ],
   "source": [
    "!dvc metrics show"
   ]
  },
  {
   "cell_type": "code",
   "execution_count": 92,
   "metadata": {
    "ExecuteTime": {
     "end_time": "2020-10-22T14:03:52.823772Z",
     "start_time": "2020-10-22T14:03:50.239522Z"
    }
   },
   "outputs": [
    {
     "name": "stdout",
     "output_type": "stream",
     "text": [
      "Path               Metric    HEAD     workspace    Change             core\u001b[39m>\n",
      "data/metrics.json  f1_score  0.15385  0.93056      0.77671\n",
      "\u001b[0m"
     ]
    }
   ],
   "source": [
    "!dvc metrics diff --all"
   ]
  },
  {
   "cell_type": "markdown",
   "metadata": {},
   "source": [
    "### Commit changes"
   ]
  },
  {
   "cell_type": "code",
   "execution_count": 93,
   "metadata": {
    "ExecuteTime": {
     "end_time": "2020-07-03T19:36:15.808072Z",
     "start_time": "2020-07-03T19:36:15.762972Z"
    }
   },
   "outputs": [
    {
     "name": "stdout",
     "output_type": "stream",
     "text": [
      "[exp2-tuning-logreg 558ba63] Tune model. LogisticRegression. C=0.1\n",
      " 3 files changed, 53 insertions(+), 24 deletions(-)\n"
     ]
    }
   ],
   "source": [
    "%%bash\n",
    "# Commit changes\n",
    "\n",
    "git add .\n",
    "git commit -m \"Tune model. LogisticRegression. C=0.1\"\n",
    "git tag -a \"exp2_tuning_logreg\" -m \"Tune model. LogisticRegression. C=0.01\"\n"
   ]
  },
  {
   "cell_type": "markdown",
   "metadata": {},
   "source": [
    "## Experiment 3: Use SVM"
   ]
  },
  {
   "cell_type": "markdown",
   "metadata": {
    "ExecuteTime": {
     "end_time": "2020-07-03T19:14:01.831192Z",
     "start_time": "2020-07-03T19:14:01.829062Z"
    }
   },
   "source": [
    "### Create a new experiment branch"
   ]
  },
  {
   "cell_type": "code",
   "execution_count": 95,
   "metadata": {
    "ExecuteTime": {
     "end_time": "2020-07-03T19:36:20.443851Z",
     "start_time": "2020-07-03T19:36:20.187021Z"
    }
   },
   "outputs": [
    {
     "name": "stdout",
     "output_type": "stream",
     "text": [
      "Switched to a new branch 'exp3-svm'\r\n"
     ]
    }
   ],
   "source": [
    "# Create a new experiment branch \n",
    "\n",
    "!git checkout -b exp3-svm"
   ]
  },
  {
   "cell_type": "markdown",
   "metadata": {},
   "source": [
    "### Update train.py\n",
    "\n",
    "in file __train.py__ replace line\n",
    "\n",
    "```python\n",
    "    clf = LogisticRegression(C=0.1, solver='newton-cg', multi_class='multinomial', max_iter=100)\n",
    "```\n",
    "\n",
    "with line\n",
    "\n",
    "```python\n",
    "    clf = SVC(C=0.01, kernel='linear', gamma='scale', degree=5)\n",
    "```\n"
   ]
  },
  {
   "cell_type": "markdown",
   "metadata": {},
   "source": [
    "### Reproduce pipeline "
   ]
  },
  {
   "cell_type": "code",
   "execution_count": 96,
   "metadata": {
    "ExecuteTime": {
     "end_time": "2020-07-03T19:36:35.537208Z",
     "start_time": "2020-07-03T19:36:32.544097Z"
    }
   },
   "outputs": [
    {
     "name": "stdout",
     "output_type": "stream",
     "text": [
      "Stage 'data_load' didn't change, skipping                                       \n",
      "Running stage 'feature_extraction':                                             \n",
      "> python src/featurization.py --config=params.yaml\n",
      "Updating lock file 'dvc.lock'                                                   \n",
      "\n",
      "Stage 'split_dataset' is cached - skipping run, checking out outputs            \n",
      "Updating lock file 'dvc.lock'                                                   \n",
      "\n",
      "Running stage 'train':                                                          \n",
      "> python src/train.py --config=params.yaml\n",
      "Updating lock file 'dvc.lock'                                                   \n",
      "\n",
      "Running stage 'evaluate':                                                       \n",
      "> python src/evaluate.py --config=params.yaml\n",
      "Updating lock file 'dvc.lock'                                                   \n",
      "\n",
      "To track the changes with git, run:\n",
      "\n",
      "\tgit add dvc.lock\n",
      "\n",
      "To enable auto staging, run:\n",
      "\n",
      "\tdvc config core.autostage true\n",
      "Use `dvc push` to send your updates to remote storage.\n",
      "\u001b[0m"
     ]
    }
   ],
   "source": [
    "!dvc repro"
   ]
  },
  {
   "cell_type": "code",
   "execution_count": 97,
   "metadata": {
    "ExecuteTime": {
     "end_time": "2020-10-22T14:05:25.052314Z",
     "start_time": "2020-10-22T14:05:23.390114Z"
    }
   },
   "outputs": [
    {
     "name": "stdout",
     "output_type": "stream",
     "text": [
      "Path               f1_score                                           core\u001b[39m>\n",
      "data/metrics.json  0.96658\n",
      "\u001b[0m"
     ]
    }
   ],
   "source": [
    "!dvc metrics show"
   ]
  },
  {
   "cell_type": "code",
   "execution_count": 98,
   "metadata": {
    "ExecuteTime": {
     "end_time": "2020-10-22T14:05:35.904182Z",
     "start_time": "2020-10-22T14:05:35.779856Z"
    }
   },
   "outputs": [
    {
     "name": "stdout",
     "output_type": "stream",
     "text": [
      "On branch exp3-svm\r\n",
      "Changes not staged for commit:\r\n",
      "  (use \"git add <file>...\" to update what will be committed)\r\n",
      "  (use \"git restore <file>...\" to discard changes in working directory)\r\n",
      "\t\u001b[31mmodified:   dvc-3-automate-experiments.ipynb\u001b[m\r\n",
      "\t\u001b[31mmodified:   dvc.lock\u001b[m\r\n",
      "\t\u001b[31mmodified:   src/featurization.py\u001b[m\r\n",
      "\t\u001b[31mmodified:   src/train.py\u001b[m\r\n",
      "\r\n",
      "no changes added to commit (use \"git add\" and/or \"git commit -a\")\r\n"
     ]
    }
   ],
   "source": [
    "!git status"
   ]
  },
  {
   "cell_type": "markdown",
   "metadata": {},
   "source": [
    "### Commit changes"
   ]
  },
  {
   "cell_type": "code",
   "execution_count": 99,
   "metadata": {
    "ExecuteTime": {
     "end_time": "2020-07-03T19:36:41.766798Z",
     "start_time": "2020-07-03T19:36:41.377185Z"
    }
   },
   "outputs": [
    {
     "name": "stdout",
     "output_type": "stream",
     "text": [
      "[exp3-svm bbeb3d2] Experiment 3 with SVM estimator\n",
      " 4 files changed, 75 insertions(+), 59 deletions(-)\n"
     ]
    }
   ],
   "source": [
    "%%bash\n",
    "# Commit changes\n",
    "\n",
    "git add .\n",
    "git commit -m \"Experiment 3 with SVM estimator\"\n",
    "git tag -a \"exp3_svm\" -m \"Experiment 3 with SVM estimator\""
   ]
  },
  {
   "cell_type": "markdown",
   "metadata": {},
   "source": [
    "## Merge best experiment `dvc-tutorial ` branch"
   ]
  },
  {
   "cell_type": "code",
   "execution_count": 100,
   "metadata": {
    "ExecuteTime": {
     "end_time": "2020-07-03T19:45:17.537969Z",
     "start_time": "2020-07-03T19:45:17.463715Z"
    }
   },
   "outputs": [
    {
     "name": "stderr",
     "output_type": "stream",
     "text": [
      "Switched to branch 'dvc-tutorial'\n"
     ]
    },
    {
     "name": "stdout",
     "output_type": "stream",
     "text": [
      "Updating 6a57c1d..bbeb3d2\n",
      "Fast-forward\n",
      " dvc-3-automate-experiments.ipynb | 299 ++++++++++++++++++++++++---------------\n",
      " dvc.lock                         |  99 ++++++++++++-\n",
      " src/featurization.py             |   2 +\n",
      " src/train.py                     |   2 +-\n",
      " 4 files changed, 283 insertions(+), 119 deletions(-)\n"
     ]
    }
   ],
   "source": [
    "%%bash\n",
    "# Merge the best experiment\n",
    "\n",
    "git checkout dvc-tutorial \n",
    "git merge exp3_svm\n"
   ]
  },
  {
   "cell_type": "markdown",
   "metadata": {},
   "source": [
    "# Compare experiment"
   ]
  },
  {
   "cell_type": "markdown",
   "metadata": {},
   "source": [
    "## Compare params "
   ]
  },
  {
   "cell_type": "code",
   "execution_count": 101,
   "metadata": {
    "ExecuteTime": {
     "end_time": "2020-10-22T14:07:30.189016Z",
     "start_time": "2020-10-22T14:07:27.537384Z"
    }
   },
   "outputs": [
    {
     "name": "stdout",
     "output_type": "stream",
     "text": [
      "\u001b[0m                                                                  core\u001b[39m>"
     ]
    }
   ],
   "source": [
    "# Get params diffs \n",
    "\n",
    "!dvc params diff"
   ]
  },
  {
   "cell_type": "code",
   "execution_count": 102,
   "metadata": {
    "ExecuteTime": {
     "end_time": "2020-10-22T14:07:47.322051Z",
     "start_time": "2020-10-22T14:07:44.759864Z"
    }
   },
   "outputs": [
    {
     "name": "stdout",
     "output_type": "stream",
     "text": [
      "Path         Param                         HEAD                      workspacem>\n",
      "params.yaml  data_load.classes_names_path  data/classes.json         data/classes.json\n",
      "params.yaml  data_load.raw_data_path       data/iris.csv             data/iris.csv\n",
      "params.yaml  data_split.test_path          data/test.csv             data/test.csv\n",
      "params.yaml  data_split.test_size          0.2                       0.2\n",
      "params.yaml  data_split.train_path         data/train.csv            data/train.csv\n",
      "params.yaml  evaluate.confusion_matrix     data/cm.csv               data/cm.csv\n",
      "params.yaml  evaluate.metrics_file         data/metrics.json         data/metrics.json\n",
      "params.yaml  featurize.features_path       data/iris_featurized.csv  data/iris_featurized.csv\n",
      "params.yaml  featurize.target_column       target                    target\n",
      "params.yaml  train.model_path              data/model.joblib         data/model.joblib\n",
      "\u001b[0m"
     ]
    }
   ],
   "source": [
    "# Compare parameters with a specific commit, a tag or any revision\n",
    "\n",
    "!dvc params diff --all"
   ]
  },
  {
   "cell_type": "code",
   "execution_count": 104,
   "metadata": {
    "ExecuteTime": {
     "end_time": "2020-07-03T19:09:20.304575Z",
     "start_time": "2020-07-03T19:09:18.649548Z"
    }
   },
   "outputs": [
    {
     "name": "stdout",
     "output_type": "stream",
     "text": [
      "\u001b[1m{\u001b[0m                                                             core\u001b[39m>\n",
      "  \u001b[1;34m\"params.yaml\"\u001b[0m: \u001b[1m{\u001b[0m\n",
      "    \u001b[1;34m\"data_split.test_size\"\u001b[0m: \u001b[1m{\u001b[0m\n",
      "      \u001b[1;34m\"old\"\u001b[0m: \u001b[1;36m0.2\u001b[0m,\n",
      "      \u001b[1;34m\"new\"\u001b[0m: \u001b[1;36m0.2\u001b[0m,\n",
      "      \u001b[1;34m\"diff\"\u001b[0m: \u001b[1;36m0.0\u001b[0m\n",
      "    \u001b[1m}\u001b[0m,\n",
      "    \u001b[1;34m\"evaluate.metrics_file\"\u001b[0m: \u001b[1m{\u001b[0m\n",
      "      \u001b[1;34m\"old\"\u001b[0m: \u001b[32m\"data/metrics.json\"\u001b[0m,\n",
      "      \u001b[1;34m\"new\"\u001b[0m: \u001b[32m\"data/metrics.json\"\u001b[0m\n",
      "    \u001b[1m}\u001b[0m,\n",
      "    \u001b[1;34m\"data_split.train_path\"\u001b[0m: \u001b[1m{\u001b[0m\n",
      "      \u001b[1;34m\"old\"\u001b[0m: \u001b[32m\"data/train.csv\"\u001b[0m,\n",
      "      \u001b[1;34m\"new\"\u001b[0m: \u001b[32m\"data/train.csv\"\u001b[0m\n",
      "    \u001b[1m}\u001b[0m,\n",
      "    \u001b[1;34m\"data_split.test_path\"\u001b[0m: \u001b[1m{\u001b[0m\n",
      "      \u001b[1;34m\"old\"\u001b[0m: \u001b[32m\"data/test.csv\"\u001b[0m,\n",
      "      \u001b[1;34m\"new\"\u001b[0m: \u001b[32m\"data/test.csv\"\u001b[0m\n",
      "    \u001b[1m}\u001b[0m,\n",
      "    \u001b[1;34m\"train.model_path\"\u001b[0m: \u001b[1m{\u001b[0m\n",
      "      \u001b[1;34m\"old\"\u001b[0m: \u001b[32m\"data/model.joblib\"\u001b[0m,\n",
      "      \u001b[1;34m\"new\"\u001b[0m: \u001b[32m\"data/model.joblib\"\u001b[0m\n",
      "    \u001b[1m}\u001b[0m,\n",
      "    \u001b[1;34m\"data_load.raw_data_path\"\u001b[0m: \u001b[1m{\u001b[0m\n",
      "      \u001b[1;34m\"old\"\u001b[0m: \u001b[32m\"data/iris.csv\"\u001b[0m,\n",
      "      \u001b[1;34m\"new\"\u001b[0m: \u001b[32m\"data/iris.csv\"\u001b[0m\n",
      "    \u001b[1m}\u001b[0m,\n",
      "    \u001b[1;34m\"evaluate.confusion_matrix\"\u001b[0m: \u001b[1m{\u001b[0m\n",
      "      \u001b[1;34m\"old\"\u001b[0m: \u001b[32m\"data/cm.csv\"\u001b[0m,\n",
      "      \u001b[1;34m\"new\"\u001b[0m: \u001b[32m\"data/cm.csv\"\u001b[0m\n",
      "    \u001b[1m}\u001b[0m,\n",
      "    \u001b[1;34m\"featurize.features_path\"\u001b[0m: \u001b[1m{\u001b[0m\n",
      "      \u001b[1;34m\"old\"\u001b[0m: \u001b[32m\"data/iris_featurized.csv\"\u001b[0m,\n",
      "      \u001b[1;34m\"new\"\u001b[0m: \u001b[32m\"data/iris_featurized.csv\"\u001b[0m\n",
      "    \u001b[1m}\u001b[0m,\n",
      "    \u001b[1;34m\"data_load.classes_names_path\"\u001b[0m: \u001b[1m{\u001b[0m\n",
      "      \u001b[1;34m\"old\"\u001b[0m: \u001b[32m\"data/classes.json\"\u001b[0m,\n",
      "      \u001b[1;34m\"new\"\u001b[0m: \u001b[32m\"data/classes.json\"\u001b[0m\n",
      "    \u001b[1m}\u001b[0m,\n",
      "    \u001b[1;34m\"featurize.target_column\"\u001b[0m: \u001b[1m{\u001b[0m\n",
      "      \u001b[1;34m\"old\"\u001b[0m: \u001b[32m\"target\"\u001b[0m,\n",
      "      \u001b[1;34m\"new\"\u001b[0m: \u001b[32m\"target\"\u001b[0m\n",
      "    \u001b[1m}\u001b[0m\n",
      "  \u001b[1m}\u001b[0m\n",
      "\u001b[1m}\u001b[0m\n",
      "\u001b[0m"
     ]
    }
   ],
   "source": [
    "!dvc params diff --json --all"
   ]
  },
  {
   "cell_type": "code",
   "execution_count": 50,
   "metadata": {
    "ExecuteTime": {
     "end_time": "2020-07-03T19:09:27.495017Z",
     "start_time": "2020-07-03T19:09:25.848748Z"
    }
   },
   "outputs": [
    {
     "name": "stdout",
     "output_type": "stream",
     "text": [
      "| Path        | Param                        | Old                      | New                      |\n",
      "|-------------|------------------------------|--------------------------|--------------------------|\n",
      "| params.yaml | data_load.classes_names_path | data/classes.json        | data/classes.json        |\n",
      "| params.yaml | data_load.dummy_param        | dummy_value              | dummy_value              |\n",
      "| params.yaml | data_load.raw_data_path      | data/iris.csv            | data/iris.csv            |\n",
      "| params.yaml | data_split.test_path         | data/test.csv            | data/test.csv            |\n",
      "| params.yaml | data_split.test_size         | 0.2                      | 0.2                      |\n",
      "| params.yaml | data_split.train_path        | data/train.csv           | data/train.csv           |\n",
      "| params.yaml | evaluate.confusion_matrix    | data/cm.csv              | data/cm.csv              |\n",
      "| params.yaml | evaluate.metrics_file        | data/metrics.json        | data/metrics.json        |\n",
      "| params.yaml | featurize.features_path      | data/iris_featurized.csv | data/iris_featurized.csv |\n",
      "| params.yaml | featurize.target_column      | target                   | target                   |\n",
      "| params.yaml | train.model_path             | data/model.joblib        | data/model.joblib        |\n",
      "\n",
      "\u001b[0m"
     ]
    }
   ],
   "source": [
    "!dvc params diff --show-md --all"
   ]
  },
  {
   "cell_type": "code",
   "execution_count": 105,
   "metadata": {
    "ExecuteTime": {
     "end_time": "2020-10-22T14:08:29.319419Z",
     "start_time": "2020-10-22T14:08:29.189441Z"
    }
   },
   "outputs": [
    {
     "name": "stdout",
     "output_type": "stream",
     "text": [
      "\u001b[33mcommit bbeb3d27fb4fc5165992144b4be55977646bdf8d\u001b[m\u001b[33m (\u001b[m\u001b[1;36mHEAD -> \u001b[m\u001b[1;32mdvc-tutorial\u001b[m\u001b[33m, \u001b[m\u001b[1;33mtag: exp3_svm\u001b[m\u001b[33m, \u001b[m\u001b[1;32mexp3-svm\u001b[m\u001b[33m)\u001b[m\r\n",
      "Author: Guywash-Ka <rodvlasov2003@yandex.ru>\r\n",
      "Date:   Thu Dec 14 22:43:32 2023 +0300\r\n",
      "\r\n",
      "    Experiment 3 with SVM estimator\r\n",
      "\r\n",
      "\u001b[33mcommit 558ba6318f91f31feb492f8cad40497ea0db28aa\u001b[m\u001b[33m (\u001b[m\u001b[1;33mtag: exp2_tuning_logreg\u001b[m\u001b[33m, \u001b[m\u001b[1;32mexp2-tuning-logreg\u001b[m\u001b[33m)\u001b[m\r\n",
      "Author: Guywash-Ka <rodvlasov2003@yandex.ru>\r\n",
      "Date:   Thu Dec 14 22:32:52 2023 +0300\r\n",
      "\r\n",
      "    Tune model. LogisticRegression. C=0.1\r\n",
      "\r\n",
      "\u001b[33mcommit 2efe523749f8edeba413597c8d7a789a508404f7\u001b[m\u001b[33m (\u001b[m\u001b[1;33mtag: exp1_ratio_features\u001b[m\u001b[33m, \u001b[m\u001b[1;32mexp1-ratio-features\u001b[m\u001b[33m)\u001b[m\r\n",
      "Author: Guywash-Ka <rodvlasov2003@yandex.ru>\r\n",
      "Date:   Thu Dec 14 22:31:05 2023 +0300\r\n",
      "\r\n",
      "    Experiment with new features\r\n",
      "\r\n",
      "\u001b[33mcommit 6a57c1ddf6f84fb6d638fb298d115fdd60ae428b\u001b[m\r\n",
      "Author: Guywash-Ka <rodvlasov2003@yandex.ru>\r\n",
      "Date:   Thu Dec 14 22:27:22 2023 +0300\r\n",
      "\r\n",
      "    Add stage evaluate\r\n",
      "\r\n",
      "\u001b[33mcommit 1b132b7e9b3094ccde9b18d234288fd55fbe80cd\u001b[m\r\n",
      "Author: Guywash-Ka <rodvlasov2003@yandex.ru>\r\n",
      "Date:   Thu Dec 14 22:26:25 2023 +0300\r\n",
      "\r\n",
      "    Add stage train\r\n",
      "\r\n",
      "\u001b[33mcommit 2c449da58b18b0dca60b63df41706f277e295bbe\u001b[m\r\n",
      "Author: Guywash-Ka <rodvlasov2003@yandex.ru>\r\n",
      "Date:   Thu Dec 14 22:26:16 2023 +0300\r\n",
      "\r\n",
      "    Add stage train\r\n",
      "\r\n",
      "\u001b[33mcommit 7395d0d72820c0a49ca747ff1b789b72876d645c\u001b[m\r\n",
      "Author: Guywash-Ka <rodvlasov2003@yandex.ru>\r\n",
      "Date:   Thu Dec 14 22:25:42 2023 +0300\r\n",
      "\r\n",
      "    Add stage split_dataset\r\n",
      "\r\n",
      "\u001b[33mcommit 0e3f41834c88e31fb0b2b0da03102955caf63e07\u001b[m\r\n",
      "Author: Guywash-Ka <rodvlasov2003@yandex.ru>\r\n",
      "Date:   Thu Dec 14 22:24:55 2023 +0300\r\n",
      "\r\n",
      "    Add stage features_extraction\r\n",
      "\r\n",
      "\u001b[33mcommit e84dd82e4ea74ae7973e28fccd74a81eaff12242\u001b[m\r\n",
      "Author: Guywash-Ka <rodvlasov2003@yandex.ru>\r\n",
      "Date:   Thu Dec 14 21:41:10 2023 +0300\r\n",
      "\r\n",
      "    Initialize DVC\r\n",
      "\r\n",
      "\u001b[33mcommit 8fe40536ca561c17ef923da350d6444098b6a61e\u001b[m\u001b[33m (\u001b[m\u001b[1;31morigin/master\u001b[m\u001b[33m, \u001b[m\u001b[1;31morigin/HEAD\u001b[m\u001b[33m, \u001b[m\u001b[1;32mmaster\u001b[m\u001b[33m)\u001b[m\r\n",
      "Author: Mikhail Rozhkov <mnrozhkov@users.noreply.github.com>\r\n",
      "Date:   Sun Oct 25 21:21:38 2020 +0300\r\n",
      "\r\n",
      "    Update README.md\r\n",
      "    \r\n",
      "    export PYTHONPATH\r\n",
      "\r\n",
      "\u001b[33mcommit 44724d3304c16a65b8dd0c8dfbe50acb8f98e428\u001b[m\u001b[33m (\u001b[m\u001b[1;33mtag: v1.0\u001b[m\u001b[33m)\u001b[m\r\n",
      "Merge: 779173c 6c92b23\r\n",
      "Author: Mikhail Rozhkov <mnrozhkov@users.noreply.github.com>\r\n",
      "Date:   Fri Oct 23 11:21:55 2020 +0300\r\n",
      "\r\n",
      "    Merge pull request #1 from mlrepa/add-license-1\r\n",
      "    \r\n",
      "    Create LICENSE\r\n",
      "\r\n",
      "\u001b[33mcommit 6c92b23cb04609f67c8a822dcc599406aabfdb55\u001b[m\r\n",
      "Author: Mikhail Rozhkov <mnrozhkov@users.noreply.github.com>\r\n",
      "Date:   Fri Oct 23 11:21:41 2020 +0300\r\n",
      "\r\n",
      "    Create LICENSE\r\n",
      "\r\n",
      "\u001b[33mcommit 779173c26ed2ea0ca6d9a68ecc782bd49c40c543\u001b[m\r\n",
      "Author: Mikhail <mnrozhkov@gmail.com>\r\n",
      "Date:   Fri Oct 23 11:00:24 2020 +0300\r\n",
      "\r\n",
      "    Update title & url in README\r\n",
      "\r\n",
      "\u001b[33mcommit 25cb0004d22fdc923536ac5232e146361e74e90c\u001b[m\r\n",
      "Author: Alex <alexckolosov@gmail.com>\r\n",
      "Date:   Mon Oct 19 18:03:15 2020 +0900\r\n",
      "\r\n",
      "    Update tutorial notebook\r\n",
      "\r\n",
      "\u001b[33mcommit bf430d9af143db178d6fa39b405437ee9f8ab1f3\u001b[m\r\n",
      "Author: Alex <alexckolosov@gmail.com>\r\n",
      "Date:   Mon Oct 19 17:36:07 2020 +0900\r\n",
      "\r\n",
      "    Update .gitignore\r\n",
      "\r\n",
      "\u001b[33mcommit 0ecca2cdab5972ba68f88cc395b2c4ba4dc47dcf\u001b[m\r\n",
      "Author: Alex <alexckolosov@gmail.com>\r\n",
      "Date:   Mon Oct 19 17:35:42 2020 +0900\r\n",
      "\r\n",
      "    Update documentation\r\n",
      "\r\n",
      "\u001b[33mcommit c6293c84e8aa3b0e65afaaecc1a3c9b03d6b2dec\u001b[m\r\n",
      "Author: Alex <alexckolosov@gmail.com>\r\n",
      "Date:   Mon Oct 19 17:35:23 2020 +0900\r\n",
      "\r\n",
      "    Update versions of python libraries\r\n",
      "\r\n",
      "\u001b[33mcommit 15bd59fe85e1e002d1ea45230dc61f3b9c4dcfe3\u001b[m\r\n",
      "Author: Alex <alexckolosov@gmail.com>\r\n",
      "Date:   Tue Aug 18 12:45:16 2020 +0900\r\n",
      "\r\n",
      "    Update DVC -> 1.5.0\r\n",
      "\r\n",
      "\u001b[33mcommit 3573af273082ae1cad1b141131eb824e314eee43\u001b[m\r\n",
      "Merge: aeecba0 1102dc2\r\n",
      "Author: Mikhail <mnrozhkov@gmail.com>\r\n",
      "Date:   Sat Jul 4 07:23:25 2020 +0300\r\n",
      "\r\n",
      "    Updated evaluate and params\r\n",
      "\r\n",
      "\u001b[33mcommit aeecba0880f016303eaa20181d27b60bd3ceb388\u001b[m\r\n",
      "Author: Mikhail <mnrozhkov@gmail.com>\r\n",
      "Date:   Sat Jul 4 07:16:31 2020 +0300\r\n",
      "\r\n",
      "    Update experimeting and metrics section\r\n",
      "\r\n",
      "\u001b[33mcommit 1102dc2e3f636b2d37558f95a960c788f3de32ed\u001b[m\r\n",
      "Merge: 855c61a 92ac211\r\n",
      "Author: Mikhail <mnrozhkov@gmail.com>\r\n",
      "Date:   Wed Jul 1 07:22:32 2020 +0000\r\n",
      "\r",
      "\r\n",
      "    Merge branch 'update-confusion-matrix' into 'dev'\r\n",
      "    \r\n",
      "    update confusion matrix\r\n",
      "    \r\n",
      "    See merge request 7labs.ru/tutorials-dvc/dvc-3-automate-experiments!4\r\n",
      "\r\n",
      "\u001b[33mcommit 92ac211f2139095965d0e26304d2d39003136def\u001b[m\r\n",
      "Author: Alex <alexckolosov@gmail.com>\r\n",
      "Date:   Tue Jun 30 13:08:30 2020 +0900\r\n",
      "\r\n",
      "    update confusion matrix\r\n",
      "\r\n",
      "\u001b[33mcommit 855c61ac3f02f8938445fe749846e20d01e0f247\u001b[m\r\n",
      "Merge: 22aeb23 7fbf4d8\r\n",
      "Author: Alexander Kolosov <alexckolosov@gmail.com>\r\n",
      "Date:   Mon Jun 29 08:47:37 2020 +0000\r\n",
      "\r\n",
      "    Merge branch 'dev-update-pipelines' into 'dev'\r\n",
      "    \r\n",
      "    Dev update pipelines\r\n",
      "    \r\n",
      "    See merge request 7labs.ru/tutorials-dvc/dvc-3-automate-experiments!3\r\n",
      "\r\n",
      "\u001b[33mcommit 7fbf4d8f4e54be947f77dce09191b4f6fbb287f0\u001b[m\r\n",
      "Author: Mikhail <mnrozhkov@gmail.com>\r\n",
      "Date:   Mon Jun 29 08:47:37 2020 +0000\r\n",
      "\r\n",
      "    Dev update pipelines\r\n",
      "\r\n",
      "\u001b[33mcommit 22aeb23eb6b54f12f11c76a5714dbf6bff5f11f9\u001b[m\r\n",
      "Author: Mikhail <mnrozhkov@gmail.com>\r\n",
      "Date:   Sun Jun 28 19:02:29 2020 +0300\r\n",
      "\r\n",
      "    Update name of tutorial and notebook\r\n",
      "\r\n",
      "\u001b[33mcommit 110a584e41fa7c140bbaf8130f70d4112e58d1a4\u001b[m\r\n",
      "Merge: 2d7e834 a8d3200\r\n",
      "Author: Mikhail <mnrozhkov@gmail.com>\r\n",
      "Date:   Sat Jun 27 07:49:11 2020 +0000\r\n",
      "\r\n",
      "    Merge branch 'update-software' into 'dev'\r\n",
      "    \r\n",
      "    Update software\r\n",
      "    \r\n",
      "    See merge request 7labs.ru/tutorials-dvc/dvc-3-automate-experiments!2\r\n",
      "\r\n",
      "\u001b[33mcommit a8d3200b8cbffdc4af1c7204710d217e9f685928\u001b[m\r\n",
      "Author: Alex <alexckolosov@gmail.com>\r\n",
      "Date:   Fri Jun 26 17:58:32 2020 +0900\r\n",
      "\r\n",
      "    intall toc for jupyter notebook\r\n",
      "\r\n",
      "\u001b[33mcommit 8b042ad196928f9584b4bbce058625896af78d9d\u001b[m\r\n",
      "Author: Alex <alexckolosov@gmail.com>\r\n",
      "Date:   Fri Jun 26 17:58:12 2020 +0900\r\n",
      "\r\n",
      "    upgrade dvc\r\n",
      "\r\n",
      "\u001b[33mcommit 2d7e834a6d115d1b47253377b3baaace559e3259\u001b[m\r\n",
      "Author: Alex <alexckolosov@gmail.com>\r\n",
      "Date:   Thu Jun 11 12:53:18 2020 +0900\r\n",
      "\r\n",
      "    add data/ to .gitignore\r\n",
      "\r\n",
      "\u001b[33mcommit 8817b3ed1f82ed1c4feb9122d49237b37356e70e\u001b[m\r\n",
      "Author: Alex <alexckolosov@gmail.com>\r\n",
      "Date:   Wed Jun 10 22:56:32 2020 +0900\r\n",
      "\r\n",
      "    update Lesson 4.ipynb: append description of dvc plots diff\r\n",
      "\r\n",
      "\u001b[33mcommit a8db726c3f368c39180d61d21f21bf6727db20c0\u001b[m\r\n",
      "Author: Alex <alexckolosov@gmail.com>\r\n",
      "Date:   Wed Jun 10 22:44:00 2020 +0900\r\n",
      "\r\n",
      "    update Lesson 4.ipynb: add section for dvc metrics diff and dvc plots\r\n",
      "\r\n",
      "\u001b[33mcommit 77559e316fe6b5fd0a11f27a06fbc9eed1c2b606\u001b[m\r\n",
      "Author: Alex <alexckolosov@gmail.com>\r\n",
      "Date:   Wed Jun 10 22:43:09 2020 +0900\r\n",
      "\r\n",
      "    update src/evaluate.py: put metric and confusion matrix in separated files\r\n",
      "\r\n",
      "\u001b[33mcommit a0afac2ff2dc7c5815c72ec3770888b67e5f04e7\u001b[m\r\n",
      "Author: Alex <alexckolosov@gmail.com>\r\n",
      "Date:   Wed Jun 10 12:05:51 2020 +0900\r\n",
      "\r\n",
      "    refactor code modules\r\n",
      "\r\n",
      "\u001b[33mcommit 73846297879b1f1be3868c64e73b7d8ad6966b09\u001b[m\r\n",
      "Author: Alex <alexckolosov@gmail.com>\r\n",
      "Date:   Wed Jun 10 12:04:37 2020 +0900\r\n",
      "\r\n",
      "    fix Lesson 4.ipynb\r\n",
      "\r\n",
      "\u001b[33mcommit b6ba776f8607c6481e34f8a40af4c23a5cd36990\u001b[m\r\n",
      "Author: Alex <alexckolosov@gmail.com>\r\n",
      "Date:   Tue Jun 9 19:27:13 2020 +0900\r\n",
      "\r\n",
      "    create repo structure for  lesson 4\r\n"
     ]
    }
   ],
   "source": [
    "# To see the difference between two specific commits, both need to be specified:\n",
    "\n",
    "!git log"
   ]
  },
  {
   "cell_type": "code",
   "execution_count": 107,
   "metadata": {
    "ExecuteTime": {
     "end_time": "2020-10-22T14:08:58.251510Z",
     "start_time": "2020-10-22T14:08:55.660152Z"
    }
   },
   "outputs": [
    {
     "name": "stdout",
     "output_type": "stream",
     "text": [
      "\u001b[0m                                                                  core\u001b[39m>"
     ]
    }
   ],
   "source": [
    "!dvc params diff 7395d0d72820c0a49ca747ff1b789b72876d645c HEAD^"
   ]
  },
  {
   "cell_type": "markdown",
   "metadata": {},
   "source": [
    "## Show metrics"
   ]
  },
  {
   "cell_type": "code",
   "execution_count": 108,
   "metadata": {
    "ExecuteTime": {
     "end_time": "2020-10-22T14:09:14.039904Z",
     "start_time": "2020-10-22T14:09:12.356063Z"
    },
    "scrolled": true
   },
   "outputs": [
    {
     "name": "stdout",
     "output_type": "stream",
     "text": [
      "Path               f1_score                                           core\u001b[39m>\n",
      "data/metrics.json  0.96658\n",
      "\u001b[0m"
     ]
    }
   ],
   "source": [
    "# this pipeline metrics \n",
    "\n",
    "!dvc metrics show"
   ]
  },
  {
   "cell_type": "code",
   "execution_count": 109,
   "metadata": {
    "ExecuteTime": {
     "end_time": "2020-10-22T14:09:18.038960Z",
     "start_time": "2020-10-22T14:09:16.234043Z"
    }
   },
   "outputs": [
    {
     "name": "stdout",
     "output_type": "stream",
     "text": [
      "Revision                                 Path               f1_score  core\u001b[39m>\n",
      "workspace                                data/metrics.json  0.96658\n",
      "dvc-tutorial,exp3-svm,exp3_svm           data/metrics.json  0.96658\n",
      "exp1-ratio-features,exp1_ratio_features  data/metrics.json  0.15385\n",
      "exp2-tuning-logreg,exp2_tuning_logreg    data/metrics.json  0.93056\n",
      "\u001b[0m"
     ]
    }
   ],
   "source": [
    "# show all commited pipelines metrics (all branch and tags)\n",
    "\n",
    "!dvc metrics show -a -T"
   ]
  },
  {
   "cell_type": "markdown",
   "metadata": {},
   "source": [
    "## Compare metrics (get differences)\n"
   ]
  },
  {
   "cell_type": "code",
   "execution_count": 110,
   "metadata": {
    "ExecuteTime": {
     "end_time": "2020-10-22T14:09:38.852532Z",
     "start_time": "2020-10-22T14:09:36.162510Z"
    }
   },
   "outputs": [
    {
     "name": "stdout",
     "output_type": "stream",
     "text": [
      "\u001b[0m                                                                  core\u001b[39m>"
     ]
    }
   ],
   "source": [
    "!dvc metrics diff"
   ]
  },
  {
   "cell_type": "code",
   "execution_count": 111,
   "metadata": {
    "ExecuteTime": {
     "end_time": "2020-10-22T14:09:41.557718Z",
     "start_time": "2020-10-22T14:09:38.912543Z"
    }
   },
   "outputs": [
    {
     "name": "stdout",
     "output_type": "stream",
     "text": [
      "Path               Metric    HEAD     workspace    Change             core\u001b[39m>\n",
      "data/metrics.json  f1_score  0.96658  0.96658      0.0\n",
      "\u001b[0m"
     ]
    }
   ],
   "source": [
    "# --all - list all metrics, even those without changes\n",
    "\n",
    "!dvc metrics diff --all"
   ]
  },
  {
   "cell_type": "markdown",
   "metadata": {},
   "source": [
    "* чтобы сравнить текущую метрики из текущего коммита и из другого, нужно указать другой (old) коммит:"
   ]
  },
  {
   "cell_type": "code",
   "execution_count": 46,
   "metadata": {
    "ExecuteTime": {
     "end_time": "2020-10-22T14:09:57.211470Z",
     "start_time": "2020-10-22T14:09:54.710817Z"
    }
   },
   "outputs": [
    {
     "name": "stdout",
     "output_type": "stream",
     "text": [
      "Path               Metric    Old      New      Change                 core\u001b[39m>\n",
      "data/metrics.json  f1_score  0.15385  0.96658  0.81274\n",
      "\u001b[0m"
     ]
    }
   ],
   "source": [
    "# Compare old and new branches\n",
    "\n",
    "!dvc metrics diff exp1-ratio-features exp3-svm"
   ]
  },
  {
   "cell_type": "code",
   "execution_count": 47,
   "metadata": {
    "ExecuteTime": {
     "end_time": "2020-10-22T14:10:03.187146Z",
     "start_time": "2020-10-22T14:10:00.568957Z"
    }
   },
   "outputs": [
    {
     "name": "stdout",
     "output_type": "stream",
     "text": [
      "Path               Metric    Old      New      Change                 core\u001b[39m>\n",
      "data/metrics.json  f1_score  0.15385  0.96658  0.81274\n",
      "\u001b[0m"
     ]
    }
   ],
   "source": [
    "# Equivalent to `!dvc metrics diff exp1-ratio-features dvc-tutorial`, because dvc-tutorial - current branch\n",
    "\n",
    "!dvc metrics diff exp1-ratio-features"
   ]
  },
  {
   "cell_type": "code",
   "execution_count": 49,
   "metadata": {
    "ExecuteTime": {
     "end_time": "2020-10-22T14:10:38.911976Z",
     "start_time": "2020-10-22T14:10:36.304792Z"
    },
    "scrolled": true
   },
   "outputs": [
    {
     "name": "stdout",
     "output_type": "stream",
     "text": [
      "| Path              | Metric   | Old     | New     | Change   |       core\u001b[39m>\n",
      "|-------------------|----------|---------|---------|----------|\n",
      "| data/metrics.json | f1_score | 0.15385 | 0.96658 | 0.81274  |\n",
      "\n",
      "\u001b[0m"
     ]
    }
   ],
   "source": [
    "!dvc metrics diff exp1-ratio-features --show-md"
   ]
  },
  {
   "cell_type": "code",
   "execution_count": null,
   "metadata": {},
   "outputs": [],
   "source": []
  },
  {
   "cell_type": "markdown",
   "metadata": {},
   "source": [
    "## Build Plots\n"
   ]
  },
  {
   "cell_type": "code",
   "execution_count": 114,
   "metadata": {
    "ExecuteTime": {
     "end_time": "2020-10-22T14:11:04.697127Z",
     "start_time": "2020-10-22T14:11:04.694448Z"
    }
   },
   "outputs": [],
   "source": [
    "from IPython.display import IFrame"
   ]
  },
  {
   "cell_type": "markdown",
   "metadata": {},
   "source": [
    "### Show"
   ]
  },
  {
   "cell_type": "code",
   "execution_count": 112,
   "metadata": {
    "ExecuteTime": {
     "end_time": "2020-10-22T14:15:07.599224Z",
     "start_time": "2020-10-22T14:15:05.455604Z"
    }
   },
   "outputs": [
    {
     "name": "stdout",
     "output_type": "stream",
     "text": [
      "file:///Users/rodvlasov2003/jupyterlabs/dvc-3-automate-experiments/data/plots-show.html/index.html\n",
      "\u001b[0m"
     ]
    }
   ],
   "source": [
    "!dvc plots show  --template confusion \"data/cm.csv\" -x actual -y predicted -o data/plots-show.html"
   ]
  },
  {
   "cell_type": "code",
   "execution_count": 117,
   "metadata": {
    "ExecuteTime": {
     "end_time": "2020-10-22T14:15:07.664691Z",
     "start_time": "2020-10-22T14:15:07.660138Z"
    },
    "scrolled": false
   },
   "outputs": [
    {
     "data": {
      "text/html": [
       "\n",
       "        <iframe\n",
       "            width=\"800\"\n",
       "            height=\"500\"\n",
       "            src=\"data/plots-show.html/index.html\"\n",
       "            frameborder=\"0\"\n",
       "            allowfullscreen\n",
       "            \n",
       "        ></iframe>\n",
       "        "
      ],
      "text/plain": [
       "<IPython.lib.display.IFrame at 0x11e96db10>"
      ]
     },
     "execution_count": 117,
     "metadata": {},
     "output_type": "execute_result"
    }
   ],
   "source": [
    "IFrame(src='data/plots-show.html/index.html', width=800, height=500)"
   ]
  },
  {
   "cell_type": "markdown",
   "metadata": {},
   "source": [
    "### Diff"
   ]
  },
  {
   "cell_type": "code",
   "execution_count": 118,
   "metadata": {
    "ExecuteTime": {
     "end_time": "2020-10-22T14:15:16.499865Z",
     "start_time": "2020-10-22T14:15:15.626027Z"
    }
   },
   "outputs": [
    {
     "name": "stdout",
     "output_type": "stream",
     "text": [
      "file:///Users/rodvlasov2003/jupyterlabs/dvc-3-automate-experiments/data/plots-diff.html/index.html\n",
      "\u001b[0m"
     ]
    }
   ],
   "source": [
    "# Build metircs plots for all 3 experiments\n",
    "!dvc plots diff -t confusion -o data/plots-diff.html exp1-ratio-features exp3-svm -x predicted"
   ]
  },
  {
   "cell_type": "code",
   "execution_count": 120,
   "metadata": {
    "ExecuteTime": {
     "end_time": "2020-10-22T14:15:23.321541Z",
     "start_time": "2020-10-22T14:15:23.317724Z"
    },
    "scrolled": false
   },
   "outputs": [
    {
     "data": {
      "text/html": [
       "\n",
       "        <iframe\n",
       "            width=\"800\"\n",
       "            height=\"500\"\n",
       "            src=\"data/plots-diff.html/index.html\"\n",
       "            frameborder=\"0\"\n",
       "            allowfullscreen\n",
       "            \n",
       "        ></iframe>\n",
       "        "
      ],
      "text/plain": [
       "<IPython.lib.display.IFrame at 0x11e992510>"
      ]
     },
     "execution_count": 120,
     "metadata": {},
     "output_type": "execute_result"
    }
   ],
   "source": [
    "IFrame(src='data/plots-diff.html/index.html', width=800, height=500)"
   ]
  },
  {
   "cell_type": "code",
   "execution_count": null,
   "metadata": {},
   "outputs": [],
   "source": []
  }
 ],
 "metadata": {
  "kernelspec": {
   "display_name": "Python 3 (ipykernel)",
   "language": "python",
   "name": "python3"
  },
  "language_info": {
   "codemirror_mode": {
    "name": "ipython",
    "version": 3
   },
   "file_extension": ".py",
   "mimetype": "text/x-python",
   "name": "python",
   "nbconvert_exporter": "python",
   "pygments_lexer": "ipython3",
   "version": "3.11.5"
  },
  "toc": {
   "base_numbering": 1,
   "nav_menu": {},
   "number_sections": false,
   "sideBar": true,
   "skip_h1_title": false,
   "title_cell": "Table of Contents",
   "title_sidebar": "Contents",
   "toc_cell": false,
   "toc_position": {
    "height": "calc(100% - 180px)",
    "left": "10px",
    "top": "150px",
    "width": "230.947px"
   },
   "toc_section_display": true,
   "toc_window_display": true
  },
  "varInspector": {
   "cols": {
    "lenName": 16,
    "lenType": 16,
    "lenVar": 40
   },
   "kernels_config": {
    "python": {
     "delete_cmd_postfix": "",
     "delete_cmd_prefix": "del ",
     "library": "var_list.py",
     "varRefreshCmd": "print(var_dic_list())"
    },
    "r": {
     "delete_cmd_postfix": ") ",
     "delete_cmd_prefix": "rm(",
     "library": "var_list.r",
     "varRefreshCmd": "cat(var_dic_list()) "
    }
   },
   "types_to_exclude": [
    "module",
    "function",
    "builtin_function_or_method",
    "instance",
    "_Feature"
   ],
   "window_display": false
  }
 },
 "nbformat": 4,
 "nbformat_minor": 4
}
