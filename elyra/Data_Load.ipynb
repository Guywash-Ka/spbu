{
 "cells": [
  {
   "cell_type": "markdown",
   "id": "a5d6fc5a-07e6-4745-914a-b5e3addcf324",
   "metadata": {
    "papermill": {
     "duration": 0.010593,
     "end_time": "2023-12-18T18:41:26.220116",
     "exception": false,
     "start_time": "2023-12-18T18:41:26.209523",
     "status": "completed"
    },
    "tags": []
   },
   "source": [
    "Import modules"
   ]
  },
  {
   "cell_type": "code",
   "execution_count": 1,
   "id": "d72556d8-1911-4586-9acc-b29056f326cd",
   "metadata": {
    "execution": {
     "iopub.execute_input": "2023-12-18T18:41:26.239284Z",
     "iopub.status.busy": "2023-12-18T18:41:26.238670Z",
     "iopub.status.idle": "2023-12-18T18:41:27.226149Z",
     "shell.execute_reply": "2023-12-18T18:41:27.225856Z"
    },
    "papermill": {
     "duration": 0.997711,
     "end_time": "2023-12-18T18:41:27.227161",
     "exception": false,
     "start_time": "2023-12-18T18:41:26.229450",
     "status": "completed"
    },
    "tags": []
   },
   "outputs": [],
   "source": [
    "# data analysis and wrangling\n",
    "import pandas as pd\n",
    "import numpy as np\n",
    "import random as rnd\n",
    "\n",
    "# visualization\n",
    "import seaborn as sns\n",
    "import matplotlib.pyplot as plt\n",
    "%matplotlib inline\n",
    "\n",
    "# machine learning\n",
    "import xgboost\n",
    "from sklearn.ensemble import RandomForestClassifier\n",
    "from sklearn.tree import DecisionTreeClassifier, plot_tree\n",
    "from xgboost import XGBClassifier\n",
    "\n",
    "from sklearn.preprocessing import LabelEncoder, RobustScaler\n",
    "from scipy.stats import shapiro, boxcox\n",
    "from sklearn.model_selection import GridSearchCV, KFold, cross_val_score\n",
    "from sklearn.pipeline import Pipeline\n",
    "from sklearn.model_selection import train_test_split\n",
    "from sklearn.metrics import accuracy_score"
   ]
  },
  {
   "cell_type": "markdown",
   "id": "67bb1638-d16f-4c4f-8a9f-4a5f9eddfd55",
   "metadata": {
    "papermill": {
     "duration": 0.001266,
     "end_time": "2023-12-18T18:41:27.229970",
     "exception": false,
     "start_time": "2023-12-18T18:41:27.228704",
     "status": "completed"
    },
    "tags": []
   },
   "source": [
    "Load data from files"
   ]
  },
  {
   "cell_type": "code",
   "execution_count": 2,
   "id": "d39ffabe-932c-4513-bbbf-ea5ff55629ab",
   "metadata": {
    "execution": {
     "iopub.execute_input": "2023-12-18T18:41:27.233182Z",
     "iopub.status.busy": "2023-12-18T18:41:27.232949Z",
     "iopub.status.idle": "2023-12-18T18:41:27.240910Z",
     "shell.execute_reply": "2023-12-18T18:41:27.240702Z"
    },
    "papermill": {
     "duration": 0.010479,
     "end_time": "2023-12-18T18:41:27.241656",
     "exception": false,
     "start_time": "2023-12-18T18:41:27.231177",
     "status": "completed"
    },
    "tags": []
   },
   "outputs": [
    {
     "data": {
      "text/html": [
       "<div>\n",
       "<style scoped>\n",
       "    .dataframe tbody tr th:only-of-type {\n",
       "        vertical-align: middle;\n",
       "    }\n",
       "\n",
       "    .dataframe tbody tr th {\n",
       "        vertical-align: top;\n",
       "    }\n",
       "\n",
       "    .dataframe thead th {\n",
       "        text-align: right;\n",
       "    }\n",
       "</style>\n",
       "<table border=\"1\" class=\"dataframe\">\n",
       "  <thead>\n",
       "    <tr style=\"text-align: right;\">\n",
       "      <th></th>\n",
       "      <th>PassengerId</th>\n",
       "      <th>Survived</th>\n",
       "      <th>Pclass</th>\n",
       "      <th>Name</th>\n",
       "      <th>Sex</th>\n",
       "      <th>Age</th>\n",
       "      <th>SibSp</th>\n",
       "      <th>Parch</th>\n",
       "      <th>Ticket</th>\n",
       "      <th>Fare</th>\n",
       "      <th>Cabin</th>\n",
       "      <th>Embarked</th>\n",
       "    </tr>\n",
       "  </thead>\n",
       "  <tbody>\n",
       "    <tr>\n",
       "      <th>0</th>\n",
       "      <td>1</td>\n",
       "      <td>0</td>\n",
       "      <td>3</td>\n",
       "      <td>Braund, Mr. Owen Harris</td>\n",
       "      <td>male</td>\n",
       "      <td>22.0</td>\n",
       "      <td>1</td>\n",
       "      <td>0</td>\n",
       "      <td>A/5 21171</td>\n",
       "      <td>7.2500</td>\n",
       "      <td>NaN</td>\n",
       "      <td>S</td>\n",
       "    </tr>\n",
       "    <tr>\n",
       "      <th>1</th>\n",
       "      <td>2</td>\n",
       "      <td>1</td>\n",
       "      <td>1</td>\n",
       "      <td>Cumings, Mrs. John Bradley (Florence Briggs Th...</td>\n",
       "      <td>female</td>\n",
       "      <td>38.0</td>\n",
       "      <td>1</td>\n",
       "      <td>0</td>\n",
       "      <td>PC 17599</td>\n",
       "      <td>71.2833</td>\n",
       "      <td>C85</td>\n",
       "      <td>C</td>\n",
       "    </tr>\n",
       "    <tr>\n",
       "      <th>2</th>\n",
       "      <td>3</td>\n",
       "      <td>1</td>\n",
       "      <td>3</td>\n",
       "      <td>Heikkinen, Miss. Laina</td>\n",
       "      <td>female</td>\n",
       "      <td>26.0</td>\n",
       "      <td>0</td>\n",
       "      <td>0</td>\n",
       "      <td>STON/O2. 3101282</td>\n",
       "      <td>7.9250</td>\n",
       "      <td>NaN</td>\n",
       "      <td>S</td>\n",
       "    </tr>\n",
       "    <tr>\n",
       "      <th>3</th>\n",
       "      <td>4</td>\n",
       "      <td>1</td>\n",
       "      <td>1</td>\n",
       "      <td>Futrelle, Mrs. Jacques Heath (Lily May Peel)</td>\n",
       "      <td>female</td>\n",
       "      <td>35.0</td>\n",
       "      <td>1</td>\n",
       "      <td>0</td>\n",
       "      <td>113803</td>\n",
       "      <td>53.1000</td>\n",
       "      <td>C123</td>\n",
       "      <td>S</td>\n",
       "    </tr>\n",
       "    <tr>\n",
       "      <th>4</th>\n",
       "      <td>5</td>\n",
       "      <td>0</td>\n",
       "      <td>3</td>\n",
       "      <td>Allen, Mr. William Henry</td>\n",
       "      <td>male</td>\n",
       "      <td>35.0</td>\n",
       "      <td>0</td>\n",
       "      <td>0</td>\n",
       "      <td>373450</td>\n",
       "      <td>8.0500</td>\n",
       "      <td>NaN</td>\n",
       "      <td>S</td>\n",
       "    </tr>\n",
       "  </tbody>\n",
       "</table>\n",
       "</div>"
      ],
      "text/plain": [
       "   PassengerId  Survived  Pclass  \\\n",
       "0            1         0       3   \n",
       "1            2         1       1   \n",
       "2            3         1       3   \n",
       "3            4         1       1   \n",
       "4            5         0       3   \n",
       "\n",
       "                                                Name     Sex   Age  SibSp  \\\n",
       "0                            Braund, Mr. Owen Harris    male  22.0      1   \n",
       "1  Cumings, Mrs. John Bradley (Florence Briggs Th...  female  38.0      1   \n",
       "2                             Heikkinen, Miss. Laina  female  26.0      0   \n",
       "3       Futrelle, Mrs. Jacques Heath (Lily May Peel)  female  35.0      1   \n",
       "4                           Allen, Mr. William Henry    male  35.0      0   \n",
       "\n",
       "   Parch            Ticket     Fare Cabin Embarked  \n",
       "0      0         A/5 21171   7.2500   NaN        S  \n",
       "1      0          PC 17599  71.2833   C85        C  \n",
       "2      0  STON/O2. 3101282   7.9250   NaN        S  \n",
       "3      0            113803  53.1000  C123        S  \n",
       "4      0            373450   8.0500   NaN        S  "
      ]
     },
     "execution_count": 2,
     "metadata": {},
     "output_type": "execute_result"
    }
   ],
   "source": [
    "titanic_df = pd.read_csv('train.csv')\n",
    "titanic_df.head()"
   ]
  },
  {
   "cell_type": "markdown",
   "id": "153dfca5-7528-4a4b-be1f-14e7d2b1a34d",
   "metadata": {
    "papermill": {
     "duration": 0.001317,
     "end_time": "2023-12-18T18:41:27.244536",
     "exception": false,
     "start_time": "2023-12-18T18:41:27.243219",
     "status": "completed"
    },
    "tags": []
   },
   "source": [
    "Missing values"
   ]
  },
  {
   "cell_type": "code",
   "execution_count": 3,
   "id": "3d9bfeff-f04d-4708-8c26-1167459a1853",
   "metadata": {
    "execution": {
     "iopub.execute_input": "2023-12-18T18:41:27.247676Z",
     "iopub.status.busy": "2023-12-18T18:41:27.247583Z",
     "iopub.status.idle": "2023-12-18T18:41:27.250957Z",
     "shell.execute_reply": "2023-12-18T18:41:27.250731Z"
    },
    "papermill": {
     "duration": 0.005819,
     "end_time": "2023-12-18T18:41:27.251710",
     "exception": false,
     "start_time": "2023-12-18T18:41:27.245891",
     "status": "completed"
    },
    "tags": []
   },
   "outputs": [
    {
     "name": "stdout",
     "output_type": "stream",
     "text": [
      "    col_name  percent_missing\n",
      "5        Age        19.865320\n",
      "10     Cabin        77.104377\n",
      "11  Embarked         0.224467\n"
     ]
    }
   ],
   "source": [
    "percent_missing_nans = titanic_df.isnull().sum() * 100 / len(titanic_df)\n",
    "nans = pd.DataFrame({'col_name': titanic_df.columns, 'percent_missing': percent_missing_nans}).reset_index(drop = True)\n",
    "\n",
    "missing_vals_cols = nans[nans['percent_missing'] != 0]\n",
    "print(missing_vals_cols)"
   ]
  },
  {
   "cell_type": "code",
   "execution_count": 4,
   "id": "6571e1c5-099f-45c6-92dd-81830d96e7b4",
   "metadata": {
    "execution": {
     "iopub.execute_input": "2023-12-18T18:41:27.254834Z",
     "iopub.status.busy": "2023-12-18T18:41:27.254755Z",
     "iopub.status.idle": "2023-12-18T18:41:27.256820Z",
     "shell.execute_reply": "2023-12-18T18:41:27.256611Z"
    },
    "papermill": {
     "duration": 0.004507,
     "end_time": "2023-12-18T18:41:27.257584",
     "exception": false,
     "start_time": "2023-12-18T18:41:27.253077",
     "status": "completed"
    },
    "tags": []
   },
   "outputs": [
    {
     "name": "stdout",
     "output_type": "stream",
     "text": [
      "There are 714 samples\n"
     ]
    }
   ],
   "source": [
    "# Drop missing values\n",
    "\n",
    "titanic_df = titanic_df[~titanic_df['Age'].isnull()]\n",
    "print('There are', len(titanic_df), 'samples')"
   ]
  },
  {
   "cell_type": "markdown",
   "id": "21b972bb-ceb9-4ac4-97e7-f9b0c90d7d98",
   "metadata": {
    "papermill": {
     "duration": 0.001401,
     "end_time": "2023-12-18T18:41:27.260432",
     "exception": false,
     "start_time": "2023-12-18T18:41:27.259031",
     "status": "completed"
    },
    "tags": []
   },
   "source": [
    "Label encoding"
   ]
  },
  {
   "cell_type": "code",
   "execution_count": 5,
   "id": "f209bc1f-dfe9-41f8-ab52-68f83fee34b8",
   "metadata": {
    "execution": {
     "iopub.execute_input": "2023-12-18T18:41:27.263565Z",
     "iopub.status.busy": "2023-12-18T18:41:27.263488Z",
     "iopub.status.idle": "2023-12-18T18:41:27.265739Z",
     "shell.execute_reply": "2023-12-18T18:41:27.265533Z"
    },
    "papermill": {
     "duration": 0.004726,
     "end_time": "2023-12-18T18:41:27.266512",
     "exception": false,
     "start_time": "2023-12-18T18:41:27.261786",
     "status": "completed"
    },
    "tags": []
   },
   "outputs": [],
   "source": [
    "class DfLabelEncoder:\n",
    "    def __init__(self,columns = None):\n",
    "        self.columns = columns\n",
    "\n",
    "    def fit(self,X,y=None):\n",
    "        return self\n",
    "\n",
    "    def transform(self,X):\n",
    "        output = X.copy()\n",
    "        if self.columns is not None:\n",
    "            for col in self.columns:\n",
    "                output[col] = LabelEncoder().fit_transform(output[col])\n",
    "        else:\n",
    "            for colname,col in output.iteritems():\n",
    "                output[colname] = LabelEncoder().fit_transform(col)\n",
    "        return output\n",
    "\n",
    "    def fit_transform(self,X,y = None):\n",
    "        return self.fit(X,y).transform(X)"
   ]
  },
  {
   "cell_type": "code",
   "execution_count": 6,
   "id": "ac2a06c8-5fc6-4363-ad61-8dc4b2fe803a",
   "metadata": {
    "execution": {
     "iopub.execute_input": "2023-12-18T18:41:27.269715Z",
     "iopub.status.busy": "2023-12-18T18:41:27.269627Z",
     "iopub.status.idle": "2023-12-18T18:41:27.275344Z",
     "shell.execute_reply": "2023-12-18T18:41:27.275101Z"
    },
    "papermill": {
     "duration": 0.008195,
     "end_time": "2023-12-18T18:41:27.276066",
     "exception": false,
     "start_time": "2023-12-18T18:41:27.267871",
     "status": "completed"
    },
    "tags": []
   },
   "outputs": [
    {
     "data": {
      "text/html": [
       "<div>\n",
       "<style scoped>\n",
       "    .dataframe tbody tr th:only-of-type {\n",
       "        vertical-align: middle;\n",
       "    }\n",
       "\n",
       "    .dataframe tbody tr th {\n",
       "        vertical-align: top;\n",
       "    }\n",
       "\n",
       "    .dataframe thead th {\n",
       "        text-align: right;\n",
       "    }\n",
       "</style>\n",
       "<table border=\"1\" class=\"dataframe\">\n",
       "  <thead>\n",
       "    <tr style=\"text-align: right;\">\n",
       "      <th></th>\n",
       "      <th>PassengerId</th>\n",
       "      <th>Survived</th>\n",
       "      <th>Pclass</th>\n",
       "      <th>Name</th>\n",
       "      <th>Sex</th>\n",
       "      <th>Age</th>\n",
       "      <th>SibSp</th>\n",
       "      <th>Parch</th>\n",
       "      <th>Ticket</th>\n",
       "      <th>Fare</th>\n",
       "      <th>Cabin</th>\n",
       "      <th>Embarked</th>\n",
       "    </tr>\n",
       "  </thead>\n",
       "  <tbody>\n",
       "    <tr>\n",
       "      <th>0</th>\n",
       "      <td>1</td>\n",
       "      <td>0</td>\n",
       "      <td>3</td>\n",
       "      <td>103</td>\n",
       "      <td>1</td>\n",
       "      <td>22.0</td>\n",
       "      <td>1</td>\n",
       "      <td>0</td>\n",
       "      <td>408</td>\n",
       "      <td>7.2500</td>\n",
       "      <td>134</td>\n",
       "      <td>2</td>\n",
       "    </tr>\n",
       "    <tr>\n",
       "      <th>1</th>\n",
       "      <td>2</td>\n",
       "      <td>1</td>\n",
       "      <td>1</td>\n",
       "      <td>179</td>\n",
       "      <td>0</td>\n",
       "      <td>38.0</td>\n",
       "      <td>1</td>\n",
       "      <td>0</td>\n",
       "      <td>471</td>\n",
       "      <td>71.2833</td>\n",
       "      <td>73</td>\n",
       "      <td>0</td>\n",
       "    </tr>\n",
       "    <tr>\n",
       "      <th>2</th>\n",
       "      <td>3</td>\n",
       "      <td>1</td>\n",
       "      <td>3</td>\n",
       "      <td>317</td>\n",
       "      <td>0</td>\n",
       "      <td>26.0</td>\n",
       "      <td>0</td>\n",
       "      <td>0</td>\n",
       "      <td>532</td>\n",
       "      <td>7.9250</td>\n",
       "      <td>134</td>\n",
       "      <td>2</td>\n",
       "    </tr>\n",
       "    <tr>\n",
       "      <th>3</th>\n",
       "      <td>4</td>\n",
       "      <td>1</td>\n",
       "      <td>1</td>\n",
       "      <td>247</td>\n",
       "      <td>0</td>\n",
       "      <td>35.0</td>\n",
       "      <td>1</td>\n",
       "      <td>0</td>\n",
       "      <td>40</td>\n",
       "      <td>53.1000</td>\n",
       "      <td>49</td>\n",
       "      <td>2</td>\n",
       "    </tr>\n",
       "    <tr>\n",
       "      <th>4</th>\n",
       "      <td>5</td>\n",
       "      <td>0</td>\n",
       "      <td>3</td>\n",
       "      <td>15</td>\n",
       "      <td>1</td>\n",
       "      <td>35.0</td>\n",
       "      <td>0</td>\n",
       "      <td>0</td>\n",
       "      <td>373</td>\n",
       "      <td>8.0500</td>\n",
       "      <td>134</td>\n",
       "      <td>2</td>\n",
       "    </tr>\n",
       "  </tbody>\n",
       "</table>\n",
       "</div>"
      ],
      "text/plain": [
       "   PassengerId  Survived  Pclass  Name  Sex   Age  SibSp  Parch  Ticket  \\\n",
       "0            1         0       3   103    1  22.0      1      0     408   \n",
       "1            2         1       1   179    0  38.0      1      0     471   \n",
       "2            3         1       3   317    0  26.0      0      0     532   \n",
       "3            4         1       1   247    0  35.0      1      0      40   \n",
       "4            5         0       3    15    1  35.0      0      0     373   \n",
       "\n",
       "      Fare  Cabin  Embarked  \n",
       "0   7.2500    134         2  \n",
       "1  71.2833     73         0  \n",
       "2   7.9250    134         2  \n",
       "3  53.1000     49         2  \n",
       "4   8.0500    134         2  "
      ]
     },
     "execution_count": 6,
     "metadata": {},
     "output_type": "execute_result"
    }
   ],
   "source": [
    "titanic_df_cat = titanic_df.select_dtypes(include=['object'])\n",
    "titanic_df = DfLabelEncoder(columns = titanic_df_cat.columns).fit_transform(titanic_df)\n",
    "titanic_df.head()\n"
   ]
  },
  {
   "cell_type": "code",
   "execution_count": 7,
   "id": "9be9a8bb-3515-480d-8814-4ad2db54d80c",
   "metadata": {
    "execution": {
     "iopub.execute_input": "2023-12-18T18:41:27.279415Z",
     "iopub.status.busy": "2023-12-18T18:41:27.279334Z",
     "iopub.status.idle": "2023-12-18T18:41:27.283094Z",
     "shell.execute_reply": "2023-12-18T18:41:27.282861Z"
    },
    "papermill": {
     "duration": 0.006286,
     "end_time": "2023-12-18T18:41:27.283858",
     "exception": false,
     "start_time": "2023-12-18T18:41:27.277572",
     "status": "completed"
    },
    "tags": []
   },
   "outputs": [],
   "source": [
    "titanic_df.to_csv(\"titanic.csv\")"
   ]
  },
  {
   "cell_type": "markdown",
   "id": "7bf7d5ba-45e1-4c46-811b-8355315b428e",
   "metadata": {
    "papermill": {
     "duration": 0.001413,
     "end_time": "2023-12-18T18:41:27.286831",
     "exception": false,
     "start_time": "2023-12-18T18:41:27.285418",
     "status": "completed"
    },
    "tags": []
   },
   "source": [
    "Training and testing Dataset Splits"
   ]
  },
  {
   "cell_type": "code",
   "execution_count": 8,
   "id": "bfa80e41-2a82-4666-a847-235191aad606",
   "metadata": {
    "execution": {
     "iopub.execute_input": "2023-12-18T18:41:27.290131Z",
     "iopub.status.busy": "2023-12-18T18:41:27.290036Z",
     "iopub.status.idle": "2023-12-18T18:41:27.291383Z",
     "shell.execute_reply": "2023-12-18T18:41:27.291191Z"
    },
    "papermill": {
     "duration": 0.003892,
     "end_time": "2023-12-18T18:41:27.292126",
     "exception": false,
     "start_time": "2023-12-18T18:41:27.288234",
     "status": "completed"
    },
    "tags": []
   },
   "outputs": [],
   "source": [
    "# X = titanic_df.loc[:, titanic_df.columns != 'Survived']\n",
    "# y = titanic_df['Survived']\n",
    "# X_train, X_test, y_train, y_test = train_test_split(X, y, test_size = 0.3, random_state = 42, stratify = y)"
   ]
  },
  {
   "cell_type": "markdown",
   "id": "f3ceef2a-6d15-49a0-8d91-2e4c78e0abfd",
   "metadata": {
    "papermill": {
     "duration": 0.00141,
     "end_time": "2023-12-18T18:41:27.294994",
     "exception": false,
     "start_time": "2023-12-18T18:41:27.293584",
     "status": "completed"
    },
    "tags": []
   },
   "source": [
    "Saving to CSV File"
   ]
  },
  {
   "cell_type": "code",
   "execution_count": 9,
   "id": "04a47e0d-bf24-441c-9be6-733afee1f3d1",
   "metadata": {
    "execution": {
     "iopub.execute_input": "2023-12-18T18:41:27.298258Z",
     "iopub.status.busy": "2023-12-18T18:41:27.298183Z",
     "iopub.status.idle": "2023-12-18T18:41:27.299544Z",
     "shell.execute_reply": "2023-12-18T18:41:27.299345Z"
    },
    "papermill": {
     "duration": 0.003854,
     "end_time": "2023-12-18T18:41:27.300246",
     "exception": false,
     "start_time": "2023-12-18T18:41:27.296392",
     "status": "completed"
    },
    "tags": []
   },
   "outputs": [],
   "source": [
    "# X_train_name = \"xtrain.csv\"\n",
    "# X_test_name = \"xtest.csv\"\n",
    "# y_train_name = \"ytrain.csv\"\n",
    "# y_test_name = \"ytest.csv\"\n",
    "# names = [X_train_name, X_test_name, y_train_name, y_test_name]\n",
    "# df_list = [X_train, X_test, y_train, y_test]\n",
    "# for (name, df) in zip(names, df_list):\n",
    "#     df.to_csv(name)"
   ]
  },
  {
   "cell_type": "code",
   "execution_count": 10,
   "id": "4e93d872-126f-4e15-901f-4310b60960ce",
   "metadata": {
    "execution": {
     "iopub.execute_input": "2023-12-18T18:41:27.303587Z",
     "iopub.status.busy": "2023-12-18T18:41:27.303506Z",
     "iopub.status.idle": "2023-12-18T18:41:27.304828Z",
     "shell.execute_reply": "2023-12-18T18:41:27.304647Z"
    },
    "papermill": {
     "duration": 0.003822,
     "end_time": "2023-12-18T18:41:27.305555",
     "exception": false,
     "start_time": "2023-12-18T18:41:27.301733",
     "status": "completed"
    },
    "tags": []
   },
   "outputs": [],
   "source": [
    "# print(y_train[:3])\n",
    "# print(y_test[:3])"
   ]
  },
  {
   "cell_type": "code",
   "execution_count": null,
   "id": "519d6d96-e7f5-4bed-a0b7-6ba65f607990",
   "metadata": {
    "papermill": {
     "duration": 0.001396,
     "end_time": "2023-12-18T18:41:27.308378",
     "exception": false,
     "start_time": "2023-12-18T18:41:27.306982",
     "status": "completed"
    },
    "tags": []
   },
   "outputs": [],
   "source": []
  }
 ],
 "metadata": {
  "kernelspec": {
   "display_name": "Python 3 (ipykernel)",
   "language": "python",
   "name": "python3"
  },
  "language_info": {
   "codemirror_mode": {
    "name": "ipython",
    "version": 3
   },
   "file_extension": ".py",
   "mimetype": "text/x-python",
   "name": "python",
   "nbconvert_exporter": "python",
   "pygments_lexer": "ipython3",
   "version": "3.11.5"
  },
  "papermill": {
   "default_parameters": {},
   "duration": 2.12629,
   "end_time": "2023-12-18T18:41:27.525678",
   "environment_variables": {},
   "exception": null,
   "input_path": "/Users/rodvlasov2003/jupyterlabs/new1/Data_Load.ipynb",
   "output_path": "/Users/rodvlasov2003/jupyterlabs/new1/Data_Load.ipynb",
   "parameters": {},
   "start_time": "2023-12-18T18:41:25.399388",
   "version": "2.5.0"
  }
 },
 "nbformat": 4,
 "nbformat_minor": 5
}