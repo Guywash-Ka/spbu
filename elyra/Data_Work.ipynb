{
 "cells": [
  {
   "cell_type": "markdown",
   "id": "41413347-27b2-410c-b897-ecf6ee7a5ed2",
   "metadata": {
    "papermill": {
     "duration": 0.007542,
     "end_time": "2023-12-18T18:41:28.295530",
     "exception": false,
     "start_time": "2023-12-18T18:41:28.287988",
     "status": "completed"
    },
    "tags": []
   },
   "source": [
    "Import Libraries"
   ]
  },
  {
   "cell_type": "code",
   "execution_count": 1,
   "id": "ea33b9e9-ec53-409c-a918-d408efdbd5a4",
   "metadata": {
    "execution": {
     "iopub.execute_input": "2023-12-18T18:41:28.306221Z",
     "iopub.status.busy": "2023-12-18T18:41:28.305997Z",
     "iopub.status.idle": "2023-12-18T18:41:29.110234Z",
     "shell.execute_reply": "2023-12-18T18:41:29.109942Z"
    },
    "papermill": {
     "duration": 0.810606,
     "end_time": "2023-12-18T18:41:29.111274",
     "exception": false,
     "start_time": "2023-12-18T18:41:28.300668",
     "status": "completed"
    },
    "tags": []
   },
   "outputs": [],
   "source": [
    "import pandas as pd\n",
    "import numpy as np\n",
    "import random as rnd\n",
    "\n",
    "# visualization\n",
    "import seaborn as sns\n",
    "import matplotlib.pyplot as plt\n",
    "%matplotlib inline\n",
    "\n",
    "# machine learning\n",
    "import xgboost\n",
    "from sklearn.ensemble import RandomForestClassifier\n",
    "from sklearn.tree import DecisionTreeClassifier, plot_tree\n",
    "from xgboost import XGBClassifier\n",
    "\n",
    "from sklearn.preprocessing import LabelEncoder, RobustScaler\n",
    "from scipy.stats import shapiro, boxcox\n",
    "from sklearn.model_selection import GridSearchCV, KFold, cross_val_score\n",
    "from sklearn.pipeline import Pipeline\n",
    "from sklearn.model_selection import train_test_split\n",
    "from sklearn.metrics import accuracy_score"
   ]
  },
  {
   "cell_type": "markdown",
   "id": "c868fe14-37d5-46bb-927d-27cacdffcf2f",
   "metadata": {
    "papermill": {
     "duration": 0.001107,
     "end_time": "2023-12-18T18:41:29.113798",
     "exception": false,
     "start_time": "2023-12-18T18:41:29.112691",
     "status": "completed"
    },
    "tags": []
   },
   "source": [
    "Read from CSV"
   ]
  },
  {
   "cell_type": "code",
   "execution_count": 2,
   "id": "001bf9c3-2cef-4c7b-a4c9-491381ef799f",
   "metadata": {
    "execution": {
     "iopub.execute_input": "2023-12-18T18:41:29.116705Z",
     "iopub.status.busy": "2023-12-18T18:41:29.116560Z",
     "iopub.status.idle": "2023-12-18T18:41:29.119922Z",
     "shell.execute_reply": "2023-12-18T18:41:29.119684Z"
    },
    "papermill": {
     "duration": 0.00584,
     "end_time": "2023-12-18T18:41:29.120694",
     "exception": false,
     "start_time": "2023-12-18T18:41:29.114854",
     "status": "completed"
    },
    "tags": []
   },
   "outputs": [],
   "source": [
    "titanic_csv_name = \"titanic.csv\"\n",
    "titanic_df = pd.read_csv(titanic_csv_name)"
   ]
  },
  {
   "cell_type": "markdown",
   "id": "3935ba12-adef-4f42-9473-9398be0da982",
   "metadata": {
    "papermill": {
     "duration": 0.001091,
     "end_time": "2023-12-18T18:41:29.123051",
     "exception": false,
     "start_time": "2023-12-18T18:41:29.121960",
     "status": "completed"
    },
    "tags": []
   },
   "source": [
    "Split Data"
   ]
  },
  {
   "cell_type": "code",
   "execution_count": 3,
   "id": "78bfc6d0-8d9a-46f2-b56e-27b14ccd96dc",
   "metadata": {
    "execution": {
     "iopub.execute_input": "2023-12-18T18:41:29.125720Z",
     "iopub.status.busy": "2023-12-18T18:41:29.125632Z",
     "iopub.status.idle": "2023-12-18T18:41:29.128834Z",
     "shell.execute_reply": "2023-12-18T18:41:29.128611Z"
    },
    "papermill": {
     "duration": 0.005405,
     "end_time": "2023-12-18T18:41:29.129601",
     "exception": false,
     "start_time": "2023-12-18T18:41:29.124196",
     "status": "completed"
    },
    "tags": []
   },
   "outputs": [],
   "source": [
    "X = titanic_df.loc[:, titanic_df.columns != 'Survived']\n",
    "y = titanic_df['Survived']\n",
    "X_train, X_test, y_train, y_test = train_test_split(X, y, test_size = 0.3, random_state = 42, stratify = y)"
   ]
  },
  {
   "cell_type": "markdown",
   "id": "086ac66b-92ca-4f9b-88a2-134e0a0e306f",
   "metadata": {
    "papermill": {
     "duration": 0.001076,
     "end_time": "2023-12-18T18:41:29.131826",
     "exception": false,
     "start_time": "2023-12-18T18:41:29.130750",
     "status": "completed"
    },
    "tags": []
   },
   "source": [
    "Random Forest"
   ]
  },
  {
   "cell_type": "code",
   "execution_count": 4,
   "id": "1f37674d-fabd-436c-86d2-4b1b333a140d",
   "metadata": {
    "execution": {
     "iopub.execute_input": "2023-12-18T18:41:29.134620Z",
     "iopub.status.busy": "2023-12-18T18:41:29.134532Z",
     "iopub.status.idle": "2023-12-18T18:41:29.136144Z",
     "shell.execute_reply": "2023-12-18T18:41:29.135937Z"
    },
    "papermill": {
     "duration": 0.00402,
     "end_time": "2023-12-18T18:41:29.136896",
     "exception": false,
     "start_time": "2023-12-18T18:41:29.132876",
     "status": "completed"
    },
    "tags": []
   },
   "outputs": [],
   "source": [
    "dt = DecisionTreeClassifier()\n",
    "steps = [('scaler', RobustScaler()), ('dt', dt)]"
   ]
  },
  {
   "cell_type": "code",
   "execution_count": 5,
   "id": "7ede2c71-dfa9-4fc7-9374-80b5053c1069",
   "metadata": {
    "execution": {
     "iopub.execute_input": "2023-12-18T18:41:29.140086Z",
     "iopub.status.busy": "2023-12-18T18:41:29.140004Z",
     "iopub.status.idle": "2023-12-18T18:41:29.147727Z",
     "shell.execute_reply": "2023-12-18T18:41:29.147498Z"
    },
    "papermill": {
     "duration": 0.009991,
     "end_time": "2023-12-18T18:41:29.148500",
     "exception": false,
     "start_time": "2023-12-18T18:41:29.138509",
     "status": "completed"
    },
    "tags": []
   },
   "outputs": [
    {
     "data": {
      "text/html": [
       "<style>#sk-container-id-1 {color: black;}#sk-container-id-1 pre{padding: 0;}#sk-container-id-1 div.sk-toggleable {background-color: white;}#sk-container-id-1 label.sk-toggleable__label {cursor: pointer;display: block;width: 100%;margin-bottom: 0;padding: 0.3em;box-sizing: border-box;text-align: center;}#sk-container-id-1 label.sk-toggleable__label-arrow:before {content: \"▸\";float: left;margin-right: 0.25em;color: #696969;}#sk-container-id-1 label.sk-toggleable__label-arrow:hover:before {color: black;}#sk-container-id-1 div.sk-estimator:hover label.sk-toggleable__label-arrow:before {color: black;}#sk-container-id-1 div.sk-toggleable__content {max-height: 0;max-width: 0;overflow: hidden;text-align: left;background-color: #f0f8ff;}#sk-container-id-1 div.sk-toggleable__content pre {margin: 0.2em;color: black;border-radius: 0.25em;background-color: #f0f8ff;}#sk-container-id-1 input.sk-toggleable__control:checked~div.sk-toggleable__content {max-height: 200px;max-width: 100%;overflow: auto;}#sk-container-id-1 input.sk-toggleable__control:checked~label.sk-toggleable__label-arrow:before {content: \"▾\";}#sk-container-id-1 div.sk-estimator input.sk-toggleable__control:checked~label.sk-toggleable__label {background-color: #d4ebff;}#sk-container-id-1 div.sk-label input.sk-toggleable__control:checked~label.sk-toggleable__label {background-color: #d4ebff;}#sk-container-id-1 input.sk-hidden--visually {border: 0;clip: rect(1px 1px 1px 1px);clip: rect(1px, 1px, 1px, 1px);height: 1px;margin: -1px;overflow: hidden;padding: 0;position: absolute;width: 1px;}#sk-container-id-1 div.sk-estimator {font-family: monospace;background-color: #f0f8ff;border: 1px dotted black;border-radius: 0.25em;box-sizing: border-box;margin-bottom: 0.5em;}#sk-container-id-1 div.sk-estimator:hover {background-color: #d4ebff;}#sk-container-id-1 div.sk-parallel-item::after {content: \"\";width: 100%;border-bottom: 1px solid gray;flex-grow: 1;}#sk-container-id-1 div.sk-label:hover label.sk-toggleable__label {background-color: #d4ebff;}#sk-container-id-1 div.sk-serial::before {content: \"\";position: absolute;border-left: 1px solid gray;box-sizing: border-box;top: 0;bottom: 0;left: 50%;z-index: 0;}#sk-container-id-1 div.sk-serial {display: flex;flex-direction: column;align-items: center;background-color: white;padding-right: 0.2em;padding-left: 0.2em;position: relative;}#sk-container-id-1 div.sk-item {position: relative;z-index: 1;}#sk-container-id-1 div.sk-parallel {display: flex;align-items: stretch;justify-content: center;background-color: white;position: relative;}#sk-container-id-1 div.sk-item::before, #sk-container-id-1 div.sk-parallel-item::before {content: \"\";position: absolute;border-left: 1px solid gray;box-sizing: border-box;top: 0;bottom: 0;left: 50%;z-index: -1;}#sk-container-id-1 div.sk-parallel-item {display: flex;flex-direction: column;z-index: 1;position: relative;background-color: white;}#sk-container-id-1 div.sk-parallel-item:first-child::after {align-self: flex-end;width: 50%;}#sk-container-id-1 div.sk-parallel-item:last-child::after {align-self: flex-start;width: 50%;}#sk-container-id-1 div.sk-parallel-item:only-child::after {width: 0;}#sk-container-id-1 div.sk-dashed-wrapped {border: 1px dashed gray;margin: 0 0.4em 0.5em 0.4em;box-sizing: border-box;padding-bottom: 0.4em;background-color: white;}#sk-container-id-1 div.sk-label label {font-family: monospace;font-weight: bold;display: inline-block;line-height: 1.2em;}#sk-container-id-1 div.sk-label-container {text-align: center;}#sk-container-id-1 div.sk-container {/* jupyter's `normalize.less` sets `[hidden] { display: none; }` but bootstrap.min.css set `[hidden] { display: none !important; }` so we also need the `!important` here to be able to override the default hidden behavior on the sphinx rendered scikit-learn.org. See: https://github.com/scikit-learn/scikit-learn/issues/21755 */display: inline-block !important;position: relative;}#sk-container-id-1 div.sk-text-repr-fallback {display: none;}</style><div id=\"sk-container-id-1\" class=\"sk-top-container\"><div class=\"sk-text-repr-fallback\"><pre>Pipeline(steps=[(&#x27;scaler&#x27;, RobustScaler()), (&#x27;dt&#x27;, DecisionTreeClassifier())])</pre><b>In a Jupyter environment, please rerun this cell to show the HTML representation or trust the notebook. <br />On GitHub, the HTML representation is unable to render, please try loading this page with nbviewer.org.</b></div><div class=\"sk-container\" hidden><div class=\"sk-item sk-dashed-wrapped\"><div class=\"sk-label-container\"><div class=\"sk-label sk-toggleable\"><input class=\"sk-toggleable__control sk-hidden--visually\" id=\"sk-estimator-id-1\" type=\"checkbox\" ><label for=\"sk-estimator-id-1\" class=\"sk-toggleable__label sk-toggleable__label-arrow\">Pipeline</label><div class=\"sk-toggleable__content\"><pre>Pipeline(steps=[(&#x27;scaler&#x27;, RobustScaler()), (&#x27;dt&#x27;, DecisionTreeClassifier())])</pre></div></div></div><div class=\"sk-serial\"><div class=\"sk-item\"><div class=\"sk-estimator sk-toggleable\"><input class=\"sk-toggleable__control sk-hidden--visually\" id=\"sk-estimator-id-2\" type=\"checkbox\" ><label for=\"sk-estimator-id-2\" class=\"sk-toggleable__label sk-toggleable__label-arrow\">RobustScaler</label><div class=\"sk-toggleable__content\"><pre>RobustScaler()</pre></div></div></div><div class=\"sk-item\"><div class=\"sk-estimator sk-toggleable\"><input class=\"sk-toggleable__control sk-hidden--visually\" id=\"sk-estimator-id-3\" type=\"checkbox\" ><label for=\"sk-estimator-id-3\" class=\"sk-toggleable__label sk-toggleable__label-arrow\">DecisionTreeClassifier</label><div class=\"sk-toggleable__content\"><pre>DecisionTreeClassifier()</pre></div></div></div></div></div></div></div>"
      ],
      "text/plain": [
       "Pipeline(steps=[('scaler', RobustScaler()), ('dt', DecisionTreeClassifier())])"
      ]
     },
     "execution_count": 5,
     "metadata": {},
     "output_type": "execute_result"
    }
   ],
   "source": [
    "pipeline = Pipeline(steps)\n",
    "pipeline.fit(X_train, y_train)"
   ]
  },
  {
   "cell_type": "code",
   "execution_count": 6,
   "id": "07e424c8-4189-4b21-b4e4-a20584e932a5",
   "metadata": {
    "execution": {
     "iopub.execute_input": "2023-12-18T18:41:29.151461Z",
     "iopub.status.busy": "2023-12-18T18:41:29.151378Z",
     "iopub.status.idle": "2023-12-18T18:41:29.153604Z",
     "shell.execute_reply": "2023-12-18T18:41:29.153384Z"
    },
    "papermill": {
     "duration": 0.004577,
     "end_time": "2023-12-18T18:41:29.154399",
     "exception": false,
     "start_time": "2023-12-18T18:41:29.149822",
     "status": "completed"
    },
    "tags": []
   },
   "outputs": [],
   "source": [
    "Y_pred = pipeline.predict(X_test)"
   ]
  },
  {
   "cell_type": "code",
   "execution_count": 7,
   "id": "e2d74185-406e-444e-b228-69577fedf099",
   "metadata": {
    "execution": {
     "iopub.execute_input": "2023-12-18T18:41:29.157193Z",
     "iopub.status.busy": "2023-12-18T18:41:29.157111Z",
     "iopub.status.idle": "2023-12-18T18:41:29.159024Z",
     "shell.execute_reply": "2023-12-18T18:41:29.158831Z"
    },
    "papermill": {
     "duration": 0.004154,
     "end_time": "2023-12-18T18:41:29.159752",
     "exception": false,
     "start_time": "2023-12-18T18:41:29.155598",
     "status": "completed"
    },
    "tags": []
   },
   "outputs": [],
   "source": [
    "# Testing Accuracy\n",
    "test_acc_dt = round(accuracy_score(y_test, Y_pred) * 100, 2)"
   ]
  },
  {
   "cell_type": "code",
   "execution_count": 8,
   "id": "502bccb1-98b2-465b-b3c1-ae543fa119f4",
   "metadata": {
    "execution": {
     "iopub.execute_input": "2023-12-18T18:41:29.162801Z",
     "iopub.status.busy": "2023-12-18T18:41:29.162707Z",
     "iopub.status.idle": "2023-12-18T18:41:29.164412Z",
     "shell.execute_reply": "2023-12-18T18:41:29.164170Z"
    },
    "papermill": {
     "duration": 0.004137,
     "end_time": "2023-12-18T18:41:29.165175",
     "exception": false,
     "start_time": "2023-12-18T18:41:29.161038",
     "status": "completed"
    },
    "tags": []
   },
   "outputs": [
    {
     "name": "stdout",
     "output_type": "stream",
     "text": [
      "Testing Accuracy: 73.95\n"
     ]
    }
   ],
   "source": [
    "print(\"Testing Accuracy:\", test_acc_dt)"
   ]
  },
  {
   "cell_type": "markdown",
   "id": "b3db9141-770e-4336-90df-f7580e95d69c",
   "metadata": {
    "papermill": {
     "duration": 0.001159,
     "end_time": "2023-12-18T18:41:29.167609",
     "exception": false,
     "start_time": "2023-12-18T18:41:29.166450",
     "status": "completed"
    },
    "tags": []
   },
   "source": [
    "Write results"
   ]
  },
  {
   "cell_type": "code",
   "execution_count": 9,
   "id": "56f32825-98bc-4575-8736-62b267449715",
   "metadata": {
    "execution": {
     "iopub.execute_input": "2023-12-18T18:41:29.170312Z",
     "iopub.status.busy": "2023-12-18T18:41:29.170229Z",
     "iopub.status.idle": "2023-12-18T18:41:29.172711Z",
     "shell.execute_reply": "2023-12-18T18:41:29.172491Z"
    },
    "papermill": {
     "duration": 0.004727,
     "end_time": "2023-12-18T18:41:29.173467",
     "exception": false,
     "start_time": "2023-12-18T18:41:29.168740",
     "status": "completed"
    },
    "tags": []
   },
   "outputs": [],
   "source": [
    "pd.DataFrame(Y_pred).to_csv(\"Results.csv\")"
   ]
  }
 ],
 "metadata": {
  "kernelspec": {
   "display_name": "Python 3 (ipykernel)",
   "language": "python",
   "name": "python3"
  },
  "language_info": {
   "codemirror_mode": {
    "name": "ipython",
    "version": 3
   },
   "file_extension": ".py",
   "mimetype": "text/x-python",
   "name": "python",
   "nbconvert_exporter": "python",
   "pygments_lexer": "ipython3",
   "version": "3.11.5"
  },
  "papermill": {
   "default_parameters": {},
   "duration": 1.859018,
   "end_time": "2023-12-18T18:41:29.389060",
   "environment_variables": {},
   "exception": null,
   "input_path": "/Users/rodvlasov2003/jupyterlabs/new1/Data_Work.ipynb",
   "output_path": "/Users/rodvlasov2003/jupyterlabs/new1/Data_Work.ipynb",
   "parameters": {},
   "start_time": "2023-12-18T18:41:27.530042",
   "version": "2.5.0"
  }
 },
 "nbformat": 4,
 "nbformat_minor": 5
}