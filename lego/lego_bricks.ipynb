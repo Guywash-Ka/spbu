{
 "cells": [
  {
   "cell_type": "markdown",
   "id": "6b2d3d08-bb85-44fe-bd1c-d256d3f0b63e",
   "metadata": {},
   "source": [
    "### Импортируем нужные библиотеки"
   ]
  },
  {
   "cell_type": "code",
   "execution_count": 1,
   "id": "1419229b-452d-4976-9f8e-c79ca80a3fe0",
   "metadata": {},
   "outputs": [],
   "source": [
    "import pickle\n",
    "import numpy as np\n",
    "import tensorflow as tf\n",
    "from tensorflow.keras import layers, models"
   ]
  },
  {
   "cell_type": "markdown",
   "id": "e76f2647-89e7-489c-bed0-a1af1cb27dcd",
   "metadata": {
    "tags": []
   },
   "source": [
    "### Загрузка датасета"
   ]
  },
  {
   "cell_type": "code",
   "execution_count": 2,
   "id": "e451297e-64af-4599-a6eb-e217f58d81e6",
   "metadata": {},
   "outputs": [],
   "source": [
    "with open('lego-train.pickle', 'rb') as f:\n",
    "    train_data = pickle.load(f)\n",
    "    \n",
    "with open('lego-test.pickle', 'rb') as f:\n",
    "    test_data = pickle.load(f)"
   ]
  },
  {
   "cell_type": "markdown",
   "id": "1092dc4c-b858-41af-98b2-e201eabe70f5",
   "metadata": {},
   "source": [
    "### Разделение на признаки и метки классов"
   ]
  },
  {
   "cell_type": "code",
   "execution_count": 3,
   "id": "c1a0e1ed-7aa3-42ae-be88-f88cb8f24b92",
   "metadata": {},
   "outputs": [],
   "source": [
    "train_images = np.array([data[0].reshape((48, 48, 1)) for data in train_data])\n",
    "train_labels = np.array([data[1] for data in train_data])\n",
    "test_images = np.array([data[0].reshape((48, 48, 1)) for data in test_data])\n",
    "test_labels = np.array([data[1] for data in test_data])"
   ]
  },
  {
   "cell_type": "markdown",
   "id": "c5ba1541-340e-4845-befe-9e491b10ed4d",
   "metadata": {},
   "source": [
    "### Нормализация данных"
   ]
  },
  {
   "cell_type": "code",
   "execution_count": 4,
   "id": "da33d24d-5563-4455-a149-5f5bd447455b",
   "metadata": {},
   "outputs": [],
   "source": [
    "def normalize_images(images):\n",
    "    return images.astype('float32') / 255.0\n",
    "\n",
    "train_images = normalize_images(train_images)\n",
    "test_images = normalize_images(test_images)"
   ]
  },
  {
   "cell_type": "markdown",
   "id": "0f2d6d52-5bcc-4dab-8d9e-24f326b6abc0",
   "metadata": {},
   "source": [
    "### Создание модели CNN"
   ]
  },
  {
   "cell_type": "code",
   "execution_count": 5,
   "id": "ec11c3fc-2d4d-41f6-acd9-b65fa54f0965",
   "metadata": {},
   "outputs": [],
   "source": [
    "model = models.Sequential()\n",
    "model.add(layers.Conv2D(32, (3, 3), activation='relu', input_shape=(48, 48, 1)))\n",
    "model.add(layers.MaxPooling2D((2, 2)))\n",
    "model.add(layers.Conv2D(64, (3, 3), activation='relu'))\n",
    "model.add(layers.MaxPooling2D((2, 2)))\n",
    "model.add(layers.Conv2D(64, (3, 3), activation='relu'))\n",
    "model.add(layers.Flatten())\n",
    "model.add(layers.Dense(64, activation='relu'))\n",
    "model.add(layers.Dense(10))"
   ]
  },
  {
   "cell_type": "markdown",
   "id": "6d96abe5-189e-4e5b-8359-91e5c9b06dde",
   "metadata": {},
   "source": [
    "### Компиляция модели"
   ]
  },
  {
   "cell_type": "code",
   "execution_count": 6,
   "id": "d5ff340c-beae-4cb6-b444-1f47ea67dc21",
   "metadata": {},
   "outputs": [
    {
     "name": "stdout",
     "output_type": "stream",
     "text": [
      "Epoch 1/10\n",
      "15/15 [==============================] - 0s 18ms/step - loss: 2.1675 - accuracy: 0.2284 - val_loss: 1.7035 - val_accuracy: 0.5000\n",
      "Epoch 2/10\n",
      "15/15 [==============================] - 0s 14ms/step - loss: 1.3004 - accuracy: 0.5432 - val_loss: 0.8065 - val_accuracy: 0.7467\n",
      "Epoch 3/10\n",
      "15/15 [==============================] - 0s 14ms/step - loss: 0.6233 - accuracy: 0.7916 - val_loss: 0.3897 - val_accuracy: 0.8467\n",
      "Epoch 4/10\n",
      "15/15 [==============================] - 0s 14ms/step - loss: 0.2962 - accuracy: 0.8891 - val_loss: 0.0857 - val_accuracy: 0.9867\n",
      "Epoch 5/10\n",
      "15/15 [==============================] - 0s 14ms/step - loss: 0.2306 - accuracy: 0.9246 - val_loss: 0.1739 - val_accuracy: 0.9467\n",
      "Epoch 6/10\n",
      "15/15 [==============================] - 0s 14ms/step - loss: 0.1105 - accuracy: 0.9579 - val_loss: 0.0440 - val_accuracy: 0.9933\n",
      "Epoch 7/10\n",
      "15/15 [==============================] - 0s 14ms/step - loss: 0.0306 - accuracy: 0.9956 - val_loss: 0.0186 - val_accuracy: 1.0000\n",
      "Epoch 8/10\n",
      "15/15 [==============================] - 0s 14ms/step - loss: 0.0128 - accuracy: 1.0000 - val_loss: 0.0063 - val_accuracy: 1.0000\n",
      "Epoch 9/10\n",
      "15/15 [==============================] - 0s 14ms/step - loss: 0.0051 - accuracy: 1.0000 - val_loss: 0.0028 - val_accuracy: 1.0000\n",
      "Epoch 10/10\n",
      "15/15 [==============================] - 0s 14ms/step - loss: 0.0026 - accuracy: 1.0000 - val_loss: 0.0016 - val_accuracy: 1.0000\n"
     ]
    },
    {
     "data": {
      "text/plain": [
       "<keras.src.callbacks.History at 0x1338b1c90>"
      ]
     },
     "execution_count": 6,
     "metadata": {},
     "output_type": "execute_result"
    }
   ],
   "source": [
    "model.compile(optimizer='adam',\n",
    "              loss=tf.keras.losses.SparseCategoricalCrossentropy(from_logits=True),\n",
    "              metrics=['accuracy'])\n",
    "\n",
    "# Обучение модели\n",
    "model.fit(train_images, train_labels, epochs=10, validation_data=(test_images, test_labels))"
   ]
  },
  {
   "cell_type": "markdown",
   "id": "ed4e9f15-6634-423f-a17e-0e8c8b4ca82d",
   "metadata": {},
   "source": [
    "### Оценка модели"
   ]
  },
  {
   "cell_type": "code",
   "execution_count": 7,
   "id": "74e12c67-fad2-49bb-aede-277231d1dd13",
   "metadata": {},
   "outputs": [
    {
     "name": "stdout",
     "output_type": "stream",
     "text": [
      "5/5 - 0s - loss: 0.0016 - accuracy: 1.0000 - 28ms/epoch - 6ms/step\n"
     ]
    }
   ],
   "source": [
    "test_loss, test_acc = model.evaluate(test_images,  test_labels, verbose=2)"
   ]
  },
  {
   "cell_type": "code",
   "execution_count": 8,
   "id": "ea40cd92",
   "metadata": {},
   "outputs": [
    {
     "name": "stdout",
     "output_type": "stream",
     "text": [
      "\n",
      "Точность на тестовых данных: 1.0\n"
     ]
    }
   ],
   "source": [
    "print('\\nТочность на тестовых данных:', test_acc)"
   ]
  }
 ],
 "metadata": {
  "kernelspec": {
   "display_name": "Python 3 (ipykernel)",
   "language": "python",
   "name": "python3"
  },
  "language_info": {
   "codemirror_mode": {
    "name": "ipython",
    "version": 3
   },
   "file_extension": ".py",
   "mimetype": "text/x-python",
   "name": "python",
   "nbconvert_exporter": "python",
   "pygments_lexer": "ipython3",
   "version": "3.11.5"
  }
 },
 "nbformat": 4,
 "nbformat_minor": 5
}
